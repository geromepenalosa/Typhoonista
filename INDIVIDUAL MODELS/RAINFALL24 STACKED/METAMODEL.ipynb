{
 "cells": [
  {
   "cell_type": "code",
   "execution_count": 5,
   "metadata": {},
   "outputs": [],
   "source": [
    "\n",
    "# Import necessary libraries\n",
    "import pandas as pd\n",
    "import numpy as np\n",
    "from sklearn.ensemble import RandomForestRegressor\n",
    "from sklearn.model_selection import train_test_split\n",
    "from sklearn.preprocessing import StandardScaler\n",
    "from sklearn.metrics import mean_squared_error\n",
    "\n",
    "# Load the dataset\n",
    "df = pd.read_csv('TEST (1).csv')"
   ]
  },
  {
   "cell_type": "code",
   "execution_count": 6,
   "metadata": {},
   "outputs": [
    {
     "data": {
      "text/html": [
       "<div>\n",
       "<style scoped>\n",
       "    .dataframe tbody tr th:only-of-type {\n",
       "        vertical-align: middle;\n",
       "    }\n",
       "\n",
       "    .dataframe tbody tr th {\n",
       "        vertical-align: top;\n",
       "    }\n",
       "\n",
       "    .dataframe thead th {\n",
       "        text-align: right;\n",
       "    }\n",
       "</style>\n",
       "<table border=\"1\" class=\"dataframe\">\n",
       "  <thead>\n",
       "    <tr style=\"text-align: right;\">\n",
       "      <th></th>\n",
       "      <th>windspeed</th>\n",
       "      <th>rainfall24</th>\n",
       "      <th>rainfall6</th>\n",
       "      <th>rainfallaverage</th>\n",
       "      <th>area</th>\n",
       "      <th>yield</th>\n",
       "      <th>distance</th>\n",
       "      <th>areayieldrataio</th>\n",
       "      <th>percentageofarea</th>\n",
       "      <th>darea</th>\n",
       "      <th>yielda</th>\n",
       "      <th>fgprice</th>\n",
       "      <th>dctrice</th>\n",
       "    </tr>\n",
       "  </thead>\n",
       "  <tbody>\n",
       "    <tr>\n",
       "      <th>0</th>\n",
       "      <td>0.000000</td>\n",
       "      <td>1.535972</td>\n",
       "      <td>3.032222</td>\n",
       "      <td>0.959983</td>\n",
       "      <td>2870.00</td>\n",
       "      <td>3.37</td>\n",
       "      <td>0.00000</td>\n",
       "      <td>851.632047</td>\n",
       "      <td>0.247070</td>\n",
       "      <td>709.091324</td>\n",
       "      <td>0.832626</td>\n",
       "      <td>20.79</td>\n",
       "      <td>1.113550e+07</td>\n",
       "    </tr>\n",
       "    <tr>\n",
       "      <th>1</th>\n",
       "      <td>0.000000</td>\n",
       "      <td>2.141071</td>\n",
       "      <td>3.942857</td>\n",
       "      <td>1.338170</td>\n",
       "      <td>491.00</td>\n",
       "      <td>4.36</td>\n",
       "      <td>0.00000</td>\n",
       "      <td>112.614679</td>\n",
       "      <td>0.244428</td>\n",
       "      <td>120.014173</td>\n",
       "      <td>1.065706</td>\n",
       "      <td>20.79</td>\n",
       "      <td>2.412279e+06</td>\n",
       "    </tr>\n",
       "    <tr>\n",
       "      <th>2</th>\n",
       "      <td>7.116629</td>\n",
       "      <td>5.809375</td>\n",
       "      <td>20.589580</td>\n",
       "      <td>3.630859</td>\n",
       "      <td>1330.88</td>\n",
       "      <td>4.42</td>\n",
       "      <td>385.79860</td>\n",
       "      <td>301.104072</td>\n",
       "      <td>0.312983</td>\n",
       "      <td>416.543187</td>\n",
       "      <td>1.383386</td>\n",
       "      <td>20.79</td>\n",
       "      <td>1.086828e+07</td>\n",
       "    </tr>\n",
       "    <tr>\n",
       "      <th>3</th>\n",
       "      <td>67.089467</td>\n",
       "      <td>3.908854</td>\n",
       "      <td>11.341670</td>\n",
       "      <td>2.443034</td>\n",
       "      <td>5767.00</td>\n",
       "      <td>4.65</td>\n",
       "      <td>26.26015</td>\n",
       "      <td>1240.215054</td>\n",
       "      <td>0.567852</td>\n",
       "      <td>3274.800267</td>\n",
       "      <td>2.640510</td>\n",
       "      <td>20.79</td>\n",
       "      <td>1.630911e+08</td>\n",
       "    </tr>\n",
       "    <tr>\n",
       "      <th>4</th>\n",
       "      <td>0.000000</td>\n",
       "      <td>0.805469</td>\n",
       "      <td>1.580208</td>\n",
       "      <td>0.503418</td>\n",
       "      <td>4710.00</td>\n",
       "      <td>4.14</td>\n",
       "      <td>0.00000</td>\n",
       "      <td>1137.681159</td>\n",
       "      <td>0.130472</td>\n",
       "      <td>614.521934</td>\n",
       "      <td>0.540153</td>\n",
       "      <td>20.79</td>\n",
       "      <td>6.260539e+06</td>\n",
       "    </tr>\n",
       "    <tr>\n",
       "      <th>...</th>\n",
       "      <td>...</td>\n",
       "      <td>...</td>\n",
       "      <td>...</td>\n",
       "      <td>...</td>\n",
       "      <td>...</td>\n",
       "      <td>...</td>\n",
       "      <td>...</td>\n",
       "      <td>...</td>\n",
       "      <td>...</td>\n",
       "      <td>...</td>\n",
       "      <td>...</td>\n",
       "      <td>...</td>\n",
       "      <td>...</td>\n",
       "    </tr>\n",
       "    <tr>\n",
       "      <th>39739</th>\n",
       "      <td>8.841748</td>\n",
       "      <td>2.292639</td>\n",
       "      <td>4.211667</td>\n",
       "      <td>1.432899</td>\n",
       "      <td>916.00</td>\n",
       "      <td>3.16</td>\n",
       "      <td>392.92250</td>\n",
       "      <td>289.873418</td>\n",
       "      <td>0.203710</td>\n",
       "      <td>186.598393</td>\n",
       "      <td>0.643724</td>\n",
       "      <td>20.79</td>\n",
       "      <td>2.265505e+06</td>\n",
       "    </tr>\n",
       "    <tr>\n",
       "      <th>39740</th>\n",
       "      <td>0.000000</td>\n",
       "      <td>0.030208</td>\n",
       "      <td>0.062500</td>\n",
       "      <td>0.018880</td>\n",
       "      <td>1046.00</td>\n",
       "      <td>3.07</td>\n",
       "      <td>0.00000</td>\n",
       "      <td>340.716612</td>\n",
       "      <td>0.556501</td>\n",
       "      <td>582.100434</td>\n",
       "      <td>1.708459</td>\n",
       "      <td>20.79</td>\n",
       "      <td>1.875686e+07</td>\n",
       "    </tr>\n",
       "    <tr>\n",
       "      <th>39741</th>\n",
       "      <td>8.575491</td>\n",
       "      <td>2.652500</td>\n",
       "      <td>5.460000</td>\n",
       "      <td>1.657812</td>\n",
       "      <td>753.00</td>\n",
       "      <td>4.52</td>\n",
       "      <td>291.88280</td>\n",
       "      <td>166.592920</td>\n",
       "      <td>0.161440</td>\n",
       "      <td>121.564092</td>\n",
       "      <td>0.729707</td>\n",
       "      <td>20.79</td>\n",
       "      <td>1.673060e+06</td>\n",
       "    </tr>\n",
       "    <tr>\n",
       "      <th>39742</th>\n",
       "      <td>9.387123</td>\n",
       "      <td>1.696181</td>\n",
       "      <td>3.348611</td>\n",
       "      <td>1.060113</td>\n",
       "      <td>99.00</td>\n",
       "      <td>1.93</td>\n",
       "      <td>496.10710</td>\n",
       "      <td>51.295337</td>\n",
       "      <td>0.154780</td>\n",
       "      <td>15.323183</td>\n",
       "      <td>0.298725</td>\n",
       "      <td>20.79</td>\n",
       "      <td>8.633316e+04</td>\n",
       "    </tr>\n",
       "    <tr>\n",
       "      <th>39743</th>\n",
       "      <td>0.000000</td>\n",
       "      <td>1.071354</td>\n",
       "      <td>2.250000</td>\n",
       "      <td>0.669596</td>\n",
       "      <td>2219.00</td>\n",
       "      <td>4.21</td>\n",
       "      <td>0.00000</td>\n",
       "      <td>527.078385</td>\n",
       "      <td>0.084933</td>\n",
       "      <td>188.466571</td>\n",
       "      <td>0.357568</td>\n",
       "      <td>20.79</td>\n",
       "      <td>1.271016e+06</td>\n",
       "    </tr>\n",
       "  </tbody>\n",
       "</table>\n",
       "<p>39744 rows × 13 columns</p>\n",
       "</div>"
      ],
      "text/plain": [
       "       windspeed  rainfall24  rainfall6  rainfallaverage     area  yield  \\\n",
       "0       0.000000    1.535972   3.032222         0.959983  2870.00   3.37   \n",
       "1       0.000000    2.141071   3.942857         1.338170   491.00   4.36   \n",
       "2       7.116629    5.809375  20.589580         3.630859  1330.88   4.42   \n",
       "3      67.089467    3.908854  11.341670         2.443034  5767.00   4.65   \n",
       "4       0.000000    0.805469   1.580208         0.503418  4710.00   4.14   \n",
       "...          ...         ...        ...              ...      ...    ...   \n",
       "39739   8.841748    2.292639   4.211667         1.432899   916.00   3.16   \n",
       "39740   0.000000    0.030208   0.062500         0.018880  1046.00   3.07   \n",
       "39741   8.575491    2.652500   5.460000         1.657812   753.00   4.52   \n",
       "39742   9.387123    1.696181   3.348611         1.060113    99.00   1.93   \n",
       "39743   0.000000    1.071354   2.250000         0.669596  2219.00   4.21   \n",
       "\n",
       "        distance  areayieldrataio  percentageofarea        darea    yielda  \\\n",
       "0        0.00000       851.632047          0.247070   709.091324  0.832626   \n",
       "1        0.00000       112.614679          0.244428   120.014173  1.065706   \n",
       "2      385.79860       301.104072          0.312983   416.543187  1.383386   \n",
       "3       26.26015      1240.215054          0.567852  3274.800267  2.640510   \n",
       "4        0.00000      1137.681159          0.130472   614.521934  0.540153   \n",
       "...          ...              ...               ...          ...       ...   \n",
       "39739  392.92250       289.873418          0.203710   186.598393  0.643724   \n",
       "39740    0.00000       340.716612          0.556501   582.100434  1.708459   \n",
       "39741  291.88280       166.592920          0.161440   121.564092  0.729707   \n",
       "39742  496.10710        51.295337          0.154780    15.323183  0.298725   \n",
       "39743    0.00000       527.078385          0.084933   188.466571  0.357568   \n",
       "\n",
       "       fgprice       dctrice  \n",
       "0        20.79  1.113550e+07  \n",
       "1        20.79  2.412279e+06  \n",
       "2        20.79  1.086828e+07  \n",
       "3        20.79  1.630911e+08  \n",
       "4        20.79  6.260539e+06  \n",
       "...        ...           ...  \n",
       "39739    20.79  2.265505e+06  \n",
       "39740    20.79  1.875686e+07  \n",
       "39741    20.79  1.673060e+06  \n",
       "39742    20.79  8.633316e+04  \n",
       "39743    20.79  1.271016e+06  \n",
       "\n",
       "[39744 rows x 13 columns]"
      ]
     },
     "execution_count": 6,
     "metadata": {},
     "output_type": "execute_result"
    }
   ],
   "source": [
    "df"
   ]
  },
  {
   "cell_type": "code",
   "execution_count": 7,
   "metadata": {},
   "outputs": [],
   "source": [
    "# Split the dataset into features and target variable\n",
    "X = df.drop(['percentageofarea','area','areayieldrataio','yield','rainfallaverage','fgprice','rainfall24'], axis=1)\n",
    "y = df.drop(['darea','percentageofarea','yielda','dctrice','windspeed','rainfall6','rainfallaverage','areayieldrataio','area', 'yield', 'fgprice','distance'], axis=1)"
   ]
  },
  {
   "cell_type": "code",
   "execution_count": 8,
   "metadata": {},
   "outputs": [],
   "source": [
    "# Remove the rows with zero values from the training set and testing set\n",
    "mask = X['windspeed'] != 0\n",
    "\n",
    "# Apply the mask to X_train\n",
    "X = X[mask]\n",
    "\n",
    "# Apply the mask to y_train\n",
    "y = y[mask]"
   ]
  },
  {
   "cell_type": "code",
   "execution_count": 9,
   "metadata": {},
   "outputs": [],
   "source": [
    "# Remove the rows with zero values from the training set and testing set\n",
    "mask =X['dctrice'] != 0\n",
    "\n",
    "# Apply the mask to y_train\n",
    "y = y[mask]\n",
    "\n",
    "# Apply the mask to X_train\n",
    "X = X[mask]"
   ]
  },
  {
   "cell_type": "code",
   "execution_count": 10,
   "metadata": {},
   "outputs": [
    {
     "data": {
      "text/plain": [
       "((15401, 6), (15401, 1))"
      ]
     },
     "execution_count": 10,
     "metadata": {},
     "output_type": "execute_result"
    }
   ],
   "source": [
    "X.shape, y.shape"
   ]
  },
  {
   "cell_type": "code",
   "execution_count": 11,
   "metadata": {},
   "outputs": [],
   "source": [
    "# Training and Temporary Set (80-20 split)\n",
    "X_train, X_temp, y_train, y_temp = train_test_split(X, y, test_size=0.2, random_state=42)\n",
    "\n",
    "# Temporary set into a validation set and a test set using (50-50 split)\n",
    "X_val, X_test, y_val, y_test = train_test_split(X_temp, y_temp, test_size=0.5, random_state=42)"
   ]
  },
  {
   "cell_type": "code",
   "execution_count": 12,
   "metadata": {},
   "outputs": [
    {
     "data": {
      "text/html": [
       "<div>\n",
       "<style scoped>\n",
       "    .dataframe tbody tr th:only-of-type {\n",
       "        vertical-align: middle;\n",
       "    }\n",
       "\n",
       "    .dataframe tbody tr th {\n",
       "        vertical-align: top;\n",
       "    }\n",
       "\n",
       "    .dataframe thead th {\n",
       "        text-align: right;\n",
       "    }\n",
       "</style>\n",
       "<table border=\"1\" class=\"dataframe\">\n",
       "  <thead>\n",
       "    <tr style=\"text-align: right;\">\n",
       "      <th></th>\n",
       "      <th>rainfall24</th>\n",
       "    </tr>\n",
       "  </thead>\n",
       "  <tbody>\n",
       "    <tr>\n",
       "      <th>2998</th>\n",
       "      <td>0.032979</td>\n",
       "    </tr>\n",
       "    <tr>\n",
       "      <th>16149</th>\n",
       "      <td>1.173936</td>\n",
       "    </tr>\n",
       "    <tr>\n",
       "      <th>1106</th>\n",
       "      <td>2.052083</td>\n",
       "    </tr>\n",
       "    <tr>\n",
       "      <th>1368</th>\n",
       "      <td>3.120833</td>\n",
       "    </tr>\n",
       "    <tr>\n",
       "      <th>8530</th>\n",
       "      <td>0.778083</td>\n",
       "    </tr>\n",
       "    <tr>\n",
       "      <th>...</th>\n",
       "      <td>...</td>\n",
       "    </tr>\n",
       "    <tr>\n",
       "      <th>14774</th>\n",
       "      <td>1.720567</td>\n",
       "    </tr>\n",
       "    <tr>\n",
       "      <th>35629</th>\n",
       "      <td>1.876596</td>\n",
       "    </tr>\n",
       "    <tr>\n",
       "      <th>15169</th>\n",
       "      <td>3.620213</td>\n",
       "    </tr>\n",
       "    <tr>\n",
       "      <th>2172</th>\n",
       "      <td>1.111631</td>\n",
       "    </tr>\n",
       "    <tr>\n",
       "      <th>18976</th>\n",
       "      <td>3.816146</td>\n",
       "    </tr>\n",
       "  </tbody>\n",
       "</table>\n",
       "<p>12320 rows × 1 columns</p>\n",
       "</div>"
      ],
      "text/plain": [
       "       rainfall24\n",
       "2998     0.032979\n",
       "16149    1.173936\n",
       "1106     2.052083\n",
       "1368     3.120833\n",
       "8530     0.778083\n",
       "...           ...\n",
       "14774    1.720567\n",
       "35629    1.876596\n",
       "15169    3.620213\n",
       "2172     1.111631\n",
       "18976    3.816146\n",
       "\n",
       "[12320 rows x 1 columns]"
      ]
     },
     "execution_count": 12,
     "metadata": {},
     "output_type": "execute_result"
    }
   ],
   "source": [
    "y_train"
   ]
  },
  {
   "cell_type": "code",
   "execution_count": 13,
   "metadata": {},
   "outputs": [
    {
     "data": {
      "text/plain": [
       "((12320, 6), (12320, 1))"
      ]
     },
     "execution_count": 13,
     "metadata": {},
     "output_type": "execute_result"
    }
   ],
   "source": [
    "X_train.shape, y_train.shape"
   ]
  },
  {
   "cell_type": "code",
   "execution_count": 14,
   "metadata": {},
   "outputs": [
    {
     "name": "stdout",
     "output_type": "stream",
     "text": [
      "<class 'pandas.core.frame.DataFrame'>\n",
      "Int64Index: 12320 entries, 2998 to 18976\n",
      "Data columns (total 1 columns):\n",
      " #   Column      Non-Null Count  Dtype  \n",
      "---  ------      --------------  -----  \n",
      " 0   rainfall24  12320 non-null  float64\n",
      "dtypes: float64(1)\n",
      "memory usage: 192.5 KB\n",
      "<class 'pandas.core.frame.DataFrame'>\n",
      "Int64Index: 12320 entries, 2998 to 18976\n",
      "Data columns (total 6 columns):\n",
      " #   Column     Non-Null Count  Dtype  \n",
      "---  ------     --------------  -----  \n",
      " 0   windspeed  12320 non-null  float64\n",
      " 1   rainfall6  12320 non-null  float64\n",
      " 2   distance   12320 non-null  float64\n",
      " 3   darea      12320 non-null  float64\n",
      " 4   yielda     12320 non-null  float64\n",
      " 5   dctrice    12320 non-null  float64\n",
      "dtypes: float64(6)\n",
      "memory usage: 673.8 KB\n"
     ]
    }
   ],
   "source": [
    "y_train.info()\n",
    "X_train.info()"
   ]
  },
  {
   "cell_type": "code",
   "execution_count": 15,
   "metadata": {},
   "outputs": [],
   "source": [
    "X_test = pd.DataFrame(X_test).apply(pd.to_numeric, errors='coerce')\n",
    "X_train = pd.DataFrame(X_train).apply(pd.to_numeric, errors='coerce')\n",
    "y_train = pd.DataFrame(y_train).apply(pd.to_numeric, errors='coerce')\n",
    "y_test = pd.DataFrame(y_test).apply(pd.to_numeric, errors='coerce')"
   ]
  },
  {
   "cell_type": "code",
   "execution_count": 16,
   "metadata": {},
   "outputs": [
    {
     "data": {
      "text/plain": [
       "((12320, 6), (12320, 1))"
      ]
     },
     "execution_count": 16,
     "metadata": {},
     "output_type": "execute_result"
    }
   ],
   "source": [
    "X_train.shape, y_train.shape"
   ]
  },
  {
   "cell_type": "code",
   "execution_count": 17,
   "metadata": {},
   "outputs": [
    {
     "data": {
      "text/plain": [
       "((12320, 6), (12320, 1))"
      ]
     },
     "execution_count": 17,
     "metadata": {},
     "output_type": "execute_result"
    }
   ],
   "source": [
    "X_train.shape, y_train.shape"
   ]
  },
  {
   "cell_type": "code",
   "execution_count": 18,
   "metadata": {},
   "outputs": [
    {
     "data": {
      "text/html": [
       "<div>\n",
       "<style scoped>\n",
       "    .dataframe tbody tr th:only-of-type {\n",
       "        vertical-align: middle;\n",
       "    }\n",
       "\n",
       "    .dataframe tbody tr th {\n",
       "        vertical-align: top;\n",
       "    }\n",
       "\n",
       "    .dataframe thead th {\n",
       "        text-align: right;\n",
       "    }\n",
       "</style>\n",
       "<table border=\"1\" class=\"dataframe\">\n",
       "  <thead>\n",
       "    <tr style=\"text-align: right;\">\n",
       "      <th></th>\n",
       "      <th>windspeed</th>\n",
       "      <th>rainfall6</th>\n",
       "      <th>distance</th>\n",
       "      <th>darea</th>\n",
       "      <th>yielda</th>\n",
       "      <th>dctrice</th>\n",
       "    </tr>\n",
       "  </thead>\n",
       "  <tbody>\n",
       "    <tr>\n",
       "      <th>31511</th>\n",
       "      <td>15.974263</td>\n",
       "      <td>0.027381</td>\n",
       "      <td>150.223900</td>\n",
       "      <td>19.625815</td>\n",
       "      <td>0.491842</td>\n",
       "      <td>166383.41</td>\n",
       "    </tr>\n",
       "    <tr>\n",
       "      <th>31001</th>\n",
       "      <td>44.970222</td>\n",
       "      <td>6.691667</td>\n",
       "      <td>3.731118</td>\n",
       "      <td>12.878894</td>\n",
       "      <td>0.558085</td>\n",
       "      <td>123889.89</td>\n",
       "    </tr>\n",
       "    <tr>\n",
       "      <th>38328</th>\n",
       "      <td>7.252452</td>\n",
       "      <td>6.300000</td>\n",
       "      <td>280.959300</td>\n",
       "      <td>296.667121</td>\n",
       "      <td>0.398589</td>\n",
       "      <td>1536174.95</td>\n",
       "    </tr>\n",
       "    <tr>\n",
       "      <th>8001</th>\n",
       "      <td>33.878516</td>\n",
       "      <td>0.213333</td>\n",
       "      <td>85.724430</td>\n",
       "      <td>300.465465</td>\n",
       "      <td>0.407646</td>\n",
       "      <td>2111223.37</td>\n",
       "    </tr>\n",
       "    <tr>\n",
       "      <th>31097</th>\n",
       "      <td>11.845751</td>\n",
       "      <td>0.000000</td>\n",
       "      <td>197.586500</td>\n",
       "      <td>108.629224</td>\n",
       "      <td>0.851640</td>\n",
       "      <td>1594627.94</td>\n",
       "    </tr>\n",
       "    <tr>\n",
       "      <th>...</th>\n",
       "      <td>...</td>\n",
       "      <td>...</td>\n",
       "      <td>...</td>\n",
       "      <td>...</td>\n",
       "      <td>...</td>\n",
       "      <td>...</td>\n",
       "    </tr>\n",
       "    <tr>\n",
       "      <th>7596</th>\n",
       "      <td>36.262834</td>\n",
       "      <td>1.597917</td>\n",
       "      <td>74.362240</td>\n",
       "      <td>32.378801</td>\n",
       "      <td>0.483133</td>\n",
       "      <td>269639.60</td>\n",
       "    </tr>\n",
       "    <tr>\n",
       "      <th>36565</th>\n",
       "      <td>3.864767</td>\n",
       "      <td>0.422128</td>\n",
       "      <td>353.282200</td>\n",
       "      <td>84.405962</td>\n",
       "      <td>1.606316</td>\n",
       "      <td>1761368.40</td>\n",
       "    </tr>\n",
       "    <tr>\n",
       "      <th>11299</th>\n",
       "      <td>10.844943</td>\n",
       "      <td>0.000000</td>\n",
       "      <td>213.400400</td>\n",
       "      <td>686.206068</td>\n",
       "      <td>1.860157</td>\n",
       "      <td>22001926.78</td>\n",
       "    </tr>\n",
       "    <tr>\n",
       "      <th>6724</th>\n",
       "      <td>16.338128</td>\n",
       "      <td>0.122500</td>\n",
       "      <td>190.806200</td>\n",
       "      <td>322.134634</td>\n",
       "      <td>1.059653</td>\n",
       "      <td>5883799.95</td>\n",
       "    </tr>\n",
       "    <tr>\n",
       "      <th>2336</th>\n",
       "      <td>26.424988</td>\n",
       "      <td>0.212500</td>\n",
       "      <td>108.032200</td>\n",
       "      <td>7.714238</td>\n",
       "      <td>0.940639</td>\n",
       "      <td>136859.09</td>\n",
       "    </tr>\n",
       "  </tbody>\n",
       "</table>\n",
       "<p>1540 rows × 6 columns</p>\n",
       "</div>"
      ],
      "text/plain": [
       "       windspeed  rainfall6    distance       darea    yielda      dctrice\n",
       "31511  15.974263   0.027381  150.223900   19.625815  0.491842    166383.41\n",
       "31001  44.970222   6.691667    3.731118   12.878894  0.558085    123889.89\n",
       "38328   7.252452   6.300000  280.959300  296.667121  0.398589   1536174.95\n",
       "8001   33.878516   0.213333   85.724430  300.465465  0.407646   2111223.37\n",
       "31097  11.845751   0.000000  197.586500  108.629224  0.851640   1594627.94\n",
       "...          ...        ...         ...         ...       ...          ...\n",
       "7596   36.262834   1.597917   74.362240   32.378801  0.483133    269639.60\n",
       "36565   3.864767   0.422128  353.282200   84.405962  1.606316   1761368.40\n",
       "11299  10.844943   0.000000  213.400400  686.206068  1.860157  22001926.78\n",
       "6724   16.338128   0.122500  190.806200  322.134634  1.059653   5883799.95\n",
       "2336   26.424988   0.212500  108.032200    7.714238  0.940639    136859.09\n",
       "\n",
       "[1540 rows x 6 columns]"
      ]
     },
     "execution_count": 18,
     "metadata": {},
     "output_type": "execute_result"
    }
   ],
   "source": [
    "X_val"
   ]
  },
  {
   "cell_type": "code",
   "execution_count": 19,
   "metadata": {},
   "outputs": [
    {
     "data": {
      "text/html": [
       "<div>\n",
       "<style scoped>\n",
       "    .dataframe tbody tr th:only-of-type {\n",
       "        vertical-align: middle;\n",
       "    }\n",
       "\n",
       "    .dataframe tbody tr th {\n",
       "        vertical-align: top;\n",
       "    }\n",
       "\n",
       "    .dataframe thead th {\n",
       "        text-align: right;\n",
       "    }\n",
       "</style>\n",
       "<table border=\"1\" class=\"dataframe\">\n",
       "  <thead>\n",
       "    <tr style=\"text-align: right;\">\n",
       "      <th></th>\n",
       "      <th>rainfall24</th>\n",
       "    </tr>\n",
       "  </thead>\n",
       "  <tbody>\n",
       "    <tr>\n",
       "      <th>2998</th>\n",
       "      <td>0.032979</td>\n",
       "    </tr>\n",
       "    <tr>\n",
       "      <th>16149</th>\n",
       "      <td>1.173936</td>\n",
       "    </tr>\n",
       "    <tr>\n",
       "      <th>1106</th>\n",
       "      <td>2.052083</td>\n",
       "    </tr>\n",
       "    <tr>\n",
       "      <th>1368</th>\n",
       "      <td>3.120833</td>\n",
       "    </tr>\n",
       "    <tr>\n",
       "      <th>8530</th>\n",
       "      <td>0.778083</td>\n",
       "    </tr>\n",
       "    <tr>\n",
       "      <th>...</th>\n",
       "      <td>...</td>\n",
       "    </tr>\n",
       "    <tr>\n",
       "      <th>14774</th>\n",
       "      <td>1.720567</td>\n",
       "    </tr>\n",
       "    <tr>\n",
       "      <th>35629</th>\n",
       "      <td>1.876596</td>\n",
       "    </tr>\n",
       "    <tr>\n",
       "      <th>15169</th>\n",
       "      <td>3.620213</td>\n",
       "    </tr>\n",
       "    <tr>\n",
       "      <th>2172</th>\n",
       "      <td>1.111631</td>\n",
       "    </tr>\n",
       "    <tr>\n",
       "      <th>18976</th>\n",
       "      <td>3.816146</td>\n",
       "    </tr>\n",
       "  </tbody>\n",
       "</table>\n",
       "<p>12320 rows × 1 columns</p>\n",
       "</div>"
      ],
      "text/plain": [
       "       rainfall24\n",
       "2998     0.032979\n",
       "16149    1.173936\n",
       "1106     2.052083\n",
       "1368     3.120833\n",
       "8530     0.778083\n",
       "...           ...\n",
       "14774    1.720567\n",
       "35629    1.876596\n",
       "15169    3.620213\n",
       "2172     1.111631\n",
       "18976    3.816146\n",
       "\n",
       "[12320 rows x 1 columns]"
      ]
     },
     "execution_count": 19,
     "metadata": {},
     "output_type": "execute_result"
    }
   ],
   "source": [
    "y_train"
   ]
  },
  {
   "cell_type": "code",
   "execution_count": 20,
   "metadata": {},
   "outputs": [
    {
     "name": "stdout",
     "output_type": "stream",
     "text": [
      "(array([], dtype=int64), array([], dtype=int64))\n"
     ]
    }
   ],
   "source": [
    "# Null Remover\n",
    "\n",
    "nan_rows = X_train[X_train.isna().any(axis=1)].index\n",
    "X_train = X_train.drop(nan_rows)\n",
    "y_train = y_train.drop(nan_rows)\n",
    "\n",
    "print(np.where(pd.isnull(X_train)))"
   ]
  },
  {
   "cell_type": "code",
   "execution_count": 21,
   "metadata": {},
   "outputs": [
    {
     "name": "stdout",
     "output_type": "stream",
     "text": [
      "(array([], dtype=int64), array([], dtype=int64))\n"
     ]
    }
   ],
   "source": [
    "# Null Remover\n",
    "\n",
    "nan_rows = X_val[X_val.isna().any(axis=1)].index\n",
    "X_val = X_val.drop(nan_rows)\n",
    "y_val = y_val.drop(nan_rows)\n",
    "\n",
    "print(np.where(pd.isnull(X_val)))"
   ]
  },
  {
   "cell_type": "code",
   "execution_count": 22,
   "metadata": {},
   "outputs": [
    {
     "data": {
      "text/plain": [
       "((12320, 6), (12320, 1))"
      ]
     },
     "execution_count": 22,
     "metadata": {},
     "output_type": "execute_result"
    }
   ],
   "source": [
    "X_train.shape,y_train.shape"
   ]
  },
  {
   "cell_type": "code",
   "execution_count": 23,
   "metadata": {},
   "outputs": [],
   "source": [
    "nan_rows = X_test[X_test.isna().any(axis=1)].index\n",
    "X_test = X_test.drop(nan_rows)\n",
    "y_test = y_test.drop(nan_rows)"
   ]
  },
  {
   "cell_type": "code",
   "execution_count": null,
   "metadata": {},
   "outputs": [],
   "source": [
    "\n"
   ]
  },
  {
   "cell_type": "code",
   "execution_count": 25,
   "metadata": {},
   "outputs": [
    {
     "name": "stderr",
     "output_type": "stream",
     "text": [
      "c:\\Users\\Asus\\anaconda3\\lib\\site-packages\\sklearn\\ensemble\\_stacking.py:758: DataConversionWarning: A column-vector y was passed when a 1d array was expected. Please change the shape of y to (n_samples, ), for example using ravel().\n",
      "  y = column_or_1d(y, warn=True)\n"
     ]
    },
    {
     "data": {
      "text/plain": [
       "StackingRegressor(estimators=[('svr',\n",
       "                               Pipeline(steps=[('standardscaler',\n",
       "                                                StandardScaler()),\n",
       "                                               ('svr',\n",
       "                                                SVR(C=1, coef0=3, degree=2,\n",
       "                                                    gamma='auto',\n",
       "                                                    kernel='poly'))])),\n",
       "                              ('rf',\n",
       "                               Pipeline(steps=[('randomforestregressor',\n",
       "                                                RandomForestRegressor(max_depth=20,\n",
       "                                                                      max_leaf_nodes=100,\n",
       "                                                                      min_samples_leaf=2,\n",
       "                                                                      random_state=42))]))],\n",
       "                  final_estimator=RandomForestRegressor(max_depth=20,\n",
       "                                                        max_leaf_nodes=100,\n",
       "                                                        min_samples_leaf=2,\n",
       "                                                        random_state=42))"
      ]
     },
     "execution_count": 25,
     "metadata": {},
     "output_type": "execute_result"
    }
   ],
   "source": [
    "from sklearn.ensemble import StackingRegressor\n",
    "from sklearn.ensemble import RandomForestRegressor\n",
    "from joblib import load, dump\n",
    "from sklearn.metrics import mean_absolute_error\n",
    "from sklearn.metrics import explained_variance_score\n",
    "\n",
    "# Load the models\n",
    "svr_pipeline = load('SVR-RAINF24.joblib')\n",
    "rf = load('RFR-RAINF24.joblib')\n",
    "\n",
    "\n",
    "final_estimator = RandomForestRegressor(\n",
    "    \n",
    "    n_estimators=100, \n",
    "    max_depth=20, \n",
    "    min_samples_split=2, \n",
    "    min_samples_leaf=2, \n",
    "    max_leaf_nodes=100,\n",
    "    random_state=42,\n",
    ")\n",
    "\n",
    "# Create a StackingRegressor\n",
    "stacking_regressor = StackingRegressor(\n",
    "    estimators=[('svr', svr_pipeline), ('rf', rf)],\n",
    "    final_estimator=final_estimator\n",
    ")\n",
    "\n",
    "stacking_regressor.fit(X_train, y_train)\n"
   ]
  },
  {
   "cell_type": "code",
   "execution_count": 26,
   "metadata": {},
   "outputs": [
    {
     "name": "stdout",
     "output_type": "stream",
     "text": [
      "R-squared (Test): 0.9256404874581762\n",
      "Mean Absolute Error (Test): 0.3262824220134676\n",
      "\n",
      "R-squared (Validation): 0.9217398302727098\n",
      "Mean Absolute Error (Validation): 0.3106583206590298\n",
      "\n",
      "Explained Variance (Test): 0.9256933166122986\n",
      "Explained Variance (Validation): 0.9217556177135231\n",
      "\n",
      "Mean Absolute Error (Test, p.p.): 18.132095691622578%\n",
      "Mean Absolute Error (Validation, p.p.): 19.60744617375739%\n"
     ]
    }
   ],
   "source": [
    "\n",
    "predictions = stacking_regressor.predict(X_test)\n",
    "\n",
    "# Evaluate the model\n",
    "r2 = stacking_regressor.score(X_test, y_test)\n",
    "print(f'R-squared (Test): {r2}')\n",
    "\n",
    "mae = mean_absolute_error(y_test, predictions)\n",
    "print(f'Mean Absolute Error (Test): {mae}')\n",
    "\n",
    "predictionsVal = stacking_regressor.predict(X_val)\n",
    "\n",
    "# Evaluate the model\n",
    "\n",
    "\n",
    "r2 = stacking_regressor.score(X_val, y_val)\n",
    "print(f'\\nR-squared (Validation): {r2}')\n",
    "maev = mean_absolute_error(y_val, predictionsVal)\n",
    "print(f'Mean Absolute Error (Validation): {maev}')\n",
    "\n",
    "# Assuming `predictions` are the predicted values from your model\n",
    "explained_variance = explained_variance_score(y_test, predictions)\n",
    "print(f'\\nExplained Variance (Test): {explained_variance}')\n",
    "\n",
    "\n",
    "explained_variance = explained_variance_score(y_val, predictionsVal)\n",
    "print(f'Explained Variance (Validation): {explained_variance}')\n",
    "\n",
    "\n",
    "# Calculate and print MAE in percentage points for test set\n",
    "mae_percentage_test = (mae / y_test.values.mean()) * 100\n",
    "print(f'\\nMean Absolute Error (Test, p.p.): {mae_percentage_test}%')\n",
    "\n",
    "# Calculate and print MAE in percentage points for test set\n",
    "mae_percentage_val = (mae / y_val.values.mean()) * 100\n",
    "print(f'Mean Absolute Error (Validation, p.p.): {mae_percentage_val}%')\n"
   ]
  },
  {
   "cell_type": "code",
   "execution_count": null,
   "metadata": {},
   "outputs": [
    {
     "name": "stdout",
     "output_type": "stream",
     "text": [
      "<class 'pandas.core.frame.DataFrame'>\n",
      "Int64Index: 12320 entries, 2998 to 18976\n",
      "Data columns (total 1 columns):\n",
      " #   Column     Non-Null Count  Dtype  \n",
      "---  ------     --------------  -----  \n",
      " 0   windspeed  12320 non-null  float64\n",
      "dtypes: float64(1)\n",
      "memory usage: 192.5 KB\n"
     ]
    }
   ],
   "source": [
    "y_train.info()"
   ]
  },
  {
   "cell_type": "code",
   "execution_count": 27,
   "metadata": {},
   "outputs": [
    {
     "name": "stdout",
     "output_type": "stream",
     "text": [
      "['0.05', '2.42', '3.04', '0.05', '0.05', '2.74', '2.07', '4.03', '0.54', '0.05', '4.65', '0.65', '3.25', '3.45', '3.12', '4.73', '1.43', '1.09', '0.05', '0.22', '1.63', '2.12', '0.75', '1.32', '1.88', '1.43', '0.94', '0.94', '0.75', '5.39', '1.50', '0.94', '2.35', '2.77', '0.05', '2.09', '1.59', '0.22', '3.25', '3.57', '0.05', '2.89', '0.94', '3.12', '12.93', '3.85', '0.06', '7.08', '1.67', '0.05', '0.22', '0.05', '3.90', '2.35', '0.74', '0.78', '0.05', '0.05', '0.05', '2.06', '0.05', '0.22', '2.32', '1.58', '0.22', '4.32', '2.30', '2.71', '3.04', '0.10', '1.14', '7.40', '0.92', '3.24', '3.34', '3.49', '0.05', '0.05', '1.82', '0.22', '0.65', '0.41', '1.46', '1.43', '0.22', '0.05', '7.90', '2.00', '3.40', '2.34', '2.12', '4.72', '0.75', '0.79', '0.22', '2.28', '3.25', '0.06', '7.67', '0.41', '3.87', '2.84', '0.74', '2.32', '0.41', '0.05', '2.18', '1.67', '0.94', '0.05', '7.97', '4.04', '0.05', '0.78', '3.32', '0.37', '2.26', '1.74', '0.05', '2.47', '0.38', '0.05', '0.05', '0.05', '1.43', '2.46', '0.05', '0.05', '2.23', '2.10', '2.61', '5.21', '0.05', '1.14', '2.18', '1.43', '0.22', '1.43', '0.38', '7.77', '3.41', '0.65', '6.92', '0.79', '5.95', '0.05', '7.64', '0.22', '3.14', '2.02', '6.14', '0.05', '0.05', '1.53', '4.09', '0.38', '0.22', '1.70', '0.22', '1.43', '1.92', '1.06', '0.41', '0.05', '0.22', '0.41', '5.30', '3.34', '1.43', '3.51', '0.05', '1.60', '1.09', '1.88', '3.40', '5.25', '1.43', '0.05', '0.05', '0.77', '0.94', '0.78', '1.14', '0.76', '0.05', '4.58', '5.55', '0.05', '1.46', '0.05', '3.14', '3.12', '0.05', '2.34', '0.92', '1.43', '3.24', '7.31', '7.08', '1.45', '0.05', '0.05', '0.05', '2.52', '1.88', '5.46', '2.64', '3.13', '0.64', '1.01', '0.05', '0.22', '1.18', '1.88', '2.93', '0.22', '0.05', '1.94', '0.32', '0.05', '3.67', '2.85', '3.26', '0.05', '2.75', '0.94', '0.94', '0.05', '2.19', '0.38', '1.68', '1.43', '2.72', '0.05', '2.04', '3.90', '0.38', '2.72', '1.43', '1.10', '0.65', '0.22', '0.05', '0.05', '0.05', '2.84', '0.25', '0.05', '0.05', '1.43', '0.25', '1.44', '1.43', '0.05', '0.05', '0.94', '2.10', '1.86', '2.80', '0.05', '1.18', '0.22', '1.43', '1.43', '1.06', '3.92', '1.95', '0.22', '0.05', '0.05', '1.87', '0.94', '0.94', '1.57', '2.18', '0.22', '5.34', '3.90', '4.36', '0.22', '3.93', '7.88', '1.73', '4.11', '0.05', '3.86', '0.05', '2.17', '0.38', '0.22', '3.17', '0.05', '4.39', '1.45', '0.38', '0.05', '0.10', '0.05', '3.11', '0.06', '1.14', '2.94', '0.38', '2.18', '0.22', '6.85', '0.05', '3.84', '0.05', '5.75', '0.05', '2.18', '0.23', '0.05', '0.05', '2.38', '2.65', '0.05', '1.88', '0.05', '0.41', '1.43', '0.22', '3.03', '3.13', '1.68', '0.05', '0.64', '1.63', '0.05', '1.43', '0.05', '0.38', '0.41', '0.05', '0.05', '1.44', '2.59', '4.35', '3.40', '0.22', '1.72', '0.78', '3.90', '0.78', '1.46', '0.94', '0.05', '1.43', '2.22', '0.64', '0.05', '0.92', '2.21', '0.05', '1.14', '2.21', '0.05', '9.36', '0.38', '0.15', '1.78', '0.05', '2.95', '3.01', '1.79', '0.05', '1.43', '1.43', '0.05', '3.85', '3.03', '0.37', '1.47', '0.59', '0.93', '0.22', '0.05', '0.05', '0.05', '1.47', '0.05', '3.56', '0.41', '3.73', '0.47', '0.22', '0.65', '0.05', '0.22', '2.22', '0.73', '0.22', '1.51', '3.63', '0.94', '0.69', '2.77', '2.98', '0.05', '1.51', '1.75', '0.41', '1.43', '1.67', '5.10', '0.05', '1.76', '1.59', '1.43', '1.67', '0.64', '5.48', '1.07', '2.44', '2.95', '0.05', '0.05', '1.97', '1.43', '0.93', '2.09', '2.96', '0.78', '1.43', '2.76', '0.05', '2.95', '0.05', '1.92', '6.68', '1.18', '1.12', '1.43', '3.86', '4.09', '3.89', '2.17', '0.64', '3.00', '0.05', '4.31', '1.74', '0.05', '0.05', '0.22', '2.17', '1.26', '0.05', '0.06', '0.05', '0.22', '0.05', '0.05', '0.32', '7.42', '1.43', '2.83', '0.05', '1.89', '3.40', '0.05', '3.13', '6.31', '3.12', '1.43', '1.51', '0.05', '0.79', '3.40', '1.43', '2.00', '0.37', '2.50', '0.05', '1.43', '0.05', '0.23', '0.58', '3.90', '5.71', '0.78', '0.94', '1.14', '0.41', '0.05', '0.41', '0.05', '0.94', '0.05', '0.23', '1.46', '0.92', '2.21', '2.76', '3.22', '0.05', '1.67', '4.32', '1.43', '0.75', '2.82', '3.12', '0.05', '7.50', '0.05', '4.02', '0.37', '0.05', '2.09', '0.64', '0.05', '0.73', '6.85', '0.05', '0.05', '0.05', '2.81', '0.05', '0.05', '5.06', '0.05', '1.43', '4.34', '2.91', '0.78', '2.17', '1.88', '0.79', '0.05', '0.05', '0.41', '5.79', '3.25', '0.64', '0.05', '4.05', '0.22', '3.02', '0.92', '4.94', '3.48', '1.69', '2.43', '0.41', '3.03', '0.24', '1.56', '0.05', '1.43', '2.44', '2.81', '2.71', '0.37', '2.45', '0.05', '0.06', '0.06', '3.04', '3.11', '2.10', '3.65', '2.38', '5.26', '1.51', '0.05', '2.73', '0.42', '2.77', '1.29', '0.22', '1.14', '1.93', '0.05', '0.05', '0.05', '3.66', '5.59', '0.58', '0.22', '1.43', '0.37', '0.05', '0.41', '0.05', '1.74', '2.27', '0.06', '3.34', '1.43', '0.37', '0.92', '0.05', '0.05', '0.53', '0.41', '0.05', '5.22', '1.45', '0.22', '4.37', '1.43', '0.05', '0.94', '1.57', '3.58', '0.94', '2.72', '3.45', '1.45', '0.05', '0.05', '3.40', '0.75', '2.90', '0.22', '0.05', '0.78', '4.55', '0.38', '0.05', '0.05', '0.37', '1.02', '3.39', '1.51', '0.57', '1.47', '0.05', '1.88', '0.94', '1.69', '0.25', '1.94', '4.35', '3.44', '0.05', '0.05', '2.38', '2.91', '0.05', '0.38', '2.21', '0.05', '1.32', '5.07', '1.68', '1.95', '0.51', '0.22', '0.05', '2.10', '2.77', '7.47', '0.05', '4.98', '1.95', '1.14', '1.44', '3.59', '0.22', '2.25', '0.69', '0.05', '1.58', '0.05', '0.05', '0.05', '3.86', '0.05', '3.25', '0.05', '1.47', '1.43', '0.64', '0.05', '0.94', '0.25', '1.88', '0.38', '2.75', '0.05', '2.26', '2.96', '0.78', '0.41', '5.65', '1.77', '3.36', '0.73', '0.22', '1.10', '2.73', '1.91', '1.43', '1.43', '2.64', '2.64', '0.05', '3.40', '2.72', '0.65', '0.05', '4.32', '3.87', '1.85', '1.43', '0.38', '3.74', '0.38', '1.43', '3.14', '1.50', '0.05', '0.78', '3.07', '1.43', '2.20', '0.05', '0.79', '4.32', '0.75', '0.05', '2.77', '0.37', '0.06', '3.18', '1.81', '0.59', '3.36', '3.91', '0.22', '0.92', '3.23', '0.05', '0.05', '0.72', '2.10', '0.25', '0.06', '0.05', '3.93', '0.24', '1.55', '7.21', '2.10', '0.06', '3.02', '0.38', '2.43', '0.38', '1.97', '3.93', '1.43', '0.05', '0.05', '1.14', '0.05', '3.55', '0.22', '0.07', '0.05', '0.05', '1.43', '1.82', '0.05', '1.88', '0.05', '3.50', '5.16', '0.74', '0.05', '1.43', '4.95', '0.22', '2.45', '0.05', '0.22', '2.23', '2.68', '0.05', '0.92', '1.67', '6.46', '2.25', '0.79', '0.05', '1.65', '0.05', '0.05', '1.46', '0.41', '0.74', '1.43', '0.76', '0.38', '0.05', '2.03', '0.05', '2.77', '0.94', '0.22', '1.73', '0.94', '1.89', '0.05', '6.03', '0.06', '0.05', '2.05', '0.05', '0.05', '0.05', '3.43', '2.91', '1.76', '0.94', '0.06', '1.43', '1.69', '2.09', '2.21', '3.01', '1.43', '0.05', '0.05', '0.38', '0.22', '3.88', '3.90', '0.94', '1.45', '0.38', '1.47', '1.47', '0.64', '1.86', '3.88', '2.20', '0.22', '1.46', '1.85', '2.21', '2.10', '0.05', '0.92', '2.08', '0.57', '0.75', '0.05', '2.44', '1.46', '0.73', '1.61', '1.58', '0.94', '2.09', '0.05', '0.75', '0.22', '0.41', '1.71', '6.61', '0.05', '0.05', '3.45', '2.21', '2.21', '0.73', '5.14', '1.44', '2.21', '0.22', '1.89', '0.05', '2.06', '0.64', '2.09', '1.57', '0.05', '0.32', '3.00', '1.94', '1.56', '0.05', '0.05', '5.76', '0.05', '1.47', '3.28', '2.20', '4.35', '5.77', '1.43', '0.05', '2.82', '1.69', '0.22', '0.05', '3.03', '1.43', '3.70', '1.43', '6.27', '0.22', '1.44', '0.22', '2.32', '5.71', '0.64', '2.77', '3.93', '3.87', '0.05', '3.02', '4.89', '0.05', '2.47', '1.62', '1.69', '1.14', '0.05', '0.05', '2.87', '1.26', '4.42', '1.67', '1.51', '0.05', '0.05', '2.17', '0.05', '2.97', '0.05', '0.22', '4.08', '0.05', '1.81', '3.28', '0.92', '0.94', '3.03', '0.42', '0.32', '0.92', '0.94', '1.68', '0.22', '0.06', '1.71', '2.10', '0.22', '0.05', '1.41', '3.40', '2.15', '1.46', '1.78', '0.41', '2.08', '0.05', '0.05', '0.05', '3.26', '1.43', '2.84', '0.38', '0.05', '1.43', '3.41', '0.05', '3.12', '1.43', '5.04', '2.83', '2.04', '0.65', '0.78', '0.22', '2.21', '2.44', '3.50', '2.27', '0.38', '2.21', '4.04', '0.22', '3.15', '0.73', '2.18', '1.09', '1.14', '7.33', '1.64', '0.78', '0.05', '3.51', '2.05', '1.43', '0.05', '1.57', '2.10', '1.43', '3.04', '0.22', '1.18', '0.05', '1.51', '0.79', '3.44', '0.05', '0.05', '1.43', '0.05', '0.05', '0.41', '2.81', '0.05', '1.45', '3.85', '4.68', '0.94', '0.05', '3.48', '5.05', '5.00', '0.65', '0.05', '0.05', '0.22', '0.23', '1.65', '2.18', '0.05', '0.05', '4.46', '2.09', '3.87', '2.16', '0.64', '1.50', '1.43', '1.67', '2.21', '0.78', '1.68', '0.05', '1.10', '0.41', '0.94', '0.92', '1.26', '3.87', '0.05', '2.44', '0.05', '1.18', '0.76', '1.86', '1.45', '0.05', '0.05', '1.61', '2.76', '0.22', '3.17', '2.10', '0.38', '1.06', '0.05', '2.95', '0.06', '0.05', '0.06', '0.06', '0.05', '1.45', '4.30', '0.93', '0.22', '0.92', '1.43', '2.05', '1.14', '3.23', '0.05', '0.22', '1.98', '3.56', '7.43', '0.22', '1.43', '3.59', '2.09', '0.06', '0.22', '3.84', '1.09', '3.45', '0.05', '2.44', '3.85', '3.12', '0.22', '0.06', '2.95', '0.78', '3.03', '1.43', '5.03', '0.22', '6.84', '1.14', '2.04', '1.06', '0.22', '1.82', '1.08', '2.10', '0.05', '3.13', '2.03', '3.45', '2.21', '1.08', '1.32', '2.71', '14.97', '3.83', '3.41', '0.05', '0.05', '1.44', '0.05', '1.06', '5.79', '0.05', '7.37', '0.05', '1.14', '3.10', '5.35', '0.05', '0.78', '1.45', '2.43', '2.16', '0.37', '3.93', '1.65', '0.22', '1.67', '4.93', '0.05', '2.47', '0.22', '1.18', '0.22', '3.61', '1.88', '1.43', '3.45', '1.14', '1.65', '0.05', '1.88', '7.92', '0.38', '1.43', '5.05', '6.05', '1.43', '0.05', '0.05', '3.98', '3.22', '0.05', '2.09', '0.41', '3.54', '1.71', '3.39', '0.05', '4.31', '3.12', '0.05', '0.05', '0.22', '3.12', '0.79', '0.38', '3.53', '0.37', '3.08', '0.73', '0.05', '0.05', '3.14', '2.67', '2.47', '1.60', '2.23', '3.36', '2.10', '0.52', '1.80', '1.46', '2.76', '4.01', '4.13', '0.05', '1.68', '0.22', '1.69', '1.18', '1.43', '2.10', '0.58', '1.61', '2.08', '0.43', '0.10', '0.64', '0.05', '1.59', '5.25', '5.16', '0.15', '0.22', '1.47', '1.45', '0.78', '1.46', '0.05', '0.05', '4.34', '1.43', '0.38', '0.41', '3.91', '0.72', '2.05', '1.67', '6.03', '3.15', '0.32', '3.72', '1.91', '0.05', '0.05', '0.63', '0.05', '0.38', '7.40', '0.94', '0.05', '0.94', '0.05', '1.59', '0.22', '0.22', '0.05', '0.53', '0.41', '0.05', '0.38', '0.05', '4.33', '1.94', '0.38', '0.05', '1.56', '0.78', '3.10', '3.41', '0.06', '0.05', '0.78', '1.58', '2.81', '5.53', '2.10', '5.07', '0.05', '0.94', '0.64', '1.68', '1.65', '0.05', '0.79', '2.09', '1.56', '2.11', '0.05', '0.94', '0.05', '0.06', '7.86', '3.13', '3.35', '0.05', '0.05', '2.10', '2.16', '1.80', '5.25', '2.21', '2.44', '1.43', '2.03', '1.76', '1.26', '3.26', '0.05', '0.22', '3.46', '1.43', '0.41', '1.43', '0.05', '3.20', '2.83', '1.71', '1.67', '3.87', '0.37', '1.66', '1.32', '0.05', '2.13', '2.43', '4.08', '0.05', '4.05', '0.23', '0.15', '0.05', '1.43', '0.05', '2.31', '0.05', '3.85', '1.40', '0.22', '0.05', '3.83', '0.22', '1.26', '0.05', '1.77', '0.05', '0.38', '0.05', '0.06', '1.31', '0.05', '0.05', '0.06', '0.05', '0.22', '1.43', '0.05', '0.22', '0.05', '1.43', '3.90', '0.05', '1.14', '1.14', '1.98', '6.06', '2.09', '1.71', '1.14', '3.87', '8.92', '1.68', '2.05', '5.02', '2.17', '1.59', '1.43', '0.78', '1.41', '0.06', '1.08', '1.69', '0.22', '0.05', '0.22', '0.77', '2.81', '2.19', '1.43', '3.72', '0.75', '4.67', '2.22', '3.03', '1.01', '0.05', '1.43', '1.45', '0.75', '0.75', '1.14', '2.90', '2.09', '1.18', '2.44', '1.08', '0.22', '1.06', '0.05', '4.11', '3.90', '1.45', '1.87', '0.65', '7.65', '2.10', '2.77', '2.94', '4.34', '0.37', '1.43', '1.51', '1.43', '3.86', '0.05', '0.05', '2.44', '1.51', '0.94', '0.05', '2.37', '1.06', '0.05', '0.22', '3.14', '0.05', '1.99', '2.04', '0.05', '0.05', '2.09', '3.96', '0.05', '4.45', '0.05', '3.85', '0.05', '0.05', '1.26', '2.10', '2.09', '2.87', '4.70', '1.43', '2.09', '0.05', '2.44', '2.22', '1.68', '11.33', '2.09', '0.05', '0.94', '4.10', '2.82', '3.36', '0.05', '1.44', '0.64', '0.65', '1.14', '0.05', '1.43', '1.48', '1.43', '3.24', '3.64', '3.85', '1.41', '1.43', '6.25', '0.05', '1.14', '2.64', '0.05', '0.05', '0.05', '2.09', '3.10', '0.05', '0.05', '1.72', '0.05', '4.54', '4.36', '4.13', '0.05', '2.11', '2.33', '2.42', '2.77', '2.21', '2.10', '0.05', '0.22', '3.12', '1.43', '0.05', '0.22', '1.43', '5.27', '1.87', '1.14', '0.05', '0.05', '0.78', '1.43', '1.52', '1.43', '0.41', '0.72', '1.45', '3.94', '0.94', '3.13', '3.56', '1.97', '0.05', '3.90', '7.16', '0.58', '0.22', '0.05', '0.05', '0.05']\n"
     ]
    }
   ],
   "source": [
    "print(['{:.2f}'.format(pred) for pred in predictionsVal])"
   ]
  },
  {
   "cell_type": "code",
   "execution_count": 28,
   "metadata": {},
   "outputs": [
    {
     "data": {
      "image/png": "[encoded data removed]",
      "text/plain": [
       "<Figure size 640x480 with 1 Axes>"
      ]
     },
     "metadata": {},
     "output_type": "display_data"
    }
   ],
   "source": [
    "import matplotlib.pyplot as plt\n",
    "\n",
    "# Make predictions\n",
    "predictions = stacking_regressor.predict(X_test)\n",
    "\n",
    "# Create a scatter plot\n",
    "plt.scatter(y_test, predictions)\n",
    "plt.xlabel('Actual Values')\n",
    "plt.ylabel('Predicted Values')\n",
    "plt.title('METAMODEL: Actual vs Predicted Values')\n",
    "\n",
    "# Diagonal line\n",
    "limits = [np.min([plt.xlim(), plt.ylim()]),  # find the lower limit among x and y axes\n",
    "          np.max([plt.xlim(), plt.ylim()])]  # find the upper limit among x and y axes\n",
    "plt.plot(limits, limits, color='red')\n",
    "\n",
    "plt.show()"
   ]
  },
  {
   "cell_type": "code",
   "execution_count": 30,
   "metadata": {},
   "outputs": [
    {
     "data": {
      "image/png": "[encoded data removed]",
      "text/plain": [
       "<Figure size 640x480 with 1 Axes>"
      ]
     },
     "metadata": {},
     "output_type": "display_data"
    }
   ],
   "source": [
    "import matplotlib.pyplot as plt\n",
    "\n",
    "# Make predictions\n",
    "predictionsVal = stacking_regressor.predict(X_val)\n",
    "\n",
    "# Create a scatter plot\n",
    "plt.scatter(y_val, predictionsVal)\n",
    "plt.xlabel('Actual Values')\n",
    "plt.ylabel('Predicted Values')\n",
    "plt.title('METAMODEL: Actual vs Predicted Values')\n",
    "\n",
    "# Diagonal line\n",
    "limits = [np.min([plt.xlim(), plt.ylim()]),  # find the lower limit among x and y axes\n",
    "          np.max([plt.xlim(), plt.ylim()])]  # find the upper limit among x and y axes\n",
    "plt.plot(limits, limits, color='red')\n",
    "\n",
    "plt.show()"
   ]
  },
  {
   "cell_type": "code",
   "execution_count": 31,
   "metadata": {},
   "outputs": [
    {
     "name": "stdout",
     "output_type": "stream",
     "text": [
      "       Actual Predicted\n",
      "0    0.003646      0.05\n",
      "1    2.382083      3.02\n",
      "2    0.051042      0.05\n",
      "3    0.381944      0.41\n",
      "4    1.219792      1.43\n",
      "5    3.034524      3.00\n",
      "6    3.989628      1.78\n",
      "7    3.709167      4.03\n",
      "8    0.196454      0.22\n",
      "9    2.296277      1.67\n",
      "10   1.081771      1.94\n",
      "11   3.369149      3.22\n",
      "12   0.638690      1.14\n",
      "13   1.598611      1.43\n",
      "14   2.644643      2.28\n",
      "15   0.003191      0.05\n",
      "16   5.168125      5.18\n",
      "17   1.065833      1.43\n",
      "18   0.000000      0.05\n",
      "19  10.216667      9.93\n"
     ]
    }
   ],
   "source": [
    "import pandas as pd\n",
    "import numpy as np\n",
    "\n",
    "# Ensure y_test and predictions are 1-dimensional\n",
    "y_test = np.ravel(y_test)\n",
    "predictions = np.ravel(predictions)\n",
    "\n",
    "# Create a DataFrame with actual and predicted values\n",
    "df = pd.DataFrame({'Actual': y_test, 'Predicted': ['{:.2f}'.format(pred) for pred in predictions]})\n",
    "\n",
    "# Display the DataFrame\n",
    "print(df.head(20).to_string(index=True))"
   ]
  },
  {
   "cell_type": "code",
   "execution_count": 33,
   "metadata": {},
   "outputs": [
    {
     "name": "stderr",
     "output_type": "stream",
     "text": [
      "c:\\Users\\Asus\\anaconda3\\lib\\site-packages\\sklearn\\ensemble\\_stacking.py:758: DataConversionWarning: A column-vector y was passed when a 1d array was expected. Please change the shape of y to (n_samples, ), for example using ravel().\n",
      "  y = column_or_1d(y, warn=True)\n"
     ]
    },
    {
     "data": {
      "text/plain": [
       "['STACKED-SVR_RF-RAINFALL23.joblib']"
      ]
     },
     "execution_count": 33,
     "metadata": {},
     "output_type": "execute_result"
    }
   ],
   "source": [
    "from sklearn.pipeline import make_pipeline\n",
    "from joblib import dump\n",
    "\n",
    "pipeline = make_pipeline(stacking_regressor)\n",
    "\n",
    "# Fit the pipeline\n",
    "pipeline.fit(X_train, y_train)\n",
    "\n",
    "# Save the pipeline\n",
    "dump(pipeline, 'STACKED-SVR_RF-RAINFALL23.joblib')"
   ]
  }
 ],
 "metadata": {
  "kernelspec": {
   "display_name": "base",
   "language": "python",
   "name": "python3"
  },
  "language_info": {
   "codemirror_mode": {
    "name": "ipython",
    "version": 3
   },
   "file_extension": ".py",
   "mimetype": "text/x-python",
   "name": "python",
   "nbconvert_exporter": "python",
   "pygments_lexer": "ipython3",
   "version": "3.9.13"
  }
 },
 "nbformat": 4,
 "nbformat_minor": 2
}
