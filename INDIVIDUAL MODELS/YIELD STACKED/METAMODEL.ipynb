{
 "cells": [
  {
   "cell_type": "code",
   "execution_count": 1,
   "metadata": {},
   "outputs": [],
   "source": [
    "\n",
    "# Import necessary libraries\n",
    "import pandas as pd\n",
    "import numpy as np\n",
    "from sklearn.ensemble import RandomForestRegressor\n",
    "from sklearn.model_selection import train_test_split\n",
    "from sklearn.preprocessing import StandardScaler\n",
    "from sklearn.metrics import mean_squared_error\n",
    "\n",
    "# Load the dataset\n",
    "df = pd.read_csv('TEST (1).csv')"
   ]
  },
  {
   "cell_type": "code",
   "execution_count": 2,
   "metadata": {},
   "outputs": [
    {
     "data": {
      "text/html": [
       "<div>\n",
       "<style scoped>\n",
       "    .dataframe tbody tr th:only-of-type {\n",
       "        vertical-align: middle;\n",
       "    }\n",
       "\n",
       "    .dataframe tbody tr th {\n",
       "        vertical-align: top;\n",
       "    }\n",
       "\n",
       "    .dataframe thead th {\n",
       "        text-align: right;\n",
       "    }\n",
       "</style>\n",
       "<table border=\"1\" class=\"dataframe\">\n",
       "  <thead>\n",
       "    <tr style=\"text-align: right;\">\n",
       "      <th></th>\n",
       "      <th>windspeed</th>\n",
       "      <th>rainfall24</th>\n",
       "      <th>rainfall6</th>\n",
       "      <th>rainfallaverage</th>\n",
       "      <th>area</th>\n",
       "      <th>yield</th>\n",
       "      <th>distance</th>\n",
       "      <th>areayieldrataio</th>\n",
       "      <th>percentageofarea</th>\n",
       "      <th>darea</th>\n",
       "      <th>yielda</th>\n",
       "      <th>fgprice</th>\n",
       "      <th>dctrice</th>\n",
       "    </tr>\n",
       "  </thead>\n",
       "  <tbody>\n",
       "    <tr>\n",
       "      <th>0</th>\n",
       "      <td>0.000000</td>\n",
       "      <td>1.535972</td>\n",
       "      <td>3.032222</td>\n",
       "      <td>0.959983</td>\n",
       "      <td>2870.00</td>\n",
       "      <td>3.37</td>\n",
       "      <td>0.00000</td>\n",
       "      <td>851.632047</td>\n",
       "      <td>0.247070</td>\n",
       "      <td>709.091324</td>\n",
       "      <td>0.832626</td>\n",
       "      <td>20.79</td>\n",
       "      <td>1.113550e+07</td>\n",
       "    </tr>\n",
       "    <tr>\n",
       "      <th>1</th>\n",
       "      <td>0.000000</td>\n",
       "      <td>2.141071</td>\n",
       "      <td>3.942857</td>\n",
       "      <td>1.338170</td>\n",
       "      <td>491.00</td>\n",
       "      <td>4.36</td>\n",
       "      <td>0.00000</td>\n",
       "      <td>112.614679</td>\n",
       "      <td>0.244428</td>\n",
       "      <td>120.014173</td>\n",
       "      <td>1.065706</td>\n",
       "      <td>20.79</td>\n",
       "      <td>2.412279e+06</td>\n",
       "    </tr>\n",
       "    <tr>\n",
       "      <th>2</th>\n",
       "      <td>7.116629</td>\n",
       "      <td>5.809375</td>\n",
       "      <td>20.589580</td>\n",
       "      <td>3.630859</td>\n",
       "      <td>1330.88</td>\n",
       "      <td>4.42</td>\n",
       "      <td>385.79860</td>\n",
       "      <td>301.104072</td>\n",
       "      <td>0.312983</td>\n",
       "      <td>416.543187</td>\n",
       "      <td>1.383386</td>\n",
       "      <td>20.79</td>\n",
       "      <td>1.086828e+07</td>\n",
       "    </tr>\n",
       "    <tr>\n",
       "      <th>3</th>\n",
       "      <td>67.089467</td>\n",
       "      <td>3.908854</td>\n",
       "      <td>11.341670</td>\n",
       "      <td>2.443034</td>\n",
       "      <td>5767.00</td>\n",
       "      <td>4.65</td>\n",
       "      <td>26.26015</td>\n",
       "      <td>1240.215054</td>\n",
       "      <td>0.567852</td>\n",
       "      <td>3274.800267</td>\n",
       "      <td>2.640510</td>\n",
       "      <td>20.79</td>\n",
       "      <td>1.630911e+08</td>\n",
       "    </tr>\n",
       "    <tr>\n",
       "      <th>4</th>\n",
       "      <td>0.000000</td>\n",
       "      <td>0.805469</td>\n",
       "      <td>1.580208</td>\n",
       "      <td>0.503418</td>\n",
       "      <td>4710.00</td>\n",
       "      <td>4.14</td>\n",
       "      <td>0.00000</td>\n",
       "      <td>1137.681159</td>\n",
       "      <td>0.130472</td>\n",
       "      <td>614.521934</td>\n",
       "      <td>0.540153</td>\n",
       "      <td>20.79</td>\n",
       "      <td>6.260539e+06</td>\n",
       "    </tr>\n",
       "    <tr>\n",
       "      <th>...</th>\n",
       "      <td>...</td>\n",
       "      <td>...</td>\n",
       "      <td>...</td>\n",
       "      <td>...</td>\n",
       "      <td>...</td>\n",
       "      <td>...</td>\n",
       "      <td>...</td>\n",
       "      <td>...</td>\n",
       "      <td>...</td>\n",
       "      <td>...</td>\n",
       "      <td>...</td>\n",
       "      <td>...</td>\n",
       "      <td>...</td>\n",
       "    </tr>\n",
       "    <tr>\n",
       "      <th>39739</th>\n",
       "      <td>8.841748</td>\n",
       "      <td>2.292639</td>\n",
       "      <td>4.211667</td>\n",
       "      <td>1.432899</td>\n",
       "      <td>916.00</td>\n",
       "      <td>3.16</td>\n",
       "      <td>392.92250</td>\n",
       "      <td>289.873418</td>\n",
       "      <td>0.203710</td>\n",
       "      <td>186.598393</td>\n",
       "      <td>0.643724</td>\n",
       "      <td>20.79</td>\n",
       "      <td>2.265505e+06</td>\n",
       "    </tr>\n",
       "    <tr>\n",
       "      <th>39740</th>\n",
       "      <td>0.000000</td>\n",
       "      <td>0.030208</td>\n",
       "      <td>0.062500</td>\n",
       "      <td>0.018880</td>\n",
       "      <td>1046.00</td>\n",
       "      <td>3.07</td>\n",
       "      <td>0.00000</td>\n",
       "      <td>340.716612</td>\n",
       "      <td>0.556501</td>\n",
       "      <td>582.100434</td>\n",
       "      <td>1.708459</td>\n",
       "      <td>20.79</td>\n",
       "      <td>1.875686e+07</td>\n",
       "    </tr>\n",
       "    <tr>\n",
       "      <th>39741</th>\n",
       "      <td>8.575491</td>\n",
       "      <td>2.652500</td>\n",
       "      <td>5.460000</td>\n",
       "      <td>1.657812</td>\n",
       "      <td>753.00</td>\n",
       "      <td>4.52</td>\n",
       "      <td>291.88280</td>\n",
       "      <td>166.592920</td>\n",
       "      <td>0.161440</td>\n",
       "      <td>121.564092</td>\n",
       "      <td>0.729707</td>\n",
       "      <td>20.79</td>\n",
       "      <td>1.673060e+06</td>\n",
       "    </tr>\n",
       "    <tr>\n",
       "      <th>39742</th>\n",
       "      <td>9.387123</td>\n",
       "      <td>1.696181</td>\n",
       "      <td>3.348611</td>\n",
       "      <td>1.060113</td>\n",
       "      <td>99.00</td>\n",
       "      <td>1.93</td>\n",
       "      <td>496.10710</td>\n",
       "      <td>51.295337</td>\n",
       "      <td>0.154780</td>\n",
       "      <td>15.323183</td>\n",
       "      <td>0.298725</td>\n",
       "      <td>20.79</td>\n",
       "      <td>8.633316e+04</td>\n",
       "    </tr>\n",
       "    <tr>\n",
       "      <th>39743</th>\n",
       "      <td>0.000000</td>\n",
       "      <td>1.071354</td>\n",
       "      <td>2.250000</td>\n",
       "      <td>0.669596</td>\n",
       "      <td>2219.00</td>\n",
       "      <td>4.21</td>\n",
       "      <td>0.00000</td>\n",
       "      <td>527.078385</td>\n",
       "      <td>0.084933</td>\n",
       "      <td>188.466571</td>\n",
       "      <td>0.357568</td>\n",
       "      <td>20.79</td>\n",
       "      <td>1.271016e+06</td>\n",
       "    </tr>\n",
       "  </tbody>\n",
       "</table>\n",
       "<p>39744 rows × 13 columns</p>\n",
       "</div>"
      ],
      "text/plain": [
       "       windspeed  rainfall24  rainfall6  rainfallaverage     area  yield  \\\n",
       "0       0.000000    1.535972   3.032222         0.959983  2870.00   3.37   \n",
       "1       0.000000    2.141071   3.942857         1.338170   491.00   4.36   \n",
       "2       7.116629    5.809375  20.589580         3.630859  1330.88   4.42   \n",
       "3      67.089467    3.908854  11.341670         2.443034  5767.00   4.65   \n",
       "4       0.000000    0.805469   1.580208         0.503418  4710.00   4.14   \n",
       "...          ...         ...        ...              ...      ...    ...   \n",
       "39739   8.841748    2.292639   4.211667         1.432899   916.00   3.16   \n",
       "39740   0.000000    0.030208   0.062500         0.018880  1046.00   3.07   \n",
       "39741   8.575491    2.652500   5.460000         1.657812   753.00   4.52   \n",
       "39742   9.387123    1.696181   3.348611         1.060113    99.00   1.93   \n",
       "39743   0.000000    1.071354   2.250000         0.669596  2219.00   4.21   \n",
       "\n",
       "        distance  areayieldrataio  percentageofarea        darea    yielda  \\\n",
       "0        0.00000       851.632047          0.247070   709.091324  0.832626   \n",
       "1        0.00000       112.614679          0.244428   120.014173  1.065706   \n",
       "2      385.79860       301.104072          0.312983   416.543187  1.383386   \n",
       "3       26.26015      1240.215054          0.567852  3274.800267  2.640510   \n",
       "4        0.00000      1137.681159          0.130472   614.521934  0.540153   \n",
       "...          ...              ...               ...          ...       ...   \n",
       "39739  392.92250       289.873418          0.203710   186.598393  0.643724   \n",
       "39740    0.00000       340.716612          0.556501   582.100434  1.708459   \n",
       "39741  291.88280       166.592920          0.161440   121.564092  0.729707   \n",
       "39742  496.10710        51.295337          0.154780    15.323183  0.298725   \n",
       "39743    0.00000       527.078385          0.084933   188.466571  0.357568   \n",
       "\n",
       "       fgprice       dctrice  \n",
       "0        20.79  1.113550e+07  \n",
       "1        20.79  2.412279e+06  \n",
       "2        20.79  1.086828e+07  \n",
       "3        20.79  1.630911e+08  \n",
       "4        20.79  6.260539e+06  \n",
       "...        ...           ...  \n",
       "39739    20.79  2.265505e+06  \n",
       "39740    20.79  1.875686e+07  \n",
       "39741    20.79  1.673060e+06  \n",
       "39742    20.79  8.633316e+04  \n",
       "39743    20.79  1.271016e+06  \n",
       "\n",
       "[39744 rows x 13 columns]"
      ]
     },
     "execution_count": 2,
     "metadata": {},
     "output_type": "execute_result"
    }
   ],
   "source": [
    "df"
   ]
  },
  {
   "cell_type": "code",
   "execution_count": 3,
   "metadata": {},
   "outputs": [
    {
     "ename": "NameError",
     "evalue": "name 'plt' is not defined",
     "output_type": "error",
     "traceback": [
      "\u001b[1;31m---------------------------------------------------------------------------\u001b[0m",
      "\u001b[1;31mNameError\u001b[0m                                 Traceback (most recent call last)",
      "\u001b[1;32m~\\AppData\\Local\\Temp\\ipykernel_23916\\2085200346.py\u001b[0m in \u001b[0;36m<module>\u001b[1;34m\u001b[0m\n\u001b[0;32m      2\u001b[0m \u001b[1;33m\u001b[0m\u001b[0m\n\u001b[0;32m      3\u001b[0m \u001b[0mcorrelation_matrix\u001b[0m \u001b[1;33m=\u001b[0m \u001b[0mdf\u001b[0m\u001b[1;33m.\u001b[0m\u001b[0mcorr\u001b[0m\u001b[1;33m(\u001b[0m\u001b[1;33m)\u001b[0m\u001b[1;33m\u001b[0m\u001b[1;33m\u001b[0m\u001b[0m\n\u001b[1;32m----> 4\u001b[1;33m \u001b[0mplt\u001b[0m\u001b[1;33m.\u001b[0m\u001b[0mfigure\u001b[0m\u001b[1;33m(\u001b[0m\u001b[0mfigsize\u001b[0m\u001b[1;33m=\u001b[0m\u001b[1;33m(\u001b[0m\u001b[1;36m20\u001b[0m\u001b[1;33m,\u001b[0m \u001b[1;36m8\u001b[0m\u001b[1;33m)\u001b[0m\u001b[1;33m)\u001b[0m\u001b[1;33m\u001b[0m\u001b[1;33m\u001b[0m\u001b[0m\n\u001b[0m\u001b[0;32m      5\u001b[0m \u001b[0msns\u001b[0m\u001b[1;33m.\u001b[0m\u001b[0mheatmap\u001b[0m\u001b[1;33m(\u001b[0m\u001b[0mcorrelation_matrix\u001b[0m\u001b[1;33m,\u001b[0m \u001b[0mannot\u001b[0m\u001b[1;33m=\u001b[0m\u001b[1;32mTrue\u001b[0m\u001b[1;33m,\u001b[0m \u001b[0mcmap\u001b[0m\u001b[1;33m=\u001b[0m\u001b[1;34m'coolwarm'\u001b[0m\u001b[1;33m,\u001b[0m \u001b[0mlinewidths\u001b[0m\u001b[1;33m=\u001b[0m\u001b[1;36m0.5\u001b[0m\u001b[1;33m)\u001b[0m\u001b[1;33m\u001b[0m\u001b[1;33m\u001b[0m\u001b[0m\n\u001b[0;32m      6\u001b[0m \u001b[0mplt\u001b[0m\u001b[1;33m.\u001b[0m\u001b[0mshow\u001b[0m\u001b[1;33m(\u001b[0m\u001b[1;33m)\u001b[0m\u001b[1;33m\u001b[0m\u001b[1;33m\u001b[0m\u001b[0m\n",
      "\u001b[1;31mNameError\u001b[0m: name 'plt' is not defined"
     ]
    }
   ],
   "source": [
    "import seaborn as sns\n",
    "\n",
    "correlation_matrix = df.corr()\n",
    "plt.figure(figsize=(20, 8))\n",
    "sns.heatmap(correlation_matrix, annot=True, cmap='coolwarm', linewidths=0.5)\n",
    "plt.show()"
   ]
  },
  {
   "cell_type": "code",
   "execution_count": 3,
   "metadata": {},
   "outputs": [],
   "source": [
    "# Split the dataset into features and target variable\n",
    "X = df.drop(['percentageofarea','yielda','darea','areayieldrataio','rainfallaverage','fgprice'], axis=1)\n",
    "y = df.drop(['dctrice','percentageofarea','darea','windspeed','rainfall24','rainfall6','rainfallaverage','areayieldrataio','area', 'yield', 'fgprice','distance'], axis=1)"
   ]
  },
  {
   "cell_type": "code",
   "execution_count": 6,
   "metadata": {},
   "outputs": [
    {
     "data": {
      "text/html": [
       "<div>\n",
       "<style scoped>\n",
       "    .dataframe tbody tr th:only-of-type {\n",
       "        vertical-align: middle;\n",
       "    }\n",
       "\n",
       "    .dataframe tbody tr th {\n",
       "        vertical-align: top;\n",
       "    }\n",
       "\n",
       "    .dataframe thead th {\n",
       "        text-align: right;\n",
       "    }\n",
       "</style>\n",
       "<table border=\"1\" class=\"dataframe\">\n",
       "  <thead>\n",
       "    <tr style=\"text-align: right;\">\n",
       "      <th></th>\n",
       "      <th>yielda</th>\n",
       "    </tr>\n",
       "  </thead>\n",
       "  <tbody>\n",
       "    <tr>\n",
       "      <th>0</th>\n",
       "      <td>0.832626</td>\n",
       "    </tr>\n",
       "    <tr>\n",
       "      <th>1</th>\n",
       "      <td>1.065706</td>\n",
       "    </tr>\n",
       "    <tr>\n",
       "      <th>2</th>\n",
       "      <td>1.383386</td>\n",
       "    </tr>\n",
       "    <tr>\n",
       "      <th>3</th>\n",
       "      <td>2.640510</td>\n",
       "    </tr>\n",
       "    <tr>\n",
       "      <th>4</th>\n",
       "      <td>0.540153</td>\n",
       "    </tr>\n",
       "    <tr>\n",
       "      <th>...</th>\n",
       "      <td>...</td>\n",
       "    </tr>\n",
       "    <tr>\n",
       "      <th>39739</th>\n",
       "      <td>0.643724</td>\n",
       "    </tr>\n",
       "    <tr>\n",
       "      <th>39740</th>\n",
       "      <td>1.708459</td>\n",
       "    </tr>\n",
       "    <tr>\n",
       "      <th>39741</th>\n",
       "      <td>0.729707</td>\n",
       "    </tr>\n",
       "    <tr>\n",
       "      <th>39742</th>\n",
       "      <td>0.298725</td>\n",
       "    </tr>\n",
       "    <tr>\n",
       "      <th>39743</th>\n",
       "      <td>0.357568</td>\n",
       "    </tr>\n",
       "  </tbody>\n",
       "</table>\n",
       "<p>39744 rows × 1 columns</p>\n",
       "</div>"
      ],
      "text/plain": [
       "         yielda\n",
       "0      0.832626\n",
       "1      1.065706\n",
       "2      1.383386\n",
       "3      2.640510\n",
       "4      0.540153\n",
       "...         ...\n",
       "39739  0.643724\n",
       "39740  1.708459\n",
       "39741  0.729707\n",
       "39742  0.298725\n",
       "39743  0.357568\n",
       "\n",
       "[39744 rows x 1 columns]"
      ]
     },
     "execution_count": 6,
     "metadata": {},
     "output_type": "execute_result"
    }
   ],
   "source": [
    "y"
   ]
  },
  {
   "cell_type": "code",
   "execution_count": 7,
   "metadata": {},
   "outputs": [],
   "source": [
    "# Remove the rows with zero values from the training set and testing set\n",
    "mask = X['windspeed'] != 0\n",
    "\n",
    "# Apply the mask to X_train\n",
    "X = X[mask]\n",
    "\n",
    "# Apply the mask to y_train\n",
    "y = y[mask]"
   ]
  },
  {
   "cell_type": "code",
   "execution_count": 8,
   "metadata": {},
   "outputs": [],
   "source": [
    "# Remove the rows with zero values from the training set and testing set\n",
    "mask =X['dctrice'] != 0\n",
    "\n",
    "# Apply the mask to y_train\n",
    "y = y[mask]\n",
    "\n",
    "# Apply the mask to X_train\n",
    "X = X[mask]"
   ]
  },
  {
   "cell_type": "code",
   "execution_count": 9,
   "metadata": {},
   "outputs": [
    {
     "data": {
      "text/plain": [
       "((15401, 7), (15401, 1))"
      ]
     },
     "execution_count": 9,
     "metadata": {},
     "output_type": "execute_result"
    }
   ],
   "source": [
    "X.shape, y.shape"
   ]
  },
  {
   "cell_type": "code",
   "execution_count": 10,
   "metadata": {},
   "outputs": [],
   "source": [
    "# Training and Temporary Set (80-20 split)\n",
    "X_train, X_temp, y_train, y_temp = train_test_split(X, y, test_size=0.2, random_state=42)\n",
    "\n",
    "# Temporary set into a validation set and a test set using (50-50 split)\n",
    "X_val, X_test, y_val, y_test = train_test_split(X_temp, y_temp, test_size=0.5, random_state=42)"
   ]
  },
  {
   "cell_type": "code",
   "execution_count": 11,
   "metadata": {},
   "outputs": [
    {
     "data": {
      "text/html": [
       "<div>\n",
       "<style scoped>\n",
       "    .dataframe tbody tr th:only-of-type {\n",
       "        vertical-align: middle;\n",
       "    }\n",
       "\n",
       "    .dataframe tbody tr th {\n",
       "        vertical-align: top;\n",
       "    }\n",
       "\n",
       "    .dataframe thead th {\n",
       "        text-align: right;\n",
       "    }\n",
       "</style>\n",
       "<table border=\"1\" class=\"dataframe\">\n",
       "  <thead>\n",
       "    <tr style=\"text-align: right;\">\n",
       "      <th></th>\n",
       "      <th>windspeed</th>\n",
       "      <th>rainfall24</th>\n",
       "      <th>rainfall6</th>\n",
       "      <th>area</th>\n",
       "      <th>yield</th>\n",
       "      <th>distance</th>\n",
       "      <th>dctrice</th>\n",
       "    </tr>\n",
       "  </thead>\n",
       "  <tbody>\n",
       "    <tr>\n",
       "      <th>2998</th>\n",
       "      <td>27.070846</td>\n",
       "      <td>0.032979</td>\n",
       "      <td>0.125000</td>\n",
       "      <td>345.0</td>\n",
       "      <td>4.51</td>\n",
       "      <td>100.51080</td>\n",
       "      <td>6.476275e+06</td>\n",
       "    </tr>\n",
       "    <tr>\n",
       "      <th>16149</th>\n",
       "      <td>6.019287</td>\n",
       "      <td>1.173936</td>\n",
       "      <td>1.173936</td>\n",
       "      <td>8039.0</td>\n",
       "      <td>4.70</td>\n",
       "      <td>252.81010</td>\n",
       "      <td>5.553857e+07</td>\n",
       "    </tr>\n",
       "    <tr>\n",
       "      <th>1106</th>\n",
       "      <td>31.306583</td>\n",
       "      <td>2.052083</td>\n",
       "      <td>3.116667</td>\n",
       "      <td>48.0</td>\n",
       "      <td>3.92</td>\n",
       "      <td>76.43904</td>\n",
       "      <td>5.681104e+05</td>\n",
       "    </tr>\n",
       "    <tr>\n",
       "      <th>1368</th>\n",
       "      <td>8.704666</td>\n",
       "      <td>3.120833</td>\n",
       "      <td>7.781250</td>\n",
       "      <td>1275.0</td>\n",
       "      <td>5.12</td>\n",
       "      <td>387.10950</td>\n",
       "      <td>2.836358e+07</td>\n",
       "    </tr>\n",
       "    <tr>\n",
       "      <th>8530</th>\n",
       "      <td>13.493266</td>\n",
       "      <td>0.778083</td>\n",
       "      <td>1.170333</td>\n",
       "      <td>165.0</td>\n",
       "      <td>2.27</td>\n",
       "      <td>317.99430</td>\n",
       "      <td>2.522815e+05</td>\n",
       "    </tr>\n",
       "    <tr>\n",
       "      <th>...</th>\n",
       "      <td>...</td>\n",
       "      <td>...</td>\n",
       "      <td>...</td>\n",
       "      <td>...</td>\n",
       "      <td>...</td>\n",
       "      <td>...</td>\n",
       "      <td>...</td>\n",
       "    </tr>\n",
       "    <tr>\n",
       "      <th>14774</th>\n",
       "      <td>6.202194</td>\n",
       "      <td>1.720567</td>\n",
       "      <td>1.720567</td>\n",
       "      <td>2408.0</td>\n",
       "      <td>7.72</td>\n",
       "      <td>268.58180</td>\n",
       "      <td>4.837969e+07</td>\n",
       "    </tr>\n",
       "    <tr>\n",
       "      <th>35629</th>\n",
       "      <td>3.809631</td>\n",
       "      <td>1.876596</td>\n",
       "      <td>1.876596</td>\n",
       "      <td>4.0</td>\n",
       "      <td>2.86</td>\n",
       "      <td>341.90320</td>\n",
       "      <td>2.724130e+03</td>\n",
       "    </tr>\n",
       "    <tr>\n",
       "      <th>15169</th>\n",
       "      <td>5.281554</td>\n",
       "      <td>3.620213</td>\n",
       "      <td>3.620213</td>\n",
       "      <td>448.0</td>\n",
       "      <td>2.62</td>\n",
       "      <td>267.90360</td>\n",
       "      <td>8.963281e+04</td>\n",
       "    </tr>\n",
       "    <tr>\n",
       "      <th>2172</th>\n",
       "      <td>25.377307</td>\n",
       "      <td>1.111631</td>\n",
       "      <td>4.078889</td>\n",
       "      <td>7080.0</td>\n",
       "      <td>5.36</td>\n",
       "      <td>130.10760</td>\n",
       "      <td>1.882052e+08</td>\n",
       "    </tr>\n",
       "    <tr>\n",
       "      <th>18976</th>\n",
       "      <td>32.900459</td>\n",
       "      <td>3.816146</td>\n",
       "      <td>8.208333</td>\n",
       "      <td>24.0</td>\n",
       "      <td>2.79</td>\n",
       "      <td>19.93087</td>\n",
       "      <td>2.828574e+04</td>\n",
       "    </tr>\n",
       "  </tbody>\n",
       "</table>\n",
       "<p>12320 rows × 7 columns</p>\n",
       "</div>"
      ],
      "text/plain": [
       "       windspeed  rainfall24  rainfall6    area  yield   distance  \\\n",
       "2998   27.070846    0.032979   0.125000   345.0   4.51  100.51080   \n",
       "16149   6.019287    1.173936   1.173936  8039.0   4.70  252.81010   \n",
       "1106   31.306583    2.052083   3.116667    48.0   3.92   76.43904   \n",
       "1368    8.704666    3.120833   7.781250  1275.0   5.12  387.10950   \n",
       "8530   13.493266    0.778083   1.170333   165.0   2.27  317.99430   \n",
       "...          ...         ...        ...     ...    ...        ...   \n",
       "14774   6.202194    1.720567   1.720567  2408.0   7.72  268.58180   \n",
       "35629   3.809631    1.876596   1.876596     4.0   2.86  341.90320   \n",
       "15169   5.281554    3.620213   3.620213   448.0   2.62  267.90360   \n",
       "2172   25.377307    1.111631   4.078889  7080.0   5.36  130.10760   \n",
       "18976  32.900459    3.816146   8.208333    24.0   2.79   19.93087   \n",
       "\n",
       "            dctrice  \n",
       "2998   6.476275e+06  \n",
       "16149  5.553857e+07  \n",
       "1106   5.681104e+05  \n",
       "1368   2.836358e+07  \n",
       "8530   2.522815e+05  \n",
       "...             ...  \n",
       "14774  4.837969e+07  \n",
       "35629  2.724130e+03  \n",
       "15169  8.963281e+04  \n",
       "2172   1.882052e+08  \n",
       "18976  2.828574e+04  \n",
       "\n",
       "[12320 rows x 7 columns]"
      ]
     },
     "execution_count": 11,
     "metadata": {},
     "output_type": "execute_result"
    }
   ],
   "source": [
    "X_train"
   ]
  },
  {
   "cell_type": "code",
   "execution_count": 12,
   "metadata": {},
   "outputs": [
    {
     "data": {
      "text/plain": [
       "((12320, 7), (12320, 1))"
      ]
     },
     "execution_count": 12,
     "metadata": {},
     "output_type": "execute_result"
    }
   ],
   "source": [
    "X_train.shape, y_train.shape"
   ]
  },
  {
   "cell_type": "code",
   "execution_count": 13,
   "metadata": {},
   "outputs": [
    {
     "name": "stdout",
     "output_type": "stream",
     "text": [
      "<class 'pandas.core.frame.DataFrame'>\n",
      "Int64Index: 12320 entries, 2998 to 18976\n",
      "Data columns (total 1 columns):\n",
      " #   Column  Non-Null Count  Dtype  \n",
      "---  ------  --------------  -----  \n",
      " 0   yielda  12320 non-null  float64\n",
      "dtypes: float64(1)\n",
      "memory usage: 192.5 KB\n",
      "<class 'pandas.core.frame.DataFrame'>\n",
      "Int64Index: 12320 entries, 2998 to 18976\n",
      "Data columns (total 7 columns):\n",
      " #   Column      Non-Null Count  Dtype  \n",
      "---  ------      --------------  -----  \n",
      " 0   windspeed   12320 non-null  float64\n",
      " 1   rainfall24  12320 non-null  float64\n",
      " 2   rainfall6   12320 non-null  float64\n",
      " 3   area        12320 non-null  float64\n",
      " 4   yield       12320 non-null  float64\n",
      " 5   distance    12320 non-null  float64\n",
      " 6   dctrice     12320 non-null  float64\n",
      "dtypes: float64(7)\n",
      "memory usage: 770.0 KB\n"
     ]
    }
   ],
   "source": [
    "y_train.info()\n",
    "X_train.info()"
   ]
  },
  {
   "cell_type": "code",
   "execution_count": 14,
   "metadata": {},
   "outputs": [],
   "source": [
    "X_test = pd.DataFrame(X_test).apply(pd.to_numeric, errors='coerce')\n",
    "X_train = pd.DataFrame(X_train).apply(pd.to_numeric, errors='coerce')\n",
    "y_train = pd.DataFrame(y_train).apply(pd.to_numeric, errors='coerce')\n",
    "y_test = pd.DataFrame(y_test).apply(pd.to_numeric, errors='coerce')"
   ]
  },
  {
   "cell_type": "code",
   "execution_count": 15,
   "metadata": {},
   "outputs": [
    {
     "data": {
      "text/plain": [
       "((12320, 7), (12320, 1))"
      ]
     },
     "execution_count": 15,
     "metadata": {},
     "output_type": "execute_result"
    }
   ],
   "source": [
    "X_train.shape, y_train.shape"
   ]
  },
  {
   "cell_type": "code",
   "execution_count": 16,
   "metadata": {},
   "outputs": [
    {
     "data": {
      "text/plain": [
       "((12320, 7), (12320, 1))"
      ]
     },
     "execution_count": 16,
     "metadata": {},
     "output_type": "execute_result"
    }
   ],
   "source": [
    "X_train.shape, y_train.shape"
   ]
  },
  {
   "cell_type": "code",
   "execution_count": 17,
   "metadata": {},
   "outputs": [
    {
     "data": {
      "text/html": [
       "<div>\n",
       "<style scoped>\n",
       "    .dataframe tbody tr th:only-of-type {\n",
       "        vertical-align: middle;\n",
       "    }\n",
       "\n",
       "    .dataframe tbody tr th {\n",
       "        vertical-align: top;\n",
       "    }\n",
       "\n",
       "    .dataframe thead th {\n",
       "        text-align: right;\n",
       "    }\n",
       "</style>\n",
       "<table border=\"1\" class=\"dataframe\">\n",
       "  <thead>\n",
       "    <tr style=\"text-align: right;\">\n",
       "      <th></th>\n",
       "      <th>windspeed</th>\n",
       "      <th>rainfall24</th>\n",
       "      <th>rainfall6</th>\n",
       "      <th>area</th>\n",
       "      <th>yield</th>\n",
       "      <th>distance</th>\n",
       "      <th>dctrice</th>\n",
       "    </tr>\n",
       "  </thead>\n",
       "  <tbody>\n",
       "    <tr>\n",
       "      <th>31511</th>\n",
       "      <td>15.974263</td>\n",
       "      <td>0.007738</td>\n",
       "      <td>0.027381</td>\n",
       "      <td>164.0</td>\n",
       "      <td>4.11</td>\n",
       "      <td>150.223900</td>\n",
       "      <td>166383.41</td>\n",
       "    </tr>\n",
       "    <tr>\n",
       "      <th>31001</th>\n",
       "      <td>44.970222</td>\n",
       "      <td>2.393229</td>\n",
       "      <td>6.691667</td>\n",
       "      <td>105.0</td>\n",
       "      <td>4.55</td>\n",
       "      <td>3.731118</td>\n",
       "      <td>123889.89</td>\n",
       "    </tr>\n",
       "    <tr>\n",
       "      <th>38328</th>\n",
       "      <td>7.252452</td>\n",
       "      <td>3.350521</td>\n",
       "      <td>6.300000</td>\n",
       "      <td>2739.0</td>\n",
       "      <td>3.68</td>\n",
       "      <td>280.959300</td>\n",
       "      <td>1536174.95</td>\n",
       "    </tr>\n",
       "    <tr>\n",
       "      <th>8001</th>\n",
       "      <td>33.878516</td>\n",
       "      <td>0.094583</td>\n",
       "      <td>0.213333</td>\n",
       "      <td>2167.0</td>\n",
       "      <td>2.94</td>\n",
       "      <td>85.724430</td>\n",
       "      <td>2111223.37</td>\n",
       "    </tr>\n",
       "    <tr>\n",
       "      <th>31097</th>\n",
       "      <td>11.845751</td>\n",
       "      <td>0.000000</td>\n",
       "      <td>0.000000</td>\n",
       "      <td>662.0</td>\n",
       "      <td>5.19</td>\n",
       "      <td>197.586500</td>\n",
       "      <td>1594627.94</td>\n",
       "    </tr>\n",
       "    <tr>\n",
       "      <th>...</th>\n",
       "      <td>...</td>\n",
       "      <td>...</td>\n",
       "      <td>...</td>\n",
       "      <td>...</td>\n",
       "      <td>...</td>\n",
       "      <td>...</td>\n",
       "      <td>...</td>\n",
       "    </tr>\n",
       "    <tr>\n",
       "      <th>7596</th>\n",
       "      <td>36.262834</td>\n",
       "      <td>0.546875</td>\n",
       "      <td>1.597917</td>\n",
       "      <td>254.0</td>\n",
       "      <td>3.79</td>\n",
       "      <td>74.362240</td>\n",
       "      <td>269639.60</td>\n",
       "    </tr>\n",
       "    <tr>\n",
       "      <th>36565</th>\n",
       "      <td>3.864767</td>\n",
       "      <td>0.422128</td>\n",
       "      <td>0.422128</td>\n",
       "      <td>227.0</td>\n",
       "      <td>4.32</td>\n",
       "      <td>353.282200</td>\n",
       "      <td>1761368.40</td>\n",
       "    </tr>\n",
       "    <tr>\n",
       "      <th>11299</th>\n",
       "      <td>10.844943</td>\n",
       "      <td>0.000000</td>\n",
       "      <td>0.000000</td>\n",
       "      <td>2040.0</td>\n",
       "      <td>5.53</td>\n",
       "      <td>213.400400</td>\n",
       "      <td>22001926.78</td>\n",
       "    </tr>\n",
       "    <tr>\n",
       "      <th>6724</th>\n",
       "      <td>16.338128</td>\n",
       "      <td>0.056042</td>\n",
       "      <td>0.122500</td>\n",
       "      <td>988.0</td>\n",
       "      <td>3.25</td>\n",
       "      <td>190.806200</td>\n",
       "      <td>5883799.95</td>\n",
       "    </tr>\n",
       "    <tr>\n",
       "      <th>2336</th>\n",
       "      <td>26.424988</td>\n",
       "      <td>0.066489</td>\n",
       "      <td>0.212500</td>\n",
       "      <td>31.0</td>\n",
       "      <td>3.78</td>\n",
       "      <td>108.032200</td>\n",
       "      <td>136859.09</td>\n",
       "    </tr>\n",
       "  </tbody>\n",
       "</table>\n",
       "<p>1540 rows × 7 columns</p>\n",
       "</div>"
      ],
      "text/plain": [
       "       windspeed  rainfall24  rainfall6    area  yield    distance  \\\n",
       "31511  15.974263    0.007738   0.027381   164.0   4.11  150.223900   \n",
       "31001  44.970222    2.393229   6.691667   105.0   4.55    3.731118   \n",
       "38328   7.252452    3.350521   6.300000  2739.0   3.68  280.959300   \n",
       "8001   33.878516    0.094583   0.213333  2167.0   2.94   85.724430   \n",
       "31097  11.845751    0.000000   0.000000   662.0   5.19  197.586500   \n",
       "...          ...         ...        ...     ...    ...         ...   \n",
       "7596   36.262834    0.546875   1.597917   254.0   3.79   74.362240   \n",
       "36565   3.864767    0.422128   0.422128   227.0   4.32  353.282200   \n",
       "11299  10.844943    0.000000   0.000000  2040.0   5.53  213.400400   \n",
       "6724   16.338128    0.056042   0.122500   988.0   3.25  190.806200   \n",
       "2336   26.424988    0.066489   0.212500    31.0   3.78  108.032200   \n",
       "\n",
       "           dctrice  \n",
       "31511    166383.41  \n",
       "31001    123889.89  \n",
       "38328   1536174.95  \n",
       "8001    2111223.37  \n",
       "31097   1594627.94  \n",
       "...            ...  \n",
       "7596     269639.60  \n",
       "36565   1761368.40  \n",
       "11299  22001926.78  \n",
       "6724    5883799.95  \n",
       "2336     136859.09  \n",
       "\n",
       "[1540 rows x 7 columns]"
      ]
     },
     "execution_count": 17,
     "metadata": {},
     "output_type": "execute_result"
    }
   ],
   "source": [
    "X_val"
   ]
  },
  {
   "cell_type": "code",
   "execution_count": 18,
   "metadata": {},
   "outputs": [
    {
     "data": {
      "text/html": [
       "<div>\n",
       "<style scoped>\n",
       "    .dataframe tbody tr th:only-of-type {\n",
       "        vertical-align: middle;\n",
       "    }\n",
       "\n",
       "    .dataframe tbody tr th {\n",
       "        vertical-align: top;\n",
       "    }\n",
       "\n",
       "    .dataframe thead th {\n",
       "        text-align: right;\n",
       "    }\n",
       "</style>\n",
       "<table border=\"1\" class=\"dataframe\">\n",
       "  <thead>\n",
       "    <tr style=\"text-align: right;\">\n",
       "      <th></th>\n",
       "      <th>yielda</th>\n",
       "    </tr>\n",
       "  </thead>\n",
       "  <tbody>\n",
       "    <tr>\n",
       "      <th>2998</th>\n",
       "      <td>2.118667</td>\n",
       "    </tr>\n",
       "    <tr>\n",
       "      <th>16149</th>\n",
       "      <td>1.580965</td>\n",
       "    </tr>\n",
       "    <tr>\n",
       "      <th>1106</th>\n",
       "      <td>1.568412</td>\n",
       "    </tr>\n",
       "    <tr>\n",
       "      <th>1368</th>\n",
       "      <td>2.457433</td>\n",
       "    </tr>\n",
       "    <tr>\n",
       "      <th>8530</th>\n",
       "      <td>0.448730</td>\n",
       "    </tr>\n",
       "    <tr>\n",
       "      <th>...</th>\n",
       "      <td>...</td>\n",
       "    </tr>\n",
       "    <tr>\n",
       "      <th>14774</th>\n",
       "      <td>3.455325</td>\n",
       "    </tr>\n",
       "    <tr>\n",
       "      <th>35629</th>\n",
       "      <td>0.387208</td>\n",
       "    </tr>\n",
       "    <tr>\n",
       "      <th>15169</th>\n",
       "      <td>0.200873</td>\n",
       "    </tr>\n",
       "    <tr>\n",
       "      <th>2172</th>\n",
       "      <td>2.748545</td>\n",
       "    </tr>\n",
       "    <tr>\n",
       "      <th>18976</th>\n",
       "      <td>0.503103</td>\n",
       "    </tr>\n",
       "  </tbody>\n",
       "</table>\n",
       "<p>12320 rows × 1 columns</p>\n",
       "</div>"
      ],
      "text/plain": [
       "         yielda\n",
       "2998   2.118667\n",
       "16149  1.580965\n",
       "1106   1.568412\n",
       "1368   2.457433\n",
       "8530   0.448730\n",
       "...         ...\n",
       "14774  3.455325\n",
       "35629  0.387208\n",
       "15169  0.200873\n",
       "2172   2.748545\n",
       "18976  0.503103\n",
       "\n",
       "[12320 rows x 1 columns]"
      ]
     },
     "execution_count": 18,
     "metadata": {},
     "output_type": "execute_result"
    }
   ],
   "source": [
    "y_train"
   ]
  },
  {
   "cell_type": "code",
   "execution_count": 19,
   "metadata": {},
   "outputs": [
    {
     "name": "stdout",
     "output_type": "stream",
     "text": [
      "(array([], dtype=int64), array([], dtype=int64))\n"
     ]
    }
   ],
   "source": [
    "# Null Remover\n",
    "\n",
    "nan_rows = X_train[X_train.isna().any(axis=1)].index\n",
    "X_train = X_train.drop(nan_rows)\n",
    "y_train = y_train.drop(nan_rows)\n",
    "\n",
    "print(np.where(pd.isnull(X_train)))"
   ]
  },
  {
   "cell_type": "code",
   "execution_count": 20,
   "metadata": {},
   "outputs": [
    {
     "name": "stdout",
     "output_type": "stream",
     "text": [
      "(array([], dtype=int64), array([], dtype=int64))\n"
     ]
    }
   ],
   "source": [
    "# Null Remover\n",
    "\n",
    "nan_rows = X_val[X_val.isna().any(axis=1)].index\n",
    "X_val = X_val.drop(nan_rows)\n",
    "y_val = y_val.drop(nan_rows)\n",
    "\n",
    "print(np.where(pd.isnull(X_val)))"
   ]
  },
  {
   "cell_type": "code",
   "execution_count": 21,
   "metadata": {},
   "outputs": [
    {
     "data": {
      "text/plain": [
       "((12320, 7), (12320, 1))"
      ]
     },
     "execution_count": 21,
     "metadata": {},
     "output_type": "execute_result"
    }
   ],
   "source": [
    "X_train.shape,y_train.shape"
   ]
  },
  {
   "cell_type": "code",
   "execution_count": 22,
   "metadata": {},
   "outputs": [],
   "source": [
    "nan_rows = X_test[X_test.isna().any(axis=1)].index\n",
    "X_test = X_test.drop(nan_rows)\n",
    "y_test = y_test.drop(nan_rows)"
   ]
  },
  {
   "cell_type": "code",
   "execution_count": null,
   "metadata": {},
   "outputs": [],
   "source": [
    "\n"
   ]
  },
  {
   "cell_type": "code",
   "execution_count": 24,
   "metadata": {},
   "outputs": [
    {
     "name": "stderr",
     "output_type": "stream",
     "text": [
      "c:\\Users\\Asus\\anaconda3\\lib\\site-packages\\sklearn\\ensemble\\_stacking.py:758: DataConversionWarning: A column-vector y was passed when a 1d array was expected. Please change the shape of y to (n_samples, ), for example using ravel().\n",
      "  y = column_or_1d(y, warn=True)\n"
     ]
    },
    {
     "data": {
      "text/plain": [
       "StackingRegressor(estimators=[('svr',\n",
       "                               Pipeline(steps=[('standardscaler',\n",
       "                                                StandardScaler()),\n",
       "                                               ('svr',\n",
       "                                                SVR(C=2, coef0=2, degree=2,\n",
       "                                                    gamma='auto',\n",
       "                                                    kernel='poly'))])),\n",
       "                              ('rf',\n",
       "                               Pipeline(steps=[('randomforestregressor',\n",
       "                                                RandomForestRegressor(max_depth=20,\n",
       "                                                                      max_leaf_nodes=100,\n",
       "                                                                      min_samples_leaf=2,\n",
       "                                                                      random_state=42))]))],\n",
       "                  final_estimator=RandomForestRegressor(max_depth=20,\n",
       "                                                        max_leaf_nodes=100,\n",
       "                                                        min_samples_leaf=2,\n",
       "                                                        random_state=42))"
      ]
     },
     "execution_count": 24,
     "metadata": {},
     "output_type": "execute_result"
    }
   ],
   "source": [
    "from sklearn.ensemble import StackingRegressor\n",
    "from sklearn.ensemble import RandomForestRegressor\n",
    "from joblib import load, dump\n",
    "from sklearn.metrics import mean_absolute_error\n",
    "from sklearn.metrics import explained_variance_score\n",
    "\n",
    "# Load the models\n",
    "svr_pipeline = load('SVR-DYIELD.joblib')\n",
    "rf = load('RFR-DYIELD.joblib')\n",
    "\n",
    "\n",
    "final_estimator = RandomForestRegressor(\n",
    "    \n",
    "    n_estimators=100, \n",
    "    max_depth=20, \n",
    "    min_samples_split=2, \n",
    "    min_samples_leaf=2, \n",
    "    max_leaf_nodes=100,\n",
    "    random_state=42,\n",
    ")\n",
    "\n",
    "# Create a StackingRegressor\n",
    "stacking_regressor = StackingRegressor(\n",
    "    estimators=[('svr', svr_pipeline), ('rf', rf)],\n",
    "    final_estimator=final_estimator\n",
    ")\n",
    "\n",
    "stacking_regressor.fit(X_train, y_train)\n"
   ]
  },
  {
   "cell_type": "code",
   "execution_count": 25,
   "metadata": {},
   "outputs": [
    {
     "name": "stdout",
     "output_type": "stream",
     "text": [
      "R-squared (Test): 0.9707897816719154\n",
      "Mean Absolute Error (Test): 0.10040179235028492\n",
      "\n",
      "R-squared (Validation): 0.9660592226961838\n",
      "Mean Absolute Error (Validation): 0.1027075278475642\n",
      "\n",
      "Explained Variance (Test): 0.970792833987829\n",
      "Explained Variance (Validation): 0.9660647390445809\n",
      "\n",
      "Mean Absolute Error (Test, p.p.): 8.39265790954198%\n",
      "Mean Absolute Error (Validation, p.p.): 8.474595040109858%\n"
     ]
    }
   ],
   "source": [
    "\n",
    "predictions = stacking_regressor.predict(X_test)\n",
    "\n",
    "# Evaluate the model\n",
    "r2 = stacking_regressor.score(X_test, y_test)\n",
    "print(f'R-squared (Test): {r2}')\n",
    "\n",
    "mae = mean_absolute_error(y_test, predictions)\n",
    "print(f'Mean Absolute Error (Test): {mae}')\n",
    "\n",
    "predictionsVal = stacking_regressor.predict(X_val)\n",
    "\n",
    "# Evaluate the model\n",
    "\n",
    "\n",
    "r2 = stacking_regressor.score(X_val, y_val)\n",
    "print(f'\\nR-squared (Validation): {r2}')\n",
    "maev = mean_absolute_error(y_val, predictionsVal)\n",
    "print(f'Mean Absolute Error (Validation): {maev}')\n",
    "\n",
    "# Assuming `predictions` are the predicted values from your model\n",
    "explained_variance = explained_variance_score(y_test, predictions)\n",
    "print(f'\\nExplained Variance (Test): {explained_variance}')\n",
    "\n",
    "\n",
    "explained_variance = explained_variance_score(y_val, predictionsVal)\n",
    "print(f'Explained Variance (Validation): {explained_variance}')\n",
    "\n",
    "\n",
    "# Calculate and print MAE in percentage points for test set\n",
    "mae_percentage_test = (mae / y_test.values.mean()) * 100\n",
    "print(f'\\nMean Absolute Error (Test, p.p.): {mae_percentage_test}%')\n",
    "\n",
    "# Calculate and print MAE in percentage points for test set\n",
    "mae_percentage_val = (mae / y_val.values.mean()) * 100\n",
    "print(f'Mean Absolute Error (Validation, p.p.): {mae_percentage_val}%')\n"
   ]
  },
  {
   "cell_type": "code",
   "execution_count": 26,
   "metadata": {},
   "outputs": [
    {
     "name": "stdout",
     "output_type": "stream",
     "text": [
      "<class 'pandas.core.frame.DataFrame'>\n",
      "Int64Index: 12320 entries, 2998 to 18976\n",
      "Data columns (total 1 columns):\n",
      " #   Column  Non-Null Count  Dtype  \n",
      "---  ------  --------------  -----  \n",
      " 0   yielda  12320 non-null  float64\n",
      "dtypes: float64(1)\n",
      "memory usage: 192.5 KB\n"
     ]
    }
   ],
   "source": [
    "y_train.info()"
   ]
  },
  {
   "cell_type": "code",
   "execution_count": 27,
   "metadata": {},
   "outputs": [
    {
     "name": "stdout",
     "output_type": "stream",
     "text": [
      "['0.48', '0.58', '0.39', '0.44', '0.91', '0.60', '0.27', '1.70', '1.92', '0.33', '2.16', '2.50', '1.95', '0.85', '1.26', '0.40', '0.49', '2.31', '0.45', '2.27', '1.54', '0.85', '0.44', '0.63', '0.65', '1.77', '1.30', '0.27', '0.27', '1.19', '1.89', '0.40', '2.02', '0.60', '0.92', '1.94', '2.23', '2.22', '1.77', '0.82', '2.27', '2.32', '0.40', '2.13', '1.20', '0.29', '1.95', '1.46', '0.66', '0.64', '1.32', '1.40', '1.17', '0.62', '2.13', '0.85', '0.73', '1.22', '0.70', '2.80', '0.27', '0.24', '0.60', '1.05', '1.19', '0.79', '0.53', '0.76', '1.74', '0.56', '0.40', '1.04', '0.33', '0.83', '0.70', '0.51', '2.14', '2.26', '0.45', '0.73', '1.17', '0.53', '2.26', '2.37', '0.56', '1.88', '0.65', '0.58', '1.13', '1.01', '0.33', '2.35', '0.36', '0.73', '0.77', '0.85', '1.80', '2.26', '2.15', '2.59', '2.31', '0.40', '0.44', '0.93', '2.01', '1.27', '1.47', '0.70', '1.54', '2.16', '0.55', '0.98', '1.13', '0.27', '0.53', '1.12', '2.36', '0.27', '1.67', '0.60', '0.66', '0.74', '0.87', '0.44', '2.33', '1.15', '1.24', '0.66', '0.36', '1.24', '1.17', '2.38', '2.80', '0.71', '1.59', '2.28', '0.76', '0.53', '3.27', '0.86', '0.48', '0.32', '0.39', '0.27', '1.68', '2.26', '2.45', '0.53', '0.91', '2.59', '1.26', '1.19', '2.58', '0.30', '0.90', '2.14', '0.43', '1.75', '0.61', '0.85', '0.62', '1.11', '2.01', '0.54', '1.92', '0.26', '1.05', '0.79', '1.56', '0.33', '2.38', '1.57', '0.33', '1.01', '1.94', '2.09', '0.48', '2.08', '0.54', '1.95', '0.81', '2.28', '0.33', '1.23', '0.77', '1.65', '1.61', '2.98', '0.36', '0.65', '2.79', '1.17', '0.30', '0.33', '0.26', '1.22', '2.33', '0.55', '0.87', '0.80', '0.59', '0.66', '2.50', '0.27', '0.54', '0.85', '0.40', '2.09', '0.40', '2.75', '0.44', '0.39', '2.46', '0.53', '0.55', '1.18', '1.63', '0.33', '2.45', '0.64', '0.87', '0.48', '1.76', '1.01', '0.92', '0.28', '0.96', '1.39', '1.54', '0.39', '1.88', '2.46', '0.36', '1.03', '1.90', '0.65', '1.19', '1.10', '0.96', '0.41', '1.48', '0.96', '1.08', '0.80', '0.62', '0.85', '0.59', '1.86', '0.91', '0.54', '0.31', '1.14', '2.16', '2.58', '1.31', '0.42', '0.65', '1.17', '0.36', '2.12', '2.46', '0.53', '0.45', '1.13', '0.93', '1.16', '0.53', '0.27', '1.37', '0.30', '0.33', '2.28', '0.44', '2.31', '0.30', '0.80', '2.36', '1.26', '2.51', '0.92', '2.28', '0.28', '0.40', '1.17', '0.85', '2.51', '1.94', '0.48', '2.24', '1.18', '0.27', '1.30', '1.29', '0.91', '0.55', '0.63', '1.44', '0.93', '0.79', '2.33', '0.85', '2.37', '1.30', '1.47', '0.26', '0.54', '0.54', '0.36', '0.62', '0.66', '0.80', '0.61', '1.01', '0.49', '1.44', '0.91', '0.42', '2.30', '0.42', '1.80', '0.33', '2.98', '0.92', '2.71', '0.72', '1.57', '0.55', '0.28', '1.95', '1.65', '0.48', '1.47', '2.13', '0.40', '1.40', '2.65', '0.66', '2.02', '1.74', '0.96', '0.95', '1.02', '0.36', '0.85', '0.59', '1.48', '2.28', '2.50', '0.98', '0.36', '0.24', '2.31', '1.24', '2.27', '2.08', '0.49', '1.22', '1.44', '0.40', '0.44', '2.57', '1.17', '0.63', '0.66', '1.58', '2.37', '0.54', '1.92', '2.34', '0.79', '2.02', '0.55', '1.75', '2.00', '0.33', '1.84', '0.73', '0.47', '1.11', '2.29', '0.30', '0.92', '0.53', '0.78', '0.27', '0.54', '1.20', '0.43', '0.55', '0.33', '0.57', '0.40', '0.78', '0.91', '0.45', '0.33', '2.58', '2.82', '2.58', '1.68', '0.47', '2.15', '1.65', '0.33', '0.56', '1.18', '1.61', '2.09', '0.93', '2.25', '0.48', '0.83', '0.45', '1.92', '2.36', '1.75', '2.27', '0.76', '0.81', '1.74', '1.94', '1.58', '0.66', '2.80', '1.70', '0.73', '2.28', '0.82', '0.74', '1.68', '0.92', '2.07', '0.34', '0.83', '2.38', '0.90', '1.47', '0.36', '0.47', '2.09', '2.59', '0.36', '0.40', '1.93', '2.02', '0.40', '0.92', '0.60', '3.20', '2.00', '0.82', '0.87', '2.64', '0.78', '1.14', '0.66', '0.36', '1.14', '0.92', '2.49', '0.90', '2.33', '0.75', '0.48', '1.56', '0.36', '2.21', '0.55', '0.73', '1.52', '1.01', '0.36', '1.15', '0.85', '2.36', '1.59', '2.33', '1.09', '0.49', '2.12', '0.36', '2.28', '0.33', '0.92', '2.03', '2.83', '0.44', '1.30', '0.92', '2.15', '1.13', '0.66', '0.33', '0.36', '0.92', '0.55', '0.34', '0.75', '2.76', '0.91', '1.54', '2.19', '0.93', '0.85', '0.38', '2.01', '0.85', '2.75', '0.54', '2.33', '0.26', '0.75', '1.83', '0.55', '0.66', '0.30', '1.14', '1.22', '0.36', '1.68', '1.16', '1.57', '1.50', '0.57', '2.02', '0.76', '2.36', '0.66', '1.84', '2.56', '0.65', '0.36', '0.65', '0.53', '0.79', '1.76', '1.63', '0.63', '0.36', '0.27', '0.33', '1.11', '0.65', '0.55', '1.41', '0.44', '2.15', '2.45', '2.69', '1.10', '1.56', '0.64', '0.91', '0.47', '0.33', '3.86', '1.17', '0.65', '2.51', '1.47', '0.65', '0.28', '0.65', '1.47', '0.48', '0.66', '0.78', '0.54', '0.53', '0.27', '0.80', '0.27', '0.36', '0.78', '1.68', '2.58', '0.30', '0.38', '0.26', '0.36', '0.99', '0.65', '0.87', '2.31', '1.20', '0.48', '1.68', '0.40', '1.63', '0.93', '0.91', '2.13', '1.16', '2.74', '2.45', '0.36', '2.18', '2.28', '2.06', '1.88', '1.14', '0.36', '0.85', '0.80', '1.88', '1.47', '0.29', '0.40', '0.84', '0.66', '2.14', '0.85', '0.73', '0.27', '2.09', '2.02', '3.41', '1.99', '1.76', '1.13', '2.36', '2.26', '1.15', '0.26', '2.39', '2.33', '0.41', '0.77', '0.45', '0.66', '1.98', '0.56', '0.45', '0.33', '0.48', '1.16', '2.16', '1.47', '0.74', '0.33', '3.41', '0.42', '0.97', '0.55', '0.36', '0.64', '2.10', '0.37', '1.91', '0.24', '0.91', '0.71', '0.40', '0.78', '0.92', '1.18', '0.40', '0.33', '1.58', '0.66', '1.65', '0.58', '1.88', '3.02', '3.28', '1.74', '0.58', '2.31', '0.41', '3.86', '2.98', '0.75', '1.81', '0.28', '1.27', '0.65', '0.56', '2.31', '0.52', '1.77', '1.22', '2.53', '0.27', '1.09', '0.92', '2.78', '0.37', '1.06', '1.68', '0.30', '5.11', '0.93', '1.17', '0.39', '0.33', '1.18', '0.36', '0.73', '2.25', '2.58', '1.44', '0.40', '1.09', '0.66', '1.20', '1.29', '1.01', '1.43', '0.30', '1.17', '0.28', '0.83', '1.61', '0.29', '2.46', '1.62', '0.84', '0.27', '0.84', '0.33', '0.36', '0.27', '1.01', '0.60', '0.83', '1.56', '0.48', '0.44', '0.54', '3.12', '1.47', '0.63', '2.39', '1.65', '1.01', '0.90', '0.80', '0.74', '0.63', '0.56', '0.92', '0.73', '1.80', '2.56', '1.30', '0.92', '2.18', '0.82', '1.13', '2.39', '1.69', '0.84', '1.56', '0.54', '0.40', '0.92', '1.30', '0.44', '1.60', '0.47', '1.62', '1.47', '1.92', '0.53', '2.62', '0.56', '0.40', '1.23', '2.26', '2.10', '0.27', '2.77', '0.80', '1.94', '0.41', '1.20', '1.65', '4.95', '1.99', '2.77', '2.56', '0.27', '0.66', '0.40', '0.92', '1.30', '1.00', '1.11', '2.33', '1.94', '0.80', '1.06', '0.55', '0.92', '1.69', '3.02', '1.31', '0.53', '0.73', '0.27', '0.56', '0.55', '0.71', '0.45', '0.66', '0.85', '0.45', '1.38', '0.66', '0.33', '2.58', '2.07', '2.32', '2.29', '0.48', '0.36', '1.11', '2.96', '1.76', '0.92', '0.95', '0.65', '2.49', '0.78', '1.24', '2.31', '0.61', '0.93', '1.48', '1.17', '0.92', '2.16', '0.38', '0.98', '2.27', '0.40', '1.66', '0.47', '0.27', '5.11', '0.35', '0.69', '2.26', '0.78', '3.19', '1.40', '0.45', '0.82', '1.96', '0.64', '1.47', '1.24', '2.26', '0.88', '2.65', '0.27', '0.92', '2.50', '0.44', '2.06', '0.33', '0.80', '0.40', '0.83', '0.73', '0.44', '0.75', '0.27', '2.45', '0.53', '2.02', '0.36', '2.02', '0.55', '1.76', '0.38', '0.40', '0.33', '0.71', '0.36', '1.58', '0.58', '0.65', '2.45', '2.59', '3.03', '0.65', '2.74', '1.55', '0.27', '2.09', '0.36', '0.48', '1.92', '0.54', '0.54', '2.26', '0.45', '2.00', '1.04', '2.16', '0.39', '2.01', '0.65', '1.88', '2.51', '3.54', '0.79', '0.36', '1.07', '0.36', '0.54', '2.31', '0.83', '0.93', '1.28', '0.83', '0.93', '0.92', '1.27', '2.30', '0.48', '0.93', '1.13', '0.82', '0.41', '1.28', '0.27', '2.49', '0.65', '0.68', '0.78', '0.27', '1.05', '3.65', '0.60', '0.68', '0.53', '2.38', '0.78', '0.29', '0.79', '0.56', '0.40', '1.89', '0.85', '1.47', '0.56', '2.70', '0.84', '0.76', '0.40', '0.80', '2.00', '1.52', '2.27', '0.36', '0.70', '0.75', '0.80', '2.84', '2.26', '1.03', '2.59', '1.56', '0.79', '0.36', '1.39', '1.84', '2.58', '3.29', '1.46', '1.46', '2.81', '0.65', '1.36', '0.51', '1.66', '0.92', '0.54', '2.37', '1.38', '0.65', '0.45', '1.24', '1.22', '0.27', '1.62', '1.75', '0.70', '0.86', '0.65', '1.68', '0.93', '0.92', '0.55', '0.36', '0.93', '0.33', '2.31', '0.33', '0.60', '0.33', '0.66', '1.47', '2.28', '2.49', '1.65', '1.75', '0.73', '0.73', '0.87', '0.36', '0.33', '2.62', '1.42', '0.36', '0.73', '0.79', '2.32', '2.35', '1.63', '1.82', '2.58', '2.65', '0.55', '0.39', '1.11', '1.96', '0.40', '1.58', '1.19', '1.70', '2.75', '0.83', '0.33', '1.30', '1.01', '2.37', '0.26', '0.33', '0.48', '0.56', '2.02', '1.67', '1.75', '0.44', '2.42', '1.06', '1.98', '0.78', '0.75', '0.80', '1.94', '0.40', '0.52', '0.48', '1.27', '0.33', '0.40', '2.46', '1.01', '0.45', '0.99', '2.93', '0.57', '2.16', '0.47', '0.45', '1.24', '1.01', '0.65', '1.18', '1.15', '1.68', '2.15', '2.59', '0.53', '1.84', '0.78', '0.33', '1.36', '0.33', '0.61', '0.85', '2.14', '1.13', '0.55', '0.59', '2.59', '0.92', '1.74', '0.66', '0.33', '0.39', '0.61', '1.58', '0.54', '0.36', '1.64', '1.47', '1.62', '1.11', '1.42', '0.40', '1.33', '1.75', '1.82', '2.14', '1.58', '1.28', '1.31', '0.27', '0.62', '0.91', '0.45', '0.35', '0.95', '0.49', '0.73', '1.13', '0.31', '2.51', '0.91', '0.43', '2.37', '1.92', '1.01', '2.37', '0.89', '0.48', '1.93', '1.07', '0.85', '1.93', '0.65', '1.47', '0.54', '0.33', '0.56', '1.31', '0.38', '1.46', '1.95', '1.55', '0.91', '1.93', '1.58', '2.28', '0.54', '1.20', '1.00', '1.61', '1.58', '0.54', '1.43', '0.38', '0.79', '2.06', '2.13', '0.82', '2.02', '1.38', '0.45', '1.85', '1.98', '0.55', '0.47', '2.01', '1.06', '1.64', '0.54', '2.25', '1.30', '0.27', '1.19', '2.51', '0.40', '0.79', '0.73', '0.79', '2.24', '1.75', '0.27', '1.43', '0.55', '0.98', '1.46', '1.56', '0.71', '1.60', '2.33', '1.44', '0.56', '0.48', '1.30', '0.40', '0.31', '0.85', '0.55', '0.85', '0.96', '0.65', '0.56', '2.04', '1.89', '1.86', '2.37', '0.80', '0.58', '0.45', '0.36', '1.34', '0.96', '2.58', '0.48', '0.46', '1.16', '0.42', '1.30', '0.28', '1.44', '0.49', '0.45', '1.70', '2.07', '0.78', '0.26', '2.51', '0.66', '2.16', '2.29', '0.45', '2.34', '1.10', '1.58', '0.46', '1.47', '0.73', '1.47', '2.31', '0.33', '0.48', '1.74', '0.64', '1.14', '1.21', '2.08', '2.02', '0.45', '0.56', '2.28', '0.52', '0.65', '0.53', '2.65', '1.69', '0.63', '0.56', '0.99', '0.63', '1.30', '0.33', '0.24', '1.08', '1.30', '2.13', '1.18', '0.47', '0.55', '2.38', '1.16', '0.33', '0.56', '1.80', '1.91', '1.09', '0.65', '2.30', '2.08', '0.97', '0.33', '0.64', '0.91', '0.94', '0.66', '0.78', '1.92', '0.83', '0.66', '1.59', '0.40', '1.75', '1.40', '1.30', '0.33', '0.92', '0.77', '0.34', '0.85', '0.64', '0.82', '1.44', '2.98', '0.30', '1.59', '0.58', '0.54', '0.45', '0.36', '0.40', '0.48', '0.36', '0.25', '1.47', '0.85', '1.82', '0.55', '2.77', '0.66', '1.10', '0.33', '1.67', '0.75', '0.79', '1.92', '2.28', '0.30', '0.43', '1.73', '1.48', '0.48', '0.48', '0.36', '1.86', '2.80', '0.85', '0.40', '1.19', '0.71', '0.80', '0.53', '2.19', '2.27', '2.33', '0.27', '0.92', '0.92', '1.69', '0.27', '0.71', '1.84', '0.45', '2.03', '3.31', '0.80', '1.19', '2.51', '0.54', '2.77', '1.73', '0.33', '0.55', '1.55', '2.33', '0.83', '0.70', '0.55', '0.82', '1.98', '1.16', '0.68', '1.30', '0.48', '1.00', '1.17', '1.75', '0.32', '0.73', '0.92', '0.44', '1.82', '0.55', '1.17', '1.08', '0.91', '1.30', '1.28', '0.80', '2.46', '1.11', '1.00', '1.54', '2.01', '1.21', '1.90', '2.00', '2.59', '2.31', '2.00', '0.85', '0.36', '0.33', '1.77', '0.36', '0.41', '1.75', '2.47', '0.30', '0.27', '0.39', '1.01', '0.48', '1.94', '1.30', '2.78', '1.22', '0.78', '1.52', '0.36', '2.07', '2.07', '0.91', '0.78', '0.56', '0.80', '0.40', '1.88', '0.41', '1.67', '1.11', '2.37', '1.95', '0.65', '1.91', '0.49', '2.28', '0.45', '2.10', '1.21', '0.45', '1.44', '0.56', '0.78', '0.93', '2.45', '0.54', '1.01', '0.66', '2.09', '2.65', '1.47', '1.30', '0.29', '1.24', '1.11', '0.28', '0.40', '0.36', '0.53', '2.45', '0.29', '1.66', '2.39', '0.65', '0.85', '0.92', '0.76', '0.45', '1.21', '2.24', '1.16', '1.16', '0.27', '2.32', '0.44', '0.66', '1.22', '2.93', '0.36', '2.31', '0.27', '0.53', '0.71', '1.15', '0.56', '2.31', '1.39', '0.29', '0.45', '0.82', '1.50', '1.00', '3.94', '0.84', '0.85', '0.56', '0.53', '0.40', '2.45', '1.09', '0.93', '2.39', '0.80', '1.46', '1.30', '0.30', '0.54', '1.17', '1.82', '1.17', '0.46', '0.83', '2.92', '1.77', '1.06', '1.87', '0.55', '0.90', '1.47', '0.65', '0.36', '0.54', '2.35', '1.30', '1.07', '0.33', '0.87', '0.55', '2.01', '0.66', '1.92', '0.65', '0.36', '3.46', '0.64', '1.85', '1.86', '1.17', '0.92']\n"
     ]
    }
   ],
   "source": [
    "print(['{:.2f}'.format(pred) for pred in predictionsVal])"
   ]
  },
  {
   "cell_type": "code",
   "execution_count": 25,
   "metadata": {},
   "outputs": [
    {
     "data": {
      "image/png": "[encoded data removed]",
      "text/plain": [
       "<Figure size 640x480 with 1 Axes>"
      ]
     },
     "metadata": {},
     "output_type": "display_data"
    }
   ],
   "source": [
    "import matplotlib.pyplot as plt\n",
    "\n",
    "# Make predictions\n",
    "predictions = stacking_regressor.predict(X_test)\n",
    "\n",
    "# Create a scatter plot\n",
    "plt.scatter(y_test, predictions)\n",
    "plt.xlabel('Actual Values')\n",
    "plt.ylabel('Predicted Values')\n",
    "plt.title('METAMODEL: Actual vs Predicted Values')\n",
    "\n",
    "# Diagonal line\n",
    "limits = [np.min([plt.xlim(), plt.ylim()]),  # find the lower limit among x and y axes\n",
    "          np.max([plt.xlim(), plt.ylim()])]  # find the upper limit among x and y axes\n",
    "plt.plot(limits, limits, color='red')\n",
    "\n",
    "plt.show()"
   ]
  },
  {
   "cell_type": "code",
   "execution_count": 26,
   "metadata": {},
   "outputs": [
    {
     "data": {
      "image/png": "[encoded data removed]",
      "text/plain": [
       "<Figure size 640x480 with 1 Axes>"
      ]
     },
     "metadata": {},
     "output_type": "display_data"
    }
   ],
   "source": [
    "import matplotlib.pyplot as plt\n",
    "\n",
    "# Make predictions\n",
    "predictionsVal = stacking_regressor.predict(X_val)\n",
    "\n",
    "# Create a scatter plot\n",
    "plt.scatter(y_val, predictionsVal)\n",
    "plt.xlabel('Actual Values')\n",
    "plt.ylabel('Predicted Values')\n",
    "plt.title('METAMODEL: Actual vs Predicted Values')\n",
    "\n",
    "# Diagonal line\n",
    "limits = [np.min([plt.xlim(), plt.ylim()]),  # find the lower limit among x and y axes\n",
    "          np.max([plt.xlim(), plt.ylim()])]  # find the upper limit among x and y axes\n",
    "plt.plot(limits, limits, color='red')\n",
    "\n",
    "plt.show()"
   ]
  },
  {
   "cell_type": "code",
   "execution_count": 27,
   "metadata": {},
   "outputs": [
    {
     "name": "stdout",
     "output_type": "stream",
     "text": [
      "         Actual Predicted\n",
      "0     30.235670     24.38\n",
      "1    608.606722    567.36\n",
      "2    136.180042    155.09\n",
      "3    187.278489    184.14\n",
      "4    105.450131     74.19\n",
      "5    152.033502    155.60\n",
      "6    238.698252    215.63\n",
      "7      5.075225      7.83\n",
      "8   1594.434973   1565.02\n",
      "9     52.380358     64.52\n",
      "10    35.425384     35.22\n",
      "11    20.438753     23.75\n",
      "12  1328.567244   1300.39\n",
      "13   110.065888    111.39\n",
      "14  1069.453424   1021.69\n",
      "15   334.057817    392.36\n",
      "16   260.436496    248.21\n",
      "17   300.465465    260.17\n",
      "18  1586.184727   1680.79\n",
      "19   707.514481    642.05\n"
     ]
    }
   ],
   "source": [
    "import pandas as pd\n",
    "import numpy as np\n",
    "\n",
    "# Ensure y_test and predictions are 1-dimensional\n",
    "y_test = np.ravel(y_test)\n",
    "predictions = np.ravel(predictions)\n",
    "\n",
    "# Create a DataFrame with actual and predicted values\n",
    "df = pd.DataFrame({'Actual': y_test, 'Predicted': ['{:.2f}'.format(pred) for pred in predictions]})\n",
    "\n",
    "# Display the DataFrame\n",
    "print(df.head(20).to_string(index=True))"
   ]
  },
  {
   "cell_type": "code",
   "execution_count": 28,
   "metadata": {},
   "outputs": [
    {
     "name": "stderr",
     "output_type": "stream",
     "text": [
      "c:\\Users\\Asus\\anaconda3\\lib\\site-packages\\sklearn\\ensemble\\_stacking.py:758: DataConversionWarning: A column-vector y was passed when a 1d array was expected. Please change the shape of y to (n_samples, ), for example using ravel().\n",
      "  y = column_or_1d(y, warn=True)\n"
     ]
    },
    {
     "data": {
      "text/plain": [
       "['STACKED-SVR_RF-DYIELD.joblib']"
      ]
     },
     "execution_count": 28,
     "metadata": {},
     "output_type": "execute_result"
    }
   ],
   "source": [
    "from sklearn.pipeline import make_pipeline\n",
    "from joblib import dump\n",
    "\n",
    "pipeline = make_pipeline(stacking_regressor)\n",
    "\n",
    "# Fit the pipeline\n",
    "pipeline.fit(X_train, y_train)\n",
    "\n",
    "# Save the pipeline\n",
    "dump(pipeline, 'STACKED-SVR_RF-DYIELD.joblib')"
   ]
  }
 ],
 "metadata": {
  "kernelspec": {
   "display_name": "base",
   "language": "python",
   "name": "python3"
  },
  "language_info": {
   "codemirror_mode": {
    "name": "ipython",
    "version": 3
   },
   "file_extension": ".py",
   "mimetype": "text/x-python",
   "name": "python",
   "nbconvert_exporter": "python",
   "pygments_lexer": "ipython3",
   "version": "3.9.13"
  }
 },
 "nbformat": 4,
 "nbformat_minor": 2
}
