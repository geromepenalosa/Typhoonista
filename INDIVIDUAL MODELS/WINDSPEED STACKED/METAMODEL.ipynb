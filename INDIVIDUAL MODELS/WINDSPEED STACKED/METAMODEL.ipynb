{
 "cells": [
  {
   "cell_type": "code",
   "execution_count": 1,
   "metadata": {},
   "outputs": [],
   "source": [
    "\n",
    "# Import necessary libraries\n",
    "import pandas as pd\n",
    "import numpy as np\n",
    "from sklearn.ensemble import RandomForestRegressor\n",
    "from sklearn.model_selection import train_test_split\n",
    "from sklearn.preprocessing import StandardScaler\n",
    "from sklearn.metrics import mean_squared_error\n",
    "\n",
    "# Load the dataset\n",
    "df = pd.read_csv('TEST (1).csv')"
   ]
  },
  {
   "cell_type": "code",
   "execution_count": 2,
   "metadata": {},
   "outputs": [
    {
     "data": {
      "text/html": [
       "<div>\n",
       "<style scoped>\n",
       "    .dataframe tbody tr th:only-of-type {\n",
       "        vertical-align: middle;\n",
       "    }\n",
       "\n",
       "    .dataframe tbody tr th {\n",
       "        vertical-align: top;\n",
       "    }\n",
       "\n",
       "    .dataframe thead th {\n",
       "        text-align: right;\n",
       "    }\n",
       "</style>\n",
       "<table border=\"1\" class=\"dataframe\">\n",
       "  <thead>\n",
       "    <tr style=\"text-align: right;\">\n",
       "      <th></th>\n",
       "      <th>windspeed</th>\n",
       "      <th>rainfall24</th>\n",
       "      <th>rainfall6</th>\n",
       "      <th>rainfallaverage</th>\n",
       "      <th>area</th>\n",
       "      <th>yield</th>\n",
       "      <th>distance</th>\n",
       "      <th>areayieldrataio</th>\n",
       "      <th>percentageofarea</th>\n",
       "      <th>darea</th>\n",
       "      <th>yielda</th>\n",
       "      <th>fgprice</th>\n",
       "      <th>dctrice</th>\n",
       "    </tr>\n",
       "  </thead>\n",
       "  <tbody>\n",
       "    <tr>\n",
       "      <th>0</th>\n",
       "      <td>0.000000</td>\n",
       "      <td>1.535972</td>\n",
       "      <td>3.032222</td>\n",
       "      <td>0.959983</td>\n",
       "      <td>2870.00</td>\n",
       "      <td>3.37</td>\n",
       "      <td>0.00000</td>\n",
       "      <td>851.632047</td>\n",
       "      <td>0.247070</td>\n",
       "      <td>709.091324</td>\n",
       "      <td>0.832626</td>\n",
       "      <td>20.79</td>\n",
       "      <td>1.113550e+07</td>\n",
       "    </tr>\n",
       "    <tr>\n",
       "      <th>1</th>\n",
       "      <td>0.000000</td>\n",
       "      <td>2.141071</td>\n",
       "      <td>3.942857</td>\n",
       "      <td>1.338170</td>\n",
       "      <td>491.00</td>\n",
       "      <td>4.36</td>\n",
       "      <td>0.00000</td>\n",
       "      <td>112.614679</td>\n",
       "      <td>0.244428</td>\n",
       "      <td>120.014173</td>\n",
       "      <td>1.065706</td>\n",
       "      <td>20.79</td>\n",
       "      <td>2.412279e+06</td>\n",
       "    </tr>\n",
       "    <tr>\n",
       "      <th>2</th>\n",
       "      <td>7.116629</td>\n",
       "      <td>5.809375</td>\n",
       "      <td>20.589580</td>\n",
       "      <td>3.630859</td>\n",
       "      <td>1330.88</td>\n",
       "      <td>4.42</td>\n",
       "      <td>385.79860</td>\n",
       "      <td>301.104072</td>\n",
       "      <td>0.312983</td>\n",
       "      <td>416.543187</td>\n",
       "      <td>1.383386</td>\n",
       "      <td>20.79</td>\n",
       "      <td>1.086828e+07</td>\n",
       "    </tr>\n",
       "    <tr>\n",
       "      <th>3</th>\n",
       "      <td>67.089467</td>\n",
       "      <td>3.908854</td>\n",
       "      <td>11.341670</td>\n",
       "      <td>2.443034</td>\n",
       "      <td>5767.00</td>\n",
       "      <td>4.65</td>\n",
       "      <td>26.26015</td>\n",
       "      <td>1240.215054</td>\n",
       "      <td>0.567852</td>\n",
       "      <td>3274.800267</td>\n",
       "      <td>2.640510</td>\n",
       "      <td>20.79</td>\n",
       "      <td>1.630911e+08</td>\n",
       "    </tr>\n",
       "    <tr>\n",
       "      <th>4</th>\n",
       "      <td>0.000000</td>\n",
       "      <td>0.805469</td>\n",
       "      <td>1.580208</td>\n",
       "      <td>0.503418</td>\n",
       "      <td>4710.00</td>\n",
       "      <td>4.14</td>\n",
       "      <td>0.00000</td>\n",
       "      <td>1137.681159</td>\n",
       "      <td>0.130472</td>\n",
       "      <td>614.521934</td>\n",
       "      <td>0.540153</td>\n",
       "      <td>20.79</td>\n",
       "      <td>6.260539e+06</td>\n",
       "    </tr>\n",
       "    <tr>\n",
       "      <th>...</th>\n",
       "      <td>...</td>\n",
       "      <td>...</td>\n",
       "      <td>...</td>\n",
       "      <td>...</td>\n",
       "      <td>...</td>\n",
       "      <td>...</td>\n",
       "      <td>...</td>\n",
       "      <td>...</td>\n",
       "      <td>...</td>\n",
       "      <td>...</td>\n",
       "      <td>...</td>\n",
       "      <td>...</td>\n",
       "      <td>...</td>\n",
       "    </tr>\n",
       "    <tr>\n",
       "      <th>39739</th>\n",
       "      <td>8.841748</td>\n",
       "      <td>2.292639</td>\n",
       "      <td>4.211667</td>\n",
       "      <td>1.432899</td>\n",
       "      <td>916.00</td>\n",
       "      <td>3.16</td>\n",
       "      <td>392.92250</td>\n",
       "      <td>289.873418</td>\n",
       "      <td>0.203710</td>\n",
       "      <td>186.598393</td>\n",
       "      <td>0.643724</td>\n",
       "      <td>20.79</td>\n",
       "      <td>2.265505e+06</td>\n",
       "    </tr>\n",
       "    <tr>\n",
       "      <th>39740</th>\n",
       "      <td>0.000000</td>\n",
       "      <td>0.030208</td>\n",
       "      <td>0.062500</td>\n",
       "      <td>0.018880</td>\n",
       "      <td>1046.00</td>\n",
       "      <td>3.07</td>\n",
       "      <td>0.00000</td>\n",
       "      <td>340.716612</td>\n",
       "      <td>0.556501</td>\n",
       "      <td>582.100434</td>\n",
       "      <td>1.708459</td>\n",
       "      <td>20.79</td>\n",
       "      <td>1.875686e+07</td>\n",
       "    </tr>\n",
       "    <tr>\n",
       "      <th>39741</th>\n",
       "      <td>8.575491</td>\n",
       "      <td>2.652500</td>\n",
       "      <td>5.460000</td>\n",
       "      <td>1.657812</td>\n",
       "      <td>753.00</td>\n",
       "      <td>4.52</td>\n",
       "      <td>291.88280</td>\n",
       "      <td>166.592920</td>\n",
       "      <td>0.161440</td>\n",
       "      <td>121.564092</td>\n",
       "      <td>0.729707</td>\n",
       "      <td>20.79</td>\n",
       "      <td>1.673060e+06</td>\n",
       "    </tr>\n",
       "    <tr>\n",
       "      <th>39742</th>\n",
       "      <td>9.387123</td>\n",
       "      <td>1.696181</td>\n",
       "      <td>3.348611</td>\n",
       "      <td>1.060113</td>\n",
       "      <td>99.00</td>\n",
       "      <td>1.93</td>\n",
       "      <td>496.10710</td>\n",
       "      <td>51.295337</td>\n",
       "      <td>0.154780</td>\n",
       "      <td>15.323183</td>\n",
       "      <td>0.298725</td>\n",
       "      <td>20.79</td>\n",
       "      <td>8.633316e+04</td>\n",
       "    </tr>\n",
       "    <tr>\n",
       "      <th>39743</th>\n",
       "      <td>0.000000</td>\n",
       "      <td>1.071354</td>\n",
       "      <td>2.250000</td>\n",
       "      <td>0.669596</td>\n",
       "      <td>2219.00</td>\n",
       "      <td>4.21</td>\n",
       "      <td>0.00000</td>\n",
       "      <td>527.078385</td>\n",
       "      <td>0.084933</td>\n",
       "      <td>188.466571</td>\n",
       "      <td>0.357568</td>\n",
       "      <td>20.79</td>\n",
       "      <td>1.271016e+06</td>\n",
       "    </tr>\n",
       "  </tbody>\n",
       "</table>\n",
       "<p>39744 rows × 13 columns</p>\n",
       "</div>"
      ],
      "text/plain": [
       "       windspeed  rainfall24  rainfall6  rainfallaverage     area  yield  \\\n",
       "0       0.000000    1.535972   3.032222         0.959983  2870.00   3.37   \n",
       "1       0.000000    2.141071   3.942857         1.338170   491.00   4.36   \n",
       "2       7.116629    5.809375  20.589580         3.630859  1330.88   4.42   \n",
       "3      67.089467    3.908854  11.341670         2.443034  5767.00   4.65   \n",
       "4       0.000000    0.805469   1.580208         0.503418  4710.00   4.14   \n",
       "...          ...         ...        ...              ...      ...    ...   \n",
       "39739   8.841748    2.292639   4.211667         1.432899   916.00   3.16   \n",
       "39740   0.000000    0.030208   0.062500         0.018880  1046.00   3.07   \n",
       "39741   8.575491    2.652500   5.460000         1.657812   753.00   4.52   \n",
       "39742   9.387123    1.696181   3.348611         1.060113    99.00   1.93   \n",
       "39743   0.000000    1.071354   2.250000         0.669596  2219.00   4.21   \n",
       "\n",
       "        distance  areayieldrataio  percentageofarea        darea    yielda  \\\n",
       "0        0.00000       851.632047          0.247070   709.091324  0.832626   \n",
       "1        0.00000       112.614679          0.244428   120.014173  1.065706   \n",
       "2      385.79860       301.104072          0.312983   416.543187  1.383386   \n",
       "3       26.26015      1240.215054          0.567852  3274.800267  2.640510   \n",
       "4        0.00000      1137.681159          0.130472   614.521934  0.540153   \n",
       "...          ...              ...               ...          ...       ...   \n",
       "39739  392.92250       289.873418          0.203710   186.598393  0.643724   \n",
       "39740    0.00000       340.716612          0.556501   582.100434  1.708459   \n",
       "39741  291.88280       166.592920          0.161440   121.564092  0.729707   \n",
       "39742  496.10710        51.295337          0.154780    15.323183  0.298725   \n",
       "39743    0.00000       527.078385          0.084933   188.466571  0.357568   \n",
       "\n",
       "       fgprice       dctrice  \n",
       "0        20.79  1.113550e+07  \n",
       "1        20.79  2.412279e+06  \n",
       "2        20.79  1.086828e+07  \n",
       "3        20.79  1.630911e+08  \n",
       "4        20.79  6.260539e+06  \n",
       "...        ...           ...  \n",
       "39739    20.79  2.265505e+06  \n",
       "39740    20.79  1.875686e+07  \n",
       "39741    20.79  1.673060e+06  \n",
       "39742    20.79  8.633316e+04  \n",
       "39743    20.79  1.271016e+06  \n",
       "\n",
       "[39744 rows x 13 columns]"
      ]
     },
     "execution_count": 2,
     "metadata": {},
     "output_type": "execute_result"
    }
   ],
   "source": [
    "df"
   ]
  },
  {
   "cell_type": "code",
   "execution_count": 3,
   "metadata": {},
   "outputs": [],
   "source": [
    "# Split the dataset into features and target variable\n",
    "X = df.drop(['percentageofarea','area','yield','areayieldrataio','rainfallaverage','fgprice','windspeed'], axis=1)\n",
    "y = df.drop(['darea','percentageofarea','yielda','dctrice','rainfall24','rainfall6','rainfallaverage','areayieldrataio','area', 'yield', 'fgprice','distance'], axis=1)"
   ]
  },
  {
   "cell_type": "code",
   "execution_count": 4,
   "metadata": {},
   "outputs": [],
   "source": [
    "# Remove the rows with zero values from the training set and testing set\n",
    "mask = y['windspeed'] != 0\n",
    "\n",
    "# Apply the mask to X_train\n",
    "X = X[mask]\n",
    "\n",
    "# Apply the mask to y_train\n",
    "y = y[mask]"
   ]
  },
  {
   "cell_type": "code",
   "execution_count": 5,
   "metadata": {},
   "outputs": [],
   "source": [
    "# Remove the rows with zero values from the training set and testing set\n",
    "mask =X['dctrice'] != 0\n",
    "\n",
    "# Apply the mask to y_train\n",
    "y = y[mask]\n",
    "\n",
    "# Apply the mask to X_train\n",
    "X = X[mask]"
   ]
  },
  {
   "cell_type": "code",
   "execution_count": 6,
   "metadata": {},
   "outputs": [
    {
     "data": {
      "text/plain": [
       "((15401, 6), (15401, 1))"
      ]
     },
     "execution_count": 6,
     "metadata": {},
     "output_type": "execute_result"
    }
   ],
   "source": [
    "X.shape, y.shape"
   ]
  },
  {
   "cell_type": "code",
   "execution_count": 7,
   "metadata": {},
   "outputs": [],
   "source": [
    "# Training and Temporary Set (80-20 split)\n",
    "X_train, X_temp, y_train, y_temp = train_test_split(X, y, test_size=0.2, random_state=42)\n",
    "\n",
    "# Temporary set into a validation set and a test set using (50-50 split)\n",
    "X_val, X_test, y_val, y_test = train_test_split(X_temp, y_temp, test_size=0.5, random_state=42)"
   ]
  },
  {
   "cell_type": "code",
   "execution_count": 8,
   "metadata": {},
   "outputs": [
    {
     "data": {
      "text/html": [
       "<div>\n",
       "<style scoped>\n",
       "    .dataframe tbody tr th:only-of-type {\n",
       "        vertical-align: middle;\n",
       "    }\n",
       "\n",
       "    .dataframe tbody tr th {\n",
       "        vertical-align: top;\n",
       "    }\n",
       "\n",
       "    .dataframe thead th {\n",
       "        text-align: right;\n",
       "    }\n",
       "</style>\n",
       "<table border=\"1\" class=\"dataframe\">\n",
       "  <thead>\n",
       "    <tr style=\"text-align: right;\">\n",
       "      <th></th>\n",
       "      <th>windspeed</th>\n",
       "    </tr>\n",
       "  </thead>\n",
       "  <tbody>\n",
       "    <tr>\n",
       "      <th>2998</th>\n",
       "      <td>27.070846</td>\n",
       "    </tr>\n",
       "    <tr>\n",
       "      <th>16149</th>\n",
       "      <td>6.019287</td>\n",
       "    </tr>\n",
       "    <tr>\n",
       "      <th>1106</th>\n",
       "      <td>31.306583</td>\n",
       "    </tr>\n",
       "    <tr>\n",
       "      <th>1368</th>\n",
       "      <td>8.704666</td>\n",
       "    </tr>\n",
       "    <tr>\n",
       "      <th>8530</th>\n",
       "      <td>13.493266</td>\n",
       "    </tr>\n",
       "    <tr>\n",
       "      <th>...</th>\n",
       "      <td>...</td>\n",
       "    </tr>\n",
       "    <tr>\n",
       "      <th>14774</th>\n",
       "      <td>6.202194</td>\n",
       "    </tr>\n",
       "    <tr>\n",
       "      <th>35629</th>\n",
       "      <td>3.809631</td>\n",
       "    </tr>\n",
       "    <tr>\n",
       "      <th>15169</th>\n",
       "      <td>5.281554</td>\n",
       "    </tr>\n",
       "    <tr>\n",
       "      <th>2172</th>\n",
       "      <td>25.377307</td>\n",
       "    </tr>\n",
       "    <tr>\n",
       "      <th>18976</th>\n",
       "      <td>32.900459</td>\n",
       "    </tr>\n",
       "  </tbody>\n",
       "</table>\n",
       "<p>12320 rows × 1 columns</p>\n",
       "</div>"
      ],
      "text/plain": [
       "       windspeed\n",
       "2998   27.070846\n",
       "16149   6.019287\n",
       "1106   31.306583\n",
       "1368    8.704666\n",
       "8530   13.493266\n",
       "...          ...\n",
       "14774   6.202194\n",
       "35629   3.809631\n",
       "15169   5.281554\n",
       "2172   25.377307\n",
       "18976  32.900459\n",
       "\n",
       "[12320 rows x 1 columns]"
      ]
     },
     "execution_count": 8,
     "metadata": {},
     "output_type": "execute_result"
    }
   ],
   "source": [
    "y_train"
   ]
  },
  {
   "cell_type": "code",
   "execution_count": 9,
   "metadata": {},
   "outputs": [
    {
     "data": {
      "text/plain": [
       "((12320, 6), (12320, 1))"
      ]
     },
     "execution_count": 9,
     "metadata": {},
     "output_type": "execute_result"
    }
   ],
   "source": [
    "X_train.shape, y_train.shape"
   ]
  },
  {
   "cell_type": "code",
   "execution_count": 10,
   "metadata": {},
   "outputs": [
    {
     "name": "stdout",
     "output_type": "stream",
     "text": [
      "<class 'pandas.core.frame.DataFrame'>\n",
      "Int64Index: 12320 entries, 2998 to 18976\n",
      "Data columns (total 1 columns):\n",
      " #   Column     Non-Null Count  Dtype  \n",
      "---  ------     --------------  -----  \n",
      " 0   windspeed  12320 non-null  float64\n",
      "dtypes: float64(1)\n",
      "memory usage: 192.5 KB\n",
      "<class 'pandas.core.frame.DataFrame'>\n",
      "Int64Index: 12320 entries, 2998 to 18976\n",
      "Data columns (total 6 columns):\n",
      " #   Column      Non-Null Count  Dtype  \n",
      "---  ------      --------------  -----  \n",
      " 0   rainfall24  12320 non-null  float64\n",
      " 1   rainfall6   12320 non-null  float64\n",
      " 2   distance    12320 non-null  float64\n",
      " 3   darea       12320 non-null  float64\n",
      " 4   yielda      12320 non-null  float64\n",
      " 5   dctrice     12320 non-null  float64\n",
      "dtypes: float64(6)\n",
      "memory usage: 673.8 KB\n"
     ]
    }
   ],
   "source": [
    "y_train.info()\n",
    "X_train.info()"
   ]
  },
  {
   "cell_type": "code",
   "execution_count": 11,
   "metadata": {},
   "outputs": [],
   "source": [
    "X_test = pd.DataFrame(X_test).apply(pd.to_numeric, errors='coerce')\n",
    "X_train = pd.DataFrame(X_train).apply(pd.to_numeric, errors='coerce')\n",
    "y_train = pd.DataFrame(y_train).apply(pd.to_numeric, errors='coerce')\n",
    "y_test = pd.DataFrame(y_test).apply(pd.to_numeric, errors='coerce')"
   ]
  },
  {
   "cell_type": "code",
   "execution_count": 12,
   "metadata": {},
   "outputs": [
    {
     "data": {
      "text/plain": [
       "((12320, 6), (12320, 1))"
      ]
     },
     "execution_count": 12,
     "metadata": {},
     "output_type": "execute_result"
    }
   ],
   "source": [
    "X_train.shape, y_train.shape"
   ]
  },
  {
   "cell_type": "code",
   "execution_count": 13,
   "metadata": {},
   "outputs": [
    {
     "data": {
      "text/plain": [
       "((12320, 6), (12320, 1))"
      ]
     },
     "execution_count": 13,
     "metadata": {},
     "output_type": "execute_result"
    }
   ],
   "source": [
    "X_train.shape, y_train.shape"
   ]
  },
  {
   "cell_type": "code",
   "execution_count": 14,
   "metadata": {},
   "outputs": [
    {
     "data": {
      "text/html": [
       "<div>\n",
       "<style scoped>\n",
       "    .dataframe tbody tr th:only-of-type {\n",
       "        vertical-align: middle;\n",
       "    }\n",
       "\n",
       "    .dataframe tbody tr th {\n",
       "        vertical-align: top;\n",
       "    }\n",
       "\n",
       "    .dataframe thead th {\n",
       "        text-align: right;\n",
       "    }\n",
       "</style>\n",
       "<table border=\"1\" class=\"dataframe\">\n",
       "  <thead>\n",
       "    <tr style=\"text-align: right;\">\n",
       "      <th></th>\n",
       "      <th>rainfall24</th>\n",
       "      <th>rainfall6</th>\n",
       "      <th>distance</th>\n",
       "      <th>darea</th>\n",
       "      <th>yielda</th>\n",
       "      <th>dctrice</th>\n",
       "    </tr>\n",
       "  </thead>\n",
       "  <tbody>\n",
       "    <tr>\n",
       "      <th>31511</th>\n",
       "      <td>0.007738</td>\n",
       "      <td>0.027381</td>\n",
       "      <td>150.223900</td>\n",
       "      <td>19.625815</td>\n",
       "      <td>0.491842</td>\n",
       "      <td>166383.41</td>\n",
       "    </tr>\n",
       "    <tr>\n",
       "      <th>31001</th>\n",
       "      <td>2.393229</td>\n",
       "      <td>6.691667</td>\n",
       "      <td>3.731118</td>\n",
       "      <td>12.878894</td>\n",
       "      <td>0.558085</td>\n",
       "      <td>123889.89</td>\n",
       "    </tr>\n",
       "    <tr>\n",
       "      <th>38328</th>\n",
       "      <td>3.350521</td>\n",
       "      <td>6.300000</td>\n",
       "      <td>280.959300</td>\n",
       "      <td>296.667121</td>\n",
       "      <td>0.398589</td>\n",
       "      <td>1536174.95</td>\n",
       "    </tr>\n",
       "    <tr>\n",
       "      <th>8001</th>\n",
       "      <td>0.094583</td>\n",
       "      <td>0.213333</td>\n",
       "      <td>85.724430</td>\n",
       "      <td>300.465465</td>\n",
       "      <td>0.407646</td>\n",
       "      <td>2111223.37</td>\n",
       "    </tr>\n",
       "    <tr>\n",
       "      <th>31097</th>\n",
       "      <td>0.000000</td>\n",
       "      <td>0.000000</td>\n",
       "      <td>197.586500</td>\n",
       "      <td>108.629224</td>\n",
       "      <td>0.851640</td>\n",
       "      <td>1594627.94</td>\n",
       "    </tr>\n",
       "    <tr>\n",
       "      <th>...</th>\n",
       "      <td>...</td>\n",
       "      <td>...</td>\n",
       "      <td>...</td>\n",
       "      <td>...</td>\n",
       "      <td>...</td>\n",
       "      <td>...</td>\n",
       "    </tr>\n",
       "    <tr>\n",
       "      <th>7596</th>\n",
       "      <td>0.546875</td>\n",
       "      <td>1.597917</td>\n",
       "      <td>74.362240</td>\n",
       "      <td>32.378801</td>\n",
       "      <td>0.483133</td>\n",
       "      <td>269639.60</td>\n",
       "    </tr>\n",
       "    <tr>\n",
       "      <th>36565</th>\n",
       "      <td>0.422128</td>\n",
       "      <td>0.422128</td>\n",
       "      <td>353.282200</td>\n",
       "      <td>84.405962</td>\n",
       "      <td>1.606316</td>\n",
       "      <td>1761368.40</td>\n",
       "    </tr>\n",
       "    <tr>\n",
       "      <th>11299</th>\n",
       "      <td>0.000000</td>\n",
       "      <td>0.000000</td>\n",
       "      <td>213.400400</td>\n",
       "      <td>686.206068</td>\n",
       "      <td>1.860157</td>\n",
       "      <td>22001926.78</td>\n",
       "    </tr>\n",
       "    <tr>\n",
       "      <th>6724</th>\n",
       "      <td>0.056042</td>\n",
       "      <td>0.122500</td>\n",
       "      <td>190.806200</td>\n",
       "      <td>322.134634</td>\n",
       "      <td>1.059653</td>\n",
       "      <td>5883799.95</td>\n",
       "    </tr>\n",
       "    <tr>\n",
       "      <th>2336</th>\n",
       "      <td>0.066489</td>\n",
       "      <td>0.212500</td>\n",
       "      <td>108.032200</td>\n",
       "      <td>7.714238</td>\n",
       "      <td>0.940639</td>\n",
       "      <td>136859.09</td>\n",
       "    </tr>\n",
       "  </tbody>\n",
       "</table>\n",
       "<p>1540 rows × 6 columns</p>\n",
       "</div>"
      ],
      "text/plain": [
       "       rainfall24  rainfall6    distance       darea    yielda      dctrice\n",
       "31511    0.007738   0.027381  150.223900   19.625815  0.491842    166383.41\n",
       "31001    2.393229   6.691667    3.731118   12.878894  0.558085    123889.89\n",
       "38328    3.350521   6.300000  280.959300  296.667121  0.398589   1536174.95\n",
       "8001     0.094583   0.213333   85.724430  300.465465  0.407646   2111223.37\n",
       "31097    0.000000   0.000000  197.586500  108.629224  0.851640   1594627.94\n",
       "...           ...        ...         ...         ...       ...          ...\n",
       "7596     0.546875   1.597917   74.362240   32.378801  0.483133    269639.60\n",
       "36565    0.422128   0.422128  353.282200   84.405962  1.606316   1761368.40\n",
       "11299    0.000000   0.000000  213.400400  686.206068  1.860157  22001926.78\n",
       "6724     0.056042   0.122500  190.806200  322.134634  1.059653   5883799.95\n",
       "2336     0.066489   0.212500  108.032200    7.714238  0.940639    136859.09\n",
       "\n",
       "[1540 rows x 6 columns]"
      ]
     },
     "execution_count": 14,
     "metadata": {},
     "output_type": "execute_result"
    }
   ],
   "source": [
    "X_val"
   ]
  },
  {
   "cell_type": "code",
   "execution_count": 15,
   "metadata": {},
   "outputs": [
    {
     "data": {
      "text/html": [
       "<div>\n",
       "<style scoped>\n",
       "    .dataframe tbody tr th:only-of-type {\n",
       "        vertical-align: middle;\n",
       "    }\n",
       "\n",
       "    .dataframe tbody tr th {\n",
       "        vertical-align: top;\n",
       "    }\n",
       "\n",
       "    .dataframe thead th {\n",
       "        text-align: right;\n",
       "    }\n",
       "</style>\n",
       "<table border=\"1\" class=\"dataframe\">\n",
       "  <thead>\n",
       "    <tr style=\"text-align: right;\">\n",
       "      <th></th>\n",
       "      <th>windspeed</th>\n",
       "    </tr>\n",
       "  </thead>\n",
       "  <tbody>\n",
       "    <tr>\n",
       "      <th>2998</th>\n",
       "      <td>27.070846</td>\n",
       "    </tr>\n",
       "    <tr>\n",
       "      <th>16149</th>\n",
       "      <td>6.019287</td>\n",
       "    </tr>\n",
       "    <tr>\n",
       "      <th>1106</th>\n",
       "      <td>31.306583</td>\n",
       "    </tr>\n",
       "    <tr>\n",
       "      <th>1368</th>\n",
       "      <td>8.704666</td>\n",
       "    </tr>\n",
       "    <tr>\n",
       "      <th>8530</th>\n",
       "      <td>13.493266</td>\n",
       "    </tr>\n",
       "    <tr>\n",
       "      <th>...</th>\n",
       "      <td>...</td>\n",
       "    </tr>\n",
       "    <tr>\n",
       "      <th>14774</th>\n",
       "      <td>6.202194</td>\n",
       "    </tr>\n",
       "    <tr>\n",
       "      <th>35629</th>\n",
       "      <td>3.809631</td>\n",
       "    </tr>\n",
       "    <tr>\n",
       "      <th>15169</th>\n",
       "      <td>5.281554</td>\n",
       "    </tr>\n",
       "    <tr>\n",
       "      <th>2172</th>\n",
       "      <td>25.377307</td>\n",
       "    </tr>\n",
       "    <tr>\n",
       "      <th>18976</th>\n",
       "      <td>32.900459</td>\n",
       "    </tr>\n",
       "  </tbody>\n",
       "</table>\n",
       "<p>12320 rows × 1 columns</p>\n",
       "</div>"
      ],
      "text/plain": [
       "       windspeed\n",
       "2998   27.070846\n",
       "16149   6.019287\n",
       "1106   31.306583\n",
       "1368    8.704666\n",
       "8530   13.493266\n",
       "...          ...\n",
       "14774   6.202194\n",
       "35629   3.809631\n",
       "15169   5.281554\n",
       "2172   25.377307\n",
       "18976  32.900459\n",
       "\n",
       "[12320 rows x 1 columns]"
      ]
     },
     "execution_count": 15,
     "metadata": {},
     "output_type": "execute_result"
    }
   ],
   "source": [
    "y_train"
   ]
  },
  {
   "cell_type": "code",
   "execution_count": 16,
   "metadata": {},
   "outputs": [
    {
     "name": "stdout",
     "output_type": "stream",
     "text": [
      "(array([], dtype=int64), array([], dtype=int64))\n"
     ]
    }
   ],
   "source": [
    "# Null Remover\n",
    "\n",
    "nan_rows = X_train[X_train.isna().any(axis=1)].index\n",
    "X_train = X_train.drop(nan_rows)\n",
    "y_train = y_train.drop(nan_rows)\n",
    "\n",
    "print(np.where(pd.isnull(X_train)))"
   ]
  },
  {
   "cell_type": "code",
   "execution_count": 17,
   "metadata": {},
   "outputs": [
    {
     "name": "stdout",
     "output_type": "stream",
     "text": [
      "(array([], dtype=int64), array([], dtype=int64))\n"
     ]
    }
   ],
   "source": [
    "# Null Remover\n",
    "\n",
    "nan_rows = X_val[X_val.isna().any(axis=1)].index\n",
    "X_val = X_val.drop(nan_rows)\n",
    "y_val = y_val.drop(nan_rows)\n",
    "\n",
    "print(np.where(pd.isnull(X_val)))"
   ]
  },
  {
   "cell_type": "code",
   "execution_count": 18,
   "metadata": {},
   "outputs": [
    {
     "data": {
      "text/plain": [
       "((12320, 6), (12320, 1))"
      ]
     },
     "execution_count": 18,
     "metadata": {},
     "output_type": "execute_result"
    }
   ],
   "source": [
    "X_train.shape,y_train.shape"
   ]
  },
  {
   "cell_type": "code",
   "execution_count": 19,
   "metadata": {},
   "outputs": [],
   "source": [
    "nan_rows = X_test[X_test.isna().any(axis=1)].index\n",
    "X_test = X_test.drop(nan_rows)\n",
    "y_test = y_test.drop(nan_rows)"
   ]
  },
  {
   "cell_type": "code",
   "execution_count": null,
   "metadata": {},
   "outputs": [],
   "source": [
    "\n"
   ]
  },
  {
   "cell_type": "code",
   "execution_count": 20,
   "metadata": {},
   "outputs": [
    {
     "name": "stderr",
     "output_type": "stream",
     "text": [
      "c:\\Users\\Asus\\anaconda3\\lib\\site-packages\\sklearn\\ensemble\\_stacking.py:758: DataConversionWarning: A column-vector y was passed when a 1d array was expected. Please change the shape of y to (n_samples, ), for example using ravel().\n",
      "  y = column_or_1d(y, warn=True)\n"
     ]
    },
    {
     "data": {
      "text/plain": [
       "StackingRegressor(estimators=[('svr',\n",
       "                               Pipeline(steps=[('standardscaler',\n",
       "                                                StandardScaler()),\n",
       "                                               ('svr',\n",
       "                                                SVR(C=1, coef0=3, degree=2,\n",
       "                                                    gamma='auto',\n",
       "                                                    kernel='poly'))])),\n",
       "                              ('rf',\n",
       "                               Pipeline(steps=[('randomforestregressor',\n",
       "                                                RandomForestRegressor(max_depth=20,\n",
       "                                                                      max_leaf_nodes=100,\n",
       "                                                                      min_samples_leaf=2,\n",
       "                                                                      random_state=42))]))],\n",
       "                  final_estimator=RandomForestRegressor(max_depth=20,\n",
       "                                                        max_leaf_nodes=100,\n",
       "                                                        min_samples_leaf=2,\n",
       "                                                        random_state=42))"
      ]
     },
     "execution_count": 20,
     "metadata": {},
     "output_type": "execute_result"
    }
   ],
   "source": [
    "from sklearn.ensemble import StackingRegressor\n",
    "from sklearn.ensemble import RandomForestRegressor\n",
    "from joblib import load, dump\n",
    "from sklearn.metrics import mean_absolute_error\n",
    "from sklearn.metrics import explained_variance_score\n",
    "\n",
    "# Load the models\n",
    "svr_pipeline = load('SVR-WS.joblib')\n",
    "rf = load('RFR-WS.joblib')\n",
    "\n",
    "\n",
    "final_estimator = RandomForestRegressor(\n",
    "    \n",
    "    n_estimators=100, \n",
    "    max_depth=20, \n",
    "    min_samples_split=2, \n",
    "    min_samples_leaf=2, \n",
    "    max_leaf_nodes=100,\n",
    "    random_state=42,\n",
    ")\n",
    "\n",
    "# Create a StackingRegressor\n",
    "stacking_regressor = StackingRegressor(\n",
    "    estimators=[('svr', svr_pipeline), ('rf', rf)],\n",
    "    final_estimator=final_estimator\n",
    ")\n",
    "\n",
    "stacking_regressor.fit(X_train, y_train)\n"
   ]
  },
  {
   "cell_type": "code",
   "execution_count": 21,
   "metadata": {},
   "outputs": [
    {
     "name": "stdout",
     "output_type": "stream",
     "text": [
      "R-squared (Test): 0.8249922584010679\n",
      "Mean Absolute Error (Test): 3.6086663083377233\n",
      "\n",
      "R-squared (Validation): 0.8229911839585484\n",
      "Mean Absolute Error (Validation): 3.591690748546571\n",
      "\n",
      "Explained Variance (Test): 0.8249990613845275\n",
      "Explained Variance (Validation): 0.823001541504712\n",
      "\n",
      "Mean Absolute Error (Test, p.p.): 25.580613091903132%\n",
      "Mean Absolute Error (Validation, p.p.): 26.25963176099025%\n"
     ]
    }
   ],
   "source": [
    "\n",
    "predictions = stacking_regressor.predict(X_test)\n",
    "\n",
    "# Evaluate the model\n",
    "r2 = stacking_regressor.score(X_test, y_test)\n",
    "print(f'R-squared (Test): {r2}')\n",
    "\n",
    "mae = mean_absolute_error(y_test, predictions)\n",
    "print(f'Mean Absolute Error (Test): {mae}')\n",
    "\n",
    "predictionsVal = stacking_regressor.predict(X_val)\n",
    "\n",
    "# Evaluate the model\n",
    "\n",
    "\n",
    "r2 = stacking_regressor.score(X_val, y_val)\n",
    "print(f'\\nR-squared (Validation): {r2}')\n",
    "maev = mean_absolute_error(y_val, predictionsVal)\n",
    "print(f'Mean Absolute Error (Validation): {maev}')\n",
    "\n",
    "# Assuming `predictions` are the predicted values from your model\n",
    "explained_variance = explained_variance_score(y_test, predictions)\n",
    "print(f'\\nExplained Variance (Test): {explained_variance}')\n",
    "\n",
    "\n",
    "explained_variance = explained_variance_score(y_val, predictionsVal)\n",
    "print(f'Explained Variance (Validation): {explained_variance}')\n",
    "\n",
    "\n",
    "# Calculate and print MAE in percentage points for test set\n",
    "mae_percentage_test = (mae / y_test.values.mean()) * 100\n",
    "print(f'\\nMean Absolute Error (Test, p.p.): {mae_percentage_test}%')\n",
    "\n",
    "# Calculate and print MAE in percentage points for test set\n",
    "mae_percentage_val = (mae / y_val.values.mean()) * 100\n",
    "print(f'Mean Absolute Error (Validation, p.p.): {mae_percentage_val}%')\n"
   ]
  },
  {
   "cell_type": "code",
   "execution_count": 22,
   "metadata": {},
   "outputs": [
    {
     "name": "stdout",
     "output_type": "stream",
     "text": [
      "<class 'pandas.core.frame.DataFrame'>\n",
      "Int64Index: 12320 entries, 2998 to 18976\n",
      "Data columns (total 1 columns):\n",
      " #   Column     Non-Null Count  Dtype  \n",
      "---  ------     --------------  -----  \n",
      " 0   windspeed  12320 non-null  float64\n",
      "dtypes: float64(1)\n",
      "memory usage: 192.5 KB\n"
     ]
    }
   ],
   "source": [
    "y_train.info()"
   ]
  },
  {
   "cell_type": "code",
   "execution_count": 23,
   "metadata": {},
   "outputs": [
    {
     "name": "stdout",
     "output_type": "stream",
     "text": [
      "['18.38', '48.53', '7.86', '24.61', '14.12', '46.52', '5.72', '33.12', '7.81', '16.27', '58.33', '5.75', '11.18', '7.82', '7.82', '66.51', '6.03', '11.75', '7.89', '5.18', '20.27', '6.02', '9.57', '6.02', '6.02', '20.39', '16.27', '5.61', '6.25', '7.75', '31.30', '4.17', '16.27', '57.24', '6.65', '5.84', '27.94', '7.27', '7.77', '7.82', '9.78', '16.30', '5.70', '10.95', '26.71', '6.02', '10.96', '9.49', '5.99', '7.89', '13.34', '4.67', '16.82', '11.05', '4.17', '9.49', '7.15', '6.02', '9.97', '6.03', '11.04', '16.17', '10.46', '6.02', '24.78', '7.75', '14.93', '9.49', '22.97', '10.85', '6.03', '54.41', '34.22', '16.73', '7.82', '7.82', '21.14', '7.10', '5.70', '6.02', '6.02', '10.95', '6.02', '5.60', '24.91', '18.98', '35.33', '6.03', '17.91', '5.77', '52.89', '25.23', '4.17', '16.21', '35.35', '12.83', '10.95', '4.17', '35.29', '16.16', '7.82', '7.86', '4.22', '35.30', '16.19', '14.21', '18.18', '7.27', '4.22', '4.40', '35.01', '7.78', '7.89', '5.61', '13.55', '20.35', '7.80', '6.03', '9.92', '6.03', '7.89', '6.02', '37.54', '5.74', '4.17', '16.13', '25.98', '7.89', '5.70', '7.24', '5.76', '26.35', '4.54', '5.70', '6.03', '16.24', '21.54', '6.02', '4.17', '27.87', '7.82', '13.17', '31.46', '7.66', '31.89', '16.13', '35.27', '13.38', '10.94', '9.81', '27.03', '21.37', '4.22', '28.64', '7.78', '9.80', '28.24', '6.03', '32.07', '6.02', '6.03', '13.62', '16.19', '21.14', '28.00', '10.95', '7.75', '7.28', '33.59', '5.61', '5.61', '11.30', '16.25', '45.19', '11.66', '10.95', '6.03', '4.17', '25.44', '4.17', '4.22', '20.89', '6.03', '4.17', '6.03', '26.78', '22.74', '6.03', '5.71', '16.34', '9.43', '7.78', '12.33', '13.21', '11.42', '12.72', '22.37', '28.66', '23.04', '4.78', '10.46', '6.02', '4.17', '5.70', '6.03', '47.93', '38.44', '9.43', '9.69', '20.59', '24.61', '5.75', '11.01', '5.83', '7.28', '25.65', '21.18', '6.03', '4.17', '10.49', '10.95', '16.18', '9.46', '13.61', '36.99', '5.61', '9.25', '5.70', '6.02', '7.79', '4.17', '9.49', '41.30', '6.02', '17.98', '9.49', '6.02', '8.07', '5.96', '19.46', '14.17', '20.67', '21.78', '25.62', '20.88', '34.76', '6.02', '18.64', '10.91', '6.02', '5.17', '6.02', '5.96', '4.44', '7.81', '16.21', '7.18', '7.89', '16.15', '7.77', '11.01', '21.87', '9.46', '5.75', '12.72', '7.75', '9.46', '10.96', '6.02', '11.04', '4.22', '16.17', '12.57', '4.97', '5.70', '6.02', '21.15', '7.75', '18.70', '18.84', '29.17', '11.00', '11.08', '20.30', '25.52', '8.03', '34.31', '5.72', '33.30', '21.67', '10.93', '9.80', '33.34', '13.65', '7.68', '9.82', '22.91', '10.79', '10.97', '4.17', '5.93', '10.97', '7.32', '18.18', '22.81', '28.86', '9.92', '7.17', '6.02', '16.26', '22.74', '5.75', '5.70', '25.55', '10.91', '5.73', '7.78', '4.70', '39.74', '22.50', '10.81', '52.56', '21.06', '7.96', '7.82', '5.18', '9.97', '9.69', '9.43', '6.03', '5.96', '11.06', '4.17', '7.13', '10.96', '4.17', '13.07', '16.15', '7.86', '7.79', '19.04', '6.02', '10.66', '37.09', '4.17', '8.06', '16.17', '4.17', '6.02', '7.67', '10.91', '6.03', '14.18', '7.77', '31.36', '5.76', '11.29', '21.14', '27.63', '6.30', '17.01', '23.35', '9.72', '35.24', '9.43', '27.22', '10.91', '12.72', '16.22', '10.95', '16.10', '42.47', '4.17', '21.27', '22.59', '24.01', '6.02', '17.49', '12.46', '4.17', '6.03', '10.91', '7.82', '6.02', '5.76', '30.24', '16.31', '11.85', '9.97', '29.62', '5.72', '7.28', '6.02', '20.68', '10.61', '42.47', '5.60', '16.91', '36.80', '24.86', '7.29', '5.55', '13.06', '7.63', '6.03', '9.49', '4.32', '16.24', '5.96', '11.05', '5.71', '19.17', '45.32', '21.26', '10.95', '10.95', '25.01', '21.95', '6.02', '20.76', '36.13', '6.03', '7.82', '19.93', '33.57', '7.96', '4.17', '10.91', '6.66', '9.49', '25.48', '20.54', '13.37', '11.42', '59.40', '7.78', '9.49', '48.69', '11.85', '26.34', '7.14', '5.61', '8.07', '9.78', '4.17', '27.65', '7.25', '4.22', '9.72', '22.58', '16.24', '6.02', '4.40', '37.42', '6.02', '32.05', '5.18', '13.71', '6.02', '9.49', '7.77', '6.03', '7.82', '9.88', '7.82', '6.03', '24.30', '6.02', '16.21', '14.09', '6.02', '12.72', '6.02', '12.83', '20.87', '25.61', '9.08', '16.17', '14.31', '9.52', '38.00', '20.89', '5.61', '16.47', '6.02', '20.99', '9.99', '6.02', '4.54', '7.66', '6.02', '6.02', '43.68', '7.25', '36.53', '9.46', '10.79', '5.71', '28.58', '5.71', '6.03', '7.27', '9.43', '14.11', '29.16', '9.68', '7.75', '18.30', '6.03', '9.49', '16.82', '6.02', '4.17', '44.57', '21.15', '10.95', '10.94', '13.61', '14.12', '5.53', '26.93', '21.15', '29.02', '9.49', '11.04', '11.75', '6.03', '6.82', '16.25', '6.53', '10.95', '13.92', '9.52', '9.52', '11.93', '14.23', '9.49', '24.19', '53.60', '20.51', '7.77', '7.82', '6.03', '55.01', '5.70', '10.95', '6.03', '33.39', '16.59', '6.02', '47.10', '13.69', '6.01', '10.96', '13.83', '4.69', '16.23', '7.68', '8.07', '18.12', '7.18', '5.72', '34.81', '28.35', '25.15', '10.91', '8.04', '11.90', '8.06', '6.03', '11.00', '6.03', '5.76', '6.00', '6.03', '31.60', '6.02', '20.33', '34.63', '5.54', '6.02', '6.02', '10.79', '14.54', '9.75', '6.02', '9.49', '24.51', '10.95', '4.49', '6.02', '21.87', '5.54', '4.17', '19.94', '8.94', '6.03', '8.03', '4.22', '7.10', '11.06', '6.01', '6.02', '6.02', '5.73', '10.84', '5.61', '7.79', '7.75', '9.49', '6.03', '9.30', '7.78', '34.70', '19.37', '6.03', '4.17', '14.15', '26.93', '10.99', '7.66', '7.10', '6.02', '14.00', '7.23', '7.75', '6.03', '6.03', '10.95', '6.76', '9.28', '6.02', '25.86', '6.03', '50.73', '33.63', '7.80', '10.91', '5.76', '6.61', '4.17', '6.03', '6.03', '10.79', '4.22', '9.49', '6.01', '4.72', '19.93', '16.17', '7.68', '6.02', '22.40', '36.74', '10.91', '32.61', '16.21', '6.02', '5.71', '7.82', '19.24', '5.81', '18.11', '6.12', '32.56', '23.02', '17.88', '6.59', '7.82', '4.69', '7.75', '7.17', '6.03', '5.72', '6.02', '16.45', '4.59', '4.17', '6.03', '5.55', '33.68', '5.97', '5.61', '16.71', '9.48', '9.91', '22.49', '10.92', '35.02', '7.31', '4.17', '18.93', '16.74', '5.71', '6.02', '6.02', '7.77', '8.07', '4.17', '11.30', '5.84', '11.85', '7.12', '7.77', '7.77', '6.02', '6.02', '4.17', '6.02', '18.99', '5.72', '14.00', '16.17', '10.95', '8.76', '27.75', '6.03', '4.22', '7.17', '16.16', '7.77', '6.25', '13.59', '57.24', '17.50', '25.16', '10.91', '5.71', '14.15', '8.15', '25.91', '24.19', '21.80', '7.75', '13.64', '21.06', '19.93', '5.83', '6.02', '24.16', '25.16', '7.77', '5.18', '54.46', '7.79', '5.70', '4.17', '33.21', '10.99', '5.56', '18.45', '5.74', '7.78', '6.02', '13.11', '10.83', '6.00', '6.02', '39.95', '5.70', '6.88', '29.95', '10.91', '5.96', '17.76', '16.70', '6.03', '7.67', '8.03', '24.55', '42.33', '5.86', '16.51', '25.55', '30.88', '31.89', '7.89', '17.89', '5.74', '8.07', '5.97', '13.15', '5.99', '30.44', '12.95', '16.24', '14.09', '17.04', '9.08', '4.17', '6.03', '6.02', '10.95', '6.03', '4.22', '9.88', '7.17', '13.82', '21.15', '5.73', '5.73', '35.33', '6.01', '11.89', '9.49', '5.98', '7.77', '15.61', '7.67', '55.16', '9.99', '27.81', '7.72', '7.78', '8.90', '6.03', '9.52', '16.45', '6.02', '5.90', '6.02', '5.83', '7.80', '6.03', '5.70', '5.55', '16.17', '18.65', '16.10', '16.82', '4.54', '9.49', '7.15', '6.01', '5.84', '6.02', '8.03', '35.77', '45.42', '4.17', '7.76', '33.39', '6.02', '6.02', '7.75', '16.22', '9.49', '6.03', '5.81', '7.89', '7.66', '6.02', '16.19', '6.02', '7.92', '9.52', '13.92', '10.03', '9.57', '9.28', '10.79', '5.69', '31.11', '10.94', '18.95', '14.65', '6.02', '7.12', '9.80', '16.45', '22.19', '5.72', '6.03', '6.03', '10.81', '6.03', '11.93', '7.81', '19.73', '5.80', '7.48', '41.30', '7.31', '33.39', '10.02', '9.65', '16.54', '4.22', '21.16', '13.06', '31.64', '7.63', '10.94', '52.55', '6.03', '8.00', '9.49', '5.70', '4.17', '7.82', '20.70', '7.28', '6.02', '29.13', '20.07', '5.60', '18.75', '10.95', '38.00', '16.15', '7.28', '7.78', '7.82', '13.88', '12.87', '9.49', '31.97', '36.90', '6.02', '37.51', '9.38', '24.52', '18.95', '13.46', '9.48', '36.78', '9.52', '5.61', '6.03', '6.02', '7.31', '37.42', '5.73', '10.81', '18.33', '9.71', '7.15', '6.02', '69.44', '17.08', '12.57', '7.28', '11.92', '13.42', '18.72', '16.59', '6.02', '6.02', '9.75', '5.96', '6.02', '10.95', '5.99', '11.05', '14.09', '8.07', '6.03', '6.03', '10.93', '40.97', '32.62', '5.12', '9.57', '17.27', '6.03', '16.17', '4.17', '12.92', '8.15', '10.95', '4.17', '11.07', '5.96', '7.96', '10.46', '5.99', '12.74', '4.17', '16.23', '6.03', '4.22', '20.08', '32.29', '7.17', '5.61', '54.34', '42.02', '27.91', '8.04', '6.03', '10.92', '6.02', '20.96', '6.03', '5.43', '34.50', '7.12', '6.02', '6.02', '6.03', '41.79', '45.80', '5.76', '36.25', '26.16', '6.02', '6.03', '6.03', '20.80', '32.80', '16.48', '25.55', '6.01', '10.79', '7.66', '16.17', '21.10', '21.15', '12.83', '7.75', '16.21', '5.99', '36.99', '16.15', '7.75', '9.49', '11.93', '10.91', '4.64', '36.03', '7.17', '18.84', '9.43', '7.64', '31.97', '30.16', '14.00', '7.81', '7.63', '11.05', '16.25', '12.97', '5.76', '9.52', '4.17', '17.14', '13.58', '9.66', '6.02', '9.28', '17.08', '4.53', '7.77', '7.86', '8.06', '20.28', '9.49', '5.56', '54.74', '6.03', '7.16', '9.92', '4.59', '7.77', '17.29', '35.52', '27.82', '7.30', '35.12', '19.19', '35.70', '7.68', '18.84', '6.02', '6.96', '34.04', '7.12', '7.96', '24.01', '6.02', '16.25', '6.02', '54.85', '5.71', '7.78', '6.03', '7.68', '18.42', '7.63', '65.31', '16.15', '5.60', '7.82', '7.16', '11.05', '32.07', '7.82', '10.93', '7.82', '19.19', '7.27', '7.77', '13.55', '16.29', '34.51', '17.64', '4.17', '11.31', '6.02', '25.85', '22.43', '12.12', '5.79', '8.98', '18.24', '6.02', '6.01', '16.19', '7.48', '21.15', '13.74', '7.81', '25.86', '6.03', '12.59', '4.17', '6.68', '31.11', '7.75', '7.77', '6.02', '37.12', '6.02', '16.97', '12.89', '9.52', '6.03', '36.74', '11.04', '4.84', '9.48', '9.52', '19.19', '20.89', '6.02', '9.49', '9.46', '4.17', '29.17', '6.02', '16.23', '6.02', '7.75', '7.89', '10.95', '7.68', '5.61', '28.96', '20.31', '9.49', '20.86', '7.82', '6.02', '10.96', '25.75', '6.03', '34.93', '7.30', '5.98', '71.27', '7.79', '6.02', '4.17', '10.79', '5.76', '9.49', '7.80', '6.03', '19.26', '7.82', '6.03', '7.25', '5.55', '7.78', '10.95', '10.91', '14.09', '21.40', '7.82', '9.52', '14.90', '16.39', '4.17', '20.94', '5.70', '7.68', '6.02', '5.72', '9.52', '7.36', '5.96', '8.03', '10.91', '35.16', '14.23', '8.00', '8.98', '7.23', '16.14', '17.77', '7.89', '7.66', '21.54', '6.02', '5.60', '34.30', '6.02', '19.41', '4.70', '9.49', '41.64', '22.91', '11.81', '17.50', '5.97', '28.87', '16.26', '13.70', '18.37', '5.73', '9.49', '4.17', '4.19', '5.55', '13.49', '38.00', '6.02', '5.18', '10.91', '10.95', '9.83', '55.16', '5.71', '27.63', '10.94', '6.02', '7.79', '9.46', '5.73', '13.93', '5.70', '35.35', '6.02', '21.80', '5.60', '5.97', '7.64', '13.59', '21.65', '7.12', '20.81', '14.12', '38.32', '10.76', '20.69', '7.79', '4.17', '11.04', '6.01', '20.84', '6.02', '16.20', '39.75', '17.55', '9.49', '34.04', '9.57', '4.17', '6.02', '10.95', '7.80', '48.99', '9.49', '22.63', '9.49', '12.87', '5.52', '6.02', '10.91', '11.05', '13.74', '12.32', '9.49', '4.67', '16.25', '11.04', '34.17', '45.49', '9.52', '16.15', '7.89', '6.03', '44.51', '7.86', '5.97', '7.75', '6.03', '7.74', '5.97', '7.68', '11.07', '4.22', '10.80', '11.04', '26.16', '7.77', '6.02', '6.02', '18.26', '9.97', '7.77', '10.91', '6.03', '5.98', '7.82', '8.96', '23.33', '6.03', '6.02', '46.15', '6.63', '7.28', '6.02', '41.87', '6.03', '4.17', '16.25', '5.70', '15.44', '12.83', '7.15', '9.49', '12.66', '5.18', '5.61', '10.77', '18.55', '9.49', '4.73', '5.71', '20.39', '5.51', '16.89', '6.03', '9.22', '9.92', '15.44', '25.57', '21.92', '16.87', '4.17', '10.79', '13.00', '24.81', '25.63', '7.77', '6.02', '6.02', '18.64', '16.42', '11.04', '13.80', '6.03', '6.03', '7.77', '29.71', '17.14', '5.75', '41.40', '8.11', '6.03', '20.68', '6.02', '11.05', '22.88', '16.14', '16.24', '14.90', '10.95', '31.81', '6.03', '37.30', '6.02', '6.02', '7.79', '5.61', '7.75', '25.01', '7.82', '23.01', '9.92', '5.71', '6.03', '4.22', '4.17', '6.02', '16.32', '4.22', '6.03', '5.60', '16.26', '21.97', '31.59', '9.83', '9.49', '10.95', '16.83', '4.55', '9.43', '35.56', '8.04', '16.19', '7.82', '7.77', '6.02', '5.70', '24.94', '16.20', '7.82', '6.03', '10.81', '4.22', '5.61', '36.94', '16.26', '9.49', '14.87', '17.50', '25.75', '34.89', '13.93', '10.96', '31.61', '5.59', '21.15', '18.03', '7.81', '16.15', '7.62', '7.14', '7.77', '29.95', '19.24', '6.03', '7.24', '5.76', '5.61', '7.77', '13.92', '47.50', '10.03', '5.61', '10.96', '5.72', '24.98', '5.99', '9.80', '4.54', '7.77', '45.85', '16.13', '5.54', '6.02', '9.58', '13.95', '6.02', '6.00', '6.02', '5.70', '5.71', '10.95', '6.02', '7.77', '13.62', '6.02', '25.93', '9.97', '5.96', '5.61', '7.17', '7.83', '25.70', '6.03', '10.65', '5.98', '37.17', '6.03', '19.74', '10.80', '71.38', '7.75', '14.23', '9.49', '31.65', '9.49', '41.92', '5.71', '7.66', '30.83', '26.62', '7.78', '6.02', '25.90', '16.17', '24.75', '51.79', '31.52', '16.23', '6.03', '10.95', '5.62', '5.66', '16.17', '5.60', '5.71', '9.24', '22.54', '7.78', '6.03', '11.06', '11.08', '24.96', '10.95', '7.64', '24.43', '28.76', '5.60', '13.55', '14.23', '25.51']\n"
     ]
    }
   ],
   "source": [
    "print(['{:.2f}'.format(pred) for pred in predictionsVal])"
   ]
  },
  {
   "cell_type": "code",
   "execution_count": 24,
   "metadata": {},
   "outputs": [
    {
     "data": {
      "image/png": "[encoded data removed]",
      "text/plain": [
       "<Figure size 640x480 with 1 Axes>"
      ]
     },
     "metadata": {},
     "output_type": "display_data"
    }
   ],
   "source": [
    "import matplotlib.pyplot as plt\n",
    "\n",
    "# Make predictions\n",
    "predictions = stacking_regressor.predict(X_test)\n",
    "\n",
    "# Create a scatter plot\n",
    "plt.scatter(y_test, predictions)\n",
    "plt.xlabel('Actual Values')\n",
    "plt.ylabel('Predicted Values')\n",
    "plt.title('METAMODEL: Actual vs Predicted Values')\n",
    "\n",
    "# Diagonal line\n",
    "limits = [np.min([plt.xlim(), plt.ylim()]),  # find the lower limit among x and y axes\n",
    "          np.max([plt.xlim(), plt.ylim()])]  # find the upper limit among x and y axes\n",
    "plt.plot(limits, limits, color='red')\n",
    "\n",
    "plt.show()"
   ]
  },
  {
   "cell_type": "code",
   "execution_count": 25,
   "metadata": {},
   "outputs": [
    {
     "data": {
      "image/png": "[encoded data removed]",
      "text/plain": [
       "<Figure size 640x480 with 1 Axes>"
      ]
     },
     "metadata": {},
     "output_type": "display_data"
    }
   ],
   "source": [
    "import matplotlib.pyplot as plt\n",
    "\n",
    "# Make predictions\n",
    "predictionsVal = stacking_regressor.predict(X_val)\n",
    "\n",
    "# Create a scatter plot\n",
    "plt.scatter(y_val, predictionsVal)\n",
    "plt.xlabel('Actual Values')\n",
    "plt.ylabel('Predicted Values')\n",
    "plt.title('METAMODEL: Actual vs Predicted Values')\n",
    "\n",
    "# Diagonal line\n",
    "limits = [np.min([plt.xlim(), plt.ylim()]),  # find the lower limit among x and y axes\n",
    "          np.max([plt.xlim(), plt.ylim()])]  # find the upper limit among x and y axes\n",
    "plt.plot(limits, limits, color='red')\n",
    "\n",
    "plt.show()"
   ]
  },
  {
   "cell_type": "code",
   "execution_count": 26,
   "metadata": {},
   "outputs": [
    {
     "name": "stdout",
     "output_type": "stream",
     "text": [
      "       Actual Predicted\n",
      "0    8.960080     10.91\n",
      "1   10.422660     12.87\n",
      "2   14.319559     13.98\n",
      "3   16.478015     10.91\n",
      "4    2.633899      6.03\n",
      "5   32.755669     34.33\n",
      "6   30.259301     25.62\n",
      "7   12.869050     18.92\n",
      "8    6.328230      6.03\n",
      "9    5.038191      6.03\n",
      "10   0.617172      5.61\n",
      "11   6.736272     10.79\n",
      "12  11.352024      9.52\n",
      "13   6.257791      6.02\n",
      "14   9.504757     11.04\n",
      "15  15.803106     14.12\n",
      "16  15.318071     21.27\n",
      "17   4.362445      6.02\n",
      "18   4.550682      6.03\n",
      "19  24.000701     28.31\n"
     ]
    }
   ],
   "source": [
    "import pandas as pd\n",
    "import numpy as np\n",
    "\n",
    "# Ensure y_test and predictions are 1-dimensional\n",
    "y_test = np.ravel(y_test)\n",
    "predictions = np.ravel(predictions)\n",
    "\n",
    "# Create a DataFrame with actual and predicted values\n",
    "df = pd.DataFrame({'Actual': y_test, 'Predicted': ['{:.2f}'.format(pred) for pred in predictions]})\n",
    "\n",
    "# Display the DataFrame\n",
    "print(df.head(20).to_string(index=True))"
   ]
  },
  {
   "cell_type": "code",
   "execution_count": 27,
   "metadata": {},
   "outputs": [
    {
     "name": "stderr",
     "output_type": "stream",
     "text": [
      "c:\\Users\\Asus\\anaconda3\\lib\\site-packages\\sklearn\\ensemble\\_stacking.py:758: DataConversionWarning: A column-vector y was passed when a 1d array was expected. Please change the shape of y to (n_samples, ), for example using ravel().\n",
      "  y = column_or_1d(y, warn=True)\n"
     ]
    },
    {
     "data": {
      "text/plain": [
       "['STACKED-SVR_RF-WS.joblib']"
      ]
     },
     "execution_count": 27,
     "metadata": {},
     "output_type": "execute_result"
    }
   ],
   "source": [
    "from sklearn.pipeline import make_pipeline\n",
    "from joblib import dump\n",
    "\n",
    "pipeline = make_pipeline(stacking_regressor)\n",
    "\n",
    "# Fit the pipeline\n",
    "pipeline.fit(X_train, y_train)\n",
    "\n",
    "# Save the pipeline\n",
    "dump(pipeline, 'STACKED-SVR_RF-WS.joblib')"
   ]
  }
 ],
 "metadata": {
  "kernelspec": {
   "display_name": "base",
   "language": "python",
   "name": "python3"
  },
  "language_info": {
   "codemirror_mode": {
    "name": "ipython",
    "version": 3
   },
   "file_extension": ".py",
   "mimetype": "text/x-python",
   "name": "python",
   "nbconvert_exporter": "python",
   "pygments_lexer": "ipython3",
   "version": "3.9.13"
  }
 },
 "nbformat": 4,
 "nbformat_minor": 2
}
