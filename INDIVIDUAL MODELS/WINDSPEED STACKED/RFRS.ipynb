{
 "cells": [
  {
   "cell_type": "code",
   "execution_count": 1,
   "metadata": {},
   "outputs": [],
   "source": [
    "\n",
    "# Import necessary libraries\n",
    "import pandas as pd\n",
    "import numpy as np\n",
    "from sklearn.model_selection import train_test_split\n",
    "\n",
    "# Load the dataset\n",
    "df = pd.read_csv('TEST (1).csv')"
   ]
  },
  {
   "cell_type": "code",
   "execution_count": 2,
   "metadata": {},
   "outputs": [
    {
     "data": {
      "text/html": [
       "<div>\n",
       "<style scoped>\n",
       "    .dataframe tbody tr th:only-of-type {\n",
       "        vertical-align: middle;\n",
       "    }\n",
       "\n",
       "    .dataframe tbody tr th {\n",
       "        vertical-align: top;\n",
       "    }\n",
       "\n",
       "    .dataframe thead th {\n",
       "        text-align: right;\n",
       "    }\n",
       "</style>\n",
       "<table border=\"1\" class=\"dataframe\">\n",
       "  <thead>\n",
       "    <tr style=\"text-align: right;\">\n",
       "      <th></th>\n",
       "      <th>windspeed</th>\n",
       "      <th>rainfall24</th>\n",
       "      <th>rainfall6</th>\n",
       "      <th>rainfallaverage</th>\n",
       "      <th>area</th>\n",
       "      <th>yield</th>\n",
       "      <th>distance</th>\n",
       "      <th>areayieldrataio</th>\n",
       "      <th>percentageofarea</th>\n",
       "      <th>darea</th>\n",
       "      <th>yielda</th>\n",
       "      <th>fgprice</th>\n",
       "      <th>dctrice</th>\n",
       "    </tr>\n",
       "  </thead>\n",
       "  <tbody>\n",
       "    <tr>\n",
       "      <th>0</th>\n",
       "      <td>0.000000</td>\n",
       "      <td>1.535972</td>\n",
       "      <td>3.032222</td>\n",
       "      <td>0.959983</td>\n",
       "      <td>2870.00</td>\n",
       "      <td>3.37</td>\n",
       "      <td>0.00000</td>\n",
       "      <td>851.632047</td>\n",
       "      <td>0.247070</td>\n",
       "      <td>709.091324</td>\n",
       "      <td>0.832626</td>\n",
       "      <td>20.79</td>\n",
       "      <td>1.113550e+07</td>\n",
       "    </tr>\n",
       "    <tr>\n",
       "      <th>1</th>\n",
       "      <td>0.000000</td>\n",
       "      <td>2.141071</td>\n",
       "      <td>3.942857</td>\n",
       "      <td>1.338170</td>\n",
       "      <td>491.00</td>\n",
       "      <td>4.36</td>\n",
       "      <td>0.00000</td>\n",
       "      <td>112.614679</td>\n",
       "      <td>0.244428</td>\n",
       "      <td>120.014173</td>\n",
       "      <td>1.065706</td>\n",
       "      <td>20.79</td>\n",
       "      <td>2.412279e+06</td>\n",
       "    </tr>\n",
       "    <tr>\n",
       "      <th>2</th>\n",
       "      <td>7.116629</td>\n",
       "      <td>5.809375</td>\n",
       "      <td>20.589580</td>\n",
       "      <td>3.630859</td>\n",
       "      <td>1330.88</td>\n",
       "      <td>4.42</td>\n",
       "      <td>385.79860</td>\n",
       "      <td>301.104072</td>\n",
       "      <td>0.312983</td>\n",
       "      <td>416.543187</td>\n",
       "      <td>1.383386</td>\n",
       "      <td>20.79</td>\n",
       "      <td>1.086828e+07</td>\n",
       "    </tr>\n",
       "    <tr>\n",
       "      <th>3</th>\n",
       "      <td>67.089467</td>\n",
       "      <td>3.908854</td>\n",
       "      <td>11.341670</td>\n",
       "      <td>2.443034</td>\n",
       "      <td>5767.00</td>\n",
       "      <td>4.65</td>\n",
       "      <td>26.26015</td>\n",
       "      <td>1240.215054</td>\n",
       "      <td>0.567852</td>\n",
       "      <td>3274.800267</td>\n",
       "      <td>2.640510</td>\n",
       "      <td>20.79</td>\n",
       "      <td>1.630911e+08</td>\n",
       "    </tr>\n",
       "    <tr>\n",
       "      <th>4</th>\n",
       "      <td>0.000000</td>\n",
       "      <td>0.805469</td>\n",
       "      <td>1.580208</td>\n",
       "      <td>0.503418</td>\n",
       "      <td>4710.00</td>\n",
       "      <td>4.14</td>\n",
       "      <td>0.00000</td>\n",
       "      <td>1137.681159</td>\n",
       "      <td>0.130472</td>\n",
       "      <td>614.521934</td>\n",
       "      <td>0.540153</td>\n",
       "      <td>20.79</td>\n",
       "      <td>6.260539e+06</td>\n",
       "    </tr>\n",
       "    <tr>\n",
       "      <th>...</th>\n",
       "      <td>...</td>\n",
       "      <td>...</td>\n",
       "      <td>...</td>\n",
       "      <td>...</td>\n",
       "      <td>...</td>\n",
       "      <td>...</td>\n",
       "      <td>...</td>\n",
       "      <td>...</td>\n",
       "      <td>...</td>\n",
       "      <td>...</td>\n",
       "      <td>...</td>\n",
       "      <td>...</td>\n",
       "      <td>...</td>\n",
       "    </tr>\n",
       "    <tr>\n",
       "      <th>39739</th>\n",
       "      <td>8.841748</td>\n",
       "      <td>2.292639</td>\n",
       "      <td>4.211667</td>\n",
       "      <td>1.432899</td>\n",
       "      <td>916.00</td>\n",
       "      <td>3.16</td>\n",
       "      <td>392.92250</td>\n",
       "      <td>289.873418</td>\n",
       "      <td>0.203710</td>\n",
       "      <td>186.598393</td>\n",
       "      <td>0.643724</td>\n",
       "      <td>20.79</td>\n",
       "      <td>2.265505e+06</td>\n",
       "    </tr>\n",
       "    <tr>\n",
       "      <th>39740</th>\n",
       "      <td>0.000000</td>\n",
       "      <td>0.030208</td>\n",
       "      <td>0.062500</td>\n",
       "      <td>0.018880</td>\n",
       "      <td>1046.00</td>\n",
       "      <td>3.07</td>\n",
       "      <td>0.00000</td>\n",
       "      <td>340.716612</td>\n",
       "      <td>0.556501</td>\n",
       "      <td>582.100434</td>\n",
       "      <td>1.708459</td>\n",
       "      <td>20.79</td>\n",
       "      <td>1.875686e+07</td>\n",
       "    </tr>\n",
       "    <tr>\n",
       "      <th>39741</th>\n",
       "      <td>8.575491</td>\n",
       "      <td>2.652500</td>\n",
       "      <td>5.460000</td>\n",
       "      <td>1.657812</td>\n",
       "      <td>753.00</td>\n",
       "      <td>4.52</td>\n",
       "      <td>291.88280</td>\n",
       "      <td>166.592920</td>\n",
       "      <td>0.161440</td>\n",
       "      <td>121.564092</td>\n",
       "      <td>0.729707</td>\n",
       "      <td>20.79</td>\n",
       "      <td>1.673060e+06</td>\n",
       "    </tr>\n",
       "    <tr>\n",
       "      <th>39742</th>\n",
       "      <td>9.387123</td>\n",
       "      <td>1.696181</td>\n",
       "      <td>3.348611</td>\n",
       "      <td>1.060113</td>\n",
       "      <td>99.00</td>\n",
       "      <td>1.93</td>\n",
       "      <td>496.10710</td>\n",
       "      <td>51.295337</td>\n",
       "      <td>0.154780</td>\n",
       "      <td>15.323183</td>\n",
       "      <td>0.298725</td>\n",
       "      <td>20.79</td>\n",
       "      <td>8.633316e+04</td>\n",
       "    </tr>\n",
       "    <tr>\n",
       "      <th>39743</th>\n",
       "      <td>0.000000</td>\n",
       "      <td>1.071354</td>\n",
       "      <td>2.250000</td>\n",
       "      <td>0.669596</td>\n",
       "      <td>2219.00</td>\n",
       "      <td>4.21</td>\n",
       "      <td>0.00000</td>\n",
       "      <td>527.078385</td>\n",
       "      <td>0.084933</td>\n",
       "      <td>188.466571</td>\n",
       "      <td>0.357568</td>\n",
       "      <td>20.79</td>\n",
       "      <td>1.271016e+06</td>\n",
       "    </tr>\n",
       "  </tbody>\n",
       "</table>\n",
       "<p>39744 rows × 13 columns</p>\n",
       "</div>"
      ],
      "text/plain": [
       "       windspeed  rainfall24  rainfall6  rainfallaverage     area  yield  \\\n",
       "0       0.000000    1.535972   3.032222         0.959983  2870.00   3.37   \n",
       "1       0.000000    2.141071   3.942857         1.338170   491.00   4.36   \n",
       "2       7.116629    5.809375  20.589580         3.630859  1330.88   4.42   \n",
       "3      67.089467    3.908854  11.341670         2.443034  5767.00   4.65   \n",
       "4       0.000000    0.805469   1.580208         0.503418  4710.00   4.14   \n",
       "...          ...         ...        ...              ...      ...    ...   \n",
       "39739   8.841748    2.292639   4.211667         1.432899   916.00   3.16   \n",
       "39740   0.000000    0.030208   0.062500         0.018880  1046.00   3.07   \n",
       "39741   8.575491    2.652500   5.460000         1.657812   753.00   4.52   \n",
       "39742   9.387123    1.696181   3.348611         1.060113    99.00   1.93   \n",
       "39743   0.000000    1.071354   2.250000         0.669596  2219.00   4.21   \n",
       "\n",
       "        distance  areayieldrataio  percentageofarea        darea    yielda  \\\n",
       "0        0.00000       851.632047          0.247070   709.091324  0.832626   \n",
       "1        0.00000       112.614679          0.244428   120.014173  1.065706   \n",
       "2      385.79860       301.104072          0.312983   416.543187  1.383386   \n",
       "3       26.26015      1240.215054          0.567852  3274.800267  2.640510   \n",
       "4        0.00000      1137.681159          0.130472   614.521934  0.540153   \n",
       "...          ...              ...               ...          ...       ...   \n",
       "39739  392.92250       289.873418          0.203710   186.598393  0.643724   \n",
       "39740    0.00000       340.716612          0.556501   582.100434  1.708459   \n",
       "39741  291.88280       166.592920          0.161440   121.564092  0.729707   \n",
       "39742  496.10710        51.295337          0.154780    15.323183  0.298725   \n",
       "39743    0.00000       527.078385          0.084933   188.466571  0.357568   \n",
       "\n",
       "       fgprice       dctrice  \n",
       "0        20.79  1.113550e+07  \n",
       "1        20.79  2.412279e+06  \n",
       "2        20.79  1.086828e+07  \n",
       "3        20.79  1.630911e+08  \n",
       "4        20.79  6.260539e+06  \n",
       "...        ...           ...  \n",
       "39739    20.79  2.265505e+06  \n",
       "39740    20.79  1.875686e+07  \n",
       "39741    20.79  1.673060e+06  \n",
       "39742    20.79  8.633316e+04  \n",
       "39743    20.79  1.271016e+06  \n",
       "\n",
       "[39744 rows x 13 columns]"
      ]
     },
     "execution_count": 2,
     "metadata": {},
     "output_type": "execute_result"
    }
   ],
   "source": [
    "df"
   ]
  },
  {
   "cell_type": "code",
   "execution_count": 3,
   "metadata": {},
   "outputs": [
    {
     "name": "stdout",
     "output_type": "stream",
     "text": [
      "rainfall24          0.343700\n",
      "rainfall6           0.385849\n",
      "rainfallaverage     0.343700\n",
      "area                0.050195\n",
      "yield               0.127226\n",
      "distance            0.086782\n",
      "areayieldrataio     0.024816\n",
      "percentageofarea    0.176272\n",
      "darea               0.096300\n",
      "yielda              0.187631\n",
      "fgprice             0.017187\n",
      "dctrice             0.124798\n",
      "Name: windspeed, dtype: float64\n"
     ]
    },
    {
     "name": "stderr",
     "output_type": "stream",
     "text": [
      "c:\\Users\\Asus\\anaconda3\\lib\\site-packages\\seaborn\\_decorators.py:36: FutureWarning: Pass the following variables as keyword args: x, y. From version 0.12, the only valid positional argument will be `data`, and passing other arguments without an explicit keyword will result in an error or misinterpretation.\n",
      "  warnings.warn(\n"
     ]
    },
    {
     "data": {
      "image/png": "[encoded data removed]",
      "text/plain": [
       "<Figure size 1200x600 with 1 Axes>"
      ]
     },
     "metadata": {},
     "output_type": "display_data"
    }
   ],
   "source": [
    "import pandas as pd\n",
    "import seaborn as sns\n",
    "import matplotlib.pyplot as plt\n",
    "\n",
    "# Assuming df is your DataFrame and 'target' is your target variable\n",
    "correlation = df.corr()['windspeed'].drop('windspeed')\n",
    "\n",
    "# Display the correlations\n",
    "print(correlation)\n",
    "\n",
    "# Plot the correlations\n",
    "plt.figure(figsize=(12, 6))\n",
    "sns.barplot(correlation.index, correlation.values)\n",
    "plt.title('Correlation of Features with Target Variable')\n",
    "plt.xlabel('Features')\n",
    "plt.ylabel('Correlation')\n",
    "plt.xticks(rotation=90)\n",
    "plt.show()"
   ]
  },
  {
   "cell_type": "code",
   "execution_count": 4,
   "metadata": {},
   "outputs": [],
   "source": [
    "# Split the dataset into features and target variable\n",
    "X = df.drop(['percentageofarea','area','yield','areayieldrataio','rainfallaverage','fgprice','windspeed'], axis=1)\n",
    "y = df.drop(['darea','percentageofarea','yielda','dctrice','rainfall24','rainfall6','rainfallaverage','areayieldrataio','area', 'yield', 'fgprice','distance'], axis=1)"
   ]
  },
  {
   "cell_type": "code",
   "execution_count": 5,
   "metadata": {},
   "outputs": [
    {
     "data": {
      "text/plain": [
       "(       rainfall24  rainfall6   distance        darea    yielda       dctrice\n",
       " 0        1.535972   3.032222    0.00000   709.091324  0.832626  1.113550e+07\n",
       " 1        2.141071   3.942857    0.00000   120.014173  1.065706  2.412279e+06\n",
       " 2        5.809375  20.589580  385.79860   416.543187  1.383386  1.086828e+07\n",
       " 3        3.908854  11.341670   26.26015  3274.800267  2.640510  1.630911e+08\n",
       " 4        0.805469   1.580208    0.00000   614.521934  0.540153  6.260539e+06\n",
       " ...           ...        ...        ...          ...       ...           ...\n",
       " 39739    2.292639   4.211667  392.92250   186.598393  0.643724  2.265505e+06\n",
       " 39740    0.030208   0.062500    0.00000   582.100434  1.708459  1.875686e+07\n",
       " 39741    2.652500   5.460000  291.88280   121.564092  0.729707  1.673060e+06\n",
       " 39742    1.696181   3.348611  496.10710    15.323183  0.298725  8.633316e+04\n",
       " 39743    1.071354   2.250000    0.00000   188.466571  0.357568  1.271016e+06\n",
       " \n",
       " [39744 rows x 6 columns],\n",
       "        windspeed\n",
       " 0       0.000000\n",
       " 1       0.000000\n",
       " 2       7.116629\n",
       " 3      67.089467\n",
       " 4       0.000000\n",
       " ...          ...\n",
       " 39739   8.841748\n",
       " 39740   0.000000\n",
       " 39741   8.575491\n",
       " 39742   9.387123\n",
       " 39743   0.000000\n",
       " \n",
       " [39744 rows x 1 columns])"
      ]
     },
     "execution_count": 5,
     "metadata": {},
     "output_type": "execute_result"
    }
   ],
   "source": [
    "X,y"
   ]
  },
  {
   "cell_type": "code",
   "execution_count": 6,
   "metadata": {},
   "outputs": [],
   "source": [
    "# Remove the rows with zero values from the training set and testing set\n",
    "mask = y['windspeed'] != 0\n",
    "\n",
    "# Apply the mask to X_train\n",
    "X = X[mask]\n",
    "\n",
    "# Apply the mask to y_train\n",
    "y = y[mask]"
   ]
  },
  {
   "cell_type": "code",
   "execution_count": 7,
   "metadata": {},
   "outputs": [],
   "source": [
    "# Remove the rows with zero values from the training set and testing set\n",
    "mask =X['dctrice'] != 0\n",
    "\n",
    "# Apply the mask to y_train\n",
    "y = y[mask]\n",
    "\n",
    "# Apply the mask to X_train\n",
    "X = X[mask]"
   ]
  },
  {
   "cell_type": "code",
   "execution_count": 8,
   "metadata": {},
   "outputs": [
    {
     "data": {
      "text/plain": [
       "((15401, 6), (15401, 1))"
      ]
     },
     "execution_count": 8,
     "metadata": {},
     "output_type": "execute_result"
    }
   ],
   "source": [
    "X.shape, y.shape"
   ]
  },
  {
   "cell_type": "code",
   "execution_count": 9,
   "metadata": {},
   "outputs": [],
   "source": [
    "# Training and Temporary Set (80-20 split)\n",
    "X_train, X_temp, y_train, y_temp = train_test_split(X, y, test_size=0.2, random_state=42)\n",
    "\n",
    "# Temporary set into a validation set and a test set using (50-50 split)\n",
    "X_val, X_test, y_val, y_test = train_test_split(X_temp, y_temp, test_size=0.5, random_state=42)"
   ]
  },
  {
   "cell_type": "code",
   "execution_count": 10,
   "metadata": {},
   "outputs": [
    {
     "data": {
      "text/plain": [
       "((12320, 6), (12320, 1))"
      ]
     },
     "execution_count": 10,
     "metadata": {},
     "output_type": "execute_result"
    }
   ],
   "source": [
    "\n",
    "X_train.shape, y_train.shape"
   ]
  },
  {
   "cell_type": "code",
   "execution_count": 11,
   "metadata": {},
   "outputs": [
    {
     "name": "stdout",
     "output_type": "stream",
     "text": [
      "<class 'pandas.core.frame.DataFrame'>\n",
      "Int64Index: 12320 entries, 2998 to 18976\n",
      "Data columns (total 1 columns):\n",
      " #   Column     Non-Null Count  Dtype  \n",
      "---  ------     --------------  -----  \n",
      " 0   windspeed  12320 non-null  float64\n",
      "dtypes: float64(1)\n",
      "memory usage: 192.5 KB\n",
      "<class 'pandas.core.frame.DataFrame'>\n",
      "Int64Index: 12320 entries, 2998 to 18976\n",
      "Data columns (total 6 columns):\n",
      " #   Column      Non-Null Count  Dtype  \n",
      "---  ------      --------------  -----  \n",
      " 0   rainfall24  12320 non-null  float64\n",
      " 1   rainfall6   12320 non-null  float64\n",
      " 2   distance    12320 non-null  float64\n",
      " 3   darea       12320 non-null  float64\n",
      " 4   yielda      12320 non-null  float64\n",
      " 5   dctrice     12320 non-null  float64\n",
      "dtypes: float64(6)\n",
      "memory usage: 673.8 KB\n"
     ]
    }
   ],
   "source": [
    "y_train.info()\n",
    "X_train.info()"
   ]
  },
  {
   "cell_type": "code",
   "execution_count": 12,
   "metadata": {},
   "outputs": [],
   "source": [
    "X_test = pd.DataFrame(X_test).apply(pd.to_numeric, errors='coerce')\n",
    "X_train = pd.DataFrame(X_train).apply(pd.to_numeric, errors='coerce')\n",
    "y_train = pd.DataFrame(y_train).apply(pd.to_numeric, errors='coerce')\n",
    "y_test = pd.DataFrame(y_test).apply(pd.to_numeric, errors='coerce')"
   ]
  },
  {
   "cell_type": "code",
   "execution_count": 13,
   "metadata": {},
   "outputs": [
    {
     "data": {
      "text/plain": [
       "((12320, 6), (12320, 1))"
      ]
     },
     "execution_count": 13,
     "metadata": {},
     "output_type": "execute_result"
    }
   ],
   "source": [
    "X_train.shape, y_train.shape"
   ]
  },
  {
   "cell_type": "code",
   "execution_count": 14,
   "metadata": {},
   "outputs": [
    {
     "name": "stdout",
     "output_type": "stream",
     "text": [
      "(array([], dtype=int64), array([], dtype=int64))\n"
     ]
    }
   ],
   "source": [
    "# Null Remover\n",
    "\n",
    "nan_rows = X_train[X_train.isna().any(axis=1)].index\n",
    "X_train = X_train.drop(nan_rows)\n",
    "y_train = y_train.drop(nan_rows)\n",
    "\n",
    "print(np.where(pd.isnull(X_train)))"
   ]
  },
  {
   "cell_type": "code",
   "execution_count": 15,
   "metadata": {},
   "outputs": [
    {
     "data": {
      "text/plain": [
       "((12320, 6), (12320, 1))"
      ]
     },
     "execution_count": 15,
     "metadata": {},
     "output_type": "execute_result"
    }
   ],
   "source": [
    "X_train.shape,y_train.shape"
   ]
  },
  {
   "cell_type": "code",
   "execution_count": 16,
   "metadata": {},
   "outputs": [],
   "source": [
    "nan_rows = X_test[X_test.isna().any(axis=1)].index\n",
    "X_test = X_test.drop(nan_rows)\n",
    "y_test = y_test.drop(nan_rows)"
   ]
  },
  {
   "cell_type": "code",
   "execution_count": 17,
   "metadata": {},
   "outputs": [],
   "source": [
    "nan_rows = X_val[X_val.isna().any(axis=1)].index\n",
    "X_val = X_val.drop(nan_rows)\n",
    "y_val = y_val.drop(nan_rows)"
   ]
  },
  {
   "cell_type": "code",
   "execution_count": 18,
   "metadata": {},
   "outputs": [
    {
     "data": {
      "text/plain": [
       "(1540, 6)"
      ]
     },
     "execution_count": 18,
     "metadata": {},
     "output_type": "execute_result"
    }
   ],
   "source": [
    "X_val.shape"
   ]
  },
  {
   "cell_type": "code",
   "execution_count": 19,
   "metadata": {},
   "outputs": [
    {
     "name": "stderr",
     "output_type": "stream",
     "text": [
      "C:\\Users\\Asus\\AppData\\Local\\Temp\\ipykernel_8560\\3599840134.py:14: DataConversionWarning: A column-vector y was passed when a 1d array was expected. Please change the shape of y to (n_samples,), for example using ravel().\n",
      "  model.fit(X_train, y_train)\n"
     ]
    },
    {
     "data": {
      "text/plain": [
       "RandomForestRegressor(max_depth=20, max_leaf_nodes=100, min_samples_leaf=2,\n",
       "                      random_state=42)"
      ]
     },
     "execution_count": 19,
     "metadata": {},
     "output_type": "execute_result"
    }
   ],
   "source": [
    "from sklearn.metrics import mean_absolute_error\n",
    "from sklearn.ensemble import RandomForestRegressor\n",
    "\n",
    "model = RandomForestRegressor(\n",
    "    n_estimators=100, \n",
    "    max_depth=20, \n",
    "    min_samples_split=2, \n",
    "    min_samples_leaf=2, \n",
    "    max_leaf_nodes=100,\n",
    "    random_state=42,\n",
    "   \n",
    ")\n",
    "\n",
    "model.fit(X_train, y_train)"
   ]
  },
  {
   "cell_type": "code",
   "execution_count": 20,
   "metadata": {},
   "outputs": [
    {
     "name": "stdout",
     "output_type": "stream",
     "text": [
      "R-squared (Test): 0.8274653218638983\n",
      "Mean Absolute Error (Test): 3.687524171435299\n",
      "\n",
      "R-squared (Validation): 0.8232614497189706\n",
      "Mean Absolute Error (Validation): 3.685117608403587\n",
      "\n",
      "Explained Variance (Test): 0.8274677690495874\n",
      "Explained Variance (Validation): 0.8233262193630821\n",
      "\n",
      "Mean Absolute Error (Test, p.p.): 26.139609771782506%\n",
      "Mean Absolute Error (Validation, p.p.): 26.833466598979133%\n"
     ]
    }
   ],
   "source": [
    "\n",
    "from sklearn.metrics import explained_variance_score\n",
    "\n",
    "\n",
    "predictions = model.predict(X_test)\n",
    "\n",
    "# Evaluate the model\n",
    "r2 = model.score(X_test, y_test)\n",
    "print(f'R-squared (Test): {r2}')\n",
    "\n",
    "mae = mean_absolute_error(y_test, predictions)\n",
    "print(f'Mean Absolute Error (Test): {mae}')\n",
    "\n",
    "predictionsVal = model.predict(X_val)\n",
    "\n",
    "# Evaluate the model\n",
    "\n",
    "\n",
    "r2 = model.score(X_val, y_val)\n",
    "print(f'\\nR-squared (Validation): {r2}')\n",
    "maev = mean_absolute_error(y_val, predictionsVal)\n",
    "print(f'Mean Absolute Error (Validation): {maev}')\n",
    "\n",
    "# Assuming `predictions` are the predicted values from your model\n",
    "explained_variance = explained_variance_score(y_test, predictions)\n",
    "print(f'\\nExplained Variance (Test): {explained_variance}')\n",
    "\n",
    "\n",
    "explained_variance = explained_variance_score(y_val, predictionsVal)\n",
    "print(f'Explained Variance (Validation): {explained_variance}')\n",
    "\n",
    "\n",
    "# Calculate and print MAE in percentage points for test set\n",
    "mae_percentage_test = (mae / y_test.values.mean()) * 100\n",
    "print(f'\\nMean Absolute Error (Test, p.p.): {mae_percentage_test}%')\n",
    "\n",
    "# Calculate and print MAE in percentage points for test set\n",
    "mae_percentage_val = (mae / y_val.values.mean()) * 100\n",
    "print(f'Mean Absolute Error (Validation, p.p.): {mae_percentage_val}%')\n"
   ]
  },
  {
   "cell_type": "code",
   "execution_count": 21,
   "metadata": {},
   "outputs": [
    {
     "data": {
      "image/png": "[encoded data removed]",
      "text/plain": [
       "<Figure size 640x480 with 1 Axes>"
      ]
     },
     "metadata": {},
     "output_type": "display_data"
    }
   ],
   "source": [
    "import matplotlib.pyplot as plt\n",
    "\n",
    "# Make predictions\n",
    "predictions = model.predict(X_test)\n",
    "\n",
    "# Create a scatter plot\n",
    "plt.scatter(y_test, predictions)\n",
    "plt.xlabel('Actual Values')\n",
    "plt.ylabel('Predicted Values')\n",
    "plt.title('RFR Model Performance: Actual vs Predicted Values')\n",
    "\n",
    "\n",
    "# Diagonal line\n",
    "limits = [np.min([plt.xlim(), plt.ylim()]),  # find the lower limit among x and y axes\n",
    "          np.max([plt.xlim(), plt.ylim()])]  # find the upper limit among x and y axes\n",
    "plt.plot(limits, limits, color='red')\n",
    "\n",
    "plt.show()"
   ]
  },
  {
   "cell_type": "code",
   "execution_count": 22,
   "metadata": {},
   "outputs": [
    {
     "data": {
      "image/png": "[encoded data removed]",
      "text/plain": [
       "<Figure size 640x480 with 1 Axes>"
      ]
     },
     "metadata": {},
     "output_type": "display_data"
    }
   ],
   "source": [
    "import matplotlib.pyplot as plt\n",
    "\n",
    "# Make predictions\n",
    "predictionsVal = model.predict(X_val)\n",
    "\n",
    "# Create a scatter plot\n",
    "plt.scatter(y_val, predictionsVal)\n",
    "plt.xlabel('Actual Values')\n",
    "plt.ylabel('Predicted Values')\n",
    "plt.title('RFR Model Performance: Actual vs Predicted Values')\n",
    "\n",
    "# Diagonal line\n",
    "limits = [np.min([plt.xlim(), plt.ylim()]),  # find the lower limit among x and y axes\n",
    "          np.max([plt.xlim(), plt.ylim()])]  # find the upper limit among x and y axes\n",
    "plt.plot(limits, limits, color='red')\n",
    "\n",
    "plt.show()"
   ]
  },
  {
   "cell_type": "code",
   "execution_count": 23,
   "metadata": {},
   "outputs": [
    {
     "name": "stdout",
     "output_type": "stream",
     "text": [
      "       Actual Predicted\n",
      "0    8.960080     10.56\n",
      "1   10.422660     14.02\n",
      "2   14.319559     14.10\n",
      "3   16.478015     10.54\n",
      "4    2.633899      6.14\n",
      "5   32.755669     32.21\n",
      "6   30.259301     25.05\n",
      "7   12.869050     19.88\n",
      "8    6.328230      5.50\n",
      "9    5.038191      5.93\n",
      "10   0.617172      5.53\n",
      "11   6.736272     11.30\n",
      "12  11.352024      8.94\n",
      "13   6.257791      5.56\n",
      "14   9.504757     12.39\n",
      "15  15.803106     14.25\n",
      "16  15.318071     21.85\n",
      "17   4.362445      5.56\n",
      "18   4.550682      5.50\n",
      "19  24.000701     27.72\n"
     ]
    }
   ],
   "source": [
    "import pandas as pd\n",
    "import numpy as np\n",
    "\n",
    "# Ensure y_test and predictions are 1-dimensional\n",
    "y_test = np.ravel(y_test)\n",
    "predictions = np.ravel(predictions)\n",
    "\n",
    "# Create a DataFrame with actual and predicted values\n",
    "df = pd.DataFrame({'Actual': y_test, 'Predicted': ['{:.2f}'.format(pred) for pred in predictions]})\n",
    "\n",
    "# Display the DataFrame\n",
    "print(df.head(20).to_string(index=True))"
   ]
  },
  {
   "cell_type": "code",
   "execution_count": 24,
   "metadata": {},
   "outputs": [
    {
     "name": "stderr",
     "output_type": "stream",
     "text": [
      "c:\\Users\\Asus\\anaconda3\\lib\\site-packages\\sklearn\\pipeline.py:394: DataConversionWarning: A column-vector y was passed when a 1d array was expected. Please change the shape of y to (n_samples,), for example using ravel().\n",
      "  self._final_estimator.fit(Xt, y, **fit_params_last_step)\n"
     ]
    },
    {
     "data": {
      "text/plain": [
       "['RFR-WS.joblib']"
      ]
     },
     "execution_count": 24,
     "metadata": {},
     "output_type": "execute_result"
    }
   ],
   "source": [
    "from sklearn.pipeline import make_pipeline\n",
    "from joblib import dump\n",
    "\n",
    "pipeline = make_pipeline(model)\n",
    "\n",
    "# Fit the pipeline\n",
    "pipeline.fit(X_train, y_train)\n",
    "\n",
    "# Save the pipeline\n",
    "dump(pipeline, 'RFR-WS.joblib')"
   ]
  },
  {
   "cell_type": "code",
   "execution_count": 25,
   "metadata": {},
   "outputs": [],
   "source": [
    "# r2 = pipeline.score(X_test, y_test)\n",
    "# print(f'R-squared (Test): {r2}')"
   ]
  }
 ],
 "metadata": {
  "kernelspec": {
   "display_name": "base",
   "language": "python",
   "name": "python3"
  },
  "language_info": {
   "codemirror_mode": {
    "name": "ipython",
    "version": 3
   },
   "file_extension": ".py",
   "mimetype": "text/x-python",
   "name": "python",
   "nbconvert_exporter": "python",
   "pygments_lexer": "ipython3",
   "version": "3.9.13"
  }
 },
 "nbformat": 4,
 "nbformat_minor": 2
}
