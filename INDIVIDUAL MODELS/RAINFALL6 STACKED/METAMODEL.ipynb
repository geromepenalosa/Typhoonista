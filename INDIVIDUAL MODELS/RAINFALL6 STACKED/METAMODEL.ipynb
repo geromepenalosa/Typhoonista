{
 "cells": [
  {
   "cell_type": "code",
   "execution_count": 1,
   "metadata": {},
   "outputs": [],
   "source": [
    "\n",
    "# Import necessary libraries\n",
    "import pandas as pd\n",
    "import numpy as np\n",
    "from sklearn.ensemble import RandomForestRegressor\n",
    "from sklearn.model_selection import train_test_split\n",
    "from sklearn.preprocessing import StandardScaler\n",
    "from sklearn.metrics import mean_squared_error\n",
    "\n",
    "# Load the dataset\n",
    "df = pd.read_csv('TEST (1).csv')"
   ]
  },
  {
   "cell_type": "code",
   "execution_count": 2,
   "metadata": {},
   "outputs": [
    {
     "data": {
      "text/html": [
       "<div>\n",
       "<style scoped>\n",
       "    .dataframe tbody tr th:only-of-type {\n",
       "        vertical-align: middle;\n",
       "    }\n",
       "\n",
       "    .dataframe tbody tr th {\n",
       "        vertical-align: top;\n",
       "    }\n",
       "\n",
       "    .dataframe thead th {\n",
       "        text-align: right;\n",
       "    }\n",
       "</style>\n",
       "<table border=\"1\" class=\"dataframe\">\n",
       "  <thead>\n",
       "    <tr style=\"text-align: right;\">\n",
       "      <th></th>\n",
       "      <th>windspeed</th>\n",
       "      <th>rainfall24</th>\n",
       "      <th>rainfall6</th>\n",
       "      <th>rainfallaverage</th>\n",
       "      <th>area</th>\n",
       "      <th>yield</th>\n",
       "      <th>distance</th>\n",
       "      <th>areayieldrataio</th>\n",
       "      <th>percentageofarea</th>\n",
       "      <th>darea</th>\n",
       "      <th>yielda</th>\n",
       "      <th>fgprice</th>\n",
       "      <th>dctrice</th>\n",
       "    </tr>\n",
       "  </thead>\n",
       "  <tbody>\n",
       "    <tr>\n",
       "      <th>0</th>\n",
       "      <td>0.000000</td>\n",
       "      <td>1.535972</td>\n",
       "      <td>3.032222</td>\n",
       "      <td>0.959983</td>\n",
       "      <td>2870.00</td>\n",
       "      <td>3.37</td>\n",
       "      <td>0.00000</td>\n",
       "      <td>851.632047</td>\n",
       "      <td>0.247070</td>\n",
       "      <td>709.091324</td>\n",
       "      <td>0.832626</td>\n",
       "      <td>20.79</td>\n",
       "      <td>1.113550e+07</td>\n",
       "    </tr>\n",
       "    <tr>\n",
       "      <th>1</th>\n",
       "      <td>0.000000</td>\n",
       "      <td>2.141071</td>\n",
       "      <td>3.942857</td>\n",
       "      <td>1.338170</td>\n",
       "      <td>491.00</td>\n",
       "      <td>4.36</td>\n",
       "      <td>0.00000</td>\n",
       "      <td>112.614679</td>\n",
       "      <td>0.244428</td>\n",
       "      <td>120.014173</td>\n",
       "      <td>1.065706</td>\n",
       "      <td>20.79</td>\n",
       "      <td>2.412279e+06</td>\n",
       "    </tr>\n",
       "    <tr>\n",
       "      <th>2</th>\n",
       "      <td>7.116629</td>\n",
       "      <td>5.809375</td>\n",
       "      <td>20.589580</td>\n",
       "      <td>3.630859</td>\n",
       "      <td>1330.88</td>\n",
       "      <td>4.42</td>\n",
       "      <td>385.79860</td>\n",
       "      <td>301.104072</td>\n",
       "      <td>0.312983</td>\n",
       "      <td>416.543187</td>\n",
       "      <td>1.383386</td>\n",
       "      <td>20.79</td>\n",
       "      <td>1.086828e+07</td>\n",
       "    </tr>\n",
       "    <tr>\n",
       "      <th>3</th>\n",
       "      <td>67.089467</td>\n",
       "      <td>3.908854</td>\n",
       "      <td>11.341670</td>\n",
       "      <td>2.443034</td>\n",
       "      <td>5767.00</td>\n",
       "      <td>4.65</td>\n",
       "      <td>26.26015</td>\n",
       "      <td>1240.215054</td>\n",
       "      <td>0.567852</td>\n",
       "      <td>3274.800267</td>\n",
       "      <td>2.640510</td>\n",
       "      <td>20.79</td>\n",
       "      <td>1.630911e+08</td>\n",
       "    </tr>\n",
       "    <tr>\n",
       "      <th>4</th>\n",
       "      <td>0.000000</td>\n",
       "      <td>0.805469</td>\n",
       "      <td>1.580208</td>\n",
       "      <td>0.503418</td>\n",
       "      <td>4710.00</td>\n",
       "      <td>4.14</td>\n",
       "      <td>0.00000</td>\n",
       "      <td>1137.681159</td>\n",
       "      <td>0.130472</td>\n",
       "      <td>614.521934</td>\n",
       "      <td>0.540153</td>\n",
       "      <td>20.79</td>\n",
       "      <td>6.260539e+06</td>\n",
       "    </tr>\n",
       "    <tr>\n",
       "      <th>...</th>\n",
       "      <td>...</td>\n",
       "      <td>...</td>\n",
       "      <td>...</td>\n",
       "      <td>...</td>\n",
       "      <td>...</td>\n",
       "      <td>...</td>\n",
       "      <td>...</td>\n",
       "      <td>...</td>\n",
       "      <td>...</td>\n",
       "      <td>...</td>\n",
       "      <td>...</td>\n",
       "      <td>...</td>\n",
       "      <td>...</td>\n",
       "    </tr>\n",
       "    <tr>\n",
       "      <th>39739</th>\n",
       "      <td>8.841748</td>\n",
       "      <td>2.292639</td>\n",
       "      <td>4.211667</td>\n",
       "      <td>1.432899</td>\n",
       "      <td>916.00</td>\n",
       "      <td>3.16</td>\n",
       "      <td>392.92250</td>\n",
       "      <td>289.873418</td>\n",
       "      <td>0.203710</td>\n",
       "      <td>186.598393</td>\n",
       "      <td>0.643724</td>\n",
       "      <td>20.79</td>\n",
       "      <td>2.265505e+06</td>\n",
       "    </tr>\n",
       "    <tr>\n",
       "      <th>39740</th>\n",
       "      <td>0.000000</td>\n",
       "      <td>0.030208</td>\n",
       "      <td>0.062500</td>\n",
       "      <td>0.018880</td>\n",
       "      <td>1046.00</td>\n",
       "      <td>3.07</td>\n",
       "      <td>0.00000</td>\n",
       "      <td>340.716612</td>\n",
       "      <td>0.556501</td>\n",
       "      <td>582.100434</td>\n",
       "      <td>1.708459</td>\n",
       "      <td>20.79</td>\n",
       "      <td>1.875686e+07</td>\n",
       "    </tr>\n",
       "    <tr>\n",
       "      <th>39741</th>\n",
       "      <td>8.575491</td>\n",
       "      <td>2.652500</td>\n",
       "      <td>5.460000</td>\n",
       "      <td>1.657812</td>\n",
       "      <td>753.00</td>\n",
       "      <td>4.52</td>\n",
       "      <td>291.88280</td>\n",
       "      <td>166.592920</td>\n",
       "      <td>0.161440</td>\n",
       "      <td>121.564092</td>\n",
       "      <td>0.729707</td>\n",
       "      <td>20.79</td>\n",
       "      <td>1.673060e+06</td>\n",
       "    </tr>\n",
       "    <tr>\n",
       "      <th>39742</th>\n",
       "      <td>9.387123</td>\n",
       "      <td>1.696181</td>\n",
       "      <td>3.348611</td>\n",
       "      <td>1.060113</td>\n",
       "      <td>99.00</td>\n",
       "      <td>1.93</td>\n",
       "      <td>496.10710</td>\n",
       "      <td>51.295337</td>\n",
       "      <td>0.154780</td>\n",
       "      <td>15.323183</td>\n",
       "      <td>0.298725</td>\n",
       "      <td>20.79</td>\n",
       "      <td>8.633316e+04</td>\n",
       "    </tr>\n",
       "    <tr>\n",
       "      <th>39743</th>\n",
       "      <td>0.000000</td>\n",
       "      <td>1.071354</td>\n",
       "      <td>2.250000</td>\n",
       "      <td>0.669596</td>\n",
       "      <td>2219.00</td>\n",
       "      <td>4.21</td>\n",
       "      <td>0.00000</td>\n",
       "      <td>527.078385</td>\n",
       "      <td>0.084933</td>\n",
       "      <td>188.466571</td>\n",
       "      <td>0.357568</td>\n",
       "      <td>20.79</td>\n",
       "      <td>1.271016e+06</td>\n",
       "    </tr>\n",
       "  </tbody>\n",
       "</table>\n",
       "<p>39744 rows × 13 columns</p>\n",
       "</div>"
      ],
      "text/plain": [
       "       windspeed  rainfall24  rainfall6  rainfallaverage     area  yield  \\\n",
       "0       0.000000    1.535972   3.032222         0.959983  2870.00   3.37   \n",
       "1       0.000000    2.141071   3.942857         1.338170   491.00   4.36   \n",
       "2       7.116629    5.809375  20.589580         3.630859  1330.88   4.42   \n",
       "3      67.089467    3.908854  11.341670         2.443034  5767.00   4.65   \n",
       "4       0.000000    0.805469   1.580208         0.503418  4710.00   4.14   \n",
       "...          ...         ...        ...              ...      ...    ...   \n",
       "39739   8.841748    2.292639   4.211667         1.432899   916.00   3.16   \n",
       "39740   0.000000    0.030208   0.062500         0.018880  1046.00   3.07   \n",
       "39741   8.575491    2.652500   5.460000         1.657812   753.00   4.52   \n",
       "39742   9.387123    1.696181   3.348611         1.060113    99.00   1.93   \n",
       "39743   0.000000    1.071354   2.250000         0.669596  2219.00   4.21   \n",
       "\n",
       "        distance  areayieldrataio  percentageofarea        darea    yielda  \\\n",
       "0        0.00000       851.632047          0.247070   709.091324  0.832626   \n",
       "1        0.00000       112.614679          0.244428   120.014173  1.065706   \n",
       "2      385.79860       301.104072          0.312983   416.543187  1.383386   \n",
       "3       26.26015      1240.215054          0.567852  3274.800267  2.640510   \n",
       "4        0.00000      1137.681159          0.130472   614.521934  0.540153   \n",
       "...          ...              ...               ...          ...       ...   \n",
       "39739  392.92250       289.873418          0.203710   186.598393  0.643724   \n",
       "39740    0.00000       340.716612          0.556501   582.100434  1.708459   \n",
       "39741  291.88280       166.592920          0.161440   121.564092  0.729707   \n",
       "39742  496.10710        51.295337          0.154780    15.323183  0.298725   \n",
       "39743    0.00000       527.078385          0.084933   188.466571  0.357568   \n",
       "\n",
       "       fgprice       dctrice  \n",
       "0        20.79  1.113550e+07  \n",
       "1        20.79  2.412279e+06  \n",
       "2        20.79  1.086828e+07  \n",
       "3        20.79  1.630911e+08  \n",
       "4        20.79  6.260539e+06  \n",
       "...        ...           ...  \n",
       "39739    20.79  2.265505e+06  \n",
       "39740    20.79  1.875686e+07  \n",
       "39741    20.79  1.673060e+06  \n",
       "39742    20.79  8.633316e+04  \n",
       "39743    20.79  1.271016e+06  \n",
       "\n",
       "[39744 rows x 13 columns]"
      ]
     },
     "execution_count": 2,
     "metadata": {},
     "output_type": "execute_result"
    }
   ],
   "source": [
    "df"
   ]
  },
  {
   "cell_type": "code",
   "execution_count": 3,
   "metadata": {},
   "outputs": [],
   "source": [
    "# Split the dataset into features and target variable\n",
    "X = df.drop(['percentageofarea','area','areayieldrataio','yield','rainfallaverage','fgprice','rainfall6'], axis=1)\n",
    "y = df.drop(['darea','percentageofarea','yielda','dctrice','windspeed','rainfall24','rainfallaverage','areayieldrataio','area', 'yield', 'fgprice','distance'], axis=1)"
   ]
  },
  {
   "cell_type": "code",
   "execution_count": 4,
   "metadata": {},
   "outputs": [],
   "source": [
    "# Remove the rows with zero values from the training set and testing set\n",
    "mask = X['windspeed'] != 0\n",
    "\n",
    "# Apply the mask to X_train\n",
    "X = X[mask]\n",
    "\n",
    "# Apply the mask to y_train\n",
    "y = y[mask]"
   ]
  },
  {
   "cell_type": "code",
   "execution_count": 5,
   "metadata": {},
   "outputs": [],
   "source": [
    "# Remove the rows with zero values from the training set and testing set\n",
    "mask =X['dctrice'] != 0\n",
    "\n",
    "# Apply the mask to y_train\n",
    "y = y[mask]\n",
    "\n",
    "# Apply the mask to X_train\n",
    "X = X[mask]"
   ]
  },
  {
   "cell_type": "code",
   "execution_count": 6,
   "metadata": {},
   "outputs": [
    {
     "data": {
      "text/plain": [
       "((15401, 6), (15401, 1))"
      ]
     },
     "execution_count": 6,
     "metadata": {},
     "output_type": "execute_result"
    }
   ],
   "source": [
    "X.shape, y.shape"
   ]
  },
  {
   "cell_type": "code",
   "execution_count": 7,
   "metadata": {},
   "outputs": [],
   "source": [
    "# Training and Temporary Set (80-20 split)\n",
    "X_train, X_temp, y_train, y_temp = train_test_split(X, y, test_size=0.2, random_state=42)\n",
    "\n",
    "# Temporary set into a validation set and a test set using (50-50 split)\n",
    "X_val, X_test, y_val, y_test = train_test_split(X_temp, y_temp, test_size=0.5, random_state=42)"
   ]
  },
  {
   "cell_type": "code",
   "execution_count": 8,
   "metadata": {},
   "outputs": [
    {
     "data": {
      "text/html": [
       "<div>\n",
       "<style scoped>\n",
       "    .dataframe tbody tr th:only-of-type {\n",
       "        vertical-align: middle;\n",
       "    }\n",
       "\n",
       "    .dataframe tbody tr th {\n",
       "        vertical-align: top;\n",
       "    }\n",
       "\n",
       "    .dataframe thead th {\n",
       "        text-align: right;\n",
       "    }\n",
       "</style>\n",
       "<table border=\"1\" class=\"dataframe\">\n",
       "  <thead>\n",
       "    <tr style=\"text-align: right;\">\n",
       "      <th></th>\n",
       "      <th>rainfall6</th>\n",
       "    </tr>\n",
       "  </thead>\n",
       "  <tbody>\n",
       "    <tr>\n",
       "      <th>2998</th>\n",
       "      <td>0.125000</td>\n",
       "    </tr>\n",
       "    <tr>\n",
       "      <th>16149</th>\n",
       "      <td>1.173936</td>\n",
       "    </tr>\n",
       "    <tr>\n",
       "      <th>1106</th>\n",
       "      <td>3.116667</td>\n",
       "    </tr>\n",
       "    <tr>\n",
       "      <th>1368</th>\n",
       "      <td>7.781250</td>\n",
       "    </tr>\n",
       "    <tr>\n",
       "      <th>8530</th>\n",
       "      <td>1.170333</td>\n",
       "    </tr>\n",
       "    <tr>\n",
       "      <th>...</th>\n",
       "      <td>...</td>\n",
       "    </tr>\n",
       "    <tr>\n",
       "      <th>14774</th>\n",
       "      <td>1.720567</td>\n",
       "    </tr>\n",
       "    <tr>\n",
       "      <th>35629</th>\n",
       "      <td>1.876596</td>\n",
       "    </tr>\n",
       "    <tr>\n",
       "      <th>15169</th>\n",
       "      <td>3.620213</td>\n",
       "    </tr>\n",
       "    <tr>\n",
       "      <th>2172</th>\n",
       "      <td>4.078889</td>\n",
       "    </tr>\n",
       "    <tr>\n",
       "      <th>18976</th>\n",
       "      <td>8.208333</td>\n",
       "    </tr>\n",
       "  </tbody>\n",
       "</table>\n",
       "<p>12320 rows × 1 columns</p>\n",
       "</div>"
      ],
      "text/plain": [
       "       rainfall6\n",
       "2998    0.125000\n",
       "16149   1.173936\n",
       "1106    3.116667\n",
       "1368    7.781250\n",
       "8530    1.170333\n",
       "...          ...\n",
       "14774   1.720567\n",
       "35629   1.876596\n",
       "15169   3.620213\n",
       "2172    4.078889\n",
       "18976   8.208333\n",
       "\n",
       "[12320 rows x 1 columns]"
      ]
     },
     "execution_count": 8,
     "metadata": {},
     "output_type": "execute_result"
    }
   ],
   "source": [
    "y_train"
   ]
  },
  {
   "cell_type": "code",
   "execution_count": 9,
   "metadata": {},
   "outputs": [
    {
     "data": {
      "text/plain": [
       "((12320, 6), (12320, 1))"
      ]
     },
     "execution_count": 9,
     "metadata": {},
     "output_type": "execute_result"
    }
   ],
   "source": [
    "X_train.shape, y_train.shape"
   ]
  },
  {
   "cell_type": "code",
   "execution_count": 10,
   "metadata": {},
   "outputs": [
    {
     "name": "stdout",
     "output_type": "stream",
     "text": [
      "<class 'pandas.core.frame.DataFrame'>\n",
      "Int64Index: 12320 entries, 2998 to 18976\n",
      "Data columns (total 1 columns):\n",
      " #   Column     Non-Null Count  Dtype  \n",
      "---  ------     --------------  -----  \n",
      " 0   rainfall6  12320 non-null  float64\n",
      "dtypes: float64(1)\n",
      "memory usage: 192.5 KB\n",
      "<class 'pandas.core.frame.DataFrame'>\n",
      "Int64Index: 12320 entries, 2998 to 18976\n",
      "Data columns (total 6 columns):\n",
      " #   Column      Non-Null Count  Dtype  \n",
      "---  ------      --------------  -----  \n",
      " 0   windspeed   12320 non-null  float64\n",
      " 1   rainfall24  12320 non-null  float64\n",
      " 2   distance    12320 non-null  float64\n",
      " 3   darea       12320 non-null  float64\n",
      " 4   yielda      12320 non-null  float64\n",
      " 5   dctrice     12320 non-null  float64\n",
      "dtypes: float64(6)\n",
      "memory usage: 673.8 KB\n"
     ]
    }
   ],
   "source": [
    "y_train.info()\n",
    "X_train.info()"
   ]
  },
  {
   "cell_type": "code",
   "execution_count": 11,
   "metadata": {},
   "outputs": [],
   "source": [
    "X_test = pd.DataFrame(X_test).apply(pd.to_numeric, errors='coerce')\n",
    "X_train = pd.DataFrame(X_train).apply(pd.to_numeric, errors='coerce')\n",
    "y_train = pd.DataFrame(y_train).apply(pd.to_numeric, errors='coerce')\n",
    "y_test = pd.DataFrame(y_test).apply(pd.to_numeric, errors='coerce')"
   ]
  },
  {
   "cell_type": "code",
   "execution_count": 12,
   "metadata": {},
   "outputs": [
    {
     "data": {
      "text/plain": [
       "((12320, 6), (12320, 1))"
      ]
     },
     "execution_count": 12,
     "metadata": {},
     "output_type": "execute_result"
    }
   ],
   "source": [
    "X_train.shape, y_train.shape"
   ]
  },
  {
   "cell_type": "code",
   "execution_count": 13,
   "metadata": {},
   "outputs": [
    {
     "data": {
      "text/plain": [
       "((12320, 6), (12320, 1))"
      ]
     },
     "execution_count": 13,
     "metadata": {},
     "output_type": "execute_result"
    }
   ],
   "source": [
    "X_train.shape, y_train.shape"
   ]
  },
  {
   "cell_type": "code",
   "execution_count": 14,
   "metadata": {},
   "outputs": [
    {
     "data": {
      "text/html": [
       "<div>\n",
       "<style scoped>\n",
       "    .dataframe tbody tr th:only-of-type {\n",
       "        vertical-align: middle;\n",
       "    }\n",
       "\n",
       "    .dataframe tbody tr th {\n",
       "        vertical-align: top;\n",
       "    }\n",
       "\n",
       "    .dataframe thead th {\n",
       "        text-align: right;\n",
       "    }\n",
       "</style>\n",
       "<table border=\"1\" class=\"dataframe\">\n",
       "  <thead>\n",
       "    <tr style=\"text-align: right;\">\n",
       "      <th></th>\n",
       "      <th>windspeed</th>\n",
       "      <th>rainfall24</th>\n",
       "      <th>distance</th>\n",
       "      <th>darea</th>\n",
       "      <th>yielda</th>\n",
       "      <th>dctrice</th>\n",
       "    </tr>\n",
       "  </thead>\n",
       "  <tbody>\n",
       "    <tr>\n",
       "      <th>31511</th>\n",
       "      <td>15.974263</td>\n",
       "      <td>0.007738</td>\n",
       "      <td>150.223900</td>\n",
       "      <td>19.625815</td>\n",
       "      <td>0.491842</td>\n",
       "      <td>166383.41</td>\n",
       "    </tr>\n",
       "    <tr>\n",
       "      <th>31001</th>\n",
       "      <td>44.970222</td>\n",
       "      <td>2.393229</td>\n",
       "      <td>3.731118</td>\n",
       "      <td>12.878894</td>\n",
       "      <td>0.558085</td>\n",
       "      <td>123889.89</td>\n",
       "    </tr>\n",
       "    <tr>\n",
       "      <th>38328</th>\n",
       "      <td>7.252452</td>\n",
       "      <td>3.350521</td>\n",
       "      <td>280.959300</td>\n",
       "      <td>296.667121</td>\n",
       "      <td>0.398589</td>\n",
       "      <td>1536174.95</td>\n",
       "    </tr>\n",
       "    <tr>\n",
       "      <th>8001</th>\n",
       "      <td>33.878516</td>\n",
       "      <td>0.094583</td>\n",
       "      <td>85.724430</td>\n",
       "      <td>300.465465</td>\n",
       "      <td>0.407646</td>\n",
       "      <td>2111223.37</td>\n",
       "    </tr>\n",
       "    <tr>\n",
       "      <th>31097</th>\n",
       "      <td>11.845751</td>\n",
       "      <td>0.000000</td>\n",
       "      <td>197.586500</td>\n",
       "      <td>108.629224</td>\n",
       "      <td>0.851640</td>\n",
       "      <td>1594627.94</td>\n",
       "    </tr>\n",
       "    <tr>\n",
       "      <th>...</th>\n",
       "      <td>...</td>\n",
       "      <td>...</td>\n",
       "      <td>...</td>\n",
       "      <td>...</td>\n",
       "      <td>...</td>\n",
       "      <td>...</td>\n",
       "    </tr>\n",
       "    <tr>\n",
       "      <th>7596</th>\n",
       "      <td>36.262834</td>\n",
       "      <td>0.546875</td>\n",
       "      <td>74.362240</td>\n",
       "      <td>32.378801</td>\n",
       "      <td>0.483133</td>\n",
       "      <td>269639.60</td>\n",
       "    </tr>\n",
       "    <tr>\n",
       "      <th>36565</th>\n",
       "      <td>3.864767</td>\n",
       "      <td>0.422128</td>\n",
       "      <td>353.282200</td>\n",
       "      <td>84.405962</td>\n",
       "      <td>1.606316</td>\n",
       "      <td>1761368.40</td>\n",
       "    </tr>\n",
       "    <tr>\n",
       "      <th>11299</th>\n",
       "      <td>10.844943</td>\n",
       "      <td>0.000000</td>\n",
       "      <td>213.400400</td>\n",
       "      <td>686.206068</td>\n",
       "      <td>1.860157</td>\n",
       "      <td>22001926.78</td>\n",
       "    </tr>\n",
       "    <tr>\n",
       "      <th>6724</th>\n",
       "      <td>16.338128</td>\n",
       "      <td>0.056042</td>\n",
       "      <td>190.806200</td>\n",
       "      <td>322.134634</td>\n",
       "      <td>1.059653</td>\n",
       "      <td>5883799.95</td>\n",
       "    </tr>\n",
       "    <tr>\n",
       "      <th>2336</th>\n",
       "      <td>26.424988</td>\n",
       "      <td>0.066489</td>\n",
       "      <td>108.032200</td>\n",
       "      <td>7.714238</td>\n",
       "      <td>0.940639</td>\n",
       "      <td>136859.09</td>\n",
       "    </tr>\n",
       "  </tbody>\n",
       "</table>\n",
       "<p>1540 rows × 6 columns</p>\n",
       "</div>"
      ],
      "text/plain": [
       "       windspeed  rainfall24    distance       darea    yielda      dctrice\n",
       "31511  15.974263    0.007738  150.223900   19.625815  0.491842    166383.41\n",
       "31001  44.970222    2.393229    3.731118   12.878894  0.558085    123889.89\n",
       "38328   7.252452    3.350521  280.959300  296.667121  0.398589   1536174.95\n",
       "8001   33.878516    0.094583   85.724430  300.465465  0.407646   2111223.37\n",
       "31097  11.845751    0.000000  197.586500  108.629224  0.851640   1594627.94\n",
       "...          ...         ...         ...         ...       ...          ...\n",
       "7596   36.262834    0.546875   74.362240   32.378801  0.483133    269639.60\n",
       "36565   3.864767    0.422128  353.282200   84.405962  1.606316   1761368.40\n",
       "11299  10.844943    0.000000  213.400400  686.206068  1.860157  22001926.78\n",
       "6724   16.338128    0.056042  190.806200  322.134634  1.059653   5883799.95\n",
       "2336   26.424988    0.066489  108.032200    7.714238  0.940639    136859.09\n",
       "\n",
       "[1540 rows x 6 columns]"
      ]
     },
     "execution_count": 14,
     "metadata": {},
     "output_type": "execute_result"
    }
   ],
   "source": [
    "X_val"
   ]
  },
  {
   "cell_type": "code",
   "execution_count": 15,
   "metadata": {},
   "outputs": [
    {
     "data": {
      "text/html": [
       "<div>\n",
       "<style scoped>\n",
       "    .dataframe tbody tr th:only-of-type {\n",
       "        vertical-align: middle;\n",
       "    }\n",
       "\n",
       "    .dataframe tbody tr th {\n",
       "        vertical-align: top;\n",
       "    }\n",
       "\n",
       "    .dataframe thead th {\n",
       "        text-align: right;\n",
       "    }\n",
       "</style>\n",
       "<table border=\"1\" class=\"dataframe\">\n",
       "  <thead>\n",
       "    <tr style=\"text-align: right;\">\n",
       "      <th></th>\n",
       "      <th>rainfall6</th>\n",
       "    </tr>\n",
       "  </thead>\n",
       "  <tbody>\n",
       "    <tr>\n",
       "      <th>2998</th>\n",
       "      <td>0.125000</td>\n",
       "    </tr>\n",
       "    <tr>\n",
       "      <th>16149</th>\n",
       "      <td>1.173936</td>\n",
       "    </tr>\n",
       "    <tr>\n",
       "      <th>1106</th>\n",
       "      <td>3.116667</td>\n",
       "    </tr>\n",
       "    <tr>\n",
       "      <th>1368</th>\n",
       "      <td>7.781250</td>\n",
       "    </tr>\n",
       "    <tr>\n",
       "      <th>8530</th>\n",
       "      <td>1.170333</td>\n",
       "    </tr>\n",
       "    <tr>\n",
       "      <th>...</th>\n",
       "      <td>...</td>\n",
       "    </tr>\n",
       "    <tr>\n",
       "      <th>14774</th>\n",
       "      <td>1.720567</td>\n",
       "    </tr>\n",
       "    <tr>\n",
       "      <th>35629</th>\n",
       "      <td>1.876596</td>\n",
       "    </tr>\n",
       "    <tr>\n",
       "      <th>15169</th>\n",
       "      <td>3.620213</td>\n",
       "    </tr>\n",
       "    <tr>\n",
       "      <th>2172</th>\n",
       "      <td>4.078889</td>\n",
       "    </tr>\n",
       "    <tr>\n",
       "      <th>18976</th>\n",
       "      <td>8.208333</td>\n",
       "    </tr>\n",
       "  </tbody>\n",
       "</table>\n",
       "<p>12320 rows × 1 columns</p>\n",
       "</div>"
      ],
      "text/plain": [
       "       rainfall6\n",
       "2998    0.125000\n",
       "16149   1.173936\n",
       "1106    3.116667\n",
       "1368    7.781250\n",
       "8530    1.170333\n",
       "...          ...\n",
       "14774   1.720567\n",
       "35629   1.876596\n",
       "15169   3.620213\n",
       "2172    4.078889\n",
       "18976   8.208333\n",
       "\n",
       "[12320 rows x 1 columns]"
      ]
     },
     "execution_count": 15,
     "metadata": {},
     "output_type": "execute_result"
    }
   ],
   "source": [
    "y_train"
   ]
  },
  {
   "cell_type": "code",
   "execution_count": 16,
   "metadata": {},
   "outputs": [
    {
     "name": "stdout",
     "output_type": "stream",
     "text": [
      "(array([], dtype=int64), array([], dtype=int64))\n"
     ]
    }
   ],
   "source": [
    "# Null Remover\n",
    "\n",
    "nan_rows = X_train[X_train.isna().any(axis=1)].index\n",
    "X_train = X_train.drop(nan_rows)\n",
    "y_train = y_train.drop(nan_rows)\n",
    "\n",
    "print(np.where(pd.isnull(X_train)))"
   ]
  },
  {
   "cell_type": "code",
   "execution_count": 17,
   "metadata": {},
   "outputs": [
    {
     "name": "stdout",
     "output_type": "stream",
     "text": [
      "(array([], dtype=int64), array([], dtype=int64))\n"
     ]
    }
   ],
   "source": [
    "# Null Remover\n",
    "\n",
    "nan_rows = X_val[X_val.isna().any(axis=1)].index\n",
    "X_val = X_val.drop(nan_rows)\n",
    "y_val = y_val.drop(nan_rows)\n",
    "\n",
    "print(np.where(pd.isnull(X_val)))"
   ]
  },
  {
   "cell_type": "code",
   "execution_count": 18,
   "metadata": {},
   "outputs": [
    {
     "data": {
      "text/plain": [
       "((12320, 6), (12320, 1))"
      ]
     },
     "execution_count": 18,
     "metadata": {},
     "output_type": "execute_result"
    }
   ],
   "source": [
    "X_train.shape,y_train.shape"
   ]
  },
  {
   "cell_type": "code",
   "execution_count": 19,
   "metadata": {},
   "outputs": [],
   "source": [
    "nan_rows = X_test[X_test.isna().any(axis=1)].index\n",
    "X_test = X_test.drop(nan_rows)\n",
    "y_test = y_test.drop(nan_rows)"
   ]
  },
  {
   "cell_type": "code",
   "execution_count": null,
   "metadata": {},
   "outputs": [],
   "source": [
    "\n"
   ]
  },
  {
   "cell_type": "code",
   "execution_count": 20,
   "metadata": {},
   "outputs": [
    {
     "name": "stderr",
     "output_type": "stream",
     "text": [
      "c:\\Users\\Asus\\anaconda3\\lib\\site-packages\\sklearn\\ensemble\\_stacking.py:758: DataConversionWarning: A column-vector y was passed when a 1d array was expected. Please change the shape of y to (n_samples, ), for example using ravel().\n",
      "  y = column_or_1d(y, warn=True)\n"
     ]
    },
    {
     "data": {
      "text/plain": [
       "StackingRegressor(estimators=[('svr',\n",
       "                               Pipeline(steps=[('standardscaler',\n",
       "                                                StandardScaler()),\n",
       "                                               ('svr',\n",
       "                                                SVR(C=1, coef0=3, degree=2,\n",
       "                                                    gamma='auto',\n",
       "                                                    kernel='poly'))])),\n",
       "                              ('rf',\n",
       "                               Pipeline(steps=[('randomforestregressor',\n",
       "                                                RandomForestRegressor(max_depth=20,\n",
       "                                                                      max_leaf_nodes=100,\n",
       "                                                                      min_samples_leaf=2,\n",
       "                                                                      random_state=42))]))],\n",
       "                  final_estimator=RandomForestRegressor(max_depth=20,\n",
       "                                                        max_leaf_nodes=100,\n",
       "                                                        min_samples_leaf=2,\n",
       "                                                        random_state=42))"
      ]
     },
     "execution_count": 20,
     "metadata": {},
     "output_type": "execute_result"
    }
   ],
   "source": [
    "from sklearn.ensemble import StackingRegressor\n",
    "from sklearn.ensemble import RandomForestRegressor\n",
    "from joblib import load, dump\n",
    "from sklearn.metrics import mean_absolute_error\n",
    "from sklearn.metrics import explained_variance_score\n",
    "\n",
    "# Load the models\n",
    "svr_pipeline = load('SVR-RAINF6.joblib')\n",
    "rf = load('RFR-RAINF6.joblib')\n",
    "\n",
    "\n",
    "final_estimator = RandomForestRegressor(\n",
    "    \n",
    "    n_estimators=100, \n",
    "    max_depth=20, \n",
    "    min_samples_split=2, \n",
    "    min_samples_leaf=2, \n",
    "    max_leaf_nodes=100,\n",
    "    random_state=42,\n",
    ")\n",
    "\n",
    "# Create a StackingRegressor\n",
    "stacking_regressor = StackingRegressor(\n",
    "    estimators=[('svr', svr_pipeline), ('rf', rf)],\n",
    "    final_estimator=final_estimator\n",
    ")\n",
    "\n",
    "stacking_regressor.fit(X_train, y_train)\n"
   ]
  },
  {
   "cell_type": "code",
   "execution_count": 21,
   "metadata": {},
   "outputs": [
    {
     "name": "stdout",
     "output_type": "stream",
     "text": [
      "R-squared (Test): 0.9362361510957807\n",
      "Mean Absolute Error (Test): 0.6143247929561688\n",
      "\n",
      "R-squared (Validation): 0.9362501075344973\n",
      "Mean Absolute Error (Validation): 0.5642075471157437\n",
      "\n",
      "Explained Variance (Test): 0.9362367219515302\n",
      "Explained Variance (Validation): 0.9362502334609573\n",
      "\n",
      "Mean Absolute Error (Test, p.p.): 17.59939313132655%\n",
      "Mean Absolute Error (Validation, p.p.): 18.61593460533855%\n"
     ]
    }
   ],
   "source": [
    "\n",
    "predictions = stacking_regressor.predict(X_test)\n",
    "\n",
    "# Evaluate the model\n",
    "r2 = stacking_regressor.score(X_test, y_test)\n",
    "print(f'R-squared (Test): {r2}')\n",
    "\n",
    "mae = mean_absolute_error(y_test, predictions)\n",
    "print(f'Mean Absolute Error (Test): {mae}')\n",
    "\n",
    "predictionsVal = stacking_regressor.predict(X_val)\n",
    "\n",
    "# Evaluate the model\n",
    "\n",
    "\n",
    "r2 = stacking_regressor.score(X_val, y_val)\n",
    "print(f'\\nR-squared (Validation): {r2}')\n",
    "maev = mean_absolute_error(y_val, predictionsVal)\n",
    "print(f'Mean Absolute Error (Validation): {maev}')\n",
    "\n",
    "# Assuming `predictions` are the predicted values from your model\n",
    "explained_variance = explained_variance_score(y_test, predictions)\n",
    "print(f'\\nExplained Variance (Test): {explained_variance}')\n",
    "\n",
    "\n",
    "explained_variance = explained_variance_score(y_val, predictionsVal)\n",
    "print(f'Explained Variance (Validation): {explained_variance}')\n",
    "\n",
    "\n",
    "# Calculate and print MAE in percentage points for test set\n",
    "mae_percentage_test = (mae / y_test.values.mean()) * 100\n",
    "print(f'\\nMean Absolute Error (Test, p.p.): {mae_percentage_test}%')\n",
    "\n",
    "# Calculate and print MAE in percentage points for test set\n",
    "mae_percentage_val = (mae / y_val.values.mean()) * 100\n",
    "print(f'Mean Absolute Error (Validation, p.p.): {mae_percentage_val}%')\n"
   ]
  },
  {
   "cell_type": "code",
   "execution_count": 22,
   "metadata": {},
   "outputs": [
    {
     "name": "stdout",
     "output_type": "stream",
     "text": [
      "<class 'pandas.core.frame.DataFrame'>\n",
      "Int64Index: 12320 entries, 2998 to 18976\n",
      "Data columns (total 1 columns):\n",
      " #   Column     Non-Null Count  Dtype  \n",
      "---  ------     --------------  -----  \n",
      " 0   rainfall6  12320 non-null  float64\n",
      "dtypes: float64(1)\n",
      "memory usage: 192.5 KB\n"
     ]
    }
   ],
   "source": [
    "y_train.info()"
   ]
  },
  {
   "cell_type": "code",
   "execution_count": 23,
   "metadata": {},
   "outputs": [
    {
     "name": "stdout",
     "output_type": "stream",
     "text": [
      "['0.10', '6.38', '4.23', '0.22', '0.10', '6.50', '3.09', '10.82', '0.48', '0.10', '10.95', '1.66', '3.35', '5.65', '6.35', '8.90', '2.35', '2.35', '0.10', '0.48', '3.84', '3.53', '0.88', '1.61', '3.09', '3.87', '1.80', '2.00', '1.72', '18.61', '4.08', '2.40', '6.23', '5.90', '0.10', '3.09', '4.03', '0.48', '6.09', '9.42', '0.10', '5.63', '2.41', '6.45', '21.22', '4.23', '0.48', '10.96', '3.61', '0.10', '0.48', '0.10', '7.61', '3.85', '1.57', '2.40', '0.22', '0.10', '0.10', '3.47', '0.10', '0.48', '4.76', '3.09', '0.48', '12.76', '3.72', '3.09', '7.18', '0.48', '2.35', '12.15', '1.81', '7.18', '6.89', '7.62', '0.10', '0.10', '3.09', '0.48', '1.66', '0.88', '3.04', '2.36', '0.48', '0.10', '7.41', '3.09', '5.86', '4.06', '5.91', '10.66', '1.65', '2.58', '0.48', '3.41', '7.60', '0.48', '15.35', '0.88', '9.87', '4.34', '1.57', '5.79', '0.95', '0.10', '6.10', '3.48', '2.88', '0.10', '6.75', '11.23', '0.10', '1.74', '4.55', '0.56', '2.85', '3.09', '0.10', '4.09', '0.88', '0.10', '0.31', '0.10', '2.39', '3.73', '0.27', '0.10', '3.49', '5.09', '3.49', '7.81', '0.10', '1.57', '2.41', '3.76', '0.48', '2.39', '1.18', '11.50', '5.63', '1.02', '6.43', '2.06', '11.63', '0.22', '21.68', '0.43', '5.29', '3.75', '12.97', '0.10', '0.10', '4.03', '5.44', '0.48', '0.48', '3.09', '0.48', '2.33', '3.09', '1.81', '0.95', '0.10', '0.32', '1.17', '17.14', '7.96', '4.13', '6.07', '0.10', '2.86', '2.35', '4.77', '5.98', '8.15', '2.26', '0.22', '0.32', '2.35', '2.45', '1.80', '2.38', '1.65', '0.10', '11.88', '13.66', '0.10', '1.66', '0.10', '5.97', '6.01', '0.10', '3.51', '2.35', '3.09', '9.12', '7.35', '12.89', '3.09', '0.10', '0.10', '0.10', '3.09', '3.09', '13.80', '6.48', '5.92', '1.72', '1.81', '0.22', '1.18', '3.12', '3.09', '5.98', '0.48', '0.10', '3.09', '0.48', '0.10', '5.19', '6.07', '5.96', '0.10', '6.37', '2.39', '1.65', '0.10', '3.41', '0.48', '3.77', '2.42', '6.31', '0.10', '3.35', '8.36', '0.48', '4.67', '3.09', '3.59', '2.37', '0.48', '0.10', '0.10', '0.10', '8.94', '0.54', '0.10', '0.10', '2.35', '1.18', '3.09', '2.38', '0.10', '0.10', '1.74', '4.34', '3.09', '3.74', '0.10', '3.12', '1.18', '3.49', '1.60', '1.80', '10.12', '4.64', '0.56', '0.10', '0.10', '4.04', '1.81', '1.04', '3.09', '4.57', '0.48', '14.38', '7.88', '10.36', '0.48', '6.21', '7.55', '2.77', '10.07', '0.27', '6.32', '0.10', '2.45', '1.18', '0.48', '3.63', '0.10', '7.45', '2.98', '0.48', '0.10', '0.31', '0.10', '5.02', '0.10', '2.41', '4.24', '1.18', '6.10', '0.48', '6.72', '0.10', '5.24', '0.31', '7.08', '0.10', '3.81', '0.48', '0.10', '0.10', '3.50', '5.65', '0.48', '4.94', '0.10', '1.18', '4.47', '0.43', '5.52', '5.44', '3.09', '0.10', '1.72', '2.26', '0.10', '2.46', '0.10', '0.88', '1.07', '0.10', '0.10', '2.93', '4.72', '9.91', '7.51', '1.18', '2.40', '0.88', '7.53', '2.37', '3.09', '1.81', '0.10', '2.35', '3.68', '1.57', '0.10', '1.80', '6.05', '0.10', '2.35', '3.09', '0.10', '15.65', '0.88', '0.43', '4.02', '0.10', '6.49', '5.53', '4.04', '0.10', '3.08', '3.31', '0.10', '8.10', '7.17', '1.18', '3.84', '1.57', '3.16', '0.48', '0.10', '0.10', '0.43', '2.90', '0.10', '6.89', '0.97', '4.21', '1.18', '0.48', '1.18', '0.10', '0.48', '3.94', '0.88', '0.48', '3.78', '5.63', '1.81', '1.17', '5.62', '6.65', '0.27', '4.45', '3.48', '0.88', '1.84', '2.86', '8.22', '0.10', '2.89', '3.09', '3.40', '2.39', '1.57', '11.67', '1.65', '3.53', '5.91', '0.10', '0.10', '3.09', '4.02', '1.81', '3.46', '4.49', '1.77', '3.17', '5.50', '0.10', '4.53', '0.10', '3.48', '9.49', '2.90', '2.38', '3.05', '10.24', '5.44', '7.46', '6.94', '1.18', '5.95', '0.10', '7.04', '3.77', '0.10', '0.48', '0.58', '5.54', '3.09', '0.10', '0.48', '0.10', '0.48', '0.10', '0.10', '0.48', '15.96', '2.87', '3.48', '0.10', '2.41', '7.37', '0.10', '5.61', '9.88', '5.61', '3.09', '3.49', '0.22', '2.58', '5.86', '2.35', '2.83', '0.48', '3.32', '0.10', '4.08', '0.10', '0.88', '0.88', '9.37', '6.03', '1.80', '1.82', '4.06', '0.88', '0.10', '0.88', '0.10', '1.64', '0.10', '0.48', '3.09', '2.51', '6.36', '7.22', '4.75', '0.10', '2.35', '14.27', '3.09', '1.77', '6.90', '5.51', '0.10', '16.38', '0.10', '11.14', '1.18', '0.10', '2.49', '1.18', '0.10', '1.57', '12.02', '0.10', '0.10', '0.10', '5.50', '0.10', '0.10', '7.57', '0.10', '4.02', '10.00', '5.32', '1.74', '3.50', '4.66', '1.80', '0.10', '0.10', '0.88', '9.73', '5.70', '1.17', '0.10', '5.48', '0.48', '7.18', '1.81', '15.56', '6.63', '4.14', '7.43', '1.66', '3.83', '0.88', '4.21', '0.10', '2.39', '7.05', '5.86', '5.91', '0.95', '3.43', '0.10', '0.48', '0.31', '5.49', '8.46', '4.34', '4.24', '5.12', '13.61', '3.69', '0.10', '5.51', '1.18', '4.19', '2.46', '0.48', '2.39', '3.08', '0.44', '0.10', '0.10', '3.90', '7.33', '1.18', '1.18', '2.39', '0.88', '0.10', '0.86', '0.10', '3.09', '2.88', '0.22', '5.90', '3.09', '0.48', '2.83', '0.10', '0.10', '1.18', '1.17', '0.10', '13.87', '3.47', '0.48', '8.16', '2.63', '0.10', '1.18', '2.39', '5.91', '2.07', '6.01', '7.63', '1.75', '0.10', '0.10', '5.26', '1.76', '5.65', '0.31', '0.10', '1.80', '10.88', '1.17', '0.10', '0.10', '0.48', '2.25', '5.47', '4.26', '1.57', '3.09', '0.10', '5.71', '3.05', '3.09', '1.18', '3.09', '9.19', '7.26', '0.43', '0.10', '4.20', '4.19', '0.10', '0.95', '5.58', '0.10', '3.63', '11.00', '2.92', '3.68', '0.60', '0.48', '0.10', '3.67', '7.10', '11.66', '0.10', '6.74', '3.46', '1.18', '2.89', '6.69', '0.61', '3.79', '1.17', '0.10', '4.03', '0.10', '0.27', '0.10', '7.41', '0.10', '8.31', '0.10', '2.39', '2.86', '1.66', '0.10', '2.87', '0.48', '4.07', '0.87', '6.32', '0.10', '3.09', '7.60', '2.38', '0.88', '8.61', '3.39', '6.26', '0.89', '1.18', '1.80', '3.91', '2.45', '2.87', '2.35', '6.01', '2.39', '0.10', '7.98', '3.76', '1.57', '0.27', '14.01', '7.85', '3.09', '2.38', '1.18', '3.92', '0.86', '2.86', '5.48', '3.43', '0.10', '2.40', '6.49', '2.39', '4.33', '0.10', '1.76', '10.12', '1.72', '0.10', '5.90', '0.88', '0.22', '5.35', '3.09', '0.88', '5.97', '7.63', '0.48', '2.79', '7.11', '0.10', '0.22', '1.18', '3.09', '0.48', '0.11', '0.10', '11.87', '0.48', '5.04', '19.65', '3.10', '0.22', '6.68', '1.17', '3.13', '0.95', '3.87', '10.09', '3.68', '0.10', '0.10', '2.35', '0.44', '8.29', '0.48', '0.88', '0.10', '0.10', '3.09', '3.85', '0.10', '3.09', '0.12', '5.90', '13.87', '1.76', '0.10', '6.99', '13.82', '1.07', '5.93', '0.10', '0.48', '3.82', '4.86', '0.10', '2.03', '3.61', '12.51', '3.41', '2.38', '0.10', '2.04', '0.10', '0.10', '2.40', '1.18', '0.88', '2.35', '1.66', '0.87', '0.10', '4.24', '0.10', '4.12', '2.35', '0.48', '3.75', '1.18', '2.25', '0.10', '18.54', '0.48', '0.10', '5.56', '0.10', '0.10', '0.10', '8.76', '4.25', '3.09', '2.88', '0.43', '2.35', '3.09', '3.00', '3.09', '9.82', '2.39', '0.10', '0.10', '1.57', '0.56', '6.12', '7.61', '1.64', '2.29', '0.88', '2.88', '3.09', '1.66', '3.09', '6.66', '6.33', '0.48', '2.87', '4.02', '3.30', '3.46', '0.10', '2.38', '3.59', '1.57', '1.66', '0.10', '4.67', '3.09', '1.57', '3.09', '2.65', '1.72', '3.36', '0.10', '0.88', '0.48', '1.18', '3.87', '6.39', '0.10', '0.10', '5.65', '3.71', '5.04', '0.88', '6.07', '2.83', '3.23', '0.31', '3.87', '0.10', '3.65', '1.18', '4.35', '4.03', '0.10', '0.48', '7.17', '3.48', '4.21', '0.10', '0.10', '9.23', '0.10', '3.09', '4.46', '4.26', '10.62', '7.17', '4.95', '0.10', '5.33', '2.44', '0.48', '0.10', '6.63', '3.77', '8.40', '3.06', '17.16', '0.88', '2.42', '0.48', '3.79', '6.03', '1.18', '7.61', '7.79', '9.87', '0.10', '3.40', '11.43', '0.31', '6.03', '3.09', '3.84', '1.18', '0.10', '0.10', '3.42', '1.58', '6.06', '2.25', '1.87', '0.22', '0.22', '4.90', '0.10', '6.04', '0.10', '0.88', '5.87', '0.10', '3.09', '9.39', '2.38', '0.88', '5.60', '1.18', '0.48', '2.38', '3.28', '3.09', '0.48', '0.27', '3.71', '3.65', '0.48', '0.10', '2.69', '5.86', '3.24', '2.86', '3.53', '0.95', '4.41', '0.10', '0.10', '0.10', '6.47', '2.35', '3.73', '1.18', '0.10', '1.66', '5.94', '0.43', '4.53', '3.09', '12.57', '3.88', '3.43', '0.95', '2.39', '0.48', '4.10', '2.92', '10.10', '3.84', '0.87', '3.85', '10.17', '0.48', '5.91', '1.64', '4.07', '3.06', '2.87', '16.97', '3.83', '1.60', '0.10', '5.51', '3.55', '2.35', '0.10', '3.74', '5.92', '1.57', '6.23', '0.44', '3.10', '0.22', '3.09', '2.83', '5.60', '0.10', '0.10', '2.63', '0.10', '0.10', '0.88', '5.18', '0.10', '2.88', '7.70', '9.29', '2.40', '0.43', '7.58', '12.67', '11.12', '1.18', '0.10', '0.10', '0.61', '0.48', '2.87', '2.40', '0.10', '0.31', '6.49', '3.38', '6.29', '5.07', '1.65', '2.59', '3.09', '4.09', '2.75', '1.65', '2.96', '0.10', '2.39', '1.18', '3.05', '2.38', '2.60', '10.48', '0.31', '4.34', '0.27', '2.45', '1.66', '5.58', '2.40', '0.10', '0.10', '3.66', '5.26', '0.48', '6.12', '4.89', '1.18', '3.17', '0.10', '6.09', '0.31', '0.48', '0.48', '0.88', '0.10', '4.28', '10.11', '3.16', '0.48', '1.80', '3.25', '5.91', '2.39', '5.96', '0.27', '0.48', '3.77', '3.72', '16.76', '0.86', '2.39', '6.69', '5.35', '0.56', '0.48', '8.55', '2.97', '7.95', '0.10', '5.39', '7.01', '7.10', '0.54', '0.48', '6.64', '2.35', '5.49', '2.42', '12.14', '0.48', '14.88', '1.18', '2.06', '2.75', '0.48', '2.35', '1.81', '5.82', '0.10', '4.33', '4.38', '8.22', '3.85', '2.35', '2.65', '5.21', '24.35', '8.46', '6.56', '0.10', '0.10', '2.35', '0.10', '1.76', '9.73', '0.10', '11.56', '0.10', '2.38', '6.67', '10.78', '0.10', '1.81', '2.46', '4.62', '3.50', '1.18', '6.21', '2.39', '0.48', '3.09', '10.64', '0.10', '3.39', '0.31', '2.05', '0.48', '5.60', '2.41', '3.92', '9.49', '2.35', '2.74', '0.10', '3.49', '6.83', '1.18', '1.65', '12.36', '19.40', '2.35', '0.10', '0.10', '4.21', '8.23', '0.10', '3.53', '0.89', '6.18', '3.73', '6.33', '0.10', '10.10', '5.88', '0.10', '0.10', '0.32', '5.61', '2.96', '0.55', '7.63', '0.48', '5.49', '0.88', '0.43', '0.10', '6.02', '5.53', '7.75', '3.09', '3.31', '5.74', '5.94', '1.74', '2.41', '1.66', '5.32', '6.23', '5.64', '0.10', '3.64', '0.48', '2.86', '1.60', '2.79', '3.67', '1.57', '3.09', '2.86', '1.18', '0.31', '1.66', '0.22', '2.79', '8.82', '5.84', '0.27', '0.48', '3.09', '2.29', '1.61', '3.76', '0.10', '0.10', '10.87', '1.65', '0.48', '0.89', '8.18', '0.88', '5.56', '2.39', '12.95', '5.03', '0.48', '6.67', '3.47', '0.10', '0.10', '0.95', '0.10', '0.48', '12.57', '2.35', '0.10', '3.09', '0.10', '3.07', '0.88', '0.48', '0.44', '1.18', '1.18', '0.10', '1.18', '0.27', '8.24', '3.09', '0.86', '0.10', '2.59', '1.77', '5.52', '5.99', '0.10', '0.10', '1.66', '2.48', '5.73', '8.56', '6.64', '11.00', '0.10', '3.02', '3.33', '3.74', '2.39', '0.10', '2.77', '3.74', '3.09', '2.90', '0.10', '1.76', '0.10', '0.48', '11.63', '3.90', '6.26', '0.10', '0.10', '5.90', '4.84', '1.68', '16.95', '4.20', '5.28', '3.09', '4.49', '2.62', '3.09', '3.90', '0.10', '0.44', '10.04', '1.65', '1.18', '3.74', '0.10', '4.71', '3.72', '3.47', '3.65', '5.94', '1.18', '2.75', '2.39', '0.22', '5.92', '5.75', '7.17', '0.10', '6.89', '0.88', '0.48', '0.10', '2.39', '0.10', '3.42', '0.27', '7.73', '2.66', '0.48', '0.10', '6.17', '0.48', '3.09', '0.10', '3.09', '0.10', '0.87', '0.10', '0.48', '2.65', '0.10', '0.10', '0.22', '0.43', '0.48', '3.20', '0.10', '0.87', '0.10', '3.86', '9.63', '0.10', '1.66', '3.85', '3.30', '9.75', '3.36', '4.02', '3.10', '9.27', '16.58', '2.96', '2.35', '13.52', '4.65', '2.87', '3.78', '1.65', '3.09', '0.27', '3.43', '2.35', '0.48', '0.10', '0.48', '1.66', '6.21', '3.41', '3.06', '6.67', '1.66', '10.93', '4.03', '6.51', '2.81', '0.10', '3.09', '3.08', '1.66', '1.65', '1.72', '5.61', '2.44', '2.38', '3.78', '2.56', '0.43', '2.83', '0.10', '7.61', '6.90', '3.03', '4.09', '2.25', '7.36', '3.65', '5.98', '5.61', '10.15', '0.48', '1.18', '3.57', '3.42', '7.41', '0.10', '0.10', '2.92', '3.09', '1.82', '0.10', '3.53', '1.76', '0.22', '0.48', '6.87', '0.10', '4.78', '3.16', '0.31', '0.10', '4.07', '5.90', '0.27', '8.26', '0.10', '7.60', '0.10', '0.10', '2.38', '5.09', '3.34', '1.95', '14.68', '3.09', '6.65', '0.10', '3.78', '3.02', '2.35', '21.91', '3.50', '0.10', '1.66', '10.78', '6.68', '6.02', '0.10', '3.09', '1.72', '1.01', '2.41', '0.10', '2.40', '1.66', '2.47', '6.20', '3.71', '7.59', '3.09', '2.88', '12.46', '0.10', '2.37', '2.87', '0.44', '0.22', '0.10', '3.53', '6.16', '0.22', '0.43', '3.09', '0.31', '7.36', '10.51', '10.04', '0.10', '2.87', '5.86', '4.48', '5.91', '2.87', '4.31', '0.10', '0.48', '6.01', '1.65', '0.10', '0.48', '3.84', '12.21', '5.58', '1.81', '0.10', '0.10', '1.57', '1.18', '3.46', '2.49', '1.18', '1.82', '3.68', '15.38', '2.86', '6.50', '6.19', '4.04', '0.10', '3.87', '18.41', '1.77', '0.88', '0.10', '0.10', '0.10']\n"
     ]
    }
   ],
   "source": [
    "print(['{:.2f}'.format(pred) for pred in predictionsVal])"
   ]
  },
  {
   "cell_type": "code",
   "execution_count": 24,
   "metadata": {},
   "outputs": [
    {
     "data": {
      "image/png": "[encoded data removed]",
      "text/plain": [
       "<Figure size 640x480 with 1 Axes>"
      ]
     },
     "metadata": {},
     "output_type": "display_data"
    }
   ],
   "source": [
    "import matplotlib.pyplot as plt\n",
    "\n",
    "# Make predictions\n",
    "predictions = stacking_regressor.predict(X_test)\n",
    "\n",
    "# Create a scatter plot\n",
    "plt.scatter(y_test, predictions)\n",
    "plt.xlabel('Actual Values')\n",
    "plt.ylabel('Predicted Values')\n",
    "plt.title('METAMODEL: Actual vs Predicted Values')\n",
    "\n",
    "# Diagonal line\n",
    "limits = [np.min([plt.xlim(), plt.ylim()]),  # find the lower limit among x and y axes\n",
    "          np.max([plt.xlim(), plt.ylim()])]  # find the upper limit among x and y axes\n",
    "plt.plot(limits, limits, color='red')\n",
    "\n",
    "plt.show()"
   ]
  },
  {
   "cell_type": "code",
   "execution_count": 25,
   "metadata": {},
   "outputs": [
    {
     "data": {
      "image/png": "[encoded data removed]",
      "text/plain": [
       "<Figure size 640x480 with 1 Axes>"
      ]
     },
     "metadata": {},
     "output_type": "display_data"
    }
   ],
   "source": [
    "import matplotlib.pyplot as plt\n",
    "\n",
    "# Make predictions\n",
    "predictionsVal = stacking_regressor.predict(X_val)\n",
    "\n",
    "# Create a scatter plot\n",
    "plt.scatter(y_val, predictionsVal)\n",
    "plt.xlabel('Actual Values')\n",
    "plt.ylabel('Predicted Values')\n",
    "plt.title('METAMODEL: Actual vs Predicted Values')\n",
    "\n",
    "# Diagonal line\n",
    "limits = [np.min([plt.xlim(), plt.ylim()]),  # find the lower limit among x and y axes\n",
    "          np.max([plt.xlim(), plt.ylim()])]  # find the upper limit among x and y axes\n",
    "plt.plot(limits, limits, color='red')\n",
    "\n",
    "plt.show()"
   ]
  },
  {
   "cell_type": "code",
   "execution_count": 26,
   "metadata": {},
   "outputs": [
    {
     "name": "stdout",
     "output_type": "stream",
     "text": [
      "       Actual Predicted\n",
      "0    0.014583      0.10\n",
      "1    4.431667      3.40\n",
      "2    0.177083      0.10\n",
      "3    0.983333      0.97\n",
      "4    2.229167      2.38\n",
      "5    8.483333      7.35\n",
      "6    3.989628      6.37\n",
      "7    6.446667      5.02\n",
      "8    0.397222      0.48\n",
      "9    2.296277      3.54\n",
      "10   3.972917      2.35\n",
      "11   3.369149      3.71\n",
      "12   1.814286      1.72\n",
      "13   2.469444      3.09\n",
      "14   3.638095      4.29\n",
      "15   0.012500      0.10\n",
      "16  11.616670     10.93\n",
      "17   2.291667      1.66\n",
      "18   0.000000      0.10\n",
      "19  16.500000     16.06\n"
     ]
    }
   ],
   "source": [
    "import pandas as pd\n",
    "import numpy as np\n",
    "\n",
    "# Ensure y_test and predictions are 1-dimensional\n",
    "y_test = np.ravel(y_test)\n",
    "predictions = np.ravel(predictions)\n",
    "\n",
    "# Create a DataFrame with actual and predicted values\n",
    "df = pd.DataFrame({'Actual': y_test, 'Predicted': ['{:.2f}'.format(pred) for pred in predictions]})\n",
    "\n",
    "# Display the DataFrame\n",
    "print(df.head(20).to_string(index=True))"
   ]
  },
  {
   "cell_type": "code",
   "execution_count": 27,
   "metadata": {},
   "outputs": [
    {
     "name": "stderr",
     "output_type": "stream",
     "text": [
      "c:\\Users\\Asus\\anaconda3\\lib\\site-packages\\sklearn\\ensemble\\_stacking.py:758: DataConversionWarning: A column-vector y was passed when a 1d array was expected. Please change the shape of y to (n_samples, ), for example using ravel().\n",
      "  y = column_or_1d(y, warn=True)\n"
     ]
    },
    {
     "data": {
      "text/plain": [
       "['STACKED-SVR_RF-RAINFALL6.joblib']"
      ]
     },
     "execution_count": 27,
     "metadata": {},
     "output_type": "execute_result"
    }
   ],
   "source": [
    "from sklearn.pipeline import make_pipeline\n",
    "from joblib import dump\n",
    "\n",
    "pipeline = make_pipeline(stacking_regressor)\n",
    "\n",
    "# Fit the pipeline\n",
    "pipeline.fit(X_train, y_train)\n",
    "\n",
    "# Save the pipeline\n",
    "dump(pipeline, 'STACKED-SVR_RF-RAINFALL6.joblib')"
   ]
  }
 ],
 "metadata": {
  "kernelspec": {
   "display_name": "base",
   "language": "python",
   "name": "python3"
  },
  "language_info": {
   "codemirror_mode": {
    "name": "ipython",
    "version": 3
   },
   "file_extension": ".py",
   "mimetype": "text/x-python",
   "name": "python",
   "nbconvert_exporter": "python",
   "pygments_lexer": "ipython3",
   "version": "3.9.13"
  }
 },
 "nbformat": 4,
 "nbformat_minor": 2
}
