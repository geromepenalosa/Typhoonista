{
 "cells": [
  {
   "cell_type": "code",
   "execution_count": 1,
   "metadata": {},
   "outputs": [],
   "source": [
    "\n",
    "# Import necessary libraries\n",
    "import pandas as pd\n",
    "import numpy as np\n",
    "from sklearn.ensemble import RandomForestRegressor\n",
    "from sklearn.model_selection import train_test_split\n",
    "from sklearn.preprocessing import StandardScaler\n",
    "from sklearn.metrics import mean_squared_error\n",
    "\n",
    "# Load the dataset\n",
    "df = pd.read_csv('TEST (1).csv')"
   ]
  },
  {
   "cell_type": "code",
   "execution_count": 2,
   "metadata": {},
   "outputs": [
    {
     "data": {
      "text/html": [
       "<div>\n",
       "<style scoped>\n",
       "    .dataframe tbody tr th:only-of-type {\n",
       "        vertical-align: middle;\n",
       "    }\n",
       "\n",
       "    .dataframe tbody tr th {\n",
       "        vertical-align: top;\n",
       "    }\n",
       "\n",
       "    .dataframe thead th {\n",
       "        text-align: right;\n",
       "    }\n",
       "</style>\n",
       "<table border=\"1\" class=\"dataframe\">\n",
       "  <thead>\n",
       "    <tr style=\"text-align: right;\">\n",
       "      <th></th>\n",
       "      <th>windspeed</th>\n",
       "      <th>rainfall24</th>\n",
       "      <th>rainfall6</th>\n",
       "      <th>rainfallaverage</th>\n",
       "      <th>area</th>\n",
       "      <th>yield</th>\n",
       "      <th>distance</th>\n",
       "      <th>areayieldrataio</th>\n",
       "      <th>percentageofarea</th>\n",
       "      <th>darea</th>\n",
       "      <th>yielda</th>\n",
       "      <th>fgprice</th>\n",
       "      <th>dctrice</th>\n",
       "    </tr>\n",
       "  </thead>\n",
       "  <tbody>\n",
       "    <tr>\n",
       "      <th>0</th>\n",
       "      <td>0.000000</td>\n",
       "      <td>1.535972</td>\n",
       "      <td>3.032222</td>\n",
       "      <td>0.959983</td>\n",
       "      <td>2870.00</td>\n",
       "      <td>3.37</td>\n",
       "      <td>0.00000</td>\n",
       "      <td>851.632047</td>\n",
       "      <td>0.247070</td>\n",
       "      <td>709.091324</td>\n",
       "      <td>0.832626</td>\n",
       "      <td>20.79</td>\n",
       "      <td>1.113550e+07</td>\n",
       "    </tr>\n",
       "    <tr>\n",
       "      <th>1</th>\n",
       "      <td>0.000000</td>\n",
       "      <td>2.141071</td>\n",
       "      <td>3.942857</td>\n",
       "      <td>1.338170</td>\n",
       "      <td>491.00</td>\n",
       "      <td>4.36</td>\n",
       "      <td>0.00000</td>\n",
       "      <td>112.614679</td>\n",
       "      <td>0.244428</td>\n",
       "      <td>120.014173</td>\n",
       "      <td>1.065706</td>\n",
       "      <td>20.79</td>\n",
       "      <td>2.412279e+06</td>\n",
       "    </tr>\n",
       "    <tr>\n",
       "      <th>2</th>\n",
       "      <td>7.116629</td>\n",
       "      <td>5.809375</td>\n",
       "      <td>20.589580</td>\n",
       "      <td>3.630859</td>\n",
       "      <td>1330.88</td>\n",
       "      <td>4.42</td>\n",
       "      <td>385.79860</td>\n",
       "      <td>301.104072</td>\n",
       "      <td>0.312983</td>\n",
       "      <td>416.543187</td>\n",
       "      <td>1.383386</td>\n",
       "      <td>20.79</td>\n",
       "      <td>1.086828e+07</td>\n",
       "    </tr>\n",
       "    <tr>\n",
       "      <th>3</th>\n",
       "      <td>67.089467</td>\n",
       "      <td>3.908854</td>\n",
       "      <td>11.341670</td>\n",
       "      <td>2.443034</td>\n",
       "      <td>5767.00</td>\n",
       "      <td>4.65</td>\n",
       "      <td>26.26015</td>\n",
       "      <td>1240.215054</td>\n",
       "      <td>0.567852</td>\n",
       "      <td>3274.800267</td>\n",
       "      <td>2.640510</td>\n",
       "      <td>20.79</td>\n",
       "      <td>1.630911e+08</td>\n",
       "    </tr>\n",
       "    <tr>\n",
       "      <th>4</th>\n",
       "      <td>0.000000</td>\n",
       "      <td>0.805469</td>\n",
       "      <td>1.580208</td>\n",
       "      <td>0.503418</td>\n",
       "      <td>4710.00</td>\n",
       "      <td>4.14</td>\n",
       "      <td>0.00000</td>\n",
       "      <td>1137.681159</td>\n",
       "      <td>0.130472</td>\n",
       "      <td>614.521934</td>\n",
       "      <td>0.540153</td>\n",
       "      <td>20.79</td>\n",
       "      <td>6.260539e+06</td>\n",
       "    </tr>\n",
       "    <tr>\n",
       "      <th>...</th>\n",
       "      <td>...</td>\n",
       "      <td>...</td>\n",
       "      <td>...</td>\n",
       "      <td>...</td>\n",
       "      <td>...</td>\n",
       "      <td>...</td>\n",
       "      <td>...</td>\n",
       "      <td>...</td>\n",
       "      <td>...</td>\n",
       "      <td>...</td>\n",
       "      <td>...</td>\n",
       "      <td>...</td>\n",
       "      <td>...</td>\n",
       "    </tr>\n",
       "    <tr>\n",
       "      <th>39739</th>\n",
       "      <td>8.841748</td>\n",
       "      <td>2.292639</td>\n",
       "      <td>4.211667</td>\n",
       "      <td>1.432899</td>\n",
       "      <td>916.00</td>\n",
       "      <td>3.16</td>\n",
       "      <td>392.92250</td>\n",
       "      <td>289.873418</td>\n",
       "      <td>0.203710</td>\n",
       "      <td>186.598393</td>\n",
       "      <td>0.643724</td>\n",
       "      <td>20.79</td>\n",
       "      <td>2.265505e+06</td>\n",
       "    </tr>\n",
       "    <tr>\n",
       "      <th>39740</th>\n",
       "      <td>0.000000</td>\n",
       "      <td>0.030208</td>\n",
       "      <td>0.062500</td>\n",
       "      <td>0.018880</td>\n",
       "      <td>1046.00</td>\n",
       "      <td>3.07</td>\n",
       "      <td>0.00000</td>\n",
       "      <td>340.716612</td>\n",
       "      <td>0.556501</td>\n",
       "      <td>582.100434</td>\n",
       "      <td>1.708459</td>\n",
       "      <td>20.79</td>\n",
       "      <td>1.875686e+07</td>\n",
       "    </tr>\n",
       "    <tr>\n",
       "      <th>39741</th>\n",
       "      <td>8.575491</td>\n",
       "      <td>2.652500</td>\n",
       "      <td>5.460000</td>\n",
       "      <td>1.657812</td>\n",
       "      <td>753.00</td>\n",
       "      <td>4.52</td>\n",
       "      <td>291.88280</td>\n",
       "      <td>166.592920</td>\n",
       "      <td>0.161440</td>\n",
       "      <td>121.564092</td>\n",
       "      <td>0.729707</td>\n",
       "      <td>20.79</td>\n",
       "      <td>1.673060e+06</td>\n",
       "    </tr>\n",
       "    <tr>\n",
       "      <th>39742</th>\n",
       "      <td>9.387123</td>\n",
       "      <td>1.696181</td>\n",
       "      <td>3.348611</td>\n",
       "      <td>1.060113</td>\n",
       "      <td>99.00</td>\n",
       "      <td>1.93</td>\n",
       "      <td>496.10710</td>\n",
       "      <td>51.295337</td>\n",
       "      <td>0.154780</td>\n",
       "      <td>15.323183</td>\n",
       "      <td>0.298725</td>\n",
       "      <td>20.79</td>\n",
       "      <td>8.633316e+04</td>\n",
       "    </tr>\n",
       "    <tr>\n",
       "      <th>39743</th>\n",
       "      <td>0.000000</td>\n",
       "      <td>1.071354</td>\n",
       "      <td>2.250000</td>\n",
       "      <td>0.669596</td>\n",
       "      <td>2219.00</td>\n",
       "      <td>4.21</td>\n",
       "      <td>0.00000</td>\n",
       "      <td>527.078385</td>\n",
       "      <td>0.084933</td>\n",
       "      <td>188.466571</td>\n",
       "      <td>0.357568</td>\n",
       "      <td>20.79</td>\n",
       "      <td>1.271016e+06</td>\n",
       "    </tr>\n",
       "  </tbody>\n",
       "</table>\n",
       "<p>39744 rows × 13 columns</p>\n",
       "</div>"
      ],
      "text/plain": [
       "       windspeed  rainfall24  rainfall6  rainfallaverage     area  yield  \\\n",
       "0       0.000000    1.535972   3.032222         0.959983  2870.00   3.37   \n",
       "1       0.000000    2.141071   3.942857         1.338170   491.00   4.36   \n",
       "2       7.116629    5.809375  20.589580         3.630859  1330.88   4.42   \n",
       "3      67.089467    3.908854  11.341670         2.443034  5767.00   4.65   \n",
       "4       0.000000    0.805469   1.580208         0.503418  4710.00   4.14   \n",
       "...          ...         ...        ...              ...      ...    ...   \n",
       "39739   8.841748    2.292639   4.211667         1.432899   916.00   3.16   \n",
       "39740   0.000000    0.030208   0.062500         0.018880  1046.00   3.07   \n",
       "39741   8.575491    2.652500   5.460000         1.657812   753.00   4.52   \n",
       "39742   9.387123    1.696181   3.348611         1.060113    99.00   1.93   \n",
       "39743   0.000000    1.071354   2.250000         0.669596  2219.00   4.21   \n",
       "\n",
       "        distance  areayieldrataio  percentageofarea        darea    yielda  \\\n",
       "0        0.00000       851.632047          0.247070   709.091324  0.832626   \n",
       "1        0.00000       112.614679          0.244428   120.014173  1.065706   \n",
       "2      385.79860       301.104072          0.312983   416.543187  1.383386   \n",
       "3       26.26015      1240.215054          0.567852  3274.800267  2.640510   \n",
       "4        0.00000      1137.681159          0.130472   614.521934  0.540153   \n",
       "...          ...              ...               ...          ...       ...   \n",
       "39739  392.92250       289.873418          0.203710   186.598393  0.643724   \n",
       "39740    0.00000       340.716612          0.556501   582.100434  1.708459   \n",
       "39741  291.88280       166.592920          0.161440   121.564092  0.729707   \n",
       "39742  496.10710        51.295337          0.154780    15.323183  0.298725   \n",
       "39743    0.00000       527.078385          0.084933   188.466571  0.357568   \n",
       "\n",
       "       fgprice       dctrice  \n",
       "0        20.79  1.113550e+07  \n",
       "1        20.79  2.412279e+06  \n",
       "2        20.79  1.086828e+07  \n",
       "3        20.79  1.630911e+08  \n",
       "4        20.79  6.260539e+06  \n",
       "...        ...           ...  \n",
       "39739    20.79  2.265505e+06  \n",
       "39740    20.79  1.875686e+07  \n",
       "39741    20.79  1.673060e+06  \n",
       "39742    20.79  8.633316e+04  \n",
       "39743    20.79  1.271016e+06  \n",
       "\n",
       "[39744 rows x 13 columns]"
      ]
     },
     "execution_count": 2,
     "metadata": {},
     "output_type": "execute_result"
    }
   ],
   "source": [
    "df"
   ]
  },
  {
   "cell_type": "code",
   "execution_count": 3,
   "metadata": {},
   "outputs": [],
   "source": [
    "# Split the dataset into features and target variable\n",
    "X = df.drop(['percentageofarea','area','areayieldrataio','yield','rainfallaverage','fgprice','distance'], axis=1)\n",
    "y = df.drop(['darea','percentageofarea','yielda','dctrice','windspeed','rainfall24','rainfallaverage','areayieldrataio','area', 'yield', 'fgprice','rainfall6'], axis=1)"
   ]
  },
  {
   "cell_type": "code",
   "execution_count": 4,
   "metadata": {},
   "outputs": [],
   "source": [
    "# Remove the rows with zero values from the training set and testing set\n",
    "mask = X['windspeed'] != 0\n",
    "\n",
    "# Apply the mask to X_train\n",
    "X = X[mask]\n",
    "\n",
    "# Apply the mask to y_train\n",
    "y = y[mask]"
   ]
  },
  {
   "cell_type": "code",
   "execution_count": 5,
   "metadata": {},
   "outputs": [],
   "source": [
    "# Remove the rows with zero values from the training set and testing set\n",
    "mask =X['dctrice'] != 0\n",
    "\n",
    "# Apply the mask to y_train\n",
    "y = y[mask]\n",
    "\n",
    "# Apply the mask to X_train\n",
    "X = X[mask]"
   ]
  },
  {
   "cell_type": "code",
   "execution_count": 6,
   "metadata": {},
   "outputs": [
    {
     "data": {
      "text/plain": [
       "((15401, 6), (15401, 1))"
      ]
     },
     "execution_count": 6,
     "metadata": {},
     "output_type": "execute_result"
    }
   ],
   "source": [
    "X.shape, y.shape"
   ]
  },
  {
   "cell_type": "code",
   "execution_count": 7,
   "metadata": {},
   "outputs": [],
   "source": [
    "# Training and Temporary Set (80-20 split)\n",
    "X_train, X_temp, y_train, y_temp = train_test_split(X, y, test_size=0.2, random_state=42)\n",
    "\n",
    "# Temporary set into a validation set and a test set using (50-50 split)\n",
    "X_val, X_test, y_val, y_test = train_test_split(X_temp, y_temp, test_size=0.5, random_state=42)"
   ]
  },
  {
   "cell_type": "code",
   "execution_count": 8,
   "metadata": {},
   "outputs": [
    {
     "data": {
      "text/html": [
       "<div>\n",
       "<style scoped>\n",
       "    .dataframe tbody tr th:only-of-type {\n",
       "        vertical-align: middle;\n",
       "    }\n",
       "\n",
       "    .dataframe tbody tr th {\n",
       "        vertical-align: top;\n",
       "    }\n",
       "\n",
       "    .dataframe thead th {\n",
       "        text-align: right;\n",
       "    }\n",
       "</style>\n",
       "<table border=\"1\" class=\"dataframe\">\n",
       "  <thead>\n",
       "    <tr style=\"text-align: right;\">\n",
       "      <th></th>\n",
       "      <th>distance</th>\n",
       "    </tr>\n",
       "  </thead>\n",
       "  <tbody>\n",
       "    <tr>\n",
       "      <th>2998</th>\n",
       "      <td>100.51080</td>\n",
       "    </tr>\n",
       "    <tr>\n",
       "      <th>16149</th>\n",
       "      <td>252.81010</td>\n",
       "    </tr>\n",
       "    <tr>\n",
       "      <th>1106</th>\n",
       "      <td>76.43904</td>\n",
       "    </tr>\n",
       "    <tr>\n",
       "      <th>1368</th>\n",
       "      <td>387.10950</td>\n",
       "    </tr>\n",
       "    <tr>\n",
       "      <th>8530</th>\n",
       "      <td>317.99430</td>\n",
       "    </tr>\n",
       "    <tr>\n",
       "      <th>...</th>\n",
       "      <td>...</td>\n",
       "    </tr>\n",
       "    <tr>\n",
       "      <th>14774</th>\n",
       "      <td>268.58180</td>\n",
       "    </tr>\n",
       "    <tr>\n",
       "      <th>35629</th>\n",
       "      <td>341.90320</td>\n",
       "    </tr>\n",
       "    <tr>\n",
       "      <th>15169</th>\n",
       "      <td>267.90360</td>\n",
       "    </tr>\n",
       "    <tr>\n",
       "      <th>2172</th>\n",
       "      <td>130.10760</td>\n",
       "    </tr>\n",
       "    <tr>\n",
       "      <th>18976</th>\n",
       "      <td>19.93087</td>\n",
       "    </tr>\n",
       "  </tbody>\n",
       "</table>\n",
       "<p>12320 rows × 1 columns</p>\n",
       "</div>"
      ],
      "text/plain": [
       "        distance\n",
       "2998   100.51080\n",
       "16149  252.81010\n",
       "1106    76.43904\n",
       "1368   387.10950\n",
       "8530   317.99430\n",
       "...          ...\n",
       "14774  268.58180\n",
       "35629  341.90320\n",
       "15169  267.90360\n",
       "2172   130.10760\n",
       "18976   19.93087\n",
       "\n",
       "[12320 rows x 1 columns]"
      ]
     },
     "execution_count": 8,
     "metadata": {},
     "output_type": "execute_result"
    }
   ],
   "source": [
    "y_train"
   ]
  },
  {
   "cell_type": "code",
   "execution_count": 9,
   "metadata": {},
   "outputs": [
    {
     "data": {
      "text/plain": [
       "((12320, 6), (12320, 1))"
      ]
     },
     "execution_count": 9,
     "metadata": {},
     "output_type": "execute_result"
    }
   ],
   "source": [
    "X_train.shape, y_train.shape"
   ]
  },
  {
   "cell_type": "code",
   "execution_count": 10,
   "metadata": {},
   "outputs": [
    {
     "name": "stdout",
     "output_type": "stream",
     "text": [
      "<class 'pandas.core.frame.DataFrame'>\n",
      "Int64Index: 12320 entries, 2998 to 18976\n",
      "Data columns (total 1 columns):\n",
      " #   Column    Non-Null Count  Dtype  \n",
      "---  ------    --------------  -----  \n",
      " 0   distance  12320 non-null  float64\n",
      "dtypes: float64(1)\n",
      "memory usage: 192.5 KB\n",
      "<class 'pandas.core.frame.DataFrame'>\n",
      "Int64Index: 12320 entries, 2998 to 18976\n",
      "Data columns (total 6 columns):\n",
      " #   Column      Non-Null Count  Dtype  \n",
      "---  ------      --------------  -----  \n",
      " 0   windspeed   12320 non-null  float64\n",
      " 1   rainfall24  12320 non-null  float64\n",
      " 2   rainfall6   12320 non-null  float64\n",
      " 3   darea       12320 non-null  float64\n",
      " 4   yielda      12320 non-null  float64\n",
      " 5   dctrice     12320 non-null  float64\n",
      "dtypes: float64(6)\n",
      "memory usage: 673.8 KB\n"
     ]
    }
   ],
   "source": [
    "y_train.info()\n",
    "X_train.info()"
   ]
  },
  {
   "cell_type": "code",
   "execution_count": 11,
   "metadata": {},
   "outputs": [],
   "source": [
    "X_test = pd.DataFrame(X_test).apply(pd.to_numeric, errors='coerce')\n",
    "X_train = pd.DataFrame(X_train).apply(pd.to_numeric, errors='coerce')\n",
    "y_train = pd.DataFrame(y_train).apply(pd.to_numeric, errors='coerce')\n",
    "y_test = pd.DataFrame(y_test).apply(pd.to_numeric, errors='coerce')"
   ]
  },
  {
   "cell_type": "code",
   "execution_count": 12,
   "metadata": {},
   "outputs": [
    {
     "data": {
      "text/plain": [
       "((12320, 6), (12320, 1))"
      ]
     },
     "execution_count": 12,
     "metadata": {},
     "output_type": "execute_result"
    }
   ],
   "source": [
    "X_train.shape, y_train.shape"
   ]
  },
  {
   "cell_type": "code",
   "execution_count": 13,
   "metadata": {},
   "outputs": [
    {
     "data": {
      "text/plain": [
       "((12320, 6), (12320, 1))"
      ]
     },
     "execution_count": 13,
     "metadata": {},
     "output_type": "execute_result"
    }
   ],
   "source": [
    "X_train.shape, y_train.shape"
   ]
  },
  {
   "cell_type": "code",
   "execution_count": 14,
   "metadata": {},
   "outputs": [
    {
     "data": {
      "text/html": [
       "<div>\n",
       "<style scoped>\n",
       "    .dataframe tbody tr th:only-of-type {\n",
       "        vertical-align: middle;\n",
       "    }\n",
       "\n",
       "    .dataframe tbody tr th {\n",
       "        vertical-align: top;\n",
       "    }\n",
       "\n",
       "    .dataframe thead th {\n",
       "        text-align: right;\n",
       "    }\n",
       "</style>\n",
       "<table border=\"1\" class=\"dataframe\">\n",
       "  <thead>\n",
       "    <tr style=\"text-align: right;\">\n",
       "      <th></th>\n",
       "      <th>windspeed</th>\n",
       "      <th>rainfall24</th>\n",
       "      <th>rainfall6</th>\n",
       "      <th>darea</th>\n",
       "      <th>yielda</th>\n",
       "      <th>dctrice</th>\n",
       "    </tr>\n",
       "  </thead>\n",
       "  <tbody>\n",
       "    <tr>\n",
       "      <th>31511</th>\n",
       "      <td>15.974263</td>\n",
       "      <td>0.007738</td>\n",
       "      <td>0.027381</td>\n",
       "      <td>19.625815</td>\n",
       "      <td>0.491842</td>\n",
       "      <td>166383.41</td>\n",
       "    </tr>\n",
       "    <tr>\n",
       "      <th>31001</th>\n",
       "      <td>44.970222</td>\n",
       "      <td>2.393229</td>\n",
       "      <td>6.691667</td>\n",
       "      <td>12.878894</td>\n",
       "      <td>0.558085</td>\n",
       "      <td>123889.89</td>\n",
       "    </tr>\n",
       "    <tr>\n",
       "      <th>38328</th>\n",
       "      <td>7.252452</td>\n",
       "      <td>3.350521</td>\n",
       "      <td>6.300000</td>\n",
       "      <td>296.667121</td>\n",
       "      <td>0.398589</td>\n",
       "      <td>1536174.95</td>\n",
       "    </tr>\n",
       "    <tr>\n",
       "      <th>8001</th>\n",
       "      <td>33.878516</td>\n",
       "      <td>0.094583</td>\n",
       "      <td>0.213333</td>\n",
       "      <td>300.465465</td>\n",
       "      <td>0.407646</td>\n",
       "      <td>2111223.37</td>\n",
       "    </tr>\n",
       "    <tr>\n",
       "      <th>31097</th>\n",
       "      <td>11.845751</td>\n",
       "      <td>0.000000</td>\n",
       "      <td>0.000000</td>\n",
       "      <td>108.629224</td>\n",
       "      <td>0.851640</td>\n",
       "      <td>1594627.94</td>\n",
       "    </tr>\n",
       "    <tr>\n",
       "      <th>...</th>\n",
       "      <td>...</td>\n",
       "      <td>...</td>\n",
       "      <td>...</td>\n",
       "      <td>...</td>\n",
       "      <td>...</td>\n",
       "      <td>...</td>\n",
       "    </tr>\n",
       "    <tr>\n",
       "      <th>7596</th>\n",
       "      <td>36.262834</td>\n",
       "      <td>0.546875</td>\n",
       "      <td>1.597917</td>\n",
       "      <td>32.378801</td>\n",
       "      <td>0.483133</td>\n",
       "      <td>269639.60</td>\n",
       "    </tr>\n",
       "    <tr>\n",
       "      <th>36565</th>\n",
       "      <td>3.864767</td>\n",
       "      <td>0.422128</td>\n",
       "      <td>0.422128</td>\n",
       "      <td>84.405962</td>\n",
       "      <td>1.606316</td>\n",
       "      <td>1761368.40</td>\n",
       "    </tr>\n",
       "    <tr>\n",
       "      <th>11299</th>\n",
       "      <td>10.844943</td>\n",
       "      <td>0.000000</td>\n",
       "      <td>0.000000</td>\n",
       "      <td>686.206068</td>\n",
       "      <td>1.860157</td>\n",
       "      <td>22001926.78</td>\n",
       "    </tr>\n",
       "    <tr>\n",
       "      <th>6724</th>\n",
       "      <td>16.338128</td>\n",
       "      <td>0.056042</td>\n",
       "      <td>0.122500</td>\n",
       "      <td>322.134634</td>\n",
       "      <td>1.059653</td>\n",
       "      <td>5883799.95</td>\n",
       "    </tr>\n",
       "    <tr>\n",
       "      <th>2336</th>\n",
       "      <td>26.424988</td>\n",
       "      <td>0.066489</td>\n",
       "      <td>0.212500</td>\n",
       "      <td>7.714238</td>\n",
       "      <td>0.940639</td>\n",
       "      <td>136859.09</td>\n",
       "    </tr>\n",
       "  </tbody>\n",
       "</table>\n",
       "<p>1540 rows × 6 columns</p>\n",
       "</div>"
      ],
      "text/plain": [
       "       windspeed  rainfall24  rainfall6       darea    yielda      dctrice\n",
       "31511  15.974263    0.007738   0.027381   19.625815  0.491842    166383.41\n",
       "31001  44.970222    2.393229   6.691667   12.878894  0.558085    123889.89\n",
       "38328   7.252452    3.350521   6.300000  296.667121  0.398589   1536174.95\n",
       "8001   33.878516    0.094583   0.213333  300.465465  0.407646   2111223.37\n",
       "31097  11.845751    0.000000   0.000000  108.629224  0.851640   1594627.94\n",
       "...          ...         ...        ...         ...       ...          ...\n",
       "7596   36.262834    0.546875   1.597917   32.378801  0.483133    269639.60\n",
       "36565   3.864767    0.422128   0.422128   84.405962  1.606316   1761368.40\n",
       "11299  10.844943    0.000000   0.000000  686.206068  1.860157  22001926.78\n",
       "6724   16.338128    0.056042   0.122500  322.134634  1.059653   5883799.95\n",
       "2336   26.424988    0.066489   0.212500    7.714238  0.940639    136859.09\n",
       "\n",
       "[1540 rows x 6 columns]"
      ]
     },
     "execution_count": 14,
     "metadata": {},
     "output_type": "execute_result"
    }
   ],
   "source": [
    "X_val"
   ]
  },
  {
   "cell_type": "code",
   "execution_count": 15,
   "metadata": {},
   "outputs": [
    {
     "data": {
      "text/html": [
       "<div>\n",
       "<style scoped>\n",
       "    .dataframe tbody tr th:only-of-type {\n",
       "        vertical-align: middle;\n",
       "    }\n",
       "\n",
       "    .dataframe tbody tr th {\n",
       "        vertical-align: top;\n",
       "    }\n",
       "\n",
       "    .dataframe thead th {\n",
       "        text-align: right;\n",
       "    }\n",
       "</style>\n",
       "<table border=\"1\" class=\"dataframe\">\n",
       "  <thead>\n",
       "    <tr style=\"text-align: right;\">\n",
       "      <th></th>\n",
       "      <th>distance</th>\n",
       "    </tr>\n",
       "  </thead>\n",
       "  <tbody>\n",
       "    <tr>\n",
       "      <th>2998</th>\n",
       "      <td>100.51080</td>\n",
       "    </tr>\n",
       "    <tr>\n",
       "      <th>16149</th>\n",
       "      <td>252.81010</td>\n",
       "    </tr>\n",
       "    <tr>\n",
       "      <th>1106</th>\n",
       "      <td>76.43904</td>\n",
       "    </tr>\n",
       "    <tr>\n",
       "      <th>1368</th>\n",
       "      <td>387.10950</td>\n",
       "    </tr>\n",
       "    <tr>\n",
       "      <th>8530</th>\n",
       "      <td>317.99430</td>\n",
       "    </tr>\n",
       "    <tr>\n",
       "      <th>...</th>\n",
       "      <td>...</td>\n",
       "    </tr>\n",
       "    <tr>\n",
       "      <th>14774</th>\n",
       "      <td>268.58180</td>\n",
       "    </tr>\n",
       "    <tr>\n",
       "      <th>35629</th>\n",
       "      <td>341.90320</td>\n",
       "    </tr>\n",
       "    <tr>\n",
       "      <th>15169</th>\n",
       "      <td>267.90360</td>\n",
       "    </tr>\n",
       "    <tr>\n",
       "      <th>2172</th>\n",
       "      <td>130.10760</td>\n",
       "    </tr>\n",
       "    <tr>\n",
       "      <th>18976</th>\n",
       "      <td>19.93087</td>\n",
       "    </tr>\n",
       "  </tbody>\n",
       "</table>\n",
       "<p>12320 rows × 1 columns</p>\n",
       "</div>"
      ],
      "text/plain": [
       "        distance\n",
       "2998   100.51080\n",
       "16149  252.81010\n",
       "1106    76.43904\n",
       "1368   387.10950\n",
       "8530   317.99430\n",
       "...          ...\n",
       "14774  268.58180\n",
       "35629  341.90320\n",
       "15169  267.90360\n",
       "2172   130.10760\n",
       "18976   19.93087\n",
       "\n",
       "[12320 rows x 1 columns]"
      ]
     },
     "execution_count": 15,
     "metadata": {},
     "output_type": "execute_result"
    }
   ],
   "source": [
    "y_train"
   ]
  },
  {
   "cell_type": "code",
   "execution_count": 16,
   "metadata": {},
   "outputs": [
    {
     "name": "stdout",
     "output_type": "stream",
     "text": [
      "(array([], dtype=int64), array([], dtype=int64))\n"
     ]
    }
   ],
   "source": [
    "# Null Remover\n",
    "\n",
    "nan_rows = X_train[X_train.isna().any(axis=1)].index\n",
    "X_train = X_train.drop(nan_rows)\n",
    "y_train = y_train.drop(nan_rows)\n",
    "\n",
    "print(np.where(pd.isnull(X_train)))"
   ]
  },
  {
   "cell_type": "code",
   "execution_count": 17,
   "metadata": {},
   "outputs": [
    {
     "name": "stdout",
     "output_type": "stream",
     "text": [
      "(array([], dtype=int64), array([], dtype=int64))\n"
     ]
    }
   ],
   "source": [
    "# Null Remover\n",
    "\n",
    "nan_rows = X_val[X_val.isna().any(axis=1)].index\n",
    "X_val = X_val.drop(nan_rows)\n",
    "y_val = y_val.drop(nan_rows)\n",
    "\n",
    "print(np.where(pd.isnull(X_val)))"
   ]
  },
  {
   "cell_type": "code",
   "execution_count": 18,
   "metadata": {},
   "outputs": [
    {
     "data": {
      "text/plain": [
       "((12320, 6), (12320, 1))"
      ]
     },
     "execution_count": 18,
     "metadata": {},
     "output_type": "execute_result"
    }
   ],
   "source": [
    "X_train.shape,y_train.shape"
   ]
  },
  {
   "cell_type": "code",
   "execution_count": 19,
   "metadata": {},
   "outputs": [],
   "source": [
    "nan_rows = X_test[X_test.isna().any(axis=1)].index\n",
    "X_test = X_test.drop(nan_rows)\n",
    "y_test = y_test.drop(nan_rows)"
   ]
  },
  {
   "cell_type": "code",
   "execution_count": null,
   "metadata": {},
   "outputs": [],
   "source": [
    "\n"
   ]
  },
  {
   "cell_type": "code",
   "execution_count": 20,
   "metadata": {},
   "outputs": [
    {
     "name": "stderr",
     "output_type": "stream",
     "text": [
      "c:\\Users\\Asus\\anaconda3\\lib\\site-packages\\sklearn\\ensemble\\_stacking.py:758: DataConversionWarning: A column-vector y was passed when a 1d array was expected. Please change the shape of y to (n_samples, ), for example using ravel().\n",
      "  y = column_or_1d(y, warn=True)\n"
     ]
    },
    {
     "data": {
      "text/plain": [
       "StackingRegressor(estimators=[('svr',\n",
       "                               Pipeline(steps=[('standardscaler',\n",
       "                                                StandardScaler()),\n",
       "                                               ('svr',\n",
       "                                                SVR(C=1, coef0=3, degree=2,\n",
       "                                                    gamma='auto',\n",
       "                                                    kernel='poly'))])),\n",
       "                              ('rf',\n",
       "                               Pipeline(steps=[('randomforestregressor',\n",
       "                                                RandomForestRegressor(max_depth=20,\n",
       "                                                                      max_leaf_nodes=100,\n",
       "                                                                      min_samples_leaf=2,\n",
       "                                                                      random_state=42))]))],\n",
       "                  final_estimator=RandomForestRegressor(max_depth=20,\n",
       "                                                        max_leaf_nodes=100,\n",
       "                                                        min_samples_leaf=2,\n",
       "                                                        random_state=42))"
      ]
     },
     "execution_count": 20,
     "metadata": {},
     "output_type": "execute_result"
    }
   ],
   "source": [
    "from sklearn.ensemble import StackingRegressor\n",
    "from sklearn.ensemble import RandomForestRegressor\n",
    "from joblib import load, dump\n",
    "from sklearn.metrics import mean_absolute_error\n",
    "from sklearn.metrics import explained_variance_score\n",
    "\n",
    "# Load the models\n",
    "svr_pipeline = load('SVR-DISTANCE.joblib')\n",
    "rf = load('RFR-DISTANCE.joblib')\n",
    "\n",
    "\n",
    "final_estimator = RandomForestRegressor(\n",
    "    \n",
    "    n_estimators=100, \n",
    "    max_depth=20, \n",
    "    min_samples_split=2, \n",
    "    min_samples_leaf=2, \n",
    "    max_leaf_nodes=100,\n",
    "    random_state=42,\n",
    ")\n",
    "\n",
    "# Create a StackingRegressor\n",
    "stacking_regressor = StackingRegressor(\n",
    "    estimators=[('svr', svr_pipeline), ('rf', rf)],\n",
    "    final_estimator=final_estimator\n",
    ")\n",
    "\n",
    "stacking_regressor.fit(X_train, y_train)\n"
   ]
  },
  {
   "cell_type": "code",
   "execution_count": 21,
   "metadata": {},
   "outputs": [
    {
     "name": "stdout",
     "output_type": "stream",
     "text": [
      "R-squared (Test): 0.8142604605723274\n",
      "Mean Absolute Error (Test): 47.77231254626796\n",
      "\n",
      "R-squared (Validation): 0.8066204557097\n",
      "Mean Absolute Error (Validation): 46.628355881112384\n",
      "\n",
      "Explained Variance (Test): 0.8142780186790115\n",
      "Explained Variance (Validation): 0.8067905586209192\n",
      "\n",
      "Mean Absolute Error (Test, p.p.): 19.195111324354784%\n",
      "Mean Absolute Error (Validation, p.p.): 19.127315750767846%\n"
     ]
    }
   ],
   "source": [
    "\n",
    "predictions = stacking_regressor.predict(X_test)\n",
    "\n",
    "# Evaluate the model\n",
    "r2 = stacking_regressor.score(X_test, y_test)\n",
    "print(f'R-squared (Test): {r2}')\n",
    "\n",
    "mae = mean_absolute_error(y_test, predictions)\n",
    "print(f'Mean Absolute Error (Test): {mae}')\n",
    "\n",
    "predictionsVal = stacking_regressor.predict(X_val)\n",
    "\n",
    "# Evaluate the model\n",
    "\n",
    "\n",
    "r2 = stacking_regressor.score(X_val, y_val)\n",
    "print(f'\\nR-squared (Validation): {r2}')\n",
    "maev = mean_absolute_error(y_val, predictionsVal)\n",
    "print(f'Mean Absolute Error (Validation): {maev}')\n",
    "\n",
    "# Assuming `predictions` are the predicted values from your model\n",
    "explained_variance = explained_variance_score(y_test, predictions)\n",
    "print(f'\\nExplained Variance (Test): {explained_variance}')\n",
    "\n",
    "\n",
    "explained_variance = explained_variance_score(y_val, predictionsVal)\n",
    "print(f'Explained Variance (Validation): {explained_variance}')\n",
    "\n",
    "\n",
    "# Calculate and print MAE in percentage points for test set\n",
    "mae_percentage_test = (mae / y_test.values.mean()) * 100\n",
    "print(f'\\nMean Absolute Error (Test, p.p.): {mae_percentage_test}%')\n",
    "\n",
    "# Calculate and print MAE in percentage points for test set\n",
    "mae_percentage_val = (mae / y_val.values.mean()) * 100\n",
    "print(f'Mean Absolute Error (Validation, p.p.): {mae_percentage_val}%')\n"
   ]
  },
  {
   "cell_type": "code",
   "execution_count": 22,
   "metadata": {},
   "outputs": [
    {
     "name": "stdout",
     "output_type": "stream",
     "text": [
      "<class 'pandas.core.frame.DataFrame'>\n",
      "Int64Index: 12320 entries, 2998 to 18976\n",
      "Data columns (total 1 columns):\n",
      " #   Column    Non-Null Count  Dtype  \n",
      "---  ------    --------------  -----  \n",
      " 0   distance  12320 non-null  float64\n",
      "dtypes: float64(1)\n",
      "memory usage: 192.5 KB\n"
     ]
    }
   ],
   "source": [
    "y_train.info()"
   ]
  },
  {
   "cell_type": "code",
   "execution_count": 23,
   "metadata": {},
   "outputs": [
    {
     "name": "stdout",
     "output_type": "stream",
     "text": [
      "['186.04', '31.88', '383.34', '52.84', '213.44', '29.09', '300.18', '73.97', '276.39', '412.06', '32.98', '354.55', '215.08', '340.01', '358.50', '32.98', '403.26', '186.84', '224.97', '269.11', '109.02', '392.58', '372.05', '401.15', '382.71', '174.44', '180.23', '270.05', '251.22', '339.45', '102.70', '340.79', '103.53', '28.62', '442.78', '296.03', '64.24', '321.37', '261.56', '335.42', '381.60', '117.66', '424.05', '142.22', '64.24', '260.27', '144.93', '289.31', '166.25', '241.10', '145.94', '401.40', '140.73', '222.66', '412.06', '257.95', '362.73', '420.47', '222.62', '344.88', '268.25', '108.90', '251.20', '448.67', '175.79', '310.11', '256.05', '391.45', '94.34', '318.29', '419.80', '32.98', '52.84', '224.60', '391.93', '433.90', '408.96', '340.59', '400.01', '397.35', '436.86', '165.69', '373.72', '437.14', '128.73', '138.94', '34.69', '426.22', '88.21', '371.45', '32.98', '87.15', '378.41', '128.91', '67.02', '242.28', '327.58', '446.48', '52.84', '119.83', '318.05', '373.66', '349.21', '64.24', '131.41', '177.99', '29.91', '366.79', '342.08', '446.48', '37.33', '333.76', '347.89', '248.05', '211.36', '201.11', '259.46', '385.19', '257.06', '347.73', '243.31', '350.09', '52.62', '423.84', '427.71', '100.72', '32.81', '222.68', '259.38', '335.87', '268.47', '35.95', '447.79', '403.45', '345.06', '94.14', '64.24', '433.45', '361.92', '32.19', '433.25', '233.70', '82.22', '194.11', '81.94', '162.08', '32.98', '175.42', '290.85', '239.33', '64.24', '78.47', '361.97', '32.98', '278.22', '252.79', '141.41', '371.44', '62.62', '445.20', '395.68', '155.80', '131.41', '81.91', '94.53', '234.16', '334.10', '405.30', '52.84', '254.01', '439.63', '139.17', '184.72', '27.46', '111.24', '140.38', '444.69', '404.36', '64.24', '346.09', '373.20', '86.70', '381.74', '335.79', '416.49', '63.16', '141.15', '446.48', '439.31', '119.40', '205.26', '297.60', '190.00', '200.96', '196.97', '194.14', '76.25', '137.08', '94.11', '252.56', '341.99', '353.08', '428.48', '300.40', '385.02', '32.98', '32.98', '334.15', '120.98', '179.53', '52.84', '373.11', '138.14', '417.76', '382.10', '87.07', '94.49', '413.98', '379.36', '222.88', '239.78', '258.60', '291.66', '189.64', '32.05', '271.30', '257.57', '448.50', '209.42', '211.49', '340.12', '178.01', '53.39', '306.43', '190.51', '218.08', '317.42', '375.16', '245.34', '188.57', '184.34', '90.93', '104.98', '78.13', '236.15', '62.62', '372.83', '80.85', '222.88', '404.92', '360.20', '456.34', '353.17', '435.03', '345.73', '230.96', '318.95', '368.77', '107.67', '345.60', '138.14', '64.24', '196.27', '421.51', '109.69', '260.26', '175.91', '182.62', '423.84', '287.82', '373.15', '131.71', '229.86', '340.51', '361.26', '389.47', '83.69', '332.25', '213.40', '91.00', '27.46', '224.90', '239.25', '137.43', '81.31', '261.60', '89.48', '382.31', '94.12', '91.72', '189.18', '259.79', '27.46', '209.43', '372.05', '247.44', '64.24', '258.67', '221.13', '450.18', '426.26', '238.66', '301.09', '29.91', '97.66', '80.56', '189.35', '254.88', '373.56', '181.78', '143.25', '385.97', '377.39', '32.98', '221.61', '368.49', '448.65', '265.80', '28.78', '177.43', '248.21', '64.37', '94.08', '256.03', '426.16', '369.33', '304.47', '212.06', '243.73', '446.48', '409.96', '248.70', '446.48', '334.62', '183.54', '434.78', '184.39', '235.44', '321.57', '402.21', '92.57', '422.65', '289.76', '52.84', '336.77', '435.64', '131.71', '427.71', '422.40', '276.05', '291.77', '349.19', '180.54', '349.95', '108.13', '471.96', '188.15', '136.82', '80.85', '346.44', '87.60', '84.82', '344.76', '62.62', '318.60', '52.84', '268.44', '130.85', '94.12', '244.03', '207.58', '52.31', '336.15', '64.24', '101.29', '173.69', '389.24', '378.70', '223.94', '445.97', '417.76', '221.08', '425.58', '396.09', '242.18', '28.62', '131.74', '243.43', '304.47', '88.46', '377.28', '442.22', '381.00', '148.29', '266.68', '32.81', '283.74', '89.99', '27.46', '188.05', '340.20', '347.78', '233.43', '345.88', '471.96', '174.41', '404.36', '230.11', '205.57', '107.32', '445.17', '302.13', '32.98', '117.83', '198.34', '123.63', '64.24', '80.85', '381.26', '120.10', '27.46', '344.41', '424.54', '34.73', '80.85', '331.55', '418.48', '219.72', '401.65', '244.66', '32.98', '65.88', '182.21', '191.62', '32.98', '278.22', '235.85', '29.41', '233.59', '27.46', '342.37', '250.51', '328.69', '209.46', '446.48', '52.62', '344.11', '421.28', '236.97', '84.15', '183.83', '389.55', '341.12', '52.84', '258.21', '32.98', '378.98', '90.34', '372.79', '263.81', '405.49', '446.48', '408.45', '93.04', '294.82', '393.04', '108.55', '265.81', '128.91', '107.98', '424.01', '191.96', '330.85', '240.60', '429.96', '107.57', '337.19', '94.46', '348.75', '267.08', '67.80', '86.70', '269.52', '178.15', '298.73', '137.17', '259.86', '423.62', '389.92', '299.10', '374.57', '419.03', '32.81', '342.82', '32.81', '410.60', '258.95', '400.92', '29.91', '369.21', '450.18', '326.63', '400.67', '185.30', '82.44', '256.11', '368.27', '120.90', '398.45', '258.30', '108.90', '377.37', '377.10', '32.98', '92.81', '220.61', '245.96', '263.82', '356.77', '402.62', '52.84', '94.67', '61.80', '236.82', '100.72', '316.41', '391.11', '283.68', '135.67', '357.82', '257.97', '236.40', '222.88', '401.73', '190.97', '178.15', '271.16', '137.98', '32.98', '92.02', '400.97', '337.87', '348.60', '32.98', '449.03', '335.15', '471.96', '27.46', '135.67', '387.44', '29.57', '233.52', '367.16', '250.92', '218.20', '341.80', '131.41', '316.17', '320.52', '107.22', '318.95', '241.73', '32.81', '64.24', '93.80', '272.18', '344.00', '181.25', '290.91', '387.51', '141.08', '389.22', '345.88', '400.32', '332.35', '51.53', '244.82', '120.47', '82.22', '364.15', '371.92', '336.92', '254.05', '138.30', '302.28', '422.65', '369.29', '94.41', '181.88', '249.44', '382.03', '78.13', '415.07', '444.07', '145.19', '327.60', '379.59', '306.96', '422.61', '360.48', '286.58', '388.66', '381.08', '368.79', '371.89', '160.94', '306.39', '400.13', '331.55', '277.60', '412.06', '348.20', '208.30', '32.98', '83.32', '320.65', '441.76', '176.81', '88.02', '178.19', '341.09', '340.59', '330.85', '195.97', '340.62', '452.97', '445.67', '332.15', '211.36', '259.07', '301.60', '448.50', '52.84', '413.98', '32.98', '27.46', '238.72', '221.40', '375.05', '259.67', '443.44', '340.20', '381.34', '223.76', '373.42', '259.35', '351.38', '347.25', '119.96', '108.90', '343.51', '369.70', '119.96', '29.91', '219.40', '78.52', '139.34', '445.17', '394.42', '427.18', '94.14', '425.74', '123.61', '379.61', '64.24', '189.90', '149.55', '385.12', '409.15', '341.80', '252.86', '373.15', '371.84', '273.28', '427.08', '180.12', '367.26', '397.13', '399.54', '446.48', '32.81', '383.54', '341.22', '106.99', '340.39', '212.26', '102.68', '257.75', '29.74', '295.62', '356.99', '162.74', '94.53', '471.96', '388.54', '422.65', '378.99', '390.77', '427.71', '110.90', '329.90', '250.21', '374.44', '336.46', '335.49', '271.57', '422.40', '375.05', '242.72', '208.03', '273.28', '195.09', '228.64', '207.26', '265.47', '94.11', '420.28', '298.00', '347.55', '177.77', '376.92', '251.22', '179.54', '28.62', '112.68', '64.64', '221.67', '427.07', '377.29', '225.31', '98.15', '137.98', '83.07', '332.60', '205.70', '232.72', '232.67', '399.08', '387.85', '120.17', '52.31', '422.78', '443.99', '27.46', '331.24', '471.96', '361.21', '31.88', '178.19', '259.38', '64.24', '377.50', '333.00', '427.23', '409.95', '232.12', '419.80', '326.57', '93.80', '435.91', '348.33', '52.31', '223.45', '429.96', '94.67', '428.42', '346.65', '258.15', '335.04', '103.83', '30.20', '447.79', '133.41', '61.95', '94.67', '27.46', '260.32', '142.25', '258.02', '237.47', '375.62', '208.24', '166.25', '89.65', '235.56', '93.88', '222.17', '378.90', '337.19', '404.36', '427.71', '429.30', '358.05', '367.85', '335.26', '222.35', '259.38', '263.82', '94.53', '336.61', '471.96', '67.02', '407.12', '242.22', '265.18', '379.59', '444.69', '137.68', '423.41', '29.09', '302.50', '52.62', '346.40', '339.80', '256.98', '426.72', '259.07', '148.09', '422.33', '381.59', '293.87', '382.50', '368.61', '422.78', '282.40', '428.85', '428.84', '89.36', '137.38', '140.73', '389.92', '238.69', '380.79', '392.80', '372.80', '432.70', '303.14', '32.98', '32.81', '445.17', '373.33', '28.62', '357.11', '334.48', '338.89', '108.31', '339.94', '447.52', '447.70', '212.31', '346.10', '372.20', '260.84', '434.01', '342.80', '268.18', '164.61', '223.25', '372.05', '326.09', '248.44', '411.29', '78.34', '185.34', '183.42', '81.09', '337.40', '250.13', '254.02', '207.15', '131.52', '350.56', '320.65', '395.75', '257.65', '341.21', '338.00', '370.30', '89.78', '278.11', '360.89', '52.84', '342.20', '27.46', '222.08', '302.37', '229.72', '344.41', '137.03', '208.04', '65.88', '213.20', '225.41', '27.46', '398.45', '329.05', '174.00', '437.80', '448.50', '408.51', '126.96', '204.43', '413.75', '32.98', '254.19', '386.87', '135.99', '260.51', '67.80', '137.68', '362.85', '330.57', '318.05', '186.41', '242.30', '322.42', '91.49', '93.91', '378.07', '94.09', '266.58', '29.09', '137.61', '274.50', '299.15', '28.62', '203.91', '336.58', '371.44', '415.08', '268.89', '52.84', '349.49', '239.02', '110.90', '111.24', '415.94', '359.89', '32.98', '88.91', '182.02', '410.82', '296.74', '174.85', '86.70', '148.09', '422.65', '384.36', '245.94', '414.52', '372.14', '312.33', '395.33', '204.98', '107.98', '260.79', '380.05', '348.92', '176.52', '32.81', '108.13', '358.41', '336.22', '185.85', '369.94', '100.43', '374.44', '189.73', '307.53', '272.62', '445.17', '235.52', '422.94', '314.99', '252.97', '401.52', '238.08', '338.37', '109.44', '348.57', '302.88', '142.22', '67.02', '197.33', '346.69', '32.98', '27.96', '62.62', '271.73', '383.69', '240.17', '433.25', '94.09', '243.77', '332.90', '52.31', '240.76', '392.09', '419.49', '384.38', '53.39', '29.41', '376.55', '32.98', '62.62', '441.79', '371.44', '367.91', '83.55', '94.11', '221.97', '86.28', '388.66', '264.06', '351.86', '144.47', '153.86', '88.72', '165.40', '319.81', '94.46', '337.49', '27.46', '110.90', '318.82', '197.04', '330.43', '227.09', '441.74', '32.98', '360.24', '64.24', '243.68', '339.91', '91.49', '32.98', '252.54', '199.51', '343.22', '224.95', '136.77', '100.43', '423.15', '268.12', '471.96', '230.28', '214.62', '184.84', '429.30', '301.60', '88.91', '430.16', '341.12', '311.56', '370.76', '254.34', '408.75', '336.87', '32.05', '393.63', '391.47', '258.60', '388.63', '336.84', '130.89', '76.01', '27.96', '330.28', '64.24', '204.78', '64.24', '316.17', '201.09', '318.52', '339.44', '62.62', '432.77', '296.35', '173.69', '386.31', '180.85', '288.79', '32.98', '422.40', '337.05', '348.05', '240.44', '195.55', '294.48', '32.98', '177.17', '423.63', '427.18', '338.56', '246.72', '62.62', '329.21', '84.82', '443.44', '119.40', '340.20', '366.55', '212.35', '118.43', '32.98', '204.98', '412.06', '107.57', '353.73', '93.91', '221.59', '229.71', '334.83', '396.68', '117.76', '380.82', '402.43', '136.77', '357.57', '88.72', '241.83', '373.15', '83.55', '258.60', '222.42', '426.46', '318.22', '64.24', '259.15', '435.53', '421.93', '27.46', '411.53', '120.47', '220.01', '222.88', '372.79', '32.05', '392.85', '409.71', '282.90', '227.09', '177.39', '137.68', '419.97', '263.72', '262.42', '341.97', '27.46', '445.97', '118.23', '421.77', '257.71', '256.28', '346.19', '302.54', '315.03', '32.98', '84.68', '266.69', '87.07', '342.13', '417.23', '257.65', '234.87', '240.01', '37.33', '330.28', '421.69', '32.98', '334.48', '404.92', '439.10', '236.03', '235.50', '265.80', '268.25', '343.98', '215.61', '409.06', '254.06', '323.47', '446.95', '410.80', '149.77', '260.58', '236.68', '137.68', '294.82', '88.40', '149.58', '93.91', '412.51', '94.53', '374.66', '236.46', '344.76', '381.14', '267.84', '268.51', '207.98', '282.25', '241.21', '32.98', '186.70', '366.56', '268.46', '342.32', '187.10', '52.84', '314.16', '224.64', '62.62', '422.33', '406.79', '137.68', '380.15', '32.98', '425.05', '263.81', '29.91', '64.24', '339.02', '121.85', '357.58', '64.24', '177.39', '182.62', '119.58', '426.72', '238.69', '263.10', '430.79', '443.44', '189.43', '76.41', '422.70', '392.82', '186.50', '107.58', '249.59', '29.09', '445.17', '66.89', '244.98', '258.21', '338.20', '259.80', '441.76', '207.26', '437.48', '28.62', '339.77', '84.73', '425.65', '418.20', '327.02', '241.05', '144.93', '329.60', '64.24', '149.70', '97.97', '282.75', '94.67', '333.10', '443.99', '252.18', '471.96', '238.74', '388.43', '143.96', '32.05', '106.24', '222.34', '65.88', '344.88', '446.48', '242.93', '300.03', '241.24', '29.91', '259.35', '164.13', '321.83', '184.04', '418.51', '339.80', '224.32', '77.45', '83.55', '190.11', '259.02', '401.40', '177.01', '229.73', '52.84', '32.98', '240.60', '205.43', '241.10', '373.15', '27.46', '345.76', '384.98', '339.56', '344.11', '299.15', '426.08', '396.12', '266.20', '427.71', '190.08', '237.41', '62.62', '440.50', '421.44', '399.88', '94.11', '267.19', '331.87', '235.68', '381.56', '366.88', '409.03', '312.27', '32.81', '344.59', '384.07', '27.46', '342.80', '418.61', '421.93', '89.21', '471.96', '445.17', '186.97', '424.29', '137.68', '253.66', '363.67', '313.48', '134.59', '269.11', '439.25', '209.03', '64.24', '259.93', '415.07', '339.74', '94.09', '241.77', '104.60', '350.04', '266.87', '258.27', '137.68', '64.37', '244.33', '120.10', '418.10', '261.19', '141.05', '52.84', '141.49', '349.19', '407.81', '422.33', '136.77', '255.37', '261.91', '224.23', '342.50', '379.59', '365.43', '81.94', '230.28', '347.73', '94.09', '259.80', '441.12', '64.24', '372.06', '241.58', '65.88', '155.00', '144.72', '119.24', '232.89', '83.78', '329.50', '64.24', '209.42', '413.75', '338.20', '331.99', '314.94', '64.37', '360.35', '138.61', '227.18', '431.31', '360.20', '338.75', '378.41', '394.84', '103.83', '347.70', '336.78', '344.83', '140.22', '118.23', '62.62', '286.69', '290.75', '110.90', '216.27', '373.20', '211.26', '27.46', '345.82', '89.65', '324.74', '355.80', '375.92', '471.96', '128.76', '222.01', '409.15', '471.96', '258.07', '302.88', '372.11', '32.98', '134.59', '333.81', '245.89', '121.85', '52.84', '27.46', '207.26', '104.34', '65.88', '417.35', '81.31', '94.46', '407.92', '94.28', '359.15', '338.65', '315.10', '52.31', '178.15', '260.84', '335.87', '393.35', '378.57', '446.96', '189.52', '32.98', '221.70', '280.94', '125.64', '258.62', '65.88', '378.93', '271.93', '421.69', '260.60', '27.96', '290.12', '415.07', '369.78', '204.57', '150.83', '375.38', '380.03', '455.38', '436.05', '400.87', '255.44', '244.82', '257.89', '410.05', '422.42', '102.99', '262.26', '422.32', '342.38', '360.20', '342.88', '75.90', '400.59', '267.23', '302.76', '52.62', '426.55', '190.11', '228.10', '32.98', '341.40', '179.13', '266.64', '65.88', '263.92', '32.98', '338.42', '427.08', '32.98', '28.62', '297.60', '422.70', '75.90', '146.32', '138.64', '32.98', '27.46', '178.15', '305.68', '190.06', '339.11', '441.27', '100.43', '456.20', '455.74', '273.24', '140.72', '447.37', '448.90', '122.90', '376.04', '111.43', '257.97', '253.65', '94.11', '32.98', '315.57', '256.88', '185.50', '78.13']\n"
     ]
    }
   ],
   "source": [
    "print(['{:.2f}'.format(pred) for pred in predictionsVal])"
   ]
  },
  {
   "cell_type": "code",
   "execution_count": 24,
   "metadata": {},
   "outputs": [
    {
     "data": {
      "image/png": "[encoded data removed]",
      "text/plain": [
       "<Figure size 640x480 with 1 Axes>"
      ]
     },
     "metadata": {},
     "output_type": "display_data"
    }
   ],
   "source": [
    "import matplotlib.pyplot as plt\n",
    "\n",
    "# Make predictions\n",
    "predictions = stacking_regressor.predict(X_test)\n",
    "\n",
    "# Create a scatter plot\n",
    "plt.scatter(y_test, predictions)\n",
    "plt.xlabel('Actual Values')\n",
    "plt.ylabel('Predicted Values')\n",
    "plt.title('METAMODEL: Actual vs Predicted Values')\n",
    "\n",
    "# Diagonal line\n",
    "limits = [np.min([plt.xlim(), plt.ylim()]),  # find the lower limit among x and y axes\n",
    "          np.max([plt.xlim(), plt.ylim()])]  # find the upper limit among x and y axes\n",
    "plt.plot(limits, limits, color='red')\n",
    "\n",
    "plt.show()"
   ]
  },
  {
   "cell_type": "code",
   "execution_count": 25,
   "metadata": {},
   "outputs": [
    {
     "data": {
      "image/png": "[encoded data removed]",
      "text/plain": [
       "<Figure size 640x480 with 1 Axes>"
      ]
     },
     "metadata": {},
     "output_type": "display_data"
    }
   ],
   "source": [
    "import matplotlib.pyplot as plt\n",
    "\n",
    "# Make predictions\n",
    "predictionsVal = stacking_regressor.predict(X_val)\n",
    "\n",
    "# Create a scatter plot\n",
    "plt.scatter(y_val, predictionsVal)\n",
    "plt.xlabel('Actual Values')\n",
    "plt.ylabel('Predicted Values')\n",
    "plt.title('METAMODEL: Actual vs Predicted Values')\n",
    "\n",
    "# Diagonal line\n",
    "limits = [np.min([plt.xlim(), plt.ylim()]),  # find the lower limit among x and y axes\n",
    "          np.max([plt.xlim(), plt.ylim()])]  # find the upper limit among x and y axes\n",
    "plt.plot(limits, limits, color='red')\n",
    "\n",
    "plt.show()"
   ]
  },
  {
   "cell_type": "code",
   "execution_count": 26,
   "metadata": {},
   "outputs": [
    {
     "name": "stdout",
     "output_type": "stream",
     "text": [
      "       Actual Predicted\n",
      "0   247.66520    261.70\n",
      "1   150.03570    242.30\n",
      "2   204.25350    212.03\n",
      "3   243.68320    229.55\n",
      "4   313.06640    370.14\n",
      "5    45.12484     82.22\n",
      "6    46.88490     63.43\n",
      "7   135.13260    162.27\n",
      "8   429.67570    289.73\n",
      "9   270.65440    333.64\n",
      "10  500.44030    471.96\n",
      "11  201.32620    243.14\n",
      "12  229.84970    245.89\n",
      "13  465.35340    429.35\n",
      "14  168.38950    234.89\n",
      "15  202.17260    187.73\n",
      "16  134.15500    100.73\n",
      "17  424.57490    414.87\n",
      "18  385.14540    384.38\n",
      "19  103.52130     81.85\n"
     ]
    }
   ],
   "source": [
    "import pandas as pd\n",
    "import numpy as np\n",
    "\n",
    "# Ensure y_test and predictions are 1-dimensional\n",
    "y_test = np.ravel(y_test)\n",
    "predictions = np.ravel(predictions)\n",
    "\n",
    "# Create a DataFrame with actual and predicted values\n",
    "df = pd.DataFrame({'Actual': y_test, 'Predicted': ['{:.2f}'.format(pred) for pred in predictions]})\n",
    "\n",
    "# Display the DataFrame\n",
    "print(df.head(20).to_string(index=True))"
   ]
  },
  {
   "cell_type": "code",
   "execution_count": 27,
   "metadata": {},
   "outputs": [
    {
     "name": "stderr",
     "output_type": "stream",
     "text": [
      "c:\\Users\\Asus\\anaconda3\\lib\\site-packages\\sklearn\\ensemble\\_stacking.py:758: DataConversionWarning: A column-vector y was passed when a 1d array was expected. Please change the shape of y to (n_samples, ), for example using ravel().\n",
      "  y = column_or_1d(y, warn=True)\n"
     ]
    },
    {
     "data": {
      "text/plain": [
       "['STACKED-SVR_RF-DISTANCE.joblib']"
      ]
     },
     "execution_count": 27,
     "metadata": {},
     "output_type": "execute_result"
    }
   ],
   "source": [
    "from sklearn.pipeline import make_pipeline\n",
    "from joblib import dump\n",
    "\n",
    "pipeline = make_pipeline(stacking_regressor)\n",
    "\n",
    "# Fit the pipeline\n",
    "pipeline.fit(X_train, y_train)\n",
    "\n",
    "# Save the pipeline\n",
    "dump(pipeline, 'STACKED-SVR_RF-DISTANCE.joblib')"
   ]
  }
 ],
 "metadata": {
  "kernelspec": {
   "display_name": "base",
   "language": "python",
   "name": "python3"
  },
  "language_info": {
   "codemirror_mode": {
    "name": "ipython",
    "version": 3
   },
   "file_extension": ".py",
   "mimetype": "text/x-python",
   "name": "python",
   "nbconvert_exporter": "python",
   "pygments_lexer": "ipython3",
   "version": "3.9.13"
  }
 },
 "nbformat": 4,
 "nbformat_minor": 2
}
