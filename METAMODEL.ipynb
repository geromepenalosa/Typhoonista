{
 "cells": [
  {
   "cell_type": "code",
   "execution_count": 103,
   "metadata": {},
   "outputs": [],
   "source": [
    "\n",
    "# Import necessary libraries\n",
    "import pandas as pd\n",
    "import numpy as np\n",
    "from sklearn.ensemble import RandomForestRegressor\n",
    "from sklearn.model_selection import train_test_split\n",
    "from sklearn.preprocessing import StandardScaler\n",
    "from sklearn.metrics import mean_squared_error\n",
    "\n",
    "# Load the dataset\n",
    "df = pd.read_csv('TEST.csv')"
   ]
  },
  {
   "cell_type": "code",
   "execution_count": 104,
   "metadata": {},
   "outputs": [
    {
     "data": {
      "text/html": [
       "<div>\n",
       "<style scoped>\n",
       "    .dataframe tbody tr th:only-of-type {\n",
       "        vertical-align: middle;\n",
       "    }\n",
       "\n",
       "    .dataframe tbody tr th {\n",
       "        vertical-align: top;\n",
       "    }\n",
       "\n",
       "    .dataframe thead th {\n",
       "        text-align: right;\n",
       "    }\n",
       "</style>\n",
       "<table border=\"1\" class=\"dataframe\">\n",
       "  <thead>\n",
       "    <tr style=\"text-align: right;\">\n",
       "      <th></th>\n",
       "      <th>windspeed</th>\n",
       "      <th>rainfall24</th>\n",
       "      <th>rainfall6</th>\n",
       "      <th>rainfallaverage</th>\n",
       "      <th>area</th>\n",
       "      <th>yield</th>\n",
       "      <th>distance</th>\n",
       "      <th>areayieldrataio</th>\n",
       "      <th>percentageofarea</th>\n",
       "      <th>darea</th>\n",
       "      <th>yielda</th>\n",
       "      <th>fgprice</th>\n",
       "      <th>dctrice</th>\n",
       "    </tr>\n",
       "  </thead>\n",
       "  <tbody>\n",
       "    <tr>\n",
       "      <th>0</th>\n",
       "      <td>0.000000</td>\n",
       "      <td>1.535972</td>\n",
       "      <td>3.032222</td>\n",
       "      <td>0.959983</td>\n",
       "      <td>2870.00</td>\n",
       "      <td>3.37</td>\n",
       "      <td>0.00000</td>\n",
       "      <td>851.632047</td>\n",
       "      <td>0.247070</td>\n",
       "      <td>709.091324</td>\n",
       "      <td>0.832626</td>\n",
       "      <td>20.79</td>\n",
       "      <td>1.113550e+07</td>\n",
       "    </tr>\n",
       "    <tr>\n",
       "      <th>1</th>\n",
       "      <td>0.000000</td>\n",
       "      <td>2.141071</td>\n",
       "      <td>3.942857</td>\n",
       "      <td>1.338170</td>\n",
       "      <td>491.00</td>\n",
       "      <td>4.36</td>\n",
       "      <td>0.00000</td>\n",
       "      <td>112.614679</td>\n",
       "      <td>0.244428</td>\n",
       "      <td>120.014173</td>\n",
       "      <td>1.065706</td>\n",
       "      <td>20.79</td>\n",
       "      <td>2.412279e+06</td>\n",
       "    </tr>\n",
       "    <tr>\n",
       "      <th>2</th>\n",
       "      <td>7.116629</td>\n",
       "      <td>5.809375</td>\n",
       "      <td>20.589580</td>\n",
       "      <td>3.630859</td>\n",
       "      <td>1330.88</td>\n",
       "      <td>4.42</td>\n",
       "      <td>385.79860</td>\n",
       "      <td>301.104072</td>\n",
       "      <td>0.312983</td>\n",
       "      <td>416.543187</td>\n",
       "      <td>1.383386</td>\n",
       "      <td>20.79</td>\n",
       "      <td>1.086828e+07</td>\n",
       "    </tr>\n",
       "    <tr>\n",
       "      <th>3</th>\n",
       "      <td>67.089467</td>\n",
       "      <td>3.908854</td>\n",
       "      <td>11.341670</td>\n",
       "      <td>2.443034</td>\n",
       "      <td>5767.00</td>\n",
       "      <td>4.65</td>\n",
       "      <td>26.26015</td>\n",
       "      <td>1240.215054</td>\n",
       "      <td>0.567852</td>\n",
       "      <td>3274.800267</td>\n",
       "      <td>2.640510</td>\n",
       "      <td>20.79</td>\n",
       "      <td>1.630911e+08</td>\n",
       "    </tr>\n",
       "    <tr>\n",
       "      <th>4</th>\n",
       "      <td>0.000000</td>\n",
       "      <td>0.805469</td>\n",
       "      <td>1.580208</td>\n",
       "      <td>0.503418</td>\n",
       "      <td>4710.00</td>\n",
       "      <td>4.14</td>\n",
       "      <td>0.00000</td>\n",
       "      <td>1137.681159</td>\n",
       "      <td>0.130472</td>\n",
       "      <td>614.521934</td>\n",
       "      <td>0.540153</td>\n",
       "      <td>20.79</td>\n",
       "      <td>6.260539e+06</td>\n",
       "    </tr>\n",
       "    <tr>\n",
       "      <th>...</th>\n",
       "      <td>...</td>\n",
       "      <td>...</td>\n",
       "      <td>...</td>\n",
       "      <td>...</td>\n",
       "      <td>...</td>\n",
       "      <td>...</td>\n",
       "      <td>...</td>\n",
       "      <td>...</td>\n",
       "      <td>...</td>\n",
       "      <td>...</td>\n",
       "      <td>...</td>\n",
       "      <td>...</td>\n",
       "      <td>...</td>\n",
       "    </tr>\n",
       "    <tr>\n",
       "      <th>42037</th>\n",
       "      <td>NaN</td>\n",
       "      <td>NaN</td>\n",
       "      <td>NaN</td>\n",
       "      <td>NaN</td>\n",
       "      <td>NaN</td>\n",
       "      <td>NaN</td>\n",
       "      <td>NaN</td>\n",
       "      <td>NaN</td>\n",
       "      <td>NaN</td>\n",
       "      <td>NaN</td>\n",
       "      <td>NaN</td>\n",
       "      <td>NaN</td>\n",
       "      <td>NaN</td>\n",
       "    </tr>\n",
       "    <tr>\n",
       "      <th>42038</th>\n",
       "      <td>NaN</td>\n",
       "      <td>NaN</td>\n",
       "      <td>NaN</td>\n",
       "      <td>NaN</td>\n",
       "      <td>NaN</td>\n",
       "      <td>NaN</td>\n",
       "      <td>NaN</td>\n",
       "      <td>NaN</td>\n",
       "      <td>NaN</td>\n",
       "      <td>NaN</td>\n",
       "      <td>NaN</td>\n",
       "      <td>NaN</td>\n",
       "      <td>NaN</td>\n",
       "    </tr>\n",
       "    <tr>\n",
       "      <th>42039</th>\n",
       "      <td>NaN</td>\n",
       "      <td>NaN</td>\n",
       "      <td>NaN</td>\n",
       "      <td>NaN</td>\n",
       "      <td>NaN</td>\n",
       "      <td>NaN</td>\n",
       "      <td>NaN</td>\n",
       "      <td>NaN</td>\n",
       "      <td>NaN</td>\n",
       "      <td>NaN</td>\n",
       "      <td>NaN</td>\n",
       "      <td>NaN</td>\n",
       "      <td>NaN</td>\n",
       "    </tr>\n",
       "    <tr>\n",
       "      <th>42040</th>\n",
       "      <td>NaN</td>\n",
       "      <td>NaN</td>\n",
       "      <td>NaN</td>\n",
       "      <td>NaN</td>\n",
       "      <td>NaN</td>\n",
       "      <td>NaN</td>\n",
       "      <td>NaN</td>\n",
       "      <td>NaN</td>\n",
       "      <td>NaN</td>\n",
       "      <td>NaN</td>\n",
       "      <td>NaN</td>\n",
       "      <td>NaN</td>\n",
       "      <td>NaN</td>\n",
       "    </tr>\n",
       "    <tr>\n",
       "      <th>42041</th>\n",
       "      <td>NaN</td>\n",
       "      <td>NaN</td>\n",
       "      <td>NaN</td>\n",
       "      <td>NaN</td>\n",
       "      <td>NaN</td>\n",
       "      <td>NaN</td>\n",
       "      <td>NaN</td>\n",
       "      <td>NaN</td>\n",
       "      <td>NaN</td>\n",
       "      <td>NaN</td>\n",
       "      <td>NaN</td>\n",
       "      <td>NaN</td>\n",
       "      <td>NaN</td>\n",
       "    </tr>\n",
       "  </tbody>\n",
       "</table>\n",
       "<p>42042 rows × 13 columns</p>\n",
       "</div>"
      ],
      "text/plain": [
       "       windspeed  rainfall24  rainfall6  rainfallaverage     area  yield  \\\n",
       "0       0.000000    1.535972   3.032222         0.959983  2870.00   3.37   \n",
       "1       0.000000    2.141071   3.942857         1.338170   491.00   4.36   \n",
       "2       7.116629    5.809375  20.589580         3.630859  1330.88   4.42   \n",
       "3      67.089467    3.908854  11.341670         2.443034  5767.00   4.65   \n",
       "4       0.000000    0.805469   1.580208         0.503418  4710.00   4.14   \n",
       "...          ...         ...        ...              ...      ...    ...   \n",
       "42037        NaN         NaN        NaN              NaN      NaN    NaN   \n",
       "42038        NaN         NaN        NaN              NaN      NaN    NaN   \n",
       "42039        NaN         NaN        NaN              NaN      NaN    NaN   \n",
       "42040        NaN         NaN        NaN              NaN      NaN    NaN   \n",
       "42041        NaN         NaN        NaN              NaN      NaN    NaN   \n",
       "\n",
       "        distance  areayieldrataio  percentageofarea        darea    yielda  \\\n",
       "0        0.00000       851.632047          0.247070   709.091324  0.832626   \n",
       "1        0.00000       112.614679          0.244428   120.014173  1.065706   \n",
       "2      385.79860       301.104072          0.312983   416.543187  1.383386   \n",
       "3       26.26015      1240.215054          0.567852  3274.800267  2.640510   \n",
       "4        0.00000      1137.681159          0.130472   614.521934  0.540153   \n",
       "...          ...              ...               ...          ...       ...   \n",
       "42037        NaN              NaN               NaN          NaN       NaN   \n",
       "42038        NaN              NaN               NaN          NaN       NaN   \n",
       "42039        NaN              NaN               NaN          NaN       NaN   \n",
       "42040        NaN              NaN               NaN          NaN       NaN   \n",
       "42041        NaN              NaN               NaN          NaN       NaN   \n",
       "\n",
       "       fgprice       dctrice  \n",
       "0        20.79  1.113550e+07  \n",
       "1        20.79  2.412279e+06  \n",
       "2        20.79  1.086828e+07  \n",
       "3        20.79  1.630911e+08  \n",
       "4        20.79  6.260539e+06  \n",
       "...        ...           ...  \n",
       "42037      NaN           NaN  \n",
       "42038      NaN           NaN  \n",
       "42039      NaN           NaN  \n",
       "42040      NaN           NaN  \n",
       "42041      NaN           NaN  \n",
       "\n",
       "[42042 rows x 13 columns]"
      ]
     },
     "execution_count": 104,
     "metadata": {},
     "output_type": "execute_result"
    }
   ],
   "source": [
    "df"
   ]
  },
  {
   "cell_type": "code",
   "execution_count": 105,
   "metadata": {},
   "outputs": [],
   "source": [
    "# Split the dataset into features and target variable\n",
    "X = df.drop(['dctrice','percentageofarea','yielda','darea','rainfallaverage','areayieldrataio'], axis=1)\n",
    "y = df.drop(['darea','percentageofarea','yielda','windspeed','rainfall24','rainfall6','rainfallaverage','areayieldrataio','area', 'yield', 'fgprice','distance'], axis=1)"
   ]
  },
  {
   "cell_type": "code",
   "execution_count": 106,
   "metadata": {},
   "outputs": [
    {
     "data": {
      "text/plain": [
       "((42042, 7), (42042, 1))"
      ]
     },
     "execution_count": 106,
     "metadata": {},
     "output_type": "execute_result"
    }
   ],
   "source": [
    "X.shape, y.shape"
   ]
  },
  {
   "cell_type": "code",
   "execution_count": 107,
   "metadata": {},
   "outputs": [],
   "source": [
    "# Training and Temporary Set (80-20 split)\n",
    "X_train, X_temp, y_train, y_temp = train_test_split(X, y, test_size=0.2, random_state=42)\n",
    "\n",
    "# Temporary set into a validation set and a test set using (50-50 split)\n",
    "X_val, X_test, y_val, y_test = train_test_split(X_temp, y_temp, test_size=0.5, random_state=42)"
   ]
  },
  {
   "cell_type": "code",
   "execution_count": 108,
   "metadata": {},
   "outputs": [
    {
     "data": {
      "text/html": [
       "<div>\n",
       "<style scoped>\n",
       "    .dataframe tbody tr th:only-of-type {\n",
       "        vertical-align: middle;\n",
       "    }\n",
       "\n",
       "    .dataframe tbody tr th {\n",
       "        vertical-align: top;\n",
       "    }\n",
       "\n",
       "    .dataframe thead th {\n",
       "        text-align: right;\n",
       "    }\n",
       "</style>\n",
       "<table border=\"1\" class=\"dataframe\">\n",
       "  <thead>\n",
       "    <tr style=\"text-align: right;\">\n",
       "      <th></th>\n",
       "      <th>dctrice</th>\n",
       "    </tr>\n",
       "  </thead>\n",
       "  <tbody>\n",
       "    <tr>\n",
       "      <th>12421</th>\n",
       "      <td>49860.57</td>\n",
       "    </tr>\n",
       "    <tr>\n",
       "      <th>32259</th>\n",
       "      <td>2697062.59</td>\n",
       "    </tr>\n",
       "    <tr>\n",
       "      <th>13295</th>\n",
       "      <td>5693339.34</td>\n",
       "    </tr>\n",
       "    <tr>\n",
       "      <th>38496</th>\n",
       "      <td>134079.06</td>\n",
       "    </tr>\n",
       "    <tr>\n",
       "      <th>18430</th>\n",
       "      <td>455649.10</td>\n",
       "    </tr>\n",
       "    <tr>\n",
       "      <th>...</th>\n",
       "      <td>...</td>\n",
       "    </tr>\n",
       "    <tr>\n",
       "      <th>6265</th>\n",
       "      <td>0.00</td>\n",
       "    </tr>\n",
       "    <tr>\n",
       "      <th>11284</th>\n",
       "      <td>8478698.45</td>\n",
       "    </tr>\n",
       "    <tr>\n",
       "      <th>38158</th>\n",
       "      <td>403959.79</td>\n",
       "    </tr>\n",
       "    <tr>\n",
       "      <th>860</th>\n",
       "      <td>496568.07</td>\n",
       "    </tr>\n",
       "    <tr>\n",
       "      <th>15795</th>\n",
       "      <td>682829.12</td>\n",
       "    </tr>\n",
       "  </tbody>\n",
       "</table>\n",
       "<p>33633 rows × 1 columns</p>\n",
       "</div>"
      ],
      "text/plain": [
       "          dctrice\n",
       "12421    49860.57\n",
       "32259  2697062.59\n",
       "13295  5693339.34\n",
       "38496   134079.06\n",
       "18430   455649.10\n",
       "...           ...\n",
       "6265         0.00\n",
       "11284  8478698.45\n",
       "38158   403959.79\n",
       "860     496568.07\n",
       "15795   682829.12\n",
       "\n",
       "[33633 rows x 1 columns]"
      ]
     },
     "execution_count": 108,
     "metadata": {},
     "output_type": "execute_result"
    }
   ],
   "source": [
    "y_train"
   ]
  },
  {
   "cell_type": "code",
   "execution_count": 109,
   "metadata": {},
   "outputs": [
    {
     "data": {
      "text/plain": [
       "((33633, 7), (33633, 1))"
      ]
     },
     "execution_count": 109,
     "metadata": {},
     "output_type": "execute_result"
    }
   ],
   "source": [
    "\n",
    "X_train.shape, y_train.shape"
   ]
  },
  {
   "cell_type": "code",
   "execution_count": 110,
   "metadata": {},
   "outputs": [
    {
     "name": "stdout",
     "output_type": "stream",
     "text": [
      "<class 'pandas.core.frame.DataFrame'>\n",
      "Int64Index: 33633 entries, 12421 to 15795\n",
      "Data columns (total 1 columns):\n",
      " #   Column   Non-Null Count  Dtype  \n",
      "---  ------   --------------  -----  \n",
      " 0   dctrice  31048 non-null  float64\n",
      "dtypes: float64(1)\n",
      "memory usage: 525.5 KB\n",
      "<class 'pandas.core.frame.DataFrame'>\n",
      "Int64Index: 33633 entries, 12421 to 15795\n",
      "Data columns (total 7 columns):\n",
      " #   Column      Non-Null Count  Dtype  \n",
      "---  ------      --------------  -----  \n",
      " 0   windspeed   31048 non-null  float64\n",
      " 1   rainfall24  31048 non-null  float64\n",
      " 2   rainfall6   31047 non-null  float64\n",
      " 3   area        31048 non-null  float64\n",
      " 4   yield       31048 non-null  float64\n",
      " 5   distance    31048 non-null  float64\n",
      " 6   fgprice     31048 non-null  float64\n",
      "dtypes: float64(7)\n",
      "memory usage: 2.1 MB\n"
     ]
    }
   ],
   "source": [
    "y_train.info()\n",
    "X_train.info()"
   ]
  },
  {
   "cell_type": "code",
   "execution_count": 111,
   "metadata": {},
   "outputs": [],
   "source": [
    "X_test = pd.DataFrame(X_test).apply(pd.to_numeric, errors='coerce')\n",
    "X_train = pd.DataFrame(X_train).apply(pd.to_numeric, errors='coerce')\n",
    "y_train = pd.DataFrame(y_train).apply(pd.to_numeric, errors='coerce')\n",
    "y_test = pd.DataFrame(y_test).apply(pd.to_numeric, errors='coerce')"
   ]
  },
  {
   "cell_type": "code",
   "execution_count": 112,
   "metadata": {},
   "outputs": [
    {
     "data": {
      "text/plain": [
       "((33633, 7), (33633, 1))"
      ]
     },
     "execution_count": 112,
     "metadata": {},
     "output_type": "execute_result"
    }
   ],
   "source": [
    "X_train.shape, y_train.shape"
   ]
  },
  {
   "cell_type": "code",
   "execution_count": 113,
   "metadata": {},
   "outputs": [],
   "source": [
    "# Remove the rows with zero values from the training set and testing set\n",
    "mask = X_train['windspeed'] != 0\n",
    "\n",
    "# Apply the mask to X_train\n",
    "X_train = X_train[mask]\n",
    "\n",
    "# Apply the mask to y_train\n",
    "y_train = y_train[mask]"
   ]
  },
  {
   "cell_type": "code",
   "execution_count": 114,
   "metadata": {},
   "outputs": [
    {
     "data": {
      "text/plain": [
       "((16754, 7), (16754, 1))"
      ]
     },
     "execution_count": 114,
     "metadata": {},
     "output_type": "execute_result"
    }
   ],
   "source": [
    "X_train.shape, y_train.shape"
   ]
  },
  {
   "cell_type": "code",
   "execution_count": 115,
   "metadata": {},
   "outputs": [],
   "source": [
    "# Remove the rows with zero values from the training set and testing set\n",
    "mask =y_train['dctrice'] != 0\n",
    "\n",
    "# Apply the mask to X_train\n",
    "X_train = X_train[mask]\n",
    "\n",
    "# Apply the mask to y_train\n",
    "y_train = y_train[mask]"
   ]
  },
  {
   "cell_type": "code",
   "execution_count": 116,
   "metadata": {},
   "outputs": [],
   "source": [
    "# Remove the rows with zero values from the training set and testing set\n",
    "mask =X_val['windspeed'] != 0\n",
    "\n",
    "# Apply the mask to X_train\n",
    "X_val = X_val[mask]\n",
    "\n",
    "# Apply the mask to y_train\n",
    "y_val = y_val[mask]"
   ]
  },
  {
   "cell_type": "code",
   "execution_count": 117,
   "metadata": {},
   "outputs": [
    {
     "data": {
      "text/html": [
       "<div>\n",
       "<style scoped>\n",
       "    .dataframe tbody tr th:only-of-type {\n",
       "        vertical-align: middle;\n",
       "    }\n",
       "\n",
       "    .dataframe tbody tr th {\n",
       "        vertical-align: top;\n",
       "    }\n",
       "\n",
       "    .dataframe thead th {\n",
       "        text-align: right;\n",
       "    }\n",
       "</style>\n",
       "<table border=\"1\" class=\"dataframe\">\n",
       "  <thead>\n",
       "    <tr style=\"text-align: right;\">\n",
       "      <th></th>\n",
       "      <th>windspeed</th>\n",
       "      <th>rainfall24</th>\n",
       "      <th>rainfall6</th>\n",
       "      <th>area</th>\n",
       "      <th>yield</th>\n",
       "      <th>distance</th>\n",
       "      <th>fgprice</th>\n",
       "    </tr>\n",
       "  </thead>\n",
       "  <tbody>\n",
       "    <tr>\n",
       "      <th>11081</th>\n",
       "      <td>2.781381</td>\n",
       "      <td>0.006250</td>\n",
       "      <td>0.025000</td>\n",
       "      <td>41.0</td>\n",
       "      <td>5.02</td>\n",
       "      <td>470.667200</td>\n",
       "      <td>19.00</td>\n",
       "    </tr>\n",
       "    <tr>\n",
       "      <th>23356</th>\n",
       "      <td>44.105604</td>\n",
       "      <td>0.294149</td>\n",
       "      <td>1.127083</td>\n",
       "      <td>324.0</td>\n",
       "      <td>4.17</td>\n",
       "      <td>1.770913</td>\n",
       "      <td>20.79</td>\n",
       "    </tr>\n",
       "    <tr>\n",
       "      <th>10065</th>\n",
       "      <td>9.210506</td>\n",
       "      <td>0.018155</td>\n",
       "      <td>0.042857</td>\n",
       "      <td>409.0</td>\n",
       "      <td>2.70</td>\n",
       "      <td>242.919000</td>\n",
       "      <td>19.00</td>\n",
       "    </tr>\n",
       "    <tr>\n",
       "      <th>312</th>\n",
       "      <td>8.981082</td>\n",
       "      <td>3.131250</td>\n",
       "      <td>4.541667</td>\n",
       "      <td>355.0</td>\n",
       "      <td>3.96</td>\n",
       "      <td>430.519800</td>\n",
       "      <td>20.79</td>\n",
       "    </tr>\n",
       "    <tr>\n",
       "      <th>13206</th>\n",
       "      <td>6.482678</td>\n",
       "      <td>1.223750</td>\n",
       "      <td>4.160833</td>\n",
       "      <td>1310.0</td>\n",
       "      <td>4.35</td>\n",
       "      <td>362.528500</td>\n",
       "      <td>14.32</td>\n",
       "    </tr>\n",
       "    <tr>\n",
       "      <th>...</th>\n",
       "      <td>...</td>\n",
       "      <td>...</td>\n",
       "      <td>...</td>\n",
       "      <td>...</td>\n",
       "      <td>...</td>\n",
       "      <td>...</td>\n",
       "      <td>...</td>\n",
       "    </tr>\n",
       "    <tr>\n",
       "      <th>41367</th>\n",
       "      <td>NaN</td>\n",
       "      <td>NaN</td>\n",
       "      <td>NaN</td>\n",
       "      <td>NaN</td>\n",
       "      <td>NaN</td>\n",
       "      <td>NaN</td>\n",
       "      <td>NaN</td>\n",
       "    </tr>\n",
       "    <tr>\n",
       "      <th>20915</th>\n",
       "      <td>9.466171</td>\n",
       "      <td>0.703125</td>\n",
       "      <td>2.016667</td>\n",
       "      <td>3467.0</td>\n",
       "      <td>4.09</td>\n",
       "      <td>128.594500</td>\n",
       "      <td>14.32</td>\n",
       "    </tr>\n",
       "    <tr>\n",
       "      <th>13993</th>\n",
       "      <td>4.968334</td>\n",
       "      <td>0.798958</td>\n",
       "      <td>1.593750</td>\n",
       "      <td>4354.0</td>\n",
       "      <td>4.47</td>\n",
       "      <td>452.030900</td>\n",
       "      <td>14.32</td>\n",
       "    </tr>\n",
       "    <tr>\n",
       "      <th>14359</th>\n",
       "      <td>9.841233</td>\n",
       "      <td>0.815104</td>\n",
       "      <td>2.277083</td>\n",
       "      <td>0.0</td>\n",
       "      <td>0.00</td>\n",
       "      <td>281.559900</td>\n",
       "      <td>14.32</td>\n",
       "    </tr>\n",
       "    <tr>\n",
       "      <th>39724</th>\n",
       "      <td>NaN</td>\n",
       "      <td>NaN</td>\n",
       "      <td>NaN</td>\n",
       "      <td>NaN</td>\n",
       "      <td>NaN</td>\n",
       "      <td>NaN</td>\n",
       "      <td>NaN</td>\n",
       "    </tr>\n",
       "  </tbody>\n",
       "</table>\n",
       "<p>2119 rows × 7 columns</p>\n",
       "</div>"
      ],
      "text/plain": [
       "       windspeed  rainfall24  rainfall6    area  yield    distance  fgprice\n",
       "11081   2.781381    0.006250   0.025000    41.0   5.02  470.667200    19.00\n",
       "23356  44.105604    0.294149   1.127083   324.0   4.17    1.770913    20.79\n",
       "10065   9.210506    0.018155   0.042857   409.0   2.70  242.919000    19.00\n",
       "312     8.981082    3.131250   4.541667   355.0   3.96  430.519800    20.79\n",
       "13206   6.482678    1.223750   4.160833  1310.0   4.35  362.528500    14.32\n",
       "...          ...         ...        ...     ...    ...         ...      ...\n",
       "41367        NaN         NaN        NaN     NaN    NaN         NaN      NaN\n",
       "20915   9.466171    0.703125   2.016667  3467.0   4.09  128.594500    14.32\n",
       "13993   4.968334    0.798958   1.593750  4354.0   4.47  452.030900    14.32\n",
       "14359   9.841233    0.815104   2.277083     0.0   0.00  281.559900    14.32\n",
       "39724        NaN         NaN        NaN     NaN    NaN         NaN      NaN\n",
       "\n",
       "[2119 rows x 7 columns]"
      ]
     },
     "execution_count": 117,
     "metadata": {},
     "output_type": "execute_result"
    }
   ],
   "source": [
    "X_val"
   ]
  },
  {
   "cell_type": "code",
   "execution_count": 118,
   "metadata": {},
   "outputs": [
    {
     "data": {
      "text/html": [
       "<div>\n",
       "<style scoped>\n",
       "    .dataframe tbody tr th:only-of-type {\n",
       "        vertical-align: middle;\n",
       "    }\n",
       "\n",
       "    .dataframe tbody tr th {\n",
       "        vertical-align: top;\n",
       "    }\n",
       "\n",
       "    .dataframe thead th {\n",
       "        text-align: right;\n",
       "    }\n",
       "</style>\n",
       "<table border=\"1\" class=\"dataframe\">\n",
       "  <thead>\n",
       "    <tr style=\"text-align: right;\">\n",
       "      <th></th>\n",
       "      <th>dctrice</th>\n",
       "    </tr>\n",
       "  </thead>\n",
       "  <tbody>\n",
       "    <tr>\n",
       "      <th>32259</th>\n",
       "      <td>2.697063e+06</td>\n",
       "    </tr>\n",
       "    <tr>\n",
       "      <th>13295</th>\n",
       "      <td>5.693339e+06</td>\n",
       "    </tr>\n",
       "    <tr>\n",
       "      <th>38496</th>\n",
       "      <td>1.340791e+05</td>\n",
       "    </tr>\n",
       "    <tr>\n",
       "      <th>7119</th>\n",
       "      <td>1.412942e+06</td>\n",
       "    </tr>\n",
       "    <tr>\n",
       "      <th>18899</th>\n",
       "      <td>5.760739e+06</td>\n",
       "    </tr>\n",
       "    <tr>\n",
       "      <th>...</th>\n",
       "      <td>...</td>\n",
       "    </tr>\n",
       "    <tr>\n",
       "      <th>16023</th>\n",
       "      <td>2.002180e+05</td>\n",
       "    </tr>\n",
       "    <tr>\n",
       "      <th>37194</th>\n",
       "      <td>1.058280e+08</td>\n",
       "    </tr>\n",
       "    <tr>\n",
       "      <th>16850</th>\n",
       "      <td>9.070342e+05</td>\n",
       "    </tr>\n",
       "    <tr>\n",
       "      <th>11284</th>\n",
       "      <td>8.478698e+06</td>\n",
       "    </tr>\n",
       "    <tr>\n",
       "      <th>15795</th>\n",
       "      <td>6.828291e+05</td>\n",
       "    </tr>\n",
       "  </tbody>\n",
       "</table>\n",
       "<p>14597 rows × 1 columns</p>\n",
       "</div>"
      ],
      "text/plain": [
       "            dctrice\n",
       "32259  2.697063e+06\n",
       "13295  5.693339e+06\n",
       "38496  1.340791e+05\n",
       "7119   1.412942e+06\n",
       "18899  5.760739e+06\n",
       "...             ...\n",
       "16023  2.002180e+05\n",
       "37194  1.058280e+08\n",
       "16850  9.070342e+05\n",
       "11284  8.478698e+06\n",
       "15795  6.828291e+05\n",
       "\n",
       "[14597 rows x 1 columns]"
      ]
     },
     "execution_count": 118,
     "metadata": {},
     "output_type": "execute_result"
    }
   ],
   "source": [
    "y_train"
   ]
  },
  {
   "cell_type": "code",
   "execution_count": 119,
   "metadata": {},
   "outputs": [
    {
     "name": "stdout",
     "output_type": "stream",
     "text": [
      "(array([], dtype=int64), array([], dtype=int64))\n"
     ]
    }
   ],
   "source": [
    "# Null Remover\n",
    "\n",
    "nan_rows = X_train[X_train.isna().any(axis=1)].index\n",
    "X_train = X_train.drop(nan_rows)\n",
    "y_train = y_train.drop(nan_rows)\n",
    "\n",
    "print(np.where(pd.isnull(X_train)))"
   ]
  },
  {
   "cell_type": "code",
   "execution_count": 120,
   "metadata": {},
   "outputs": [
    {
     "name": "stdout",
     "output_type": "stream",
     "text": [
      "(array([], dtype=int64), array([], dtype=int64))\n"
     ]
    }
   ],
   "source": [
    "# Null Remover\n",
    "\n",
    "nan_rows = X_val[X_val.isna().any(axis=1)].index\n",
    "X_val = X_val.drop(nan_rows)\n",
    "y_val = y_val.drop(nan_rows)\n",
    "\n",
    "print(np.where(pd.isnull(X_val)))"
   ]
  },
  {
   "cell_type": "code",
   "execution_count": 121,
   "metadata": {},
   "outputs": [
    {
     "data": {
      "text/plain": [
       "((12012, 7), (12012, 1))"
      ]
     },
     "execution_count": 121,
     "metadata": {},
     "output_type": "execute_result"
    }
   ],
   "source": [
    "X_train.shape,y_train.shape"
   ]
  },
  {
   "cell_type": "code",
   "execution_count": 122,
   "metadata": {},
   "outputs": [],
   "source": [
    "nan_rows = X_test[X_test.isna().any(axis=1)].index\n",
    "X_test = X_test.drop(nan_rows)\n",
    "y_test = y_test.drop(nan_rows)"
   ]
  },
  {
   "cell_type": "code",
   "execution_count": null,
   "metadata": {},
   "outputs": [],
   "source": [
    "\n"
   ]
  },
  {
   "cell_type": "code",
   "execution_count": 132,
   "metadata": {},
   "outputs": [
    {
     "name": "stderr",
     "output_type": "stream",
     "text": [
      "c:\\Users\\Asus\\anaconda3\\lib\\site-packages\\sklearn\\ensemble\\_stacking.py:758: DataConversionWarning: A column-vector y was passed when a 1d array was expected. Please change the shape of y to (n_samples, ), for example using ravel().\n",
      "  y = column_or_1d(y, warn=True)\n"
     ]
    },
    {
     "name": "stdout",
     "output_type": "stream",
     "text": [
      "R-squared (Test): 0.8070161197833394\n",
      "Mean Absolute Error (Test): 5614001.975807379\n",
      "\n",
      "R-squared (Validation): 0.8390495841319379\n",
      "Mean Absolute Error (Validation): 6148004.477683889\n",
      "\n",
      "Explained Variance: 0.8084711754700348\n"
     ]
    }
   ],
   "source": [
    "from sklearn.ensemble import GradientBoostingRegressor, StackingRegressor\n",
    "from sklearn.ensemble import RandomForestRegressor\n",
    "from joblib import load, dump\n",
    "from sklearn.linear_model import ElasticNet\n",
    "from sklearn.metrics import mean_absolute_error, mean_squared_log_error\n",
    "from sklearn.svm import SVR\n",
    "from sklearn.metrics import explained_variance_score\n",
    "\n",
    "# Load the models\n",
    "svr_pipeline = load('SVR.joblib')\n",
    "rf = load('RFR.joblib')\n",
    "\n",
    "\n",
    "# # # Create a RandomForestRegressor for the final estimator\n",
    "# final_estimator = GradientBoostingRegressor(n_estimators=100, learning_rate=0.1, max_depth=6, random_state=42)\n",
    "\n",
    "\n",
    "final_estimator = RandomForestRegressor(\n",
    "    \n",
    "    n_estimators=100, \n",
    "    max_depth=10, \n",
    "    min_samples_split=4, \n",
    "    min_samples_leaf=4, \n",
    "    max_leaf_nodes=100,\n",
    "    max_features='log2',\n",
    "    random_state=42,)\n",
    "\n",
    "\n",
    "# Create a StackingRegressor\n",
    "stacking_regressor = StackingRegressor(\n",
    "    estimators=[('svr', svr_pipeline), ('rf', rf)],\n",
    "    final_estimator=final_estimator\n",
    ")\n",
    "\n",
    "stacking_regressor.fit(X_train, y_train)\n",
    "predictions = stacking_regressor.predict(X_test)\n",
    "\n",
    "# Evaluate the model\n",
    "r2 = stacking_regressor.score(X_test, y_test)\n",
    "print(f'R-squared (Test): {r2}')\n",
    "\n",
    "mae = mean_absolute_error(y_test, predictions)\n",
    "print(f'Mean Absolute Error (Test): {mae}')\n",
    "\n",
    "\n",
    "# # Calculate and print MAE in percentage points for test set\n",
    "# mae_percentage_test = (mae / y_test.values.mean()) * 100\n",
    "# print(f'Mean Absolute Error (Test, p.p.): {mae_percentage_test}%')\n",
    "\n",
    "\n",
    "predictionsVal = stacking_regressor.predict(X_val)\n",
    "\n",
    "# Evaluate the model\n",
    "\n",
    "\n",
    "r2 = stacking_regressor.score(X_val, y_val)\n",
    "print(f'\\nR-squared (Validation): {r2}')\n",
    "maev = mean_absolute_error(y_val, predictionsVal)\n",
    "print(f'Mean Absolute Error (Validation): {maev}')\n",
    "\n",
    "\n",
    "\n",
    "# Assuming `predictions` are the predicted values from your model\n",
    "explained_variance = explained_variance_score(y_test, predictions)\n",
    "\n",
    "print(f'\\nExplained Variance: {explained_variance}')\n",
    "\n",
    "\n",
    "# from sklearn.metrics import median_absolute_error\n",
    "\n",
    "# # medae = median_absolute_error(y_test, predictions)\n",
    "# # print(f'Median Absolute Error: {medae}')\n"
   ]
  },
  {
   "cell_type": "code",
   "execution_count": 124,
   "metadata": {},
   "outputs": [],
   "source": [
    "# import matplotlib.pyplot as plt\n",
    "# import numpy as np\n",
    "\n",
    "# residuals = y_test - predictions\n",
    "# plt.scatter(y_test, residuals)\n",
    "# plt.xlabel('Actual Values')\n",
    "# plt.ylabel('Residuals')\n",
    "# plt.axhline(y=0, color='r', linestyle='-')\n",
    "# plt.title('Residuals vs. Actual Values')\n",
    "# plt.show()"
   ]
  },
  {
   "cell_type": "code",
   "execution_count": 125,
   "metadata": {},
   "outputs": [
    {
     "name": "stdout",
     "output_type": "stream",
     "text": [
      "<class 'pandas.core.frame.DataFrame'>\n",
      "Int64Index: 12012 entries, 32259 to 15795\n",
      "Data columns (total 1 columns):\n",
      " #   Column   Non-Null Count  Dtype  \n",
      "---  ------   --------------  -----  \n",
      " 0   dctrice  12012 non-null  float64\n",
      "dtypes: float64(1)\n",
      "memory usage: 187.7 KB\n"
     ]
    }
   ],
   "source": [
    "y_train.info()"
   ]
  },
  {
   "cell_type": "code",
   "execution_count": 126,
   "metadata": {},
   "outputs": [
    {
     "name": "stdout",
     "output_type": "stream",
     "text": [
      "['926106.74', '4277168.92', '810800.71', '1574141.54', '12029337.62', '2603550.50', '3664759.17', '2899606.73', '11037422.13', '4277168.92', '3434844.42', '728554.94', '3369245.72', '1605829.81', '4082929.74', '19167910.85', '35470109.33', '322074.49', '9159012.65', '13844690.55', '4082929.74', '4019840.15', '350176.63', '2430304.24', '1835953.34', '6045895.52', '4277168.92', '16027419.13', '4636945.53', '728554.94', '3533088.71', '10030785.13', '2603550.50', '17143556.69', '926106.74', '3533088.71', '5108722.19', '926106.74', '33978397.67', '7474659.90', '9240243.64', '20226711.18', '20413344.08', '54698453.16', '322074.49', '107804423.49', '1835953.34', '19407558.53', '4277168.92', '5108722.19', '781408.41', '376612.59', '1317829.37', '322074.49', '3369245.72', '2362049.60', '74465652.31', '1258282.20', '9325763.47', '2899606.73', '781408.41', '322074.49', '926106.74', '4277168.92', '6045895.52', '4082929.74', '16360693.17', '4082929.74', '6742433.56', '17513690.01', '781408.41', '680038.77', '3434844.42', '5108722.19', '3303725.42', '328202.08', '376612.59', '6502177.00', '3303725.42', '4082929.74', '2603550.50', '6045895.52', '17580399.48', '476162.65', '66829439.20', '376612.59', '328202.08', '4665437.87', '4277168.92', '5108722.19', '2430304.24', '4277168.92', '9038451.22', '328202.08', '6926718.62', '10030785.13', '10971043.29', '6742433.56', '322074.49', '2603550.50', '21038600.06', '394662.32', '45638006.40', '4082929.74', '9849938.38', '4277168.92', '4082929.74', '322074.49', '5108722.19', '350176.63', '4427405.21', '15034989.70', '1026353.49', '3434844.42', '7530916.26', '680038.77', '22727945.20', '5108722.19', '328202.08', '4125466.00', '3533088.71', '4082929.74', '142016723.72', '20413344.08', '4480781.10', '322074.49', '2582405.79', '8732459.76', '1605829.81', '6171522.80', '26001381.03', '3533088.71', '328202.08', '25590221.80', '3434844.42', '6045895.52', '2362049.60', '17098951.77', '2362049.60', '4408484.41', '926106.74', '476162.65', '137499609.27', '10030785.13', '4227610.45', '728554.94', '3751257.39', '40916898.44', '728554.94', '83618120.49', '14964533.78', '612791.51', '322074.49', '17341228.94', '4427405.21', '2603550.50', '2612595.89', '476162.65', '680038.77', '22727945.20', '52493980.45', '13626359.72', '394662.32', '781408.41', '328202.08', '2603550.50', '10971043.29', '5108722.19', '4277168.92', '680038.77', '328202.08', '728554.94', '5108722.19', '18788799.98', '2899606.73', '6045895.52', '25799215.29', '926106.74', '781408.41', '51138962.60', '5108722.19', '728554.94', '926106.74', '4249529.74', '476162.65', '15128463.63', '37476224.90', '65590721.09', '322074.49', '13231128.40', '4277168.92', '6051622.93', '16027419.13', '19754163.48', '4277168.92', '4277168.92', '7198699.39', '46919280.90', '5091343.32', '2603550.50', '4277168.92', '3434844.42', '3303725.42', '2899606.73', '680038.77', '17513690.01', '1026353.49', '12975218.68', '728554.94', '4277168.92', '1835953.34', '728554.94', '4277168.92', '2908652.12', '22262961.90', '3693765.19', '3010122.48', '6926718.62', '5108722.19', '6502177.00', '728554.94', '476162.65', '1026353.49', '20788064.60', '4082929.74', '322074.49', '8732459.76', '6169388.46', '1605829.81', '21481981.33', '42670206.90', '3434844.42', '2899606.73', '926106.74', '2603550.50', '3434844.42', '1473166.13', '1716345.56', '4277168.92', '4082929.74', '5023357.05', '1574141.54', '75444856.87', '3434844.42', '728554.94', '7474659.90', '1835953.34', '1835953.34', '4277168.92', '65131710.26', '258710720.66', '4277168.92', '63328604.50', '2899606.73', '119740244.21', '4277168.92', '1376068.02', '5108722.19', '3434844.42', '15686461.11', '350176.63', '612791.51', '14964533.78', '22746644.83', '4277168.92', '728554.94', '94738720.78', '16027419.13', '4125466.00', '322074.49', '2899606.73', '810800.71', '4125466.00', '4125466.00', '4008207.23', '1605829.81', '4082929.74', '2899606.73', '5108722.19', '2582405.79', '8734650.38', '2603550.50', '4277168.92', '10145225.40', '11958252.06', '13231128.40', '1835953.34', '781408.41', '5087296.92', '4277168.92', '1835953.34', '58621489.75', '6045895.52', '3369245.72', '5108722.19', '7198699.39', '810800.71', '680038.77', '1835953.34', '5108722.19', '4082929.74', '781408.41', '23152361.11', '2603550.50', '2603550.50', '476162.65', '4227610.45', '926106.74', '40599514.05', '4427405.21', '5108722.19', '96168693.70', '30891705.78', '2705897.46', '781408.41', '4866030.01', '781408.41', '16027419.13', '7173970.30', '5108722.19', '4277168.92', '2899606.73', '3369245.72', '18682269.28', '1026353.49', '810800.71', '215347233.12', '394662.32', '394662.32', '3460354.78', '4277168.92', '2899606.73', '476162.65', '4082929.74', '3235946.68', '322074.49', '4229380.46', '728554.94', '781408.41', '61116690.11', '926106.74', '5091343.32', '476162.65', '1835953.34', '3434844.42', '5108722.19', '86684932.94', '1026353.49', '70982146.18', '680038.77', '2899606.73', '2603550.50', '12700594.56', '4277168.92', '926106.74', '7474659.90', '6045895.52', '680038.77', '328202.08', '810800.71', '17996318.47', '781408.41', '3303725.42', '2454755.90', '21038600.06', '44465877.87', '19647906.64', '19549467.06', '6720197.91', '5108722.19', '1835953.34', '728554.94', '1605829.81', '4277168.92', '728554.94', '5108722.19', '4082929.74', '810800.71', '4277168.92', '60706760.40', '4082929.74', '2899606.73', '926106.74', '27639546.22', '4275702.29', '322074.49', '2430304.24', '39275650.30', '376612.59', '9392051.36', '7022707.77', '47024615.76', '476162.65', '2603550.50', '350176.63', '8920684.20', '7629323.51', '5108722.19', '7134075.84', '680038.77', '3303725.42', '4082929.74', '1026353.49', '95691091.10', '18656491.89', '11218436.52', '4082929.74', '3010122.48', '28480105.63', '781408.41', '680038.77', '1258282.20', '19514528.17', '21632269.64', '13231128.40', '1835953.34', '27608900.23', '3434844.42', '4277168.92', '22468815.97', '2899606.73', '2603550.50', '3900030.68', '322074.49', '350176.63', '2714066.25', '476162.65', '10030785.13', '10011956.70', '79153070.92', '51415412.35', '1605829.81', '322074.49', '3303725.42', '1605829.81', '1574141.54', '476162.65', '2705897.46', '926106.74', '810800.71', '8528530.28', '5108722.19', '389667.37', '4866030.01', '2430304.24', '728554.94', '3434844.42', '4277168.92', '72438337.97', '4082929.74', '781408.41', '350176.63', '376612.59', '7474659.90', '980914.92', '680038.77', '4082929.74', '2603550.50', '28112675.35', '4277168.92', '5108722.19', '1026353.49', '2603550.50', '11037422.13', '2603550.50', '1605829.81', '328202.08', '2899606.73', '3381736.03', '4082929.74', '21054536.20', '17035552.17', '1026353.49', '1605829.81', '217541923.28', '18759430.80', '2899606.73', '5039623.24', '3010122.48', '45589453.50', '3664759.17', '8732459.76', '680038.77', '1716345.56', '4277168.92', '5108722.19', '476162.65', '6762698.51', '680038.77', '13231128.40', '168485500.27', '4082929.74', '11605475.62', '29876661.33', '25983203.90', '39551882.58', '376612.59', '476162.65', '2245946.74', '476162.65', '4427405.21', '476162.65', '5108722.19', '280624423.45', '10298936.02', '350176.63', '328202.08', '9963869.52', '2603550.50', '20062332.70', '926106.74', '46218361.64', '926106.74', '12688723.26', '3369245.72', '6906420.39', '4082929.74', '71506227.55', '5091343.32', '5108722.19', '2603550.50', '476162.65', '5108722.19', '680038.77', '5108722.19', '2603550.50', '1835953.34', '8368575.13', '1317829.37', '5108722.19', '5108722.19', '17996318.47', '4082929.74', '3224850.23', '49300961.76', '612791.51', '1605829.81', '2899606.73', '2603550.50', '5108722.19', '44426390.59', '3381736.03', '17580399.48', '389667.37', '16961672.98', '13911069.39', '5108722.19', '3394765.59', '148857874.91', '1835953.34', '2603550.50', '2603550.50', '3434844.42', '13231128.40', '5108722.19', '20016266.17', '1835953.34', '22468815.97', '2470251.45', '9003941.11', '4277168.92', '1605829.81', '3303725.42', '2603550.50', '476162.65', '4277168.92', '728554.94', '29689701.88', '476162.65', '3460354.78', '926106.74', '2899606.73', '2603550.50', '5108722.19', '57174643.24', '680038.77', '16996753.47', '14964533.78', '926106.74', '10971043.29', '2362049.60', '680038.77', '6045895.52', '1605829.81', '476162.65', '3434844.42', '12947990.49', '1605829.81', '14027685.20', '1605829.81', '680038.77', '680038.77', '6361291.08', '2899606.73', '926106.74', '8982907.34', '59426109.31', '13911069.39', '6045895.52', '20226711.18', '2871666.61', '2603550.50', '328202.08', '728554.94', '4082929.74', '1844998.72', '3751257.39', '4008207.23', '2899606.73', '17077912.49', '376612.59', '22560710.41', '680038.77', '18372714.74', '5108722.19', '3533088.71', '14043574.95', '6045895.52', '20413344.08', '328202.08', '4019840.15', '810800.71', '3369245.72', '6045895.52', '6502177.00', '19549467.06', '427058.77', '322074.49', '7134075.84', '1605829.81', '5108722.19', '3434844.42', '4227610.45', '9662250.84', '4866030.01', '15128463.63', '5108722.19', '2603550.50', '28300349.02', '5798653.24', '3460354.78', '23574091.47', '1835953.34', '1835953.34', '2899606.73', '22727945.20', '11693020.01', '4125466.00', '4277168.92', '17098951.77', '8982907.34', '6502177.00', '4427405.21', '24825826.56', '4082929.74', '1605829.81', '781408.41', '1835953.34', '2603550.50', '17341228.94', '350176.63', '5108722.19', '476162.65', '75695349.52', '1574141.54', '18656491.89', '8266026.46', '680038.77', '781408.41', '90238687.24', '3533088.71', '4082929.74', '15222668.36', '2603550.50', '76273665.84', '2362049.60', '5108722.19', '4082929.74', '14425957.41', '143066049.88', '328202.08', '194305085.50', '728554.94', '810800.71', '1026353.49', '13980558.25', '12894637.15', '4866030.01', '1521135.94', '4082929.74', '322332.40', '7963318.75', '13626359.72', '2362049.60', '3434844.42', '810800.71', '2603550.50', '6255435.84', '18656491.89', '8732459.76', '926106.74', '328202.08', '60816627.09', '44107868.61', '19754163.48', '5108722.19', '5108722.19', '328202.08', '8982907.34', '13231128.40', '394662.32', '350176.63', '2899606.73', '245613628.89', '3010122.48', '20322114.13', '2454755.90', '3900030.68', '51970038.61', '3434844.42', '5023357.05', '4093617.75', '1386297.27', '322074.49', '8774960.36', '14196794.85', '1835953.34', '7389883.43', '9299062.56', '2899606.73', '2603550.50', '1605829.81', '4082929.74', '7198699.39', '3533088.71', '376612.59', '781408.41', '5108722.19', '7134075.84', '3303725.42', '926106.74', '1026353.49', '31290871.46', '8266026.46', '728554.94', '73822633.27', '10082232.55', '11677249.41', '612791.51', '25277042.98', '5108722.19', '3434844.42', '781408.41', '2603550.50', '3664759.17', '781408.41', '7714143.92', '8528530.28', '6906420.39', '322074.49', '612791.51', '3493432.98', '427058.77', '1716345.56', '4082929.74', '5108722.19', '1026353.49', '3751257.39', '476162.65', '5108722.19', '36002957.75', '2899606.73', '40739345.38', '113737650.23', '2362049.60', '3394765.59', '1605829.81', '3434844.42', '322074.49', '3010122.48', '2708299.83', '1317829.37', '12071838.22', '9392051.36', '6045895.52', '3340292.26', '5108722.19', '810800.71', '20997753.47', '6045895.52', '680038.77', '3381736.03', '3381736.03', '1605829.81', '2362049.60', '21725949.62', '2603550.50', '2470251.45', '4019840.15', '103927896.69', '1258282.20', '9908069.48', '3649787.03', '3460354.78', '4480781.10', '7474659.90', '9940389.77', '476162.65', '4480781.10', '2899606.73', '5091343.32', '1473166.13', '54954346.15', '53082715.96', '7734866.74', '4866030.01', '322074.49', '3533088.71', '19306655.64', '2603550.50', '2899606.73', '4866030.01', '926106.74', '15128463.63', '2899606.73', '926106.74', '4277168.92', '926106.74', '140151357.44', '51299611.16', '3434844.42', '17513209.59', '680038.77', '4019840.15', '1605829.81', '1026353.49', '9970586.36', '376612.59', '7198699.39', '10797431.90', '1835953.34', '2430304.24', '1605829.81', '4304759.45', '926106.74', '29873759.58', '43444096.70', '13911069.39', '13231128.40', '328202.08', '61328875.15', '6601160.69', '4427405.21', '1317829.37', '4427405.21', '1835953.34', '5108722.19', '728554.94', '6045895.52', '322074.49', '322074.49', '781408.41', '2797606.56', '476162.65', '322074.49', '476162.65', '781408.41', '476162.65', '20257886.84', '2470251.45', '13911069.39', '322074.49', '2899606.73', '926106.74', '136853200.75', '3434844.42', '4377280.47', '70394484.01', '19132715.54', '6045895.52', '4277168.92', '2899606.73', '6045895.52', '3369245.72', '2603550.50', '12259526.73', '4082929.74', '2362049.60', '5108722.19', '4082929.74', '5108722.19', '5108722.19', '219024283.96', '7198699.39', '1258282.20', '322074.49', '328202.08', '476162.65', '4277168.92', '6502177.00', '322074.49', '781408.41', '6513919.58', '5108722.19', '3693765.19', '2603550.50', '1026353.49', '46476146.86', '1605829.81', '926106.74', '4082929.74', '20257886.84', '2603550.50', '322074.49', '728554.94', '2603550.50', '4082929.74', '3434844.42', '322074.49', '476162.65', '19549467.06', '2705897.46', '3369245.72', '476162.65', '322074.49', '32617338.92', '1605829.81', '1605829.81', '4866030.01', '10492426.28', '322332.40', '476162.65', '77748081.53', '1317829.37', '2362049.60', '35613192.52', '4082929.74', '5108722.19', '115817165.22', '728554.94', '2362049.60', '6196251.90', '2603550.50', '4277168.92', '6323603.70', '612791.51', '680038.77', '6045895.52', '322074.49', '781408.41', '6196251.90', '3381736.03', '12651240.66', '5023357.05', '1835953.34', '70442972.84', '2899606.73', '4377280.47', '2899606.73', '26986768.88', '394662.32', '680038.77', '926106.74', '4377846.74', '328202.08', '1946469.09', '11105675.87', '6906420.39', '1605829.81', '1026353.49', '4082929.74', '4277168.92', '6230196.23', '3493432.98', '21450265.88', '17313914.41', '926106.74', '65717165.64', '10116960.52', '5960530.38', '13231128.40', '4082929.74', '4277168.92', '18536673.75', '781408.41', '926106.74', '2430304.24', '2603550.50', '4277168.92', '4082929.74', '328202.08', '322074.49', '4156989.29', '3369245.72', '154472037.73', '926106.74', '1605829.81', '2603550.50', '4277168.92', '4275702.29', '32371745.00', '476162.65', '20314737.26', '5108722.19', '12090886.52', '1835953.34', '3369245.72', '376612.59', '728554.94', '3460354.78', '19793435.35', '3394765.59', '926106.74', '1317829.37', '3303725.42', '3751257.39', '20413344.08', '328202.08', '1026353.49', '13231128.40', '728554.94', '4277168.92', '2603550.50', '3434844.42', '926106.74', '26499732.48', '3460354.78', '2603550.50', '2797606.56', '781408.41', '70471674.29', '30532386.54', '4866030.01', '4082929.74', '781408.41', '7198699.39', '11958252.06', '17580399.48', '781408.41', '1605829.81', '728554.94', '680038.77', '74360078.54', '5108722.19', '322074.49', '2362049.60', '1317829.37', '47766386.92', '1605829.81', '4082929.74', '376612.59', '4277168.92', '1605829.81', '781408.41', '4277168.92', '10030785.13', '17867238.32', '926106.74', '52855972.62', '19283118.47', '1026353.49', '52747754.77', '18904254.72', '18323349.02', '11037422.13', '856563.51', '926106.74', '4227610.45', '5108722.19', '57201763.72', '67829172.16', '376612.59', '13844690.55', '219024283.96', '3381736.03', '4277168.92', '5108722.19', '328202.08', '24271296.23', '11080970.30', '169723101.71', '4125466.00', '19178222.83', '3381736.03', '17867238.32', '1026353.49', '6196251.90', '4277168.92', '10298936.02', '5108722.19', '8138506.19', '8899320.50', '30303712.22', '2899606.73', '8774960.36', '781408.41', '19132715.54', '4019840.15', '2362049.60', '13231128.40', '1574141.54', '19542899.89', '2603550.50', '926106.74', '2362049.60', '3381736.03', '1605829.81', '65728536.99', '781408.41', '17468956.48', '20062332.70', '5108722.19', '13610448.73', '3460354.78', '2603550.50', '2472565.35', '322074.49', '2245946.74', '5023357.05', '1605829.81', '5108722.19', '2899606.73', '90552480.33', '4275702.29', '2470251.45', '19650771.89', '37387357.81', '6045895.52', '18361837.30', '328202.08', '4082929.74', '6230196.23', '5108722.19', '83618120.49', '4082929.74', '612791.51', '781408.41', '24825826.56', '1026353.49', '17772991.01', '3369245.72', '133548827.84', '4082929.74', '810800.71', '9727945.02', '4866030.01', '2951350.41', '75942053.67', '926106.74', '476162.65', '376612.59', '71077276.68', '2899606.73', '21186064.05', '1835953.34', '2899606.73', '19844960.15', '1026353.49', '20552073.61', '4082929.74', '4866030.01', '1605829.81', '781408.41', '4125466.00', '12071838.22', '3434844.42', '19549467.06', '4277168.92', '4082929.74', '322332.40', '4277168.92', '4277168.92', '781408.41', '5108722.19', '376612.59', '66750808.52', '8773367.02', '4427405.21', '3460354.78', '376612.59', '23574091.47', '5108722.19', '27616465.01', '3303725.42', '4427405.21', '322074.49', '5108722.19', '2603550.50', '376612.59', '75021084.92', '4277168.92', '322074.49', '1835953.34', '10222243.30', '1835953.34', '3381736.03', '328202.08', '14964533.78', '14196794.85', '6834393.87', '16961672.98', '4082929.74', '2362049.60', '3434844.42', '2603550.50', '4082929.74', '27639546.22', '926106.74', '10222243.30', '680038.77', '17584407.77', '13231128.40', '6972075.61', '680038.77', '8693104.34', '728554.94', '16348553.04', '5108722.19', '6972075.61', '2603550.50', '427058.77', '2899606.73', '5108722.19', '328202.08', '20997753.47', '4427405.21', '3533088.71', '2705897.46', '134243864.45', '1026353.49', '322074.49', '20946829.57', '17580399.48', '1835953.34', '16681696.21', '1605829.81', '4277168.92', '20062332.70', '781408.41', '3434844.42', '3649787.03', '5108722.19', '19793435.35', '3434844.42', '328202.08', '4082929.74', '810800.71', '7638634.73', '4304759.45', '1026353.49', '926106.74', '4665437.87', '19132715.54', '2472565.35', '1835953.34', '48589998.71', '781408.41', '926106.74', '5108722.19', '328202.08', '5087296.92', '28480105.63', '19793435.35', '476162.65', '58245023.18', '16027419.13', '2470251.45', '926106.74', '350176.63', '9948929.11', '2899606.73', '122923879.73', '2582405.79', '2899606.73', '2705897.46', '62711834.35', '84791553.69', '4427405.21', '2470251.45', '4342040.07', '35723185.94', '376612.59', '322074.49', '5108722.19', '4342040.07', '394662.32', '1605829.81', '781408.41', '12071838.22', '1835953.34', '9849938.38', '25381507.96', '34029815.90', '328202.08', '6045895.52', '322074.49', '5108722.19', '6742433.56', '476162.65', '2603550.50', '4277168.92', '10580668.21', '322074.49', '6601160.69', '926106.74', '159680545.99', '1835953.34', '20997753.47', '2816934.31', '8732459.76', '49009099.57', '76256125.47', '5108722.19', '17341228.94', '2899606.73', '4480781.10', '7198699.39', '5091343.32', '1716345.56', '8528530.28', '728554.94', '350176.63', '5108722.19', '4277168.92', '15128463.63', '11323147.59', '2714066.25', '13049585.88', '4427405.21', '4254698.88', '322074.49', '4275702.29', '1605829.81', '25789461.42', '5108722.19', '38588507.51', '6230196.23', '47024615.76', '1835953.34', '376612.59', '20322114.13', '3434844.42', '322074.49', '16023382.42', '44504002.18', '3303725.42', '350176.63', '728554.94', '12029337.62', '328202.08', '781408.41', '1026353.49', '4277168.92', '2899606.73', '2603550.50', '2951350.41', '2603550.50', '476162.65', '1605829.81', '43553210.58', '2899606.73', '4427405.21', '3533088.71', '4665437.87', '52237308.92', '4277168.92', '2797606.56', '134215907.39', '926106.74', '5108722.19', '926106.74', '322074.49', '14964533.78', '8438212.33', '2362049.60', '728554.94', '5108722.19', '4082929.74', '3751257.39', '13231128.40', '4082929.74', '122849972.45', '32117628.81', '322074.49', '1605829.81', '21186064.05', '322074.49', '1605829.81', '151435156.58', '926106.74', '6230196.23', '4277168.92', '926106.74', '4427405.21', '7198699.39', '781408.41', '3369245.72', '9392051.36', '2603550.50', '781408.41', '9948929.11', '4277168.92', '926106.74', '2603550.50', '6930146.36', '14964533.78', '476162.65', '9392051.36', '84910455.03', '53164014.37', '4277168.92', '61378806.51', '1835953.34', '19065239.19', '926106.74', '1835953.34', '19065239.19', '57119891.17', '612791.51', '12961886.25', '286356919.19', '1835953.34', '1026353.49', '926106.74', '728554.94', '476162.65', '1026353.49', '87754324.02', '328202.08', '13231128.40', '322074.49', '4082929.74', '2899606.73', '1026353.49', '376612.59', '926106.74', '13911069.39', '4277168.92', '17513209.59', '3369245.72', '1605829.81', '39952573.02', '322332.40', '5108722.19', '5108722.19', '4082929.74', '3369245.72', '13770700.42', '15378448.88', '20257886.84', '376612.59', '376612.59', '105064490.35', '680038.77', '4408484.41', '3693765.19', '2899606.73', '4154523.17', '3303725.42', '7714143.92', '64049481.60', '21222097.85', '4311390.58', '322074.49', '18368720.14', '3772594.82', '8732459.76', '3434844.42', '5108722.19', '1605829.81', '2797606.56', '5108722.19', '1574141.54', '2714066.25', '21725949.62', '13231128.40', '6045895.52', '20000039.94', '781408.41', '4125466.00', '62069450.51', '328202.08', '5108722.19', '41744579.80', '5108722.19', '3434844.42', '4277168.92', '1317829.37', '12567157.17', '183800632.45', '97349925.16', '7010666.04', '30303712.22', '2603550.50', '476162.65', '1835953.34', '10797431.90', '5108722.19', '5023357.05', '2582405.79', '781408.41', '394662.32', '1258282.20', '14792136.11', '728554.94', '4277168.92', '86112787.11', '2318127.04', '16888742.11', '781408.41', '4082929.74', '1835953.34', '10971043.29', '6720197.91', '3394765.59', '6045895.52', '26697651.81', '25379237.99', '1605829.81', '5108722.19', '1026353.49', '6516268.42', '74360078.54', '680038.77', '274172581.65', '13911069.39', '1376068.02', '3460354.78', '2639113.47', '5108722.19', '2582405.79', '17580399.48', '1605829.81', '20062332.70', '20040537.54', '612791.51', '322074.49', '728554.94', '6699173.19', '3676592.42', '5108722.19', '17867238.32', '5668687.72', '728554.94', '95755592.05', '4866030.01', '5108722.19', '7019667.65', '5108722.19', '12259526.73', '322074.49', '322074.49', '6196251.90', '2582405.79', '1605829.81', '2705897.46', '7548739.54', '3533088.71', '15128463.63', '680038.77', '7010666.04', '3369245.72', '145765954.10', '1835953.34', '2470251.45', '49009099.57', '4219394.31', '781408.41', '21481981.33', '4277168.92', '1835953.34', '17996318.47', '376612.59', '4082929.74', '5108722.19', '5108722.19', '33067431.05', '328202.08', '8734650.38', '5108722.19', '394662.32', '728554.94', '8774960.36', '1835953.34', '19647906.64', '2899606.73', '5108722.19', '5108722.19', '394662.32', '394662.32', '328202.08', '12553586.76', '4277168.92', '4082929.74', '3303725.42', '376612.59', '7389883.43', '13231128.40', '680038.77', '926106.74', '4277168.92', '18819408.46', '376612.59', '2430304.24', '322074.49', '21036480.44', '8263327.76', '6045895.52', '25070255.22', '328202.08', '9865290.37', '39561210.97', '6742433.56', '60706760.40', '4082929.74', '926106.74', '1026353.49', '10403213.43', '22235123.62', '810800.71', '35779309.46', '20314737.26', '728554.94', '52243770.57', '1605829.81', '328202.08', '3434844.42', '2899606.73', '18656491.89', '9270358.82', '1835953.34', '28570145.49', '476162.65', '476162.65', '3434844.42', '9310146.54', '6906420.39', '476162.65', '20011261.02', '4082929.74', '728554.94', '2899606.73', '2603550.50', '20979399.98', '3533088.71', '73658532.84', '394662.32', '12728682.39', '4082929.74', '13844690.55', '18372714.74', '5657565.68', '926106.74', '1605829.81', '1376068.02', '3010122.48', '3303725.42', '1835953.34', '322074.49', '38011764.92', '14196794.85', '91476592.64', '322074.49', '3303725.42', '376612.59', '926106.74', '3533088.71', '9865290.37', '2603550.50', '680038.77', '6926718.62', '9963869.52', '4008207.23', '107330900.54', '1835953.34', '926106.74', '215645062.59', '394662.32', '2603550.50', '3394765.59', '1026353.49', '8398599.00', '93478937.61', '16027419.13', '4277168.92', '322074.49', '4277168.92', '226281237.44', '322074.49', '20089962.59', '781408.41', '1605829.81', '394662.32', '30313474.32', '2582405.79', '18656491.89', '1376068.02', '1605829.81', '3434844.42', '1835953.34', '926106.74', '10030785.13', '1605829.81', '293282059.07', '1026353.49', '10710621.76', '4082929.74', '1386297.27', '114541156.06', '5108722.19', '5108722.19', '781408.41', '169891064.45', '79558328.09', '3664759.17', '5108722.19', '3303725.42', '2362049.60', '4082929.74', '1026353.49', '2362049.60', '2603550.50', '781408.41', '1605829.81', '21038600.06', '55769866.11', '27702032.29', '376612.59', '476162.65', '1334254.16', '26118255.43', '29313663.86', '11122118.95', '476162.65', '328202.08', '5108722.19', '926106.74', '612791.51', '2899606.73', '5108722.19', '2430304.24', '5108722.19', '476162.65', '13231128.40', '680038.77', '29649070.39', '4125466.00', '14196794.85', '4082929.74', '1605829.81', '107804423.49', '6513919.58', '476162.65', '3533088.71', '926106.74', '5108722.19', '20566489.64', '49009099.57', '2899606.73']\n"
     ]
    }
   ],
   "source": [
    "print(['{:.2f}'.format(pred) for pred in predictionsVal])"
   ]
  },
  {
   "cell_type": "code",
   "execution_count": 127,
   "metadata": {},
   "outputs": [],
   "source": [
    "# from sklearn.pipeline import make_pipeline\n",
    "# from joblib import dump\n",
    "\n",
    "# pipeline = make_pipeline(stacking_regressor)\n",
    "\n",
    "# # Fit the pipeline\n",
    "# pipeline.fit(X_train, y_train)\n",
    "\n",
    "# # Save the pipeline\n",
    "# dump(pipeline, 'STACKED-SVR_RF.joblib')"
   ]
  }
 ],
 "metadata": {
  "kernelspec": {
   "display_name": "base",
   "language": "python",
   "name": "python3"
  },
  "language_info": {
   "codemirror_mode": {
    "name": "ipython",
    "version": 3
   },
   "file_extension": ".py",
   "mimetype": "text/x-python",
   "name": "python",
   "nbconvert_exporter": "python",
   "pygments_lexer": "ipython3",
   "version": "3.9.13"
  }
 },
 "nbformat": 4,
 "nbformat_minor": 2
}
