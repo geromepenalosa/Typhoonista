{
 "cells": [
  {
   "cell_type": "code",
   "execution_count": 1,
   "metadata": {},
   "outputs": [],
   "source": [
    "\n",
    "# Import necessary libraries\n",
    "import pandas as pd\n",
    "import numpy as np\n",
    "from sklearn.ensemble import RandomForestRegressor\n",
    "from sklearn.model_selection import train_test_split\n",
    "from sklearn.preprocessing import StandardScaler\n",
    "from sklearn.metrics import mean_squared_error\n",
    "\n",
    "# Load the dataset\n",
    "df = pd.read_csv('TEST (1).csv')"
   ]
  },
  {
   "cell_type": "code",
   "execution_count": 2,
   "metadata": {},
   "outputs": [
    {
     "data": {
      "text/html": [
       "<div>\n",
       "<style scoped>\n",
       "    .dataframe tbody tr th:only-of-type {\n",
       "        vertical-align: middle;\n",
       "    }\n",
       "\n",
       "    .dataframe tbody tr th {\n",
       "        vertical-align: top;\n",
       "    }\n",
       "\n",
       "    .dataframe thead th {\n",
       "        text-align: right;\n",
       "    }\n",
       "</style>\n",
       "<table border=\"1\" class=\"dataframe\">\n",
       "  <thead>\n",
       "    <tr style=\"text-align: right;\">\n",
       "      <th></th>\n",
       "      <th>windspeed</th>\n",
       "      <th>rainfall24</th>\n",
       "      <th>rainfall6</th>\n",
       "      <th>rainfallaverage</th>\n",
       "      <th>area</th>\n",
       "      <th>yield</th>\n",
       "      <th>distance</th>\n",
       "      <th>areayieldrataio</th>\n",
       "      <th>percentageofarea</th>\n",
       "      <th>darea</th>\n",
       "      <th>yielda</th>\n",
       "      <th>fgprice</th>\n",
       "      <th>dctrice</th>\n",
       "    </tr>\n",
       "  </thead>\n",
       "  <tbody>\n",
       "    <tr>\n",
       "      <th>0</th>\n",
       "      <td>0.000000</td>\n",
       "      <td>1.535972</td>\n",
       "      <td>3.032222</td>\n",
       "      <td>0.959983</td>\n",
       "      <td>2870.00</td>\n",
       "      <td>3.37</td>\n",
       "      <td>0.00000</td>\n",
       "      <td>851.632047</td>\n",
       "      <td>0.247070</td>\n",
       "      <td>709.091324</td>\n",
       "      <td>0.832626</td>\n",
       "      <td>20.79</td>\n",
       "      <td>1.113550e+07</td>\n",
       "    </tr>\n",
       "    <tr>\n",
       "      <th>1</th>\n",
       "      <td>0.000000</td>\n",
       "      <td>2.141071</td>\n",
       "      <td>3.942857</td>\n",
       "      <td>1.338170</td>\n",
       "      <td>491.00</td>\n",
       "      <td>4.36</td>\n",
       "      <td>0.00000</td>\n",
       "      <td>112.614679</td>\n",
       "      <td>0.244428</td>\n",
       "      <td>120.014173</td>\n",
       "      <td>1.065706</td>\n",
       "      <td>20.79</td>\n",
       "      <td>2.412279e+06</td>\n",
       "    </tr>\n",
       "    <tr>\n",
       "      <th>2</th>\n",
       "      <td>7.116629</td>\n",
       "      <td>5.809375</td>\n",
       "      <td>20.589580</td>\n",
       "      <td>3.630859</td>\n",
       "      <td>1330.88</td>\n",
       "      <td>4.42</td>\n",
       "      <td>385.79860</td>\n",
       "      <td>301.104072</td>\n",
       "      <td>0.312983</td>\n",
       "      <td>416.543187</td>\n",
       "      <td>1.383386</td>\n",
       "      <td>20.79</td>\n",
       "      <td>1.086828e+07</td>\n",
       "    </tr>\n",
       "    <tr>\n",
       "      <th>3</th>\n",
       "      <td>67.089467</td>\n",
       "      <td>3.908854</td>\n",
       "      <td>11.341670</td>\n",
       "      <td>2.443034</td>\n",
       "      <td>5767.00</td>\n",
       "      <td>4.65</td>\n",
       "      <td>26.26015</td>\n",
       "      <td>1240.215054</td>\n",
       "      <td>0.567852</td>\n",
       "      <td>3274.800267</td>\n",
       "      <td>2.640510</td>\n",
       "      <td>20.79</td>\n",
       "      <td>1.630911e+08</td>\n",
       "    </tr>\n",
       "    <tr>\n",
       "      <th>4</th>\n",
       "      <td>0.000000</td>\n",
       "      <td>0.805469</td>\n",
       "      <td>1.580208</td>\n",
       "      <td>0.503418</td>\n",
       "      <td>4710.00</td>\n",
       "      <td>4.14</td>\n",
       "      <td>0.00000</td>\n",
       "      <td>1137.681159</td>\n",
       "      <td>0.130472</td>\n",
       "      <td>614.521934</td>\n",
       "      <td>0.540153</td>\n",
       "      <td>20.79</td>\n",
       "      <td>6.260539e+06</td>\n",
       "    </tr>\n",
       "    <tr>\n",
       "      <th>...</th>\n",
       "      <td>...</td>\n",
       "      <td>...</td>\n",
       "      <td>...</td>\n",
       "      <td>...</td>\n",
       "      <td>...</td>\n",
       "      <td>...</td>\n",
       "      <td>...</td>\n",
       "      <td>...</td>\n",
       "      <td>...</td>\n",
       "      <td>...</td>\n",
       "      <td>...</td>\n",
       "      <td>...</td>\n",
       "      <td>...</td>\n",
       "    </tr>\n",
       "    <tr>\n",
       "      <th>39739</th>\n",
       "      <td>8.841748</td>\n",
       "      <td>2.292639</td>\n",
       "      <td>4.211667</td>\n",
       "      <td>1.432899</td>\n",
       "      <td>916.00</td>\n",
       "      <td>3.16</td>\n",
       "      <td>392.92250</td>\n",
       "      <td>289.873418</td>\n",
       "      <td>0.203710</td>\n",
       "      <td>186.598393</td>\n",
       "      <td>0.643724</td>\n",
       "      <td>20.79</td>\n",
       "      <td>2.265505e+06</td>\n",
       "    </tr>\n",
       "    <tr>\n",
       "      <th>39740</th>\n",
       "      <td>0.000000</td>\n",
       "      <td>0.030208</td>\n",
       "      <td>0.062500</td>\n",
       "      <td>0.018880</td>\n",
       "      <td>1046.00</td>\n",
       "      <td>3.07</td>\n",
       "      <td>0.00000</td>\n",
       "      <td>340.716612</td>\n",
       "      <td>0.556501</td>\n",
       "      <td>582.100434</td>\n",
       "      <td>1.708459</td>\n",
       "      <td>20.79</td>\n",
       "      <td>1.875686e+07</td>\n",
       "    </tr>\n",
       "    <tr>\n",
       "      <th>39741</th>\n",
       "      <td>8.575491</td>\n",
       "      <td>2.652500</td>\n",
       "      <td>5.460000</td>\n",
       "      <td>1.657812</td>\n",
       "      <td>753.00</td>\n",
       "      <td>4.52</td>\n",
       "      <td>291.88280</td>\n",
       "      <td>166.592920</td>\n",
       "      <td>0.161440</td>\n",
       "      <td>121.564092</td>\n",
       "      <td>0.729707</td>\n",
       "      <td>20.79</td>\n",
       "      <td>1.673060e+06</td>\n",
       "    </tr>\n",
       "    <tr>\n",
       "      <th>39742</th>\n",
       "      <td>9.387123</td>\n",
       "      <td>1.696181</td>\n",
       "      <td>3.348611</td>\n",
       "      <td>1.060113</td>\n",
       "      <td>99.00</td>\n",
       "      <td>1.93</td>\n",
       "      <td>496.10710</td>\n",
       "      <td>51.295337</td>\n",
       "      <td>0.154780</td>\n",
       "      <td>15.323183</td>\n",
       "      <td>0.298725</td>\n",
       "      <td>20.79</td>\n",
       "      <td>8.633316e+04</td>\n",
       "    </tr>\n",
       "    <tr>\n",
       "      <th>39743</th>\n",
       "      <td>0.000000</td>\n",
       "      <td>1.071354</td>\n",
       "      <td>2.250000</td>\n",
       "      <td>0.669596</td>\n",
       "      <td>2219.00</td>\n",
       "      <td>4.21</td>\n",
       "      <td>0.00000</td>\n",
       "      <td>527.078385</td>\n",
       "      <td>0.084933</td>\n",
       "      <td>188.466571</td>\n",
       "      <td>0.357568</td>\n",
       "      <td>20.79</td>\n",
       "      <td>1.271016e+06</td>\n",
       "    </tr>\n",
       "  </tbody>\n",
       "</table>\n",
       "<p>39744 rows × 13 columns</p>\n",
       "</div>"
      ],
      "text/plain": [
       "       windspeed  rainfall24  rainfall6  rainfallaverage     area  yield  \\\n",
       "0       0.000000    1.535972   3.032222         0.959983  2870.00   3.37   \n",
       "1       0.000000    2.141071   3.942857         1.338170   491.00   4.36   \n",
       "2       7.116629    5.809375  20.589580         3.630859  1330.88   4.42   \n",
       "3      67.089467    3.908854  11.341670         2.443034  5767.00   4.65   \n",
       "4       0.000000    0.805469   1.580208         0.503418  4710.00   4.14   \n",
       "...          ...         ...        ...              ...      ...    ...   \n",
       "39739   8.841748    2.292639   4.211667         1.432899   916.00   3.16   \n",
       "39740   0.000000    0.030208   0.062500         0.018880  1046.00   3.07   \n",
       "39741   8.575491    2.652500   5.460000         1.657812   753.00   4.52   \n",
       "39742   9.387123    1.696181   3.348611         1.060113    99.00   1.93   \n",
       "39743   0.000000    1.071354   2.250000         0.669596  2219.00   4.21   \n",
       "\n",
       "        distance  areayieldrataio  percentageofarea        darea    yielda  \\\n",
       "0        0.00000       851.632047          0.247070   709.091324  0.832626   \n",
       "1        0.00000       112.614679          0.244428   120.014173  1.065706   \n",
       "2      385.79860       301.104072          0.312983   416.543187  1.383386   \n",
       "3       26.26015      1240.215054          0.567852  3274.800267  2.640510   \n",
       "4        0.00000      1137.681159          0.130472   614.521934  0.540153   \n",
       "...          ...              ...               ...          ...       ...   \n",
       "39739  392.92250       289.873418          0.203710   186.598393  0.643724   \n",
       "39740    0.00000       340.716612          0.556501   582.100434  1.708459   \n",
       "39741  291.88280       166.592920          0.161440   121.564092  0.729707   \n",
       "39742  496.10710        51.295337          0.154780    15.323183  0.298725   \n",
       "39743    0.00000       527.078385          0.084933   188.466571  0.357568   \n",
       "\n",
       "       fgprice       dctrice  \n",
       "0        20.79  1.113550e+07  \n",
       "1        20.79  2.412279e+06  \n",
       "2        20.79  1.086828e+07  \n",
       "3        20.79  1.630911e+08  \n",
       "4        20.79  6.260539e+06  \n",
       "...        ...           ...  \n",
       "39739    20.79  2.265505e+06  \n",
       "39740    20.79  1.875686e+07  \n",
       "39741    20.79  1.673060e+06  \n",
       "39742    20.79  8.633316e+04  \n",
       "39743    20.79  1.271016e+06  \n",
       "\n",
       "[39744 rows x 13 columns]"
      ]
     },
     "execution_count": 2,
     "metadata": {},
     "output_type": "execute_result"
    }
   ],
   "source": [
    "df"
   ]
  },
  {
   "cell_type": "code",
   "execution_count": 3,
   "metadata": {},
   "outputs": [
    {
     "name": "stdout",
     "output_type": "stream",
     "text": [
      "windspeed           0.124798\n",
      "rainfall24          0.078049\n",
      "rainfall6           0.110739\n",
      "rainfallaverage     0.078049\n",
      "area                0.656873\n",
      "yield               0.320771\n",
      "distance            0.066964\n",
      "areayieldrataio     0.490851\n",
      "percentageofarea    0.392754\n",
      "darea               0.913482\n",
      "yielda              0.511793\n",
      "fgprice             0.047418\n",
      "Name: dctrice, dtype: float64\n"
     ]
    },
    {
     "name": "stderr",
     "output_type": "stream",
     "text": [
      "c:\\Users\\Asus\\anaconda3\\lib\\site-packages\\seaborn\\_decorators.py:36: FutureWarning: Pass the following variables as keyword args: x, y. From version 0.12, the only valid positional argument will be `data`, and passing other arguments without an explicit keyword will result in an error or misinterpretation.\n",
      "  warnings.warn(\n"
     ]
    },
    {
     "data": {
      "image/png": "[encoded data removed]",
      "text/plain": [
       "<Figure size 1200x600 with 1 Axes>"
      ]
     },
     "metadata": {},
     "output_type": "display_data"
    }
   ],
   "source": [
    "import pandas as pd\n",
    "import seaborn as sns\n",
    "import matplotlib.pyplot as plt\n",
    "\n",
    "# Assuming df is your DataFrame and 'target' is your target variable\n",
    "correlation = df.corr()['dctrice'].drop('dctrice')\n",
    "\n",
    "# Display the correlations\n",
    "print(correlation)\n",
    "\n",
    "# Plot the correlations\n",
    "plt.figure(figsize=(12, 6))\n",
    "sns.barplot(correlation.index, correlation.values)\n",
    "plt.title('Correlation of Features with Target Variable')\n",
    "plt.xlabel('Features')\n",
    "plt.ylabel('Correlation')\n",
    "plt.xticks(rotation=90)\n",
    "plt.show()"
   ]
  },
  {
   "cell_type": "code",
   "execution_count": 4,
   "metadata": {},
   "outputs": [],
   "source": [
    "# Split the dataset into features and target variable\n",
    "X = df.drop(['dctrice','percentageofarea','yielda','darea','rainfallaverage','areayieldrataio'], axis=1)\n",
    "y = df.drop(['darea','percentageofarea','yielda','windspeed','rainfall24','rainfall6','rainfallaverage','areayieldrataio','area', 'yield', 'fgprice','distance'], axis=1)"
   ]
  },
  {
   "cell_type": "code",
   "execution_count": 5,
   "metadata": {},
   "outputs": [],
   "source": [
    "# Remove the rows with zero values from the training set and testing set\n",
    "mask = X['windspeed'] != 0\n",
    "\n",
    "# Apply the mask to X_train\n",
    "X = X[mask]\n",
    "\n",
    "# Apply the mask to y_train\n",
    "y = y[mask]"
   ]
  },
  {
   "cell_type": "code",
   "execution_count": 6,
   "metadata": {},
   "outputs": [],
   "source": [
    "# Remove the rows with zero values from the training set and testing set\n",
    "mask =y['dctrice'] != 0\n",
    "\n",
    "# Apply the mask to y_train\n",
    "y = y[mask]\n",
    "\n",
    "# Apply the mask to X_train\n",
    "X = X[mask]"
   ]
  },
  {
   "cell_type": "code",
   "execution_count": 7,
   "metadata": {},
   "outputs": [
    {
     "data": {
      "text/plain": [
       "((15401, 7), (15401, 1))"
      ]
     },
     "execution_count": 7,
     "metadata": {},
     "output_type": "execute_result"
    }
   ],
   "source": [
    "X.shape, y.shape"
   ]
  },
  {
   "cell_type": "code",
   "execution_count": 8,
   "metadata": {},
   "outputs": [],
   "source": [
    "# Training and Temporary Set (80-20 split)\n",
    "X_train, X_temp, y_train, y_temp = train_test_split(X, y, test_size=0.2, random_state=42)\n",
    "\n",
    "# Temporary set into a validation set and a test set using (50-50 split)\n",
    "X_val, X_test, y_val, y_test = train_test_split(X_temp, y_temp, test_size=0.5, random_state=42)"
   ]
  },
  {
   "cell_type": "code",
   "execution_count": 9,
   "metadata": {},
   "outputs": [
    {
     "data": {
      "text/html": [
       "<div>\n",
       "<style scoped>\n",
       "    .dataframe tbody tr th:only-of-type {\n",
       "        vertical-align: middle;\n",
       "    }\n",
       "\n",
       "    .dataframe tbody tr th {\n",
       "        vertical-align: top;\n",
       "    }\n",
       "\n",
       "    .dataframe thead th {\n",
       "        text-align: right;\n",
       "    }\n",
       "</style>\n",
       "<table border=\"1\" class=\"dataframe\">\n",
       "  <thead>\n",
       "    <tr style=\"text-align: right;\">\n",
       "      <th></th>\n",
       "      <th>dctrice</th>\n",
       "    </tr>\n",
       "  </thead>\n",
       "  <tbody>\n",
       "    <tr>\n",
       "      <th>2998</th>\n",
       "      <td>6.476275e+06</td>\n",
       "    </tr>\n",
       "    <tr>\n",
       "      <th>16149</th>\n",
       "      <td>5.553857e+07</td>\n",
       "    </tr>\n",
       "    <tr>\n",
       "      <th>1106</th>\n",
       "      <td>5.681104e+05</td>\n",
       "    </tr>\n",
       "    <tr>\n",
       "      <th>1368</th>\n",
       "      <td>2.836358e+07</td>\n",
       "    </tr>\n",
       "    <tr>\n",
       "      <th>8530</th>\n",
       "      <td>2.522815e+05</td>\n",
       "    </tr>\n",
       "    <tr>\n",
       "      <th>...</th>\n",
       "      <td>...</td>\n",
       "    </tr>\n",
       "    <tr>\n",
       "      <th>14774</th>\n",
       "      <td>4.837969e+07</td>\n",
       "    </tr>\n",
       "    <tr>\n",
       "      <th>35629</th>\n",
       "      <td>2.724130e+03</td>\n",
       "    </tr>\n",
       "    <tr>\n",
       "      <th>15169</th>\n",
       "      <td>8.963281e+04</td>\n",
       "    </tr>\n",
       "    <tr>\n",
       "      <th>2172</th>\n",
       "      <td>1.882052e+08</td>\n",
       "    </tr>\n",
       "    <tr>\n",
       "      <th>18976</th>\n",
       "      <td>2.828574e+04</td>\n",
       "    </tr>\n",
       "  </tbody>\n",
       "</table>\n",
       "<p>12320 rows × 1 columns</p>\n",
       "</div>"
      ],
      "text/plain": [
       "            dctrice\n",
       "2998   6.476275e+06\n",
       "16149  5.553857e+07\n",
       "1106   5.681104e+05\n",
       "1368   2.836358e+07\n",
       "8530   2.522815e+05\n",
       "...             ...\n",
       "14774  4.837969e+07\n",
       "35629  2.724130e+03\n",
       "15169  8.963281e+04\n",
       "2172   1.882052e+08\n",
       "18976  2.828574e+04\n",
       "\n",
       "[12320 rows x 1 columns]"
      ]
     },
     "execution_count": 9,
     "metadata": {},
     "output_type": "execute_result"
    }
   ],
   "source": [
    "y_train"
   ]
  },
  {
   "cell_type": "code",
   "execution_count": 10,
   "metadata": {},
   "outputs": [
    {
     "data": {
      "text/plain": [
       "((12320, 7), (12320, 1))"
      ]
     },
     "execution_count": 10,
     "metadata": {},
     "output_type": "execute_result"
    }
   ],
   "source": [
    "\n",
    "X_train.shape, y_train.shape"
   ]
  },
  {
   "cell_type": "code",
   "execution_count": 11,
   "metadata": {},
   "outputs": [
    {
     "name": "stdout",
     "output_type": "stream",
     "text": [
      "<class 'pandas.core.frame.DataFrame'>\n",
      "Int64Index: 12320 entries, 2998 to 18976\n",
      "Data columns (total 1 columns):\n",
      " #   Column   Non-Null Count  Dtype  \n",
      "---  ------   --------------  -----  \n",
      " 0   dctrice  12320 non-null  float64\n",
      "dtypes: float64(1)\n",
      "memory usage: 192.5 KB\n",
      "<class 'pandas.core.frame.DataFrame'>\n",
      "Int64Index: 12320 entries, 2998 to 18976\n",
      "Data columns (total 7 columns):\n",
      " #   Column      Non-Null Count  Dtype  \n",
      "---  ------      --------------  -----  \n",
      " 0   windspeed   12320 non-null  float64\n",
      " 1   rainfall24  12320 non-null  float64\n",
      " 2   rainfall6   12320 non-null  float64\n",
      " 3   area        12320 non-null  float64\n",
      " 4   yield       12320 non-null  float64\n",
      " 5   distance    12320 non-null  float64\n",
      " 6   fgprice     12320 non-null  float64\n",
      "dtypes: float64(7)\n",
      "memory usage: 770.0 KB\n"
     ]
    }
   ],
   "source": [
    "y_train.info()\n",
    "X_train.info()"
   ]
  },
  {
   "cell_type": "code",
   "execution_count": 12,
   "metadata": {},
   "outputs": [],
   "source": [
    "X_test = pd.DataFrame(X_test).apply(pd.to_numeric, errors='coerce')\n",
    "X_train = pd.DataFrame(X_train).apply(pd.to_numeric, errors='coerce')\n",
    "y_train = pd.DataFrame(y_train).apply(pd.to_numeric, errors='coerce')\n",
    "y_test = pd.DataFrame(y_test).apply(pd.to_numeric, errors='coerce')"
   ]
  },
  {
   "cell_type": "code",
   "execution_count": 13,
   "metadata": {},
   "outputs": [
    {
     "data": {
      "text/plain": [
       "((12320, 7), (12320, 1))"
      ]
     },
     "execution_count": 13,
     "metadata": {},
     "output_type": "execute_result"
    }
   ],
   "source": [
    "X_train.shape, y_train.shape"
   ]
  },
  {
   "cell_type": "code",
   "execution_count": 14,
   "metadata": {},
   "outputs": [],
   "source": [
    "# # Remove the rows with zero values from the training set and testing set\n",
    "# mask = X_train['windspeed'] != 0\n",
    "\n",
    "# # Apply the mask to X_train\n",
    "# X_train = X_train[mask]\n",
    "\n",
    "# # Apply the mask to y_train\n",
    "# y_train = y_train[mask]"
   ]
  },
  {
   "cell_type": "code",
   "execution_count": 15,
   "metadata": {},
   "outputs": [
    {
     "data": {
      "text/plain": [
       "((12320, 7), (12320, 1))"
      ]
     },
     "execution_count": 15,
     "metadata": {},
     "output_type": "execute_result"
    }
   ],
   "source": [
    "X_train.shape, y_train.shape"
   ]
  },
  {
   "cell_type": "code",
   "execution_count": 16,
   "metadata": {},
   "outputs": [],
   "source": [
    "# # Remove the rows with zero values from the training set and testing set\n",
    "# mask =y_train['dctrice'] != 0\n",
    "\n",
    "# # Apply the mask to X_train\n",
    "# X_train = X_train[mask]\n",
    "\n",
    "# # Apply the mask to y_train\n",
    "# y_train = y_train[mask]"
   ]
  },
  {
   "cell_type": "code",
   "execution_count": 17,
   "metadata": {},
   "outputs": [],
   "source": [
    "# # Remove the rows with zero values from the training set and testing set\n",
    "# mask =X_val['windspeed'] != 0\n",
    "\n",
    "# # Apply the mask to X_train\n",
    "# X_val = X_val[mask]\n",
    "\n",
    "# # Apply the mask to y_train\n",
    "# y_val = y_val[mask]"
   ]
  },
  {
   "cell_type": "code",
   "execution_count": 18,
   "metadata": {},
   "outputs": [
    {
     "data": {
      "text/html": [
       "<div>\n",
       "<style scoped>\n",
       "    .dataframe tbody tr th:only-of-type {\n",
       "        vertical-align: middle;\n",
       "    }\n",
       "\n",
       "    .dataframe tbody tr th {\n",
       "        vertical-align: top;\n",
       "    }\n",
       "\n",
       "    .dataframe thead th {\n",
       "        text-align: right;\n",
       "    }\n",
       "</style>\n",
       "<table border=\"1\" class=\"dataframe\">\n",
       "  <thead>\n",
       "    <tr style=\"text-align: right;\">\n",
       "      <th></th>\n",
       "      <th>windspeed</th>\n",
       "      <th>rainfall24</th>\n",
       "      <th>rainfall6</th>\n",
       "      <th>area</th>\n",
       "      <th>yield</th>\n",
       "      <th>distance</th>\n",
       "      <th>fgprice</th>\n",
       "    </tr>\n",
       "  </thead>\n",
       "  <tbody>\n",
       "    <tr>\n",
       "      <th>31511</th>\n",
       "      <td>15.974263</td>\n",
       "      <td>0.007738</td>\n",
       "      <td>0.027381</td>\n",
       "      <td>164.0</td>\n",
       "      <td>4.11</td>\n",
       "      <td>150.223900</td>\n",
       "      <td>19.00</td>\n",
       "    </tr>\n",
       "    <tr>\n",
       "      <th>31001</th>\n",
       "      <td>44.970222</td>\n",
       "      <td>2.393229</td>\n",
       "      <td>6.691667</td>\n",
       "      <td>105.0</td>\n",
       "      <td>4.55</td>\n",
       "      <td>3.731118</td>\n",
       "      <td>19.00</td>\n",
       "    </tr>\n",
       "    <tr>\n",
       "      <th>38328</th>\n",
       "      <td>7.252452</td>\n",
       "      <td>3.350521</td>\n",
       "      <td>6.300000</td>\n",
       "      <td>2739.0</td>\n",
       "      <td>3.68</td>\n",
       "      <td>280.959300</td>\n",
       "      <td>14.32</td>\n",
       "    </tr>\n",
       "    <tr>\n",
       "      <th>8001</th>\n",
       "      <td>33.878516</td>\n",
       "      <td>0.094583</td>\n",
       "      <td>0.213333</td>\n",
       "      <td>2167.0</td>\n",
       "      <td>2.94</td>\n",
       "      <td>85.724430</td>\n",
       "      <td>19.00</td>\n",
       "    </tr>\n",
       "    <tr>\n",
       "      <th>31097</th>\n",
       "      <td>11.845751</td>\n",
       "      <td>0.000000</td>\n",
       "      <td>0.000000</td>\n",
       "      <td>662.0</td>\n",
       "      <td>5.19</td>\n",
       "      <td>197.586500</td>\n",
       "      <td>19.00</td>\n",
       "    </tr>\n",
       "    <tr>\n",
       "      <th>...</th>\n",
       "      <td>...</td>\n",
       "      <td>...</td>\n",
       "      <td>...</td>\n",
       "      <td>...</td>\n",
       "      <td>...</td>\n",
       "      <td>...</td>\n",
       "      <td>...</td>\n",
       "    </tr>\n",
       "    <tr>\n",
       "      <th>7596</th>\n",
       "      <td>36.262834</td>\n",
       "      <td>0.546875</td>\n",
       "      <td>1.597917</td>\n",
       "      <td>254.0</td>\n",
       "      <td>3.79</td>\n",
       "      <td>74.362240</td>\n",
       "      <td>19.00</td>\n",
       "    </tr>\n",
       "    <tr>\n",
       "      <th>36565</th>\n",
       "      <td>3.864767</td>\n",
       "      <td>0.422128</td>\n",
       "      <td>0.422128</td>\n",
       "      <td>227.0</td>\n",
       "      <td>4.32</td>\n",
       "      <td>353.282200</td>\n",
       "      <td>14.32</td>\n",
       "    </tr>\n",
       "    <tr>\n",
       "      <th>11299</th>\n",
       "      <td>10.844943</td>\n",
       "      <td>0.000000</td>\n",
       "      <td>0.000000</td>\n",
       "      <td>2040.0</td>\n",
       "      <td>5.53</td>\n",
       "      <td>213.400400</td>\n",
       "      <td>19.00</td>\n",
       "    </tr>\n",
       "    <tr>\n",
       "      <th>6724</th>\n",
       "      <td>16.338128</td>\n",
       "      <td>0.056042</td>\n",
       "      <td>0.122500</td>\n",
       "      <td>988.0</td>\n",
       "      <td>3.25</td>\n",
       "      <td>190.806200</td>\n",
       "      <td>19.00</td>\n",
       "    </tr>\n",
       "    <tr>\n",
       "      <th>2336</th>\n",
       "      <td>26.424988</td>\n",
       "      <td>0.066489</td>\n",
       "      <td>0.212500</td>\n",
       "      <td>31.0</td>\n",
       "      <td>3.78</td>\n",
       "      <td>108.032200</td>\n",
       "      <td>20.79</td>\n",
       "    </tr>\n",
       "  </tbody>\n",
       "</table>\n",
       "<p>1540 rows × 7 columns</p>\n",
       "</div>"
      ],
      "text/plain": [
       "       windspeed  rainfall24  rainfall6    area  yield    distance  fgprice\n",
       "31511  15.974263    0.007738   0.027381   164.0   4.11  150.223900    19.00\n",
       "31001  44.970222    2.393229   6.691667   105.0   4.55    3.731118    19.00\n",
       "38328   7.252452    3.350521   6.300000  2739.0   3.68  280.959300    14.32\n",
       "8001   33.878516    0.094583   0.213333  2167.0   2.94   85.724430    19.00\n",
       "31097  11.845751    0.000000   0.000000   662.0   5.19  197.586500    19.00\n",
       "...          ...         ...        ...     ...    ...         ...      ...\n",
       "7596   36.262834    0.546875   1.597917   254.0   3.79   74.362240    19.00\n",
       "36565   3.864767    0.422128   0.422128   227.0   4.32  353.282200    14.32\n",
       "11299  10.844943    0.000000   0.000000  2040.0   5.53  213.400400    19.00\n",
       "6724   16.338128    0.056042   0.122500   988.0   3.25  190.806200    19.00\n",
       "2336   26.424988    0.066489   0.212500    31.0   3.78  108.032200    20.79\n",
       "\n",
       "[1540 rows x 7 columns]"
      ]
     },
     "execution_count": 18,
     "metadata": {},
     "output_type": "execute_result"
    }
   ],
   "source": [
    "X_val"
   ]
  },
  {
   "cell_type": "code",
   "execution_count": 19,
   "metadata": {},
   "outputs": [
    {
     "data": {
      "text/html": [
       "<div>\n",
       "<style scoped>\n",
       "    .dataframe tbody tr th:only-of-type {\n",
       "        vertical-align: middle;\n",
       "    }\n",
       "\n",
       "    .dataframe tbody tr th {\n",
       "        vertical-align: top;\n",
       "    }\n",
       "\n",
       "    .dataframe thead th {\n",
       "        text-align: right;\n",
       "    }\n",
       "</style>\n",
       "<table border=\"1\" class=\"dataframe\">\n",
       "  <thead>\n",
       "    <tr style=\"text-align: right;\">\n",
       "      <th></th>\n",
       "      <th>dctrice</th>\n",
       "    </tr>\n",
       "  </thead>\n",
       "  <tbody>\n",
       "    <tr>\n",
       "      <th>2998</th>\n",
       "      <td>6.476275e+06</td>\n",
       "    </tr>\n",
       "    <tr>\n",
       "      <th>16149</th>\n",
       "      <td>5.553857e+07</td>\n",
       "    </tr>\n",
       "    <tr>\n",
       "      <th>1106</th>\n",
       "      <td>5.681104e+05</td>\n",
       "    </tr>\n",
       "    <tr>\n",
       "      <th>1368</th>\n",
       "      <td>2.836358e+07</td>\n",
       "    </tr>\n",
       "    <tr>\n",
       "      <th>8530</th>\n",
       "      <td>2.522815e+05</td>\n",
       "    </tr>\n",
       "    <tr>\n",
       "      <th>...</th>\n",
       "      <td>...</td>\n",
       "    </tr>\n",
       "    <tr>\n",
       "      <th>14774</th>\n",
       "      <td>4.837969e+07</td>\n",
       "    </tr>\n",
       "    <tr>\n",
       "      <th>35629</th>\n",
       "      <td>2.724130e+03</td>\n",
       "    </tr>\n",
       "    <tr>\n",
       "      <th>15169</th>\n",
       "      <td>8.963281e+04</td>\n",
       "    </tr>\n",
       "    <tr>\n",
       "      <th>2172</th>\n",
       "      <td>1.882052e+08</td>\n",
       "    </tr>\n",
       "    <tr>\n",
       "      <th>18976</th>\n",
       "      <td>2.828574e+04</td>\n",
       "    </tr>\n",
       "  </tbody>\n",
       "</table>\n",
       "<p>12320 rows × 1 columns</p>\n",
       "</div>"
      ],
      "text/plain": [
       "            dctrice\n",
       "2998   6.476275e+06\n",
       "16149  5.553857e+07\n",
       "1106   5.681104e+05\n",
       "1368   2.836358e+07\n",
       "8530   2.522815e+05\n",
       "...             ...\n",
       "14774  4.837969e+07\n",
       "35629  2.724130e+03\n",
       "15169  8.963281e+04\n",
       "2172   1.882052e+08\n",
       "18976  2.828574e+04\n",
       "\n",
       "[12320 rows x 1 columns]"
      ]
     },
     "execution_count": 19,
     "metadata": {},
     "output_type": "execute_result"
    }
   ],
   "source": [
    "y_train"
   ]
  },
  {
   "cell_type": "code",
   "execution_count": 20,
   "metadata": {},
   "outputs": [
    {
     "name": "stdout",
     "output_type": "stream",
     "text": [
      "(array([], dtype=int64), array([], dtype=int64))\n"
     ]
    }
   ],
   "source": [
    "# Null Remover\n",
    "\n",
    "nan_rows = X_train[X_train.isna().any(axis=1)].index\n",
    "X_train = X_train.drop(nan_rows)\n",
    "y_train = y_train.drop(nan_rows)\n",
    "\n",
    "print(np.where(pd.isnull(X_train)))"
   ]
  },
  {
   "cell_type": "code",
   "execution_count": 21,
   "metadata": {},
   "outputs": [
    {
     "name": "stdout",
     "output_type": "stream",
     "text": [
      "(array([], dtype=int64), array([], dtype=int64))\n"
     ]
    }
   ],
   "source": [
    "# Null Remover\n",
    "\n",
    "nan_rows = X_val[X_val.isna().any(axis=1)].index\n",
    "X_val = X_val.drop(nan_rows)\n",
    "y_val = y_val.drop(nan_rows)\n",
    "\n",
    "print(np.where(pd.isnull(X_val)))"
   ]
  },
  {
   "cell_type": "code",
   "execution_count": 22,
   "metadata": {},
   "outputs": [
    {
     "data": {
      "text/plain": [
       "((12320, 7), (12320, 1))"
      ]
     },
     "execution_count": 22,
     "metadata": {},
     "output_type": "execute_result"
    }
   ],
   "source": [
    "X_train.shape,y_train.shape"
   ]
  },
  {
   "cell_type": "code",
   "execution_count": 23,
   "metadata": {},
   "outputs": [],
   "source": [
    "nan_rows = X_test[X_test.isna().any(axis=1)].index\n",
    "X_test = X_test.drop(nan_rows)\n",
    "y_test = y_test.drop(nan_rows)"
   ]
  },
  {
   "cell_type": "code",
   "execution_count": null,
   "metadata": {},
   "outputs": [],
   "source": [
    "\n"
   ]
  },
  {
   "cell_type": "code",
   "execution_count": 24,
   "metadata": {},
   "outputs": [
    {
     "name": "stderr",
     "output_type": "stream",
     "text": [
      "c:\\Users\\Asus\\anaconda3\\lib\\site-packages\\sklearn\\ensemble\\_stacking.py:758: DataConversionWarning: A column-vector y was passed when a 1d array was expected. Please change the shape of y to (n_samples, ), for example using ravel().\n",
      "  y = column_or_1d(y, warn=True)\n"
     ]
    },
    {
     "name": "stdout",
     "output_type": "stream",
     "text": [
      "R-squared (Test): 0.9271257861187203\n",
      "Mean Absolute Error (Test): 4772850.053894532\n",
      "\n",
      "R-squared (Validation): 0.9347009688420675\n",
      "Mean Absolute Error (Validation): 4554562.12095811\n",
      "\n",
      "Explained Variance: 0.9271271625621899\n"
     ]
    }
   ],
   "source": [
    "from sklearn.ensemble import StackingRegressor\n",
    "from sklearn.ensemble import RandomForestRegressor\n",
    "from joblib import load, dump\n",
    "from sklearn.metrics import mean_absolute_error\n",
    "from sklearn.metrics import explained_variance_score\n",
    "\n",
    "# Load the models\n",
    "svr_pipeline = load('SVR.joblib')\n",
    "rf = load('RFR.joblib')\n",
    "\n",
    "\n",
    "final_estimator = RandomForestRegressor(\n",
    "    \n",
    "    n_estimators=100, \n",
    "    max_depth=20, \n",
    "    min_samples_split=2, \n",
    "    min_samples_leaf=2, \n",
    "    max_leaf_nodes=100,\n",
    "    random_state=42,\n",
    ")\n",
    "\n",
    "# Create a StackingRegressor\n",
    "stacking_regressor = StackingRegressor(\n",
    "    estimators=[('svr', svr_pipeline), ('rf', rf)],\n",
    "    final_estimator=final_estimator\n",
    ")\n",
    "\n",
    "stacking_regressor.fit(X_train, y_train)\n",
    "\n",
    "predictions = stacking_regressor.predict(X_test)\n",
    "\n",
    "# Evaluate the model\n",
    "r2 = stacking_regressor.score(X_test, y_test)\n",
    "print(f'R-squared (Test): {r2}')\n",
    "\n",
    "mae = mean_absolute_error(y_test, predictions)\n",
    "print(f'Mean Absolute Error (Test): {mae}')\n",
    "\n",
    "predictionsVal = stacking_regressor.predict(X_val)\n",
    "\n",
    "# Evaluate the model\n",
    "\n",
    "\n",
    "r2 = stacking_regressor.score(X_val, y_val)\n",
    "print(f'\\nR-squared (Validation): {r2}')\n",
    "maev = mean_absolute_error(y_val, predictionsVal)\n",
    "print(f'Mean Absolute Error (Validation): {maev}')\n",
    "\n",
    "# Assuming `predictions` are the predicted values from your model\n",
    "explained_variance = explained_variance_score(y_test, predictions)\n",
    "\n",
    "print(f'\\nExplained Variance: {explained_variance}')\n",
    "\n"
   ]
  },
  {
   "cell_type": "code",
   "execution_count": 25,
   "metadata": {},
   "outputs": [
    {
     "name": "stdout",
     "output_type": "stream",
     "text": [
      "R-squared (Test): 0.9271257861187203\n",
      "Mean Absolute Error (Test): 4772850.053894532\n",
      "\n",
      "R-squared (Validation): 0.9347009688420675\n",
      "Mean Absolute Error (Validation): 4554562.12095811\n",
      "\n",
      "Explained Variance (Test): 0.9271271625621899\n",
      "Explained Variance (Validation): 0.9347394732465331\n",
      "\n",
      "Mean Absolute Error (Test, p.p.): 32.47883999150081%\n",
      "Mean Absolute Error (Validation, p.p.): 32.98226427999772%\n"
     ]
    }
   ],
   "source": [
    "\n",
    "predictions = stacking_regressor.predict(X_test)\n",
    "\n",
    "# Evaluate the model\n",
    "r2 = stacking_regressor.score(X_test, y_test)\n",
    "print(f'R-squared (Test): {r2}')\n",
    "\n",
    "mae = mean_absolute_error(y_test, predictions)\n",
    "print(f'Mean Absolute Error (Test): {mae}')\n",
    "\n",
    "predictionsVal = stacking_regressor.predict(X_val)\n",
    "\n",
    "# Evaluate the model\n",
    "\n",
    "\n",
    "r2 = stacking_regressor.score(X_val, y_val)\n",
    "print(f'\\nR-squared (Validation): {r2}')\n",
    "maev = mean_absolute_error(y_val, predictionsVal)\n",
    "print(f'Mean Absolute Error (Validation): {maev}')\n",
    "\n",
    "# Assuming `predictions` are the predicted values from your model\n",
    "explained_variance = explained_variance_score(y_test, predictions)\n",
    "print(f'\\nExplained Variance (Test): {explained_variance}')\n",
    "\n",
    "\n",
    "explained_variance = explained_variance_score(y_val, predictionsVal)\n",
    "print(f'Explained Variance (Validation): {explained_variance}')\n",
    "\n",
    "\n",
    "# Calculate and print MAE in percentage points for test set\n",
    "mae_percentage_test = (mae / y_test.values.mean()) * 100\n",
    "print(f'\\nMean Absolute Error (Test, p.p.): {mae_percentage_test}%')\n",
    "\n",
    "# Calculate and print MAE in percentage points for test set\n",
    "mae_percentage_val = (mae / y_val.values.mean()) * 100\n",
    "print(f'Mean Absolute Error (Validation, p.p.): {mae_percentage_val}%')\n"
   ]
  },
  {
   "cell_type": "code",
   "execution_count": 26,
   "metadata": {},
   "outputs": [
    {
     "name": "stdout",
     "output_type": "stream",
     "text": [
      "<class 'pandas.core.frame.DataFrame'>\n",
      "Int64Index: 12320 entries, 2998 to 18976\n",
      "Data columns (total 1 columns):\n",
      " #   Column   Non-Null Count  Dtype  \n",
      "---  ------   --------------  -----  \n",
      " 0   dctrice  12320 non-null  float64\n",
      "dtypes: float64(1)\n",
      "memory usage: 192.5 KB\n"
     ]
    }
   ],
   "source": [
    "y_train.info()"
   ]
  },
  {
   "cell_type": "code",
   "execution_count": 27,
   "metadata": {},
   "outputs": [
    {
     "name": "stdout",
     "output_type": "stream",
     "text": [
      "['691556.06', '691556.06', '10126232.01', '1786518.46', '5455201.29', '1981036.50', '1786518.46', '15602917.74', '9596372.77', '1408492.45', '71538323.11', '24699391.73', '987198.08', '1951479.88', '7114175.58', '3729234.60', '691556.06', '14033206.20', '4502678.26', '3756047.72', '691556.06', '3475560.75', '691556.06', '10941390.92', '1031386.93', '21015452.71', '9596372.77', '1391179.22', '1269447.96', '691556.06', '1347303.43', '691556.06', '39374698.41', '11429810.42', '691556.06', '44780564.80', '691556.06', '25715677.39', '11980541.83', '691556.06', '15554048.21', '691556.06', '6510127.08', '691556.06', '5844453.48', '14665098.74', '2059292.32', '691556.06', '691556.06', '6739350.76', '1024230.23', '6326350.17', '45248959.60', '1526140.32', '691556.06', '3729234.60', '1491115.56', '691556.06', '944409.25', '24659120.78', '1230498.31', '3635272.11', '691556.06', '5882258.29', '3667723.05', '3909435.31', '7635193.42', '3380322.97', '18285356.49', '691556.06', '691556.06', '1526140.32', '6054726.15', '691556.06', '16551525.64', '6360453.72', '15758205.46', '691556.06', '3909435.31', '24451254.92', '1522857.45', '6021049.43', '1526140.32', '138415578.02', '691556.06', '1168523.45', '10870869.30', '4070722.60', '691556.06', '9448790.04', '4926104.91', '275972306.11', '691556.06', '716952.65', '691556.06', '3601650.17', '10325767.73', '5455201.29', '19649122.45', '4855640.81', '6326350.17', '691556.06', '1412608.30', '16353434.31', '3710645.40', '691556.06', '5455201.29', '27672853.81', '7578094.52', '10986249.90', '5244892.99', '3382481.37', '39286199.68', '4211822.72', '6439087.40', '19251067.64', '82078240.30', '1412608.30', '15463433.23', '691556.06', '691556.06', '24609948.44', '1984231.48', '1965897.83', '134383550.88', '22715359.40', '12403807.95', '691556.06', '691556.06', '3856905.74', '27185458.14', '139837330.22', '944409.25', '11533353.75', '10088178.60', '691556.06', '1786518.46', '12508527.48', '691556.06', '1526140.32', '691556.06', '691556.06', '5784974.16', '2481839.83', '2000922.59', '4224220.85', '141608317.23', '2764376.99', '9930557.79', '11071737.96', '4026610.31', '691556.06', '10766643.86', '1565089.98', '691556.06', '18343602.53', '1188667.29', '691556.06', '691556.06', '3615539.63', '691556.06', '6307054.43', '3710645.40', '691556.06', '691556.06', '2201416.86', '5455201.29', '3909435.31', '691556.06', '691556.06', '200664531.67', '3576589.97', '4464979.04', '1024230.23', '4113426.08', '691556.06', '691556.06', '6255310.48', '1786518.46', '987198.08', '4026610.31', '691556.06', '1005990.34', '7605408.24', '691556.06', '11023459.32', '36231484.12', '4026610.31', '691556.06', '1024230.23', '36369420.08', '4113426.08', '691556.06', '691556.06', '2559118.99', '3892012.18', '204507750.27', '691556.06', '3822570.54', '6901396.86', '8824390.03', '6510127.08', '4026610.31', '1944103.79', '1951479.88', '691556.06', '6965761.27', '1168523.45', '691556.06', '192077556.55', '1786518.46', '691556.06', '108431901.31', '4026610.31', '6857610.22', '2183032.58', '691556.06', '691556.06', '128892758.77', '691556.06', '3380322.97', '691556.06', '25100917.16', '22551826.32', '691556.06', '2053474.25', '1301632.35', '32330167.76', '9633652.67', '691556.06', '1005054.77', '105373350.63', '4398783.62', '2047656.45', '15441109.61', '691556.06', '9292921.04', '730461.28', '15705595.37', '691556.06', '3710645.40', '22619217.45', '16124878.65', '4093329.48', '691556.06', '5606391.18', '1168523.45', '21154239.46', '24339445.19', '23974124.84', '1230498.31', '9321216.70', '691556.06', '691556.06', '43323189.70', '2047656.45', '2000922.59', '931047.76', '6326350.17', '5455201.29', '108431901.31', '1230498.31', '1491115.56', '6416712.95', '4415862.49', '34455649.42', '5606391.18', '2409571.04', '6772010.44', '1005990.34', '691556.06', '50276913.65', '19224210.79', '691556.06', '1974968.74', '79832643.27', '103750764.37', '15643671.12', '59199511.14', '6430440.35', '10146451.31', '2053474.25', '716952.65', '42748775.95', '3956588.75', '58040527.14', '691556.06', '1258843.53', '944409.25', '691556.06', '1391179.22', '16100797.95', '10123101.06', '3667723.05', '691556.06', '3713909.06', '11372750.61', '4026610.31', '1526140.32', '147654792.16', '82641313.84', '51411934.29', '24901030.76', '5455201.29', '2001042.71', '10689230.04', '691556.06', '7269594.19', '691556.06', '1005990.34', '1131874.13', '1280117.47', '36748681.98', '691556.06', '73040294.79', '32670291.44', '691556.06', '3729234.60', '1461980.35', '7697797.40', '2182546.31', '15506205.11', '6960465.83', '146432040.67', '7131462.81', '3315170.80', '691556.06', '3002709.20', '1522857.45', '19206370.17', '3972554.86', '15683454.52', '691556.06', '691556.06', '8989816.77', '691556.06', '691556.06', '195391226.65', '1522857.45', '4855640.81', '55584676.49', '1269403.53', '1622440.42', '691556.06', '9269771.71', '5244892.99', '50276913.65', '4855640.81', '15602066.02', '2359577.00', '1622440.42', '15564354.92', '5217139.00', '92990094.37', '2459013.75', '691556.06', '6341713.31', '65974460.21', '1230498.31', '2208337.37', '1280117.47', '28957420.50', '691556.06', '1195473.54', '10088178.60', '312338378.89', '691556.06', '4415862.49', '13061126.35', '15441109.61', '52251860.95', '19607866.90', '5455201.29', '6290063.30', '2043831.54', '691556.06', '15487787.15', '3512892.77', '1005054.77', '691556.06', '4898199.38', '3729234.60', '16459858.79', '1412537.64', '1811915.05', '2001169.70', '691556.06', '691556.06', '691556.06', '2043831.54', '691556.06', '1230498.31', '3509148.47', '987198.08', '4091950.69', '1133451.46', '28659366.49', '744357.06', '81529768.88', '691556.06', '4318373.24', '1758822.31', '15475974.89', '1230498.31', '10430648.47', '4026610.31', '5455201.29', '691556.06', '4118486.79', '7014181.43', '691556.06', '691556.06', '1220870.13', '6510127.08', '180831626.12', '4113426.08', '4855640.81', '691556.06', '3909435.31', '16136323.80', '27245202.40', '21746978.26', '3729234.60', '3984316.23', '5498066.81', '1702261.40', '691556.06', '3615539.63', '691556.06', '7798717.79', '2000922.59', '3856905.74', '2158628.03', '691556.06', '6662991.35', '691556.06', '19885738.60', '2053474.25', '691556.06', '10146451.31', '6255310.48', '4551794.81', '691556.06', '15564412.62', '4026610.31', '691556.06', '15683454.52', '691556.06', '9409897.19', '3729234.60', '2000922.59', '10213415.76', '691556.06', '691556.06', '4298687.49', '4133158.57', '691556.06', '1461980.35', '20106387.26', '691556.06', '29514926.64', '4026610.31', '6987671.70', '691556.06', '2158433.79', '691556.06', '5455201.29', '691556.06', '716952.65', '691556.06', '15542088.99', '3434441.81', '691556.06', '1973898.18', '105787917.07', '11677887.97', '128471064.94', '7061397.72', '3601650.17', '40404174.18', '4113426.08', '691556.06', '691556.06', '6960465.83', '3100689.89', '121325691.72', '691556.06', '5217139.00', '691556.06', '4026610.31', '691556.06', '5629764.06', '4260939.27', '18970409.06', '4113426.08', '9409897.19', '6439087.40', '691556.06', '118846223.20', '5223255.04', '691556.06', '10430648.47', '23338013.65', '691556.06', '691556.06', '10292244.53', '4113426.08', '184257748.94', '3171862.30', '691556.06', '1665461.48', '9596372.77', '1461980.35', '2156008.17', '691556.06', '691556.06', '15604798.33', '4026610.31', '3797220.89', '6255310.48', '691556.06', '691556.06', '1461980.35', '19554378.22', '51579716.54', '2043831.54', '104603353.42', '1522857.45', '3315170.80', '55464756.00', '691556.06', '6439087.40', '1526140.32', '5526877.63', '691556.06', '15947826.84', '11679302.23', '1269403.53', '3615539.63', '1149762.08', '944409.25', '5455201.29', '691556.06', '2013320.50', '74370946.42', '3729234.60', '691556.06', '136164189.55', '691556.06', '3877948.34', '4502678.26', '6861761.03', '691556.06', '2459013.75', '691556.06', '252011000.96', '92497770.88', '6739350.76', '24659120.78', '691556.06', '2000922.59', '2639119.68', '6371787.25', '29806050.71', '1448326.73', '3856905.74', '1944103.79', '1369587.23', '3710645.40', '1786518.46', '691556.06', '1811915.05', '716952.65', '691556.06', '5455201.29', '691556.06', '2581093.78', '4096848.83', '2043831.54', '691556.06', '691556.06', '3417267.99', '1461980.35', '850493.51', '26276305.30', '4113426.08', '691556.06', '691556.06', '691556.06', '3882412.47', '691556.06', '691556.06', '3909435.31', '987198.08', '203443295.03', '1255894.90', '6326350.17', '19297133.10', '944409.25', '987198.08', '1526140.32', '691556.06', '3909435.31', '3911744.66', '691556.06', '5455201.29', '2158628.03', '691556.06', '2459013.75', '691556.06', '1024230.23', '41940160.02', '691556.06', '2001042.71', '3710645.40', '52730019.69', '3315170.80', '716952.65', '691556.06', '2271189.11', '77882987.00', '691556.06', '691556.06', '2415865.17', '119134326.56', '124696082.45', '691556.06', '987198.08', '2112357.61', '2059292.32', '50851339.16', '19578156.97', '691556.06', '691556.06', '691556.06', '1951479.88', '29295580.84', '3729234.60', '691556.06', '1230498.31', '3710645.40', '691556.06', '7848481.33', '691556.06', '691556.06', '9631295.23', '4855640.81', '691556.06', '1461980.35', '3635272.11', '3100689.89', '691556.06', '2402428.47', '5629764.06', '4093329.48', '944409.25', '691556.06', '1825423.68', '4118486.79', '4621272.73', '46904581.25', '730461.28', '1461980.35', '128201504.67', '1024230.23', '17630446.71', '3601650.17', '6439087.40', '4482581.66', '252011000.96', '133856731.08', '4133158.57', '691556.06', '2581093.78', '50476597.09', '691556.06', '9709159.75', '90284840.77', '15474477.72', '691556.06', '1168523.45', '27133943.52', '1786518.46', '22363963.23', '7114175.58', '1024230.23', '691556.06', '691556.06', '6207243.14', '4224109.84', '691556.06', '16009411.69', '3615539.63', '691556.06', '4167603.33', '21293782.89', '691556.06', '4619688.21', '5455201.29', '19130459.62', '13005311.27', '691556.06', '691556.06', '691556.06', '6155952.07', '691556.06', '15564412.62', '691556.06', '691556.06', '691556.06', '2581093.78', '691556.06', '3822570.54', '1565089.98', '204997870.96', '1522857.45', '691556.06', '1786518.46', '4133158.57', '4336649.74', '944409.25', '1269447.96', '15564412.62', '11429810.42', '691556.06', '691556.06', '1005990.34', '1448326.73', '691556.06', '19090584.47', '5844453.48', '1269403.53', '691556.06', '11436944.32', '15580927.71', '691556.06', '716952.65', '691556.06', '691556.06', '716952.65', '3909435.31', '10088178.60', '691556.06', '81204780.13', '6255310.48', '691556.06', '26979409.09', '691556.06', '2271189.11', '130439168.16', '4855640.81', '1230498.31', '4502678.26', '15428189.96', '691556.06', '691556.06', '7100846.24', '944409.25', '691556.06', '691556.06', '5455201.29', '7059476.73', '45243254.62', '7848481.33', '35347939.75', '3690659.81', '691556.06', '691556.06', '9596372.77', '691556.06', '1416575.81', '987198.08', '4046342.80', '44348730.21', '691556.06', '5391701.77', '9819329.21', '276340284.92', '691556.06', '197354986.98', '16042826.60', '1369587.23', '691556.06', '691556.06', '691556.06', '691556.06', '4005485.59', '2839774.35', '128471064.94', '3523037.93', '15545936.96', '43951245.26', '691556.06', '691556.06', '25032271.39', '3710645.40', '4324202.98', '1951479.88', '691556.06', '1369587.23', '691556.06', '1255894.90', '3615539.63', '4186473.08', '691556.06', '3929121.06', '691556.06', '44323422.41', '3956588.75', '5829871.43', '691556.06', '3710645.40', '198604621.37', '987198.08', '2218778.38', '3374268.93', '19290114.59', '127448513.86', '15880669.63', '4394224.54', '16360727.37', '691556.06', '38031587.10', '691556.06', '118308693.86', '10563379.62', '35070152.23', '24597257.51', '4026610.31', '45248959.60', '691556.06', '9930557.79', '691556.06', '1482957.73', '691556.06', '6987671.70', '4026610.31', '1005990.34', '2140011.51', '691556.06', '2697808.78', '3601650.17', '7350721.50', '5792312.00', '78359009.78', '5455201.29', '691556.06', '691556.06', '3523037.93', '1819059.71', '3729234.60', '4281264.36', '5244892.99', '38438855.79', '691556.06', '1412608.30', '15688114.81', '119522885.73', '691556.06', '26876474.13', '3972554.86', '6346082.65', '4201173.08', '730461.28', '691556.06', '1854433.04', '6439087.40', '1230498.31', '104616164.85', '6439087.40', '987198.08', '13168315.47', '52730019.69', '3856905.74', '16101331.79', '691556.06', '691556.06', '1786518.46', '2140011.51', '5455201.29', '691556.06', '21434237.04', '9368798.65', '136164189.55', '30091947.44', '39533766.70', '691556.06', '944409.25', '1131874.13', '1708250.31', '691556.06', '1212255.10', '1195473.54', '10322909.46', '3171862.30', '691556.06', '54431174.26', '691556.06', '42327890.44', '3909435.31', '6671624.10', '5455201.29', '23581936.45', '1522857.45', '691556.06', '140443219.22', '74233824.58', '691556.06', '4113426.08', '23646201.72', '10068629.73', '691556.06', '6326350.17', '987198.08', '16136323.80', '10764579.60', '2133589.87', '4246157.92', '2140011.51', '691556.06', '691556.06', '691556.06', '3805614.90', '3456217.64', '691556.06', '1195473.54', '2140011.51', '1369587.23', '79190088.30', '9596372.77', '58911186.19', '691556.06', '1412608.30', '6430440.35', '275784108.92', '3909435.31', '691556.06', '8953189.74', '200940865.63', '1005054.77', '5844453.48', '14707928.31', '1683085.93', '2581093.78', '987198.08', '2459013.75', '27786169.98', '10941390.92', '10941390.92', '6275042.97', '691556.06', '691556.06', '691556.06', '3117434.18', '691556.06', '7605408.24', '691556.06', '15812596.02', '1786518.46', '18841454.91', '850493.51', '9596372.77', '691556.06', '15463433.23', '2000922.59', '691556.06', '1230498.31', '3956588.75', '3315170.80', '19358381.72', '1412537.64', '9548222.25', '3822570.54', '11040435.71', '691556.06', '691556.06', '2431989.34', '25865062.80', '57323426.96', '716952.65', '117047910.92', '36176186.51', '1973898.18', '691556.06', '1868146.61', '6255310.48', '4245285.36', '3417267.99', '8824390.03', '3729234.60', '1526140.32', '3374268.93', '19170656.95', '3523037.93', '5844453.48', '1386304.65', '5653722.80', '3729234.60', '4046342.80', '27412935.44', '5872033.65', '691556.06', '13415124.65', '25769771.99', '5217139.00', '3315170.80', '79190088.30', '691556.06', '944409.25', '3417267.99', '6739350.76', '3492734.58', '691556.06', '4243953.34', '135606935.77', '7131462.81', '691556.06', '691556.06', '691556.06', '3856905.74', '321284542.18', '15427338.23', '691556.06', '18870688.55', '11646486.24', '6412752.99', '1149762.08', '35389774.98', '6341713.31', '691556.06', '1522857.45', '5844453.48', '26794756.92', '134414750.90', '2133589.87', '4069168.88', '5725420.96', '3729234.60', '72886515.47', '1969500.38', '1133451.46', '6662991.35', '691556.06', '1522857.45', '691556.06', '1461980.35', '691556.06', '106219002.43', '43951245.26', '50851339.16', '1005054.77', '3729234.60', '9725986.92', '30071235.83', '5629764.06', '13357906.55', '2218778.38', '29760359.92', '6396616.35', '2047656.45', '127262635.92', '30351763.93', '4020070.07', '691556.06', '107024534.26', '17478937.84', '20472860.44', '691556.06', '1230498.31', '8938509.06', '691556.06', '6739350.76', '4287988.85', '3249105.11', '1005054.77', '691556.06', '58818029.49', '987198.08', '691556.06', '3909435.31', '4167603.33', '15530216.38', '4502678.26', '944409.25', '4855640.81', '15747200.47', '4277049.53', '691556.06', '691556.06', '44899106.09', '691556.06', '16488188.62', '4621272.73', '6255310.48', '1195473.54', '691556.06', '691556.06', '5939793.15', '1665229.24', '2188507.59', '4113426.08', '3562700.52', '20145730.11', '6901396.86', '691556.06', '5403059.82', '944409.25', '691556.06', '14422862.95', '23839180.67', '9325742.64', '5101933.52', '4287988.85', '691556.06', '30731166.55', '4026610.31', '6396616.35', '43421858.05', '1951479.88', '691556.06', '2000922.59', '1230498.31', '45376137.62', '4481040.31', '6911536.41', '75985017.43', '11941388.26', '3856905.74', '157958608.06', '16364393.87', '716952.65', '691556.06', '716952.65', '691556.06', '57513855.53', '1526140.32', '3856905.74', '4875373.30', '1269447.96', '3315170.80', '4026610.31', '691556.06', '5455201.29', '944409.25', '9911826.68', '691556.06', '30102479.31', '1461980.35', '10146451.31', '19476954.77', '27375787.99', '16459858.79', '44493345.01', '5844453.48', '691556.06', '16203481.00', '691556.06', '691556.06', '691556.06', '691556.06', '3635272.11', '30071235.83', '10213415.76', '691556.06', '5829871.43', '3523037.93', '5939793.15', '691556.06', '4026610.31', '691556.06', '11587457.49', '23974124.84', '5217139.00', '10430648.47', '2346092.92', '4083998.08', '24811587.48', '11679302.23', '1973898.18', '5474933.78', '944409.25', '34357591.06', '34075084.76', '4026610.31', '691556.06', '1491115.56', '15619685.37', '691556.06', '2158433.79', '691556.06', '3710645.40', '204232237.89', '36110090.53', '19071185.61', '944409.25', '18721753.65', '691556.06', '1230498.31', '1369587.23', '2581093.78', '2000922.59', '22785358.52', '3338229.17', '987198.08', '15008452.58', '1461980.35', '5455201.29', '124094685.99', '1434955.93', '691556.06', '691556.06', '716952.65', '3710645.40', '16568196.51', '11584724.11', '691556.06', '691556.06', '10608947.90', '691556.06', '691556.06', '3882412.47', '11372750.61', '691556.06', '691556.06', '27151032.23', '691556.06', '3948853.54', '4459974.78', '101659895.18', '691556.06', '9930557.79', '14309957.54', '1971523.74', '10601663.08', '691556.06', '19943208.71', '4246157.92', '3856905.74', '1269447.96', '6965244.87', '22393568.94', '5829871.43', '691556.06', '26900272.93', '691556.06', '4298687.49', '7717535.40', '10735742.57', '68357805.44', '716952.65', '691556.06', '9625874.78', '19746053.92', '691556.06', '11511454.21', '691556.06', '5399581.46', '1526140.32', '5844453.48', '9625874.78', '1482957.73', '19111292.25', '691556.06', '3628056.83', '15603301.16', '1131874.13', '691556.06', '47552949.51', '6439087.40', '691556.06', '92796845.81', '1131874.13', '2839774.35', '1461980.35', '34817313.74', '691556.06', '41715466.01', '691556.06', '8713859.01', '691556.06', '5455201.29', '691556.06', '9631295.23', '4180048.36', '41772402.26', '1565089.98', '1024230.23', '5586720.54', '691556.06', '1195473.54', '14203943.30', '1776414.62', '691556.06', '6326350.17', '25443834.39', '691556.06', '6239438.09', '4502678.26', '3911744.66', '691556.06', '6739350.76', '10683280.46', '4026610.31', '19361725.91', '5474933.78', '41230247.45', '3956588.75', '19363169.77', '1230498.31', '691556.06', '691556.06', '691556.06', '691556.06', '1301632.35', '5217139.00', '691556.06', '24338451.42', '1234378.76', '74649685.77', '716952.65', '2655924.97', '1394983.82', '10647514.43', '5822815.52', '944409.25', '5844453.48', '5548144.02', '1990429.54', '9596372.77', '691556.06', '4113426.08', '730461.28', '716952.65', '11040435.71', '691556.06', '691556.06', '2601478.34', '4096848.83', '2875606.03', '691556.06', '15615200.01', '20586151.51', '9892568.36', '3756047.72', '151944832.76', '1230498.31', '691556.06', '5839554.80', '1461980.35', '1230498.31', '716952.65', '691556.06', '691556.06', '24569362.68', '34465406.97', '15786132.14', '2875606.03', '1461980.35', '15569922.71', '90156977.02', '1461980.35', '4133158.57', '4356746.34', '987198.08', '136557031.41', '691556.06', '15602917.74', '5371936.67', '691556.06', '31537592.81', '5844453.48', '1526140.32', '15463433.23', '691556.06', '15564412.62', '4481040.31', '1461980.35', '6435689.75', '987198.08', '3892012.18', '1269447.96', '11040435.71', '15564412.62', '691556.06', '3554381.60', '691556.06', '11139075.36', '691556.06', '691556.06', '691556.06', '10683280.46', '16986688.94', '9633652.67', '23581936.45', '7717535.40', '15428189.96', '4113426.08', '19697526.79', '3729234.60', '36921301.74', '3909435.31', '3576589.97', '691556.06', '53666143.12', '691556.06', '3475560.75', '18595311.39', '77435250.23', '2481839.83', '1526140.32', '6538195.50', '3713909.06', '691556.06', '10941390.92', '1461980.35', '691556.06', '32329978.86', '691556.06', '1168523.45', '3729234.60', '691556.06', '3554381.60', '5223255.04', '944409.25', '1494545.87', '15532627.54', '1526140.32', '1168523.45', '4482581.66', '10361192.93', '2186745.37', '117047910.92', '1131874.13', '691556.06', '1280117.47', '2140011.51', '51701951.43', '691556.06', '987198.08', '5030203.58', '716952.65', '27475533.40', '2161603.51', '987198.08', '1776414.62', '197832949.78', '691556.06', '9558383.33', '691556.06', '3554381.60', '987198.08', '7059476.73', '1168523.45', '15705595.37', '3856905.74', '38762227.55', '1811915.05', '691556.06', '4070722.60', '19336007.51', '99614047.79', '2053474.25', '716952.65', '744357.06', '2000922.59', '4026610.31', '11631228.29', '691556.06', '691556.06', '15737360.26', '691556.06', '3909435.31', '6083857.21', '1369587.23', '15625037.82', '4268222.12', '691556.06', '691556.06', '120479349.26', '691556.06', '25891695.69', '1811915.05', '19407792.44', '691556.06', '16207222.43', '1005990.34', '5844453.48', '4855640.81', '1944103.79', '691556.06', '691556.06', '1461980.35', '4026610.31', '11511454.21', '691556.06', '2165556.85', '6510127.08', '11254557.46', '691556.06', '146124449.56', '26739813.38', '4373568.41', '691556.06', '1461980.35', '944409.25', '3493160.29', '5652700.82', '4481040.31', '5976696.37', '691556.06', '4113426.08', '4246157.92', '4113426.08', '119523701.25', '30895388.11', '1230498.31', '3710645.40', '27747339.71', '4324202.98', '10273810.20', '9881191.19', '691556.06', '1854433.04', '200181241.70', '45230854.04', '23728999.31', '2459013.75', '6275042.97', '691556.06', '691556.06', '691556.06', '987198.08', '691556.06', '4502678.26', '691556.06', '691556.06', '1461980.35', '27185458.14', '2183032.58', '716952.65']\n"
     ]
    }
   ],
   "source": [
    "print(['{:.2f}'.format(pred) for pred in predictionsVal])"
   ]
  },
  {
   "cell_type": "code",
   "execution_count": 28,
   "metadata": {},
   "outputs": [],
   "source": [
    "# from sklearn.pipeline import make_pipeline\n",
    "# from joblib import dump\n",
    "\n",
    "# pipeline = make_pipeline(stacking_regressor)\n",
    "\n",
    "# # Fit the pipeline\n",
    "# pipeline.fit(X_train, y_train)\n",
    "\n",
    "# # Save the pipeline\n",
    "# dump(pipeline, 'STACKED-SVR_RF.joblib')"
   ]
  },
  {
   "cell_type": "code",
   "execution_count": 29,
   "metadata": {},
   "outputs": [
    {
     "data": {
      "image/png": "[encoded data removed]",
      "text/plain": [
       "<Figure size 640x480 with 1 Axes>"
      ]
     },
     "metadata": {},
     "output_type": "display_data"
    }
   ],
   "source": [
    "import matplotlib.pyplot as plt\n",
    "\n",
    "# Make predictions\n",
    "predictions = stacking_regressor.predict(X_test)\n",
    "\n",
    "# Create a scatter plot\n",
    "plt.scatter(y_test, predictions)\n",
    "plt.xlabel('Actual Values')\n",
    "plt.ylabel('Predicted Values')\n",
    "plt.title('METAMODEL: Actual vs Predicted Values')\n",
    "\n",
    "# Diagonal line\n",
    "limits = [np.min([plt.xlim(), plt.ylim()]),  # find the lower limit among x and y axes\n",
    "          np.max([plt.xlim(), plt.ylim()])]  # find the upper limit among x and y axes\n",
    "plt.plot(limits, limits, color='red')\n",
    "\n",
    "plt.show()"
   ]
  },
  {
   "cell_type": "code",
   "execution_count": 34,
   "metadata": {},
   "outputs": [
    {
     "data": {
      "image/png": "[encoded data removed]",
      "text/plain": [
       "<Figure size 640x480 with 1 Axes>"
      ]
     },
     "metadata": {},
     "output_type": "display_data"
    },
    {
     "data": {
      "text/plain": [
       "[14695260.222173912, 14736061.08260688]"
      ]
     },
     "execution_count": 34,
     "metadata": {},
     "output_type": "execute_result"
    }
   ],
   "source": [
    "import matplotlib.pyplot as plt\n",
    "import numpy as np\n",
    "\n",
    "# Make predictions\n",
    "predictions = stacking_regressor.predict(X_test)\n",
    "\n",
    "# Calculate means\n",
    "mean_actual = np.mean(y_test)\n",
    "mean_predicted = np.mean(predictions)\n",
    "\n",
    "# Ensure mean_actual and mean_predicted are scalar values\n",
    "mean_actual = mean_actual.item()\n",
    "mean_predicted = mean_predicted.item()\n",
    "\n",
    "# Create a bar graph\n",
    "labels = ['Actual Values', 'Predicted Values']\n",
    "values = [mean_actual, mean_predicted]\n",
    "plt.bar(labels, values, width=0.5)\n",
    "\n",
    "plt.ylabel('Mean Values')\n",
    "plt.title('METAMODEL: Mean of Actual vs Predicted Values')\n",
    "\n",
    "plt.show()\n",
    "\n",
    "values"
   ]
  },
  {
   "cell_type": "code",
   "execution_count": 33,
   "metadata": {},
   "outputs": [
    {
     "name": "stderr",
     "output_type": "stream",
     "text": [
      "c:\\Users\\Asus\\anaconda3\\lib\\site-packages\\numpy\\core\\fromnumeric.py:3462: FutureWarning: In a future version, DataFrame.mean(axis=None) will return a scalar mean over the entire DataFrame. To retain the old behavior, use 'frame.mean(axis=0)' or just 'frame.mean()'\n",
      "  return mean(axis=axis, dtype=dtype, out=out, **kwargs)\n"
     ]
    },
    {
     "data": {
      "image/png": "[encoded data removed]",
      "text/plain": [
       "<Figure size 640x480 with 1 Axes>"
      ]
     },
     "metadata": {},
     "output_type": "display_data"
    }
   ],
   "source": [
    "import matplotlib.pyplot as plt\n",
    "import numpy as np\n",
    "\n",
    "# Make predictions\n",
    "predictions = stacking_regressor.predict(X_val)\n",
    "\n",
    "# Calculate means\n",
    "mean_actual = np.mean(y_val)\n",
    "mean_predicted = np.mean(predictionsVal)\n",
    "\n",
    "# Ensure mean_actual and mean_predicted are scalar values\n",
    "mean_actual = mean_actual.item()\n",
    "mean_predicted = mean_predicted.item()\n",
    "\n",
    "# Create a bar graph\n",
    "labels = ['Actual Values', 'Predicted Values']\n",
    "values = [mean_actual, mean_predicted]\n",
    "plt.bar(labels, values, width=0.5)\n",
    "\n",
    "plt.ylabel('Mean Values')\n",
    "plt.title('METAMODEL: Mean of Actual vs Predicted Values')\n",
    "\n",
    "plt.show()"
   ]
  },
  {
   "cell_type": "code",
   "execution_count": 31,
   "metadata": {},
   "outputs": [
    {
     "data": {
      "image/png": "[encoded data removed]",
      "text/plain": [
       "<Figure size 640x480 with 1 Axes>"
      ]
     },
     "metadata": {},
     "output_type": "display_data"
    }
   ],
   "source": [
    "import matplotlib.pyplot as plt\n",
    "\n",
    "# Make predictions\n",
    "predictionsVal = stacking_regressor.predict(X_val)\n",
    "\n",
    "# Create a scatter plot\n",
    "plt.scatter(y_val, predictionsVal)\n",
    "plt.xlabel('Actual Values')\n",
    "plt.ylabel('Predicted Values')\n",
    "plt.title('METAMODEL: Actual vs Predicted Values')\n",
    "\n",
    "# Diagonal line\n",
    "limits = [np.min([plt.xlim(), plt.ylim()]),  # find the lower limit among x and y axes\n",
    "          np.max([plt.xlim(), plt.ylim()])]  # find the upper limit among x and y axes\n",
    "plt.plot(limits, limits, color='red')\n",
    "\n",
    "plt.show()"
   ]
  },
  {
   "cell_type": "code",
   "execution_count": 32,
   "metadata": {},
   "outputs": [
    {
     "name": "stdout",
     "output_type": "stream",
     "text": [
      "         Actual    Predicted\n",
      "0     738192.76    987198.08\n",
      "1    8366137.44  16136323.80\n",
      "2    1554548.52   3729234.60\n",
      "3    1024538.36   2043831.54\n",
      "4     571594.71   1369587.23\n",
      "5    1006070.43   6875096.60\n",
      "6    3373899.59   3729234.60\n",
      "7      22651.45    691556.06\n",
      "8   58069322.65  19536137.30\n",
      "9     208189.28   1255894.90\n",
      "10    282028.13    691556.06\n",
      "11     87864.71    691556.06\n",
      "12  28767680.15  24903509.11\n",
      "13   1178074.71   1670816.38\n",
      "14  30363474.74  21035963.87\n",
      "15  13272386.18   4502678.26\n",
      "16   7136440.98   3382481.37\n",
      "17   2111223.37   5053140.34\n",
      "18  48370619.70  36261389.67\n",
      "19   6993733.89  12509870.70\n"
     ]
    }
   ],
   "source": [
    "import pandas as pd\n",
    "import numpy as np\n",
    "\n",
    "# Ensure y_test and predictions are 1-dimensional\n",
    "y_test = np.ravel(y_test)\n",
    "predictions = np.ravel(predictions)\n",
    "\n",
    "# Create a DataFrame with actual and predicted values\n",
    "df = pd.DataFrame({'Actual': y_test, 'Predicted': ['{:.2f}'.format(pred) for pred in predictions]})\n",
    "\n",
    "# Display the DataFrame\n",
    "print(df.head(20).to_string(index=True))"
   ]
  }
 ],
 "metadata": {
  "kernelspec": {
   "display_name": "base",
   "language": "python",
   "name": "python3"
  },
  "language_info": {
   "codemirror_mode": {
    "name": "ipython",
    "version": 3
   },
   "file_extension": ".py",
   "mimetype": "text/x-python",
   "name": "python",
   "nbconvert_exporter": "python",
   "pygments_lexer": "ipython3",
   "version": "3.9.13"
  }
 },
 "nbformat": 4,
 "nbformat_minor": 2
}
