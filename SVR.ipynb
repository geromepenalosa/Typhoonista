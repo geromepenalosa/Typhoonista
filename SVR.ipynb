{
 "cells": [
  {
   "cell_type": "code",
   "execution_count": 1,
   "metadata": {},
   "outputs": [
    {
     "name": "stderr",
     "output_type": "stream",
     "text": [
      "c:\\Users\\Asus\\anaconda3\\lib\\site-packages\\scipy\\__init__.py:155: UserWarning: A NumPy version >=1.18.5 and <1.25.0 is required for this version of SciPy (detected version 1.25.0\n",
      "  warnings.warn(f\"A NumPy version >={np_minversion} and <{np_maxversion}\"\n"
     ]
    }
   ],
   "source": [
    "\n",
    "# Import necessary libraries\n",
    "import pandas as pd\n",
    "import numpy as np\n",
    "from sklearn.model_selection import train_test_split\n",
    "from sklearn.svm import SVR\n",
    "from sklearn.preprocessing import StandardScaler\n",
    "from sklearn.metrics import mean_squared_error\n",
    "from sklearn.metrics import mean_absolute_error\n",
    "\n",
    "# Load the dataset\n",
    "df = pd.read_csv('TEST.csv')"
   ]
  },
  {
   "cell_type": "code",
   "execution_count": 2,
   "metadata": {},
   "outputs": [
    {
     "data": {
      "text/html": [
       "<div>\n",
       "<style scoped>\n",
       "    .dataframe tbody tr th:only-of-type {\n",
       "        vertical-align: middle;\n",
       "    }\n",
       "\n",
       "    .dataframe tbody tr th {\n",
       "        vertical-align: top;\n",
       "    }\n",
       "\n",
       "    .dataframe thead th {\n",
       "        text-align: right;\n",
       "    }\n",
       "</style>\n",
       "<table border=\"1\" class=\"dataframe\">\n",
       "  <thead>\n",
       "    <tr style=\"text-align: right;\">\n",
       "      <th></th>\n",
       "      <th>windspeed</th>\n",
       "      <th>rainfall</th>\n",
       "      <th>area</th>\n",
       "      <th>yield</th>\n",
       "      <th>percentageofarea</th>\n",
       "      <th>darea</th>\n",
       "      <th>yielda</th>\n",
       "      <th>fgprice</th>\n",
       "      <th>dctrice</th>\n",
       "    </tr>\n",
       "  </thead>\n",
       "  <tbody>\n",
       "    <tr>\n",
       "      <th>0</th>\n",
       "      <td>0</td>\n",
       "      <td>1.535972</td>\n",
       "      <td>2870.00</td>\n",
       "      <td>3.37</td>\n",
       "      <td>0.247070</td>\n",
       "      <td>709.091324</td>\n",
       "      <td>0.832626398</td>\n",
       "      <td>20.79</td>\n",
       "      <td>11135504</td>\n",
       "    </tr>\n",
       "    <tr>\n",
       "      <th>1</th>\n",
       "      <td>0</td>\n",
       "      <td>2.141071</td>\n",
       "      <td>491.00</td>\n",
       "      <td>4.36</td>\n",
       "      <td>0.244428</td>\n",
       "      <td>120.014173</td>\n",
       "      <td>1.065706303</td>\n",
       "      <td>20.79</td>\n",
       "      <td>2412279.37</td>\n",
       "    </tr>\n",
       "    <tr>\n",
       "      <th>2</th>\n",
       "      <td>7.116629346</td>\n",
       "      <td>5.809375</td>\n",
       "      <td>1330.88</td>\n",
       "      <td>4.42</td>\n",
       "      <td>0.312983</td>\n",
       "      <td>416.543187</td>\n",
       "      <td>1.383386094</td>\n",
       "      <td>20.79</td>\n",
       "      <td>10868283.84</td>\n",
       "    </tr>\n",
       "    <tr>\n",
       "      <th>3</th>\n",
       "      <td>67.08946747</td>\n",
       "      <td>3.908854</td>\n",
       "      <td>5767.00</td>\n",
       "      <td>4.65</td>\n",
       "      <td>0.567852</td>\n",
       "      <td>3274.800267</td>\n",
       "      <td>2.640510013</td>\n",
       "      <td>20.79</td>\n",
       "      <td>163091064.2</td>\n",
       "    </tr>\n",
       "    <tr>\n",
       "      <th>4</th>\n",
       "      <td>0</td>\n",
       "      <td>0.805469</td>\n",
       "      <td>4710.00</td>\n",
       "      <td>4.14</td>\n",
       "      <td>0.130472</td>\n",
       "      <td>614.521934</td>\n",
       "      <td>0.540153038</td>\n",
       "      <td>20.79</td>\n",
       "      <td>6260539.25</td>\n",
       "    </tr>\n",
       "    <tr>\n",
       "      <th>...</th>\n",
       "      <td>...</td>\n",
       "      <td>...</td>\n",
       "      <td>...</td>\n",
       "      <td>...</td>\n",
       "      <td>...</td>\n",
       "      <td>...</td>\n",
       "      <td>...</td>\n",
       "      <td>...</td>\n",
       "      <td>...</td>\n",
       "    </tr>\n",
       "    <tr>\n",
       "      <th>21016</th>\n",
       "      <td>0</td>\n",
       "      <td>0.522989</td>\n",
       "      <td>2936.00</td>\n",
       "      <td>0</td>\n",
       "      <td>0.264956</td>\n",
       "      <td>777.910078</td>\n",
       "      <td>0</td>\n",
       "      <td>14.32</td>\n",
       "      <td>0</td>\n",
       "    </tr>\n",
       "    <tr>\n",
       "      <th>21017</th>\n",
       "      <td>0</td>\n",
       "      <td>0.110000</td>\n",
       "      <td>156.00</td>\n",
       "      <td>2.85</td>\n",
       "      <td>0.101081</td>\n",
       "      <td>15.768650</td>\n",
       "      <td>0.288081111</td>\n",
       "      <td>14.32</td>\n",
       "      <td>59014.04</td>\n",
       "    </tr>\n",
       "    <tr>\n",
       "      <th>21018</th>\n",
       "      <td>10.51271508</td>\n",
       "      <td>0.225000</td>\n",
       "      <td>6376.00</td>\n",
       "      <td>6.88</td>\n",
       "      <td>0.131057</td>\n",
       "      <td>835.618326</td>\n",
       "      <td>0.901670967</td>\n",
       "      <td>14.32</td>\n",
       "      <td>9788183.48</td>\n",
       "    </tr>\n",
       "    <tr>\n",
       "      <th>21019</th>\n",
       "      <td>2.823089172</td>\n",
       "      <td>0.379861</td>\n",
       "      <td>2065.00</td>\n",
       "      <td>3.14</td>\n",
       "      <td>0.115129</td>\n",
       "      <td>237.741383</td>\n",
       "      <td>0.361505057</td>\n",
       "      <td>14.32</td>\n",
       "      <td>1116516.69</td>\n",
       "    </tr>\n",
       "    <tr>\n",
       "      <th>21020</th>\n",
       "      <td>15.60878419</td>\n",
       "      <td>0.667708</td>\n",
       "      <td>0.00</td>\n",
       "      <td>0</td>\n",
       "      <td>0.421349</td>\n",
       "      <td>0.000000</td>\n",
       "      <td>0</td>\n",
       "      <td>14.32</td>\n",
       "      <td>0</td>\n",
       "    </tr>\n",
       "  </tbody>\n",
       "</table>\n",
       "<p>21021 rows × 9 columns</p>\n",
       "</div>"
      ],
      "text/plain": [
       "         windspeed  rainfall     area yield  percentageofarea        darea  \\\n",
       "0                0  1.535972  2870.00  3.37          0.247070   709.091324   \n",
       "1                0  2.141071   491.00  4.36          0.244428   120.014173   \n",
       "2      7.116629346  5.809375  1330.88  4.42          0.312983   416.543187   \n",
       "3      67.08946747  3.908854  5767.00  4.65          0.567852  3274.800267   \n",
       "4                0  0.805469  4710.00  4.14          0.130472   614.521934   \n",
       "...            ...       ...      ...   ...               ...          ...   \n",
       "21016            0  0.522989  2936.00     0          0.264956   777.910078   \n",
       "21017            0  0.110000   156.00  2.85          0.101081    15.768650   \n",
       "21018  10.51271508  0.225000  6376.00  6.88          0.131057   835.618326   \n",
       "21019  2.823089172  0.379861  2065.00  3.14          0.115129   237.741383   \n",
       "21020  15.60878419  0.667708     0.00     0          0.421349     0.000000   \n",
       "\n",
       "            yielda  fgprice      dctrice  \n",
       "0      0.832626398    20.79     11135504  \n",
       "1      1.065706303    20.79   2412279.37  \n",
       "2      1.383386094    20.79  10868283.84  \n",
       "3      2.640510013    20.79  163091064.2  \n",
       "4      0.540153038    20.79   6260539.25  \n",
       "...            ...      ...          ...  \n",
       "21016            0    14.32            0  \n",
       "21017  0.288081111    14.32     59014.04  \n",
       "21018  0.901670967    14.32   9788183.48  \n",
       "21019  0.361505057    14.32   1116516.69  \n",
       "21020            0    14.32            0  \n",
       "\n",
       "[21021 rows x 9 columns]"
      ]
     },
     "execution_count": 2,
     "metadata": {},
     "output_type": "execute_result"
    }
   ],
   "source": [
    "df"
   ]
  },
  {
   "cell_type": "code",
   "execution_count": 3,
   "metadata": {},
   "outputs": [],
   "source": [
    "# Split the dataset into features and target variable\n",
    "X = df.drop(['dctrice','fgprice','percentageofarea','yielda','darea'], axis=1)\n",
    "y = df.drop(['darea','percentageofarea','yielda','windspeed','rainfall','area', 'yield', 'fgprice'], axis=1)\n"
   ]
  },
  {
   "cell_type": "code",
   "execution_count": 4,
   "metadata": {},
   "outputs": [
    {
     "data": {
      "text/plain": [
       "((21021, 4), (21021, 1))"
      ]
     },
     "execution_count": 4,
     "metadata": {},
     "output_type": "execute_result"
    }
   ],
   "source": [
    "X.shape, y.shape"
   ]
  },
  {
   "cell_type": "code",
   "execution_count": 5,
   "metadata": {},
   "outputs": [],
   "source": [
    "# First split the data into a training set and a temporary set using an 80-20 split\n",
    "X_train, X_temp, y_train, y_temp = train_test_split(X, y, test_size=0.2, random_state=42)\n",
    "\n",
    "# Then split the temporary set into a validation set and a test set using a 50-50 split\n",
    "X_val, X_test, y_val, y_test = train_test_split(X_temp, y_temp, test_size=0.5, random_state=42)"
   ]
  },
  {
   "cell_type": "code",
   "execution_count": 6,
   "metadata": {},
   "outputs": [
    {
     "data": {
      "text/plain": [
       "((16816, 4), (16816, 1))"
      ]
     },
     "execution_count": 6,
     "metadata": {},
     "output_type": "execute_result"
    }
   ],
   "source": [
    "\n",
    "X_train.shape, y_train.shape"
   ]
  },
  {
   "cell_type": "code",
   "execution_count": 7,
   "metadata": {},
   "outputs": [
    {
     "name": "stdout",
     "output_type": "stream",
     "text": [
      "<class 'pandas.core.frame.DataFrame'>\n",
      "Int64Index: 16816 entries, 13628 to 15795\n",
      "Data columns (total 1 columns):\n",
      " #   Column   Non-Null Count  Dtype \n",
      "---  ------   --------------  ----- \n",
      " 0   dctrice  16816 non-null  object\n",
      "dtypes: object(1)\n",
      "memory usage: 262.8+ KB\n",
      "<class 'pandas.core.frame.DataFrame'>\n",
      "Int64Index: 16816 entries, 13628 to 15795\n",
      "Data columns (total 4 columns):\n",
      " #   Column     Non-Null Count  Dtype  \n",
      "---  ------     --------------  -----  \n",
      " 0   windspeed  16816 non-null  object \n",
      " 1   rainfall   16816 non-null  float64\n",
      " 2   area       16816 non-null  float64\n",
      " 3   yield      16705 non-null  object \n",
      "dtypes: float64(2), object(2)\n",
      "memory usage: 656.9+ KB\n"
     ]
    }
   ],
   "source": [
    "y_train.info()\n",
    "X_train.info()"
   ]
  },
  {
   "cell_type": "code",
   "execution_count": 8,
   "metadata": {},
   "outputs": [],
   "source": [
    "X_test = pd.DataFrame(X_test).apply(pd.to_numeric, errors='coerce')\n",
    "X_train = pd.DataFrame(X_train).apply(pd.to_numeric, errors='coerce')\n",
    "y_train = pd.DataFrame(y_train).apply(pd.to_numeric, errors='coerce')\n",
    "y_test = pd.DataFrame(y_test).apply(pd.to_numeric, errors='coerce')"
   ]
  },
  {
   "cell_type": "code",
   "execution_count": 9,
   "metadata": {},
   "outputs": [
    {
     "data": {
      "text/plain": [
       "((16816, 4), (16816, 1))"
      ]
     },
     "execution_count": 9,
     "metadata": {},
     "output_type": "execute_result"
    }
   ],
   "source": [
    "X_train.shape, y_train.shape\n"
   ]
  },
  {
   "cell_type": "code",
   "execution_count": 10,
   "metadata": {},
   "outputs": [],
   "source": [
    "# Remove the rows with zero values from the training set and testing set\n",
    "mask = X_train['windspeed'] != 0\n",
    "\n",
    "# Apply the mask to X_train\n",
    "X_train = X_train[mask]\n",
    "\n",
    "# Apply the mask to y_train\n",
    "y_train = y_train[mask]"
   ]
  },
  {
   "cell_type": "code",
   "execution_count": 11,
   "metadata": {},
   "outputs": [
    {
     "data": {
      "text/plain": [
       "((7867, 4), (7867, 1))"
      ]
     },
     "execution_count": 11,
     "metadata": {},
     "output_type": "execute_result"
    }
   ],
   "source": [
    "X_train.shape, y_train.shape"
   ]
  },
  {
   "cell_type": "code",
   "execution_count": 12,
   "metadata": {},
   "outputs": [
    {
     "name": "stdout",
     "output_type": "stream",
     "text": [
      "(array([], dtype=int64), array([], dtype=int64))\n"
     ]
    }
   ],
   "source": [
    "nan_rows = X_train[X_train.isna().any(axis=1)].index\n",
    "X_train = X_train.drop(nan_rows)\n",
    "y_train = y_train.drop(nan_rows)\n",
    "\n",
    "print(np.where(pd.isnull(X_train)))"
   ]
  },
  {
   "cell_type": "code",
   "execution_count": 13,
   "metadata": {},
   "outputs": [
    {
     "data": {
      "text/plain": [
       "((7837, 4), (7837, 1))"
      ]
     },
     "execution_count": 13,
     "metadata": {},
     "output_type": "execute_result"
    }
   ],
   "source": [
    "X_train.shape,y_train.shape"
   ]
  },
  {
   "cell_type": "code",
   "execution_count": 14,
   "metadata": {},
   "outputs": [],
   "source": [
    "from sklearn.preprocessing import MinMaxScaler\n",
    "\n",
    "scaler = MinMaxScaler()\n",
    "X_train_scaled = scaler.fit_transform(X_train)\n",
    "X_val_scaled = scaler.transform(X_val)"
   ]
  },
  {
   "cell_type": "code",
   "execution_count": null,
   "metadata": {},
   "outputs": [],
   "source": []
  },
  {
   "cell_type": "code",
   "execution_count": 15,
   "metadata": {},
   "outputs": [
    {
     "name": "stdout",
     "output_type": "stream",
     "text": [
      "(array([], dtype=int64), array([], dtype=int64))\n"
     ]
    }
   ],
   "source": [
    "# # Convert X_test to DataFrame\n",
    "\n",
    "X_test_df = pd.DataFrame(X_val_scaled)\n",
    "\n",
    "nan_rows = X_test_df[X_test_df.isna().any(axis=1)].index\n",
    "X_test_scaled_final = X_test_df.drop(nan_rows)\n",
    "\n",
    "print(np.where(pd.isnull(X_test_scaled_final)))\n"
   ]
  },
  {
   "cell_type": "code",
   "execution_count": 16,
   "metadata": {},
   "outputs": [],
   "source": [
    "nan_rows = X_test[X_test.isna().any(axis=1)].index\n",
    "X_test = X_test.drop(nan_rows)\n",
    "y_test = y_test.drop(nan_rows)"
   ]
  },
  {
   "cell_type": "code",
   "execution_count": 17,
   "metadata": {},
   "outputs": [],
   "source": [
    "nan_rows = X_val[X_val.isna().any(axis=1)].index\n",
    "X_val = X_val.drop(nan_rows)\n",
    "y_val = y_val.drop(nan_rows)"
   ]
  },
  {
   "cell_type": "code",
   "execution_count": 18,
   "metadata": {},
   "outputs": [
    {
     "data": {
      "text/plain": [
       "((2090, 1), (2090, 4))"
      ]
     },
     "execution_count": 18,
     "metadata": {},
     "output_type": "execute_result"
    }
   ],
   "source": [
    "y_val.shape, X_val.shape"
   ]
  },
  {
   "cell_type": "code",
   "execution_count": 19,
   "metadata": {},
   "outputs": [
    {
     "name": "stderr",
     "output_type": "stream",
     "text": [
      "c:\\Users\\Asus\\anaconda3\\lib\\site-packages\\sklearn\\utils\\validation.py:993: DataConversionWarning: A column-vector y was passed when a 1d array was expected. Please change the shape of y to (n_samples, ), for example using ravel().\n",
      "  y = column_or_1d(y, warn=True)\n",
      "c:\\Users\\Asus\\anaconda3\\lib\\site-packages\\sklearn\\base.py:450: UserWarning: X does not have valid feature names, but SVR was fitted with feature names\n",
      "  warnings.warn(\n",
      "c:\\Users\\Asus\\anaconda3\\lib\\site-packages\\sklearn\\base.py:450: UserWarning: X does not have valid feature names, but SVR was fitted with feature names\n",
      "  warnings.warn(\n",
      "c:\\Users\\Asus\\anaconda3\\lib\\site-packages\\sklearn\\base.py:450: UserWarning: X does not have valid feature names, but SVR was fitted with feature names\n",
      "  warnings.warn(\n",
      "c:\\Users\\Asus\\anaconda3\\lib\\site-packages\\sklearn\\base.py:450: UserWarning: X does not have valid feature names, but SVR was fitted with feature names\n",
      "  warnings.warn(\n",
      "c:\\Users\\Asus\\anaconda3\\lib\\site-packages\\sklearn\\base.py:450: UserWarning: X does not have valid feature names, but SVR was fitted with feature names\n",
      "  warnings.warn(\n",
      "c:\\Users\\Asus\\anaconda3\\lib\\site-packages\\sklearn\\base.py:450: UserWarning: X does not have valid feature names, but SVR was fitted with feature names\n",
      "  warnings.warn(\n",
      "c:\\Users\\Asus\\anaconda3\\lib\\site-packages\\sklearn\\base.py:450: UserWarning: X does not have valid feature names, but SVR was fitted with feature names\n",
      "  warnings.warn(\n",
      "c:\\Users\\Asus\\anaconda3\\lib\\site-packages\\sklearn\\base.py:450: UserWarning: X does not have valid feature names, but SVR was fitted with feature names\n",
      "  warnings.warn(\n",
      "c:\\Users\\Asus\\anaconda3\\lib\\site-packages\\sklearn\\base.py:450: UserWarning: X does not have valid feature names, but SVR was fitted with feature names\n",
      "  warnings.warn(\n",
      "c:\\Users\\Asus\\anaconda3\\lib\\site-packages\\sklearn\\base.py:450: UserWarning: X does not have valid feature names, but SVR was fitted with feature names\n",
      "  warnings.warn(\n",
      "c:\\Users\\Asus\\anaconda3\\lib\\site-packages\\sklearn\\base.py:450: UserWarning: X does not have valid feature names, but SVR was fitted with feature names\n",
      "  warnings.warn(\n",
      "c:\\Users\\Asus\\anaconda3\\lib\\site-packages\\sklearn\\base.py:450: UserWarning: X does not have valid feature names, but SVR was fitted with feature names\n",
      "  warnings.warn(\n",
      "c:\\Users\\Asus\\anaconda3\\lib\\site-packages\\sklearn\\base.py:450: UserWarning: X does not have valid feature names, but SVR was fitted with feature names\n",
      "  warnings.warn(\n",
      "c:\\Users\\Asus\\anaconda3\\lib\\site-packages\\sklearn\\base.py:450: UserWarning: X does not have valid feature names, but SVR was fitted with feature names\n",
      "  warnings.warn(\n",
      "c:\\Users\\Asus\\anaconda3\\lib\\site-packages\\sklearn\\base.py:450: UserWarning: X does not have valid feature names, but SVR was fitted with feature names\n",
      "  warnings.warn(\n",
      "c:\\Users\\Asus\\anaconda3\\lib\\site-packages\\sklearn\\base.py:450: UserWarning: X does not have valid feature names, but SVR was fitted with feature names\n",
      "  warnings.warn(\n",
      "c:\\Users\\Asus\\anaconda3\\lib\\site-packages\\sklearn\\base.py:450: UserWarning: X does not have valid feature names, but SVR was fitted with feature names\n",
      "  warnings.warn(\n",
      "c:\\Users\\Asus\\anaconda3\\lib\\site-packages\\sklearn\\base.py:450: UserWarning: X does not have valid feature names, but SVR was fitted with feature names\n",
      "  warnings.warn(\n",
      "c:\\Users\\Asus\\anaconda3\\lib\\site-packages\\sklearn\\base.py:450: UserWarning: X does not have valid feature names, but SVR was fitted with feature names\n",
      "  warnings.warn(\n",
      "c:\\Users\\Asus\\anaconda3\\lib\\site-packages\\sklearn\\base.py:450: UserWarning: X does not have valid feature names, but SVR was fitted with feature names\n",
      "  warnings.warn(\n",
      "c:\\Users\\Asus\\anaconda3\\lib\\site-packages\\sklearn\\base.py:450: UserWarning: X does not have valid feature names, but SVR was fitted with feature names\n",
      "  warnings.warn(\n"
     ]
    },
    {
     "name": "stdout",
     "output_type": "stream",
     "text": [
      "Feature 0: windspeed Importance: 0.00000\n",
      "Feature 1: rainfall Importance: 0.00000\n",
      "Feature 2: area Importance: 2.50000\n",
      "Feature 3: yield Importance: 0.00000\n"
     ]
    }
   ],
   "source": [
    "from sklearn.inspection import permutation_importance\n",
    "\n",
    "# Fit your SVR model\n",
    "model = SVR(kernel=\"poly\").fit(X_train, y_train)\n",
    "\n",
    "# Perform permutation importance\n",
    "results = permutation_importance(model, X_train_scaled, y_train, scoring='neg_mean_squared_error')\n",
    "\n",
    "# Get importance\n",
    "importance = results.importances_mean\n",
    "\n",
    "# Summarize feature importance\n",
    "for i, j in enumerate(importance):\n",
    "    print('Feature %d: %s Importance: %.5f' % (i, X_train.columns[i], j))"
   ]
  },
  {
   "cell_type": "code",
   "execution_count": 20,
   "metadata": {},
   "outputs": [
    {
     "name": "stdout",
     "output_type": "stream",
     "text": [
      "[6.43372163e+06 8.89219871e+05 2.09448305e+08 1.65980646e+07]\n"
     ]
    },
    {
     "name": "stderr",
     "output_type": "stream",
     "text": [
      "c:\\Users\\Asus\\anaconda3\\lib\\site-packages\\sklearn\\linear_model\\_coordinate_descent.py:1571: DataConversionWarning: A column-vector y was passed when a 1d array was expected. Please change the shape of y to (n_samples, ), for example using ravel().\n",
      "  y = column_or_1d(y, warn=True)\n"
     ]
    }
   ],
   "source": [
    "from sklearn.linear_model import LassoCV\n",
    "\n",
    "lasso = LassoCV(cv=5).fit(X_train_scaled, y_train)\n",
    "importance = np.abs(lasso.coef_)\n",
    "print(importance)"
   ]
  },
  {
   "cell_type": "code",
   "execution_count": 21,
   "metadata": {},
   "outputs": [
    {
     "data": {
      "text/html": [
       "<div>\n",
       "<style scoped>\n",
       "    .dataframe tbody tr th:only-of-type {\n",
       "        vertical-align: middle;\n",
       "    }\n",
       "\n",
       "    .dataframe tbody tr th {\n",
       "        vertical-align: top;\n",
       "    }\n",
       "\n",
       "    .dataframe thead th {\n",
       "        text-align: right;\n",
       "    }\n",
       "</style>\n",
       "<table border=\"1\" class=\"dataframe\">\n",
       "  <thead>\n",
       "    <tr style=\"text-align: right;\">\n",
       "      <th></th>\n",
       "      <th>windspeed</th>\n",
       "      <th>rainfall</th>\n",
       "      <th>area</th>\n",
       "      <th>yield</th>\n",
       "    </tr>\n",
       "  </thead>\n",
       "  <tbody>\n",
       "    <tr>\n",
       "      <th>10790</th>\n",
       "      <td>15.665676</td>\n",
       "      <td>0.117560</td>\n",
       "      <td>370.0</td>\n",
       "      <td>2.06</td>\n",
       "    </tr>\n",
       "    <tr>\n",
       "      <th>17614</th>\n",
       "      <td>6.462579</td>\n",
       "      <td>2.849702</td>\n",
       "      <td>1725.0</td>\n",
       "      <td>3.89</td>\n",
       "    </tr>\n",
       "    <tr>\n",
       "      <th>6235</th>\n",
       "      <td>8.982324</td>\n",
       "      <td>3.426458</td>\n",
       "      <td>2487.0</td>\n",
       "      <td>4.20</td>\n",
       "    </tr>\n",
       "    <tr>\n",
       "      <th>5945</th>\n",
       "      <td>6.726178</td>\n",
       "      <td>0.854583</td>\n",
       "      <td>0.0</td>\n",
       "      <td>0.00</td>\n",
       "    </tr>\n",
       "    <tr>\n",
       "      <th>18061</th>\n",
       "      <td>12.384844</td>\n",
       "      <td>3.062153</td>\n",
       "      <td>1267.0</td>\n",
       "      <td>4.17</td>\n",
       "    </tr>\n",
       "    <tr>\n",
       "      <th>...</th>\n",
       "      <td>...</td>\n",
       "      <td>...</td>\n",
       "      <td>...</td>\n",
       "      <td>...</td>\n",
       "    </tr>\n",
       "    <tr>\n",
       "      <th>16023</th>\n",
       "      <td>3.000949</td>\n",
       "      <td>0.853191</td>\n",
       "      <td>17.0</td>\n",
       "      <td>5.58</td>\n",
       "    </tr>\n",
       "    <tr>\n",
       "      <th>14423</th>\n",
       "      <td>19.529917</td>\n",
       "      <td>0.503472</td>\n",
       "      <td>944.0</td>\n",
       "      <td>3.12</td>\n",
       "    </tr>\n",
       "    <tr>\n",
       "      <th>16850</th>\n",
       "      <td>1.709343</td>\n",
       "      <td>1.346094</td>\n",
       "      <td>3561.0</td>\n",
       "      <td>4.17</td>\n",
       "    </tr>\n",
       "    <tr>\n",
       "      <th>11284</th>\n",
       "      <td>14.460432</td>\n",
       "      <td>1.635185</td>\n",
       "      <td>6760.0</td>\n",
       "      <td>3.20</td>\n",
       "    </tr>\n",
       "    <tr>\n",
       "      <th>15795</th>\n",
       "      <td>6.176256</td>\n",
       "      <td>3.411702</td>\n",
       "      <td>2785.0</td>\n",
       "      <td>2.82</td>\n",
       "    </tr>\n",
       "  </tbody>\n",
       "</table>\n",
       "<p>7837 rows × 4 columns</p>\n",
       "</div>"
      ],
      "text/plain": [
       "       windspeed  rainfall    area  yield\n",
       "10790  15.665676  0.117560   370.0   2.06\n",
       "17614   6.462579  2.849702  1725.0   3.89\n",
       "6235    8.982324  3.426458  2487.0   4.20\n",
       "5945    6.726178  0.854583     0.0   0.00\n",
       "18061  12.384844  3.062153  1267.0   4.17\n",
       "...          ...       ...     ...    ...\n",
       "16023   3.000949  0.853191    17.0   5.58\n",
       "14423  19.529917  0.503472   944.0   3.12\n",
       "16850   1.709343  1.346094  3561.0   4.17\n",
       "11284  14.460432  1.635185  6760.0   3.20\n",
       "15795   6.176256  3.411702  2785.0   2.82\n",
       "\n",
       "[7837 rows x 4 columns]"
      ]
     },
     "execution_count": 21,
     "metadata": {},
     "output_type": "execute_result"
    }
   ],
   "source": [
    "X_train"
   ]
  },
  {
   "cell_type": "code",
   "execution_count": 22,
   "metadata": {},
   "outputs": [
    {
     "data": {
      "image/png": "[encoded data removed]",
      "text/plain": [
       "<Figure size 2000x2000 with 2 Axes>"
      ]
     },
     "metadata": {},
     "output_type": "display_data"
    }
   ],
   "source": [
    "import seaborn as sns\n",
    "import matplotlib.pyplot as plt\n",
    "\n",
    "\n",
    "corrmat = X_train.corr()\n",
    "top_corr_features = corrmat.index\n",
    "plt.figure(figsize=(20,20))\n",
    "\n",
    "# Plot heat map\n",
    "g=sns.heatmap(X_train[top_corr_features].corr(),annot=True,cmap=\"RdYlGn\")"
   ]
  },
  {
   "cell_type": "code",
   "execution_count": 28,
   "metadata": {},
   "outputs": [
    {
     "name": "stderr",
     "output_type": "stream",
     "text": [
      "c:\\Users\\Asus\\anaconda3\\lib\\site-packages\\sklearn\\utils\\validation.py:993: DataConversionWarning: A column-vector y was passed when a 1d array was expected. Please change the shape of y to (n_samples, ), for example using ravel().\n",
      "  y = column_or_1d(y, warn=True)\n"
     ]
    },
    {
     "name": "stdout",
     "output_type": "stream",
     "text": [
      "Mean Absolute Error (Validation): 6875649.463543431\n",
      "R-squared (Validation): 0.446266209602326\n",
      "Mean Absolute Error (Test): 7080671.34866962\n",
      "R-squared (Test): 0.2143928762625712\n"
     ]
    }
   ],
   "source": [
    "model = SVR(kernel='poly', C=0.0313, degree=2, gamma=0.0281, coef0=0.0)\n",
    "# from sklearn.tree import DecisionTreeRegressor\n",
    "# model = DecisionTreeRegressor(max_depth=15, min_samples_split=3, min_samples_leaf=81, random_state=0)\n",
    "model.fit(X_train, y_train)\n",
    "\n",
    "\n",
    "\n",
    "# model = SVR(kernel='linear', C=3.8, gamma=2.7, verbose=True)\n",
    "# model.fit(X_train_scaled, y_train)\n",
    "\n",
    "# # Make predictions on the test set\n",
    "predictionsVal = model.predict(X_val)\n",
    "\n",
    "# Evaluate the model\n",
    "\n",
    "mae = mean_absolute_error(y_val, predictionsVal)\n",
    "print(f'Mean Absolute Error (Validation): {mae}')\n",
    "\n",
    "r2 = model.score(X_val, y_val)\n",
    "print(f'R-squared (Validation): {r2}')\n",
    "\n",
    "\n",
    "\n",
    "predictions = model.predict(X_test)\n",
    "\n",
    "\n",
    "# Evaluate the model\n",
    "\n",
    "mae = mean_absolute_error(y_test, predictions)\n",
    "print(f'Mean Absolute Error (Test): {mae}')\n",
    "\n",
    "r2 = model.score(X_test, y_test)\n",
    "print(f'R-squared (Test): {r2}')\n"
   ]
  },
  {
   "cell_type": "code",
   "execution_count": 24,
   "metadata": {},
   "outputs": [
    {
     "name": "stdout",
     "output_type": "stream",
     "text": [
      "['572491.27', '279248.63', '1345743.65', '59450.77', '3387368.60', '1684191.34', '37048.12', '5782819.39', '2037522.61', '7679034.95', '125429.91', '3042041.57', '2084198.52', '10947607.06', '10994803.24', '1475981.91', '0.20', '1149922.27', '83215224.01', '82418017.75', '15946022.15', '0.21', '0.21', '4125518.93', '0.19', '230742.75', '24243.64', '664315.89', '10268064.23', '17500294.04', '9456384.39', '0.16', '1868515.70', '1247112.16', '57411.14', '290233.40', '1142536.04', '801154.18', '3575768.15', '0.21', '-1.77', '3932597.51', '321844.32', '0.20', '5320.70', '2580903.29', '775908.12', '0.19', '6471148.66', '2850133.69', '109261.96', '808383.51', '0.18', '33184.79', '0.21', '3761402.38', '5923597.93', '27060.87', '13787235.63', '13126864.96', '2113738.86', '90642.55', '5065436.64', '8419083.84', '10537.53', '419453.46', '16601152.67', '125204.24', '0.19', '0.21', '660891.77', '0.20', '1292410.95', '1760880.50', '3978037.75', '250121.62', '36642337.69', '165500.95', '14423085.48', '1608615.79', '0.15', '886591.33', '630779.81', '84895.47', '695551.60', '16425211.42', '3610807.12', '0.20', '148714.70', '742916.64', '776031.16', '2619471.73', '200209.55', '1831915.08', '0.16', '521718.50', '310604.91', '354298.07', '130230.89', '8884275.23', '2113599.17', '0.11', '176081126.16', '6369868.30', '2133105.26', '1206693.88', '165081.46', '3090746.93', '429156.14', '12179498.05', '308726.67', '52316732.91', '6956149.64', '1441418.03', '189812.03', '0.19', '5585.12', '5439453.60', '164265409.52', '169296.99', '31187678.22', '315048.59', '162438273.70', '16441659.78', '2196.72', '8945756.02', '5502186.63', '329191.74', '34672.40', '3982316.76', '59740394.43', '6438934.80', '546127.45', '1738075.46', '35913975.20', '347292766.49', '4203471.88', '54782037.57', '369864.99', '2401734.62', '0.21', '35237.88', '42619478.33', '18257645.32', '53993512.46', '1898338.07', '-0.20', '1959750.46', '1931187.48', '0.21', '0.21', '1462125.74', '186051.05', '12088.94', '549439.88', '398269.98', '843191.12', '6240596.61', '1383825.84', '16409.46', '1749375.32', '7513079.55', '3179352.45', '0.17', '3092416.90', '4601223.62', '464383.11', '-0.30', '526327.37', '0.21', '0.12', '6850043.97', '3590211.35', '603074.49', '15363242.00', '1217581.29', '6582468.62', '970941.52', '170344.11', '2261444.09', '0.21', '34526822.08', '3063353.32', '2282294.69', '0.21', '529831.09', '2142148.99', '124254.93', '0.20', '43231.81', '0.13', '168354.28', '1323095.54', '543589.94', '972402.56', '-0.06', '190487.18', '28934.86', '18766.99', '7095869.74', '0.21', '1623994.74', '768336.86', '19828750.79', '1679487.95', '10972289.36', '1312686.52', '11177570.08', '25876433.70', '596492.32', '0.18', '0.20', '687157.38', '1297594.09', '1158026.86', '0.14', '258119.33', '5862291.16', '0.18', '345363482.28', '169749.49', '743410.56', '4056813.91', '1906099.93', '17054225.04', '5096362.53', '484448.40', '3774.11', '19453223.54', '1456801.18', '353176.83', '24178734.89', '0.18', '1582451.51', '2725005.80', '53776.82', '216977.84', '1033025.28', '0.12', '6792551.35', '11472105.01', '0.21', '0.21', '0.16', '4155.29', '1469479.96', '1828519.55', '3427563.35', '0.20', '2249196.70', '4092653.35', '729719.81', '47708255.77', '25608687.95', '2415497.20', '6527338.76', '255181.77', '206696.81', '4979587.49', '3938335.43', '17203999.50', '58844210.16', '2122.67', '223244.25', '213445.02', '1999154.54', '33618746.74', '1370354.88', '0.21', '5345531.91', '9185744.46', '42715199.73', '383812.94', '0.16', '634086.54', '350565.53', '2674134.43', '2406772.61', '3746166.16', '44155002.79', '1586240.22', '10248077.85', '0.19', '0.14', '8475850.32', '1191242.02', '-0.99', '0.21', '0.03', '18491.18', '969748.84', '0.21', '2679370.35', '0.20', '0.20', '909582.98', '3248302.05', '14157123.07', '73202263.43', '817507.86', '9878861.42', '7222.82', '3583.89', '93938.88', '860557.36', '5310.24', '0.21', '765023.87', '4578015.05', '65047.96', '7794009.49', '83557809.53', '44143.45', '3731410.62', '0.19', '24647124.30', '272223.02', '80362.20', '9957442.14', '85423559.34', '1721934.35', '9219196.42', '561183.71', '977537.04', '241024.45', '5459558.30', '206454.26', '6052.30', '1573597.84', '121944.29', '60830190.84', '116307.60', '20873650.02', '0.20', '0.19', '1467812.97', '227468.87', '2283612.31', '880475.55', '1278975.01', '22744933.74', '1147866.16', '0.17', '-0.01', '1849493.92', '198792.37', '0.21', '12536001.61', '1021657.31', '265989.41', '0.21', '57248.28', '2292302.28', '26.98', '678044.02', '56744125.29', '1897867.33', '14608282.28', '16617173.89', '11957519.20', '376685.56', '205180.12', '6033107.58', '12463.30', '0.06', '6476770.51', '8562797.50', '0.18', '74036.37', '7973286.88', '0.20', '16676322.72', '11629586.17', '600045.80', '872908.40', '2560226.33', '11106125.65', '1986604.69', '1770173.39', '9798201.36', '128115.68', '0.21', '3841413.19', '154309.78', '5609063.98', '498719.47', '159516.40', '1100791.97', '789366.91', '10819263.96', '1825603.94', '145490.30', '1214430.44', '0.21', '9033950.95', '71881336.33', '6481626.59', '8378131.07', '0.21', '247126.47', '116193.89', '281500.65', '3201238.16', '902515.07', '720917.95', '124310.65', '0.04', '401779.73', '2064752.52', '49708353.70', '0.19', '615705.15', '429012.36', '1425700.63', '251906.51', '0.18', '0.20', '521707.21', '3834511.60', '19997.56', '2275068.59', '75582027.82', '95.29', '39239925.07', '126428.07', '781459.97', '0.18', '42106613.49', '1008030.37', '8525909.08', '779754.89', '262713.44', '3165968.27', '199325.84', '0.14', '3805019.31', '3947099.25', '20658.66', '59763178.40', '1286057.70', '592392.40', '20857086.59', '594103.92', '1103553.93', '87303.43', '0.21', '6631689.62', '1586579.03', '0.20', '472522.84', '452725.85', '0.06', '0.21', '269884.16', '10928169.20', '836755.04', '137422.83', '12324943.13', '172129.18', '0.14', '29557.87', '-0.09', '275911.48', '0.20', '0.21', '130043.57', '647579.61', '2549442.38', '374982.57', '1016613.35', '9300523.09', '2983833.91', '524486.49', '1032233.39', '911528.23', '1529681.59', '30517300.34', '73280.43', '0.21', '166554.61', '50872394.91', '736633.34', '12200475.24', '336079.78', '450233.68', '1425615.65', '0.18', '1937734.94', '55354.28', '1575414.82', '363234.52', '0.18', '15819.40', '151403.25', '2819918.19', '7257208.99', '2876787.73', '624327.16', '443.85', '41663.35', '688571.36', '8469911.49', '5821364.14', '2976532.93', '155619.87', '235392.88', '22681478.49', '8784666.22', '1945928.05', '3195719.83', '2384140.57', '0.21', '0.21', '2195165.18', '4789185.69', '7204943.95', '5300741.48', '0.21', '0.21', '-0.27', '2888665.16', '88633841.31', '10185237.63', '1750596.00', '1728569.66', '1104.06', '17510.22', '316648.03', '11509397.02', '1875651.69', '12777437.61', '1190451.73', '47765.16', '150605.69', '125095.12', '165752.46', '12853485.10', '2980517.37', '15381013.16', '224383.80', '803540.22', '39733319.39', '5914490.87', '11443029.79', '871203.76', '0.18', '557051.16', '56751.90', '69840.13', '269746.28', '32245538.51', '4392736.30', '0.19', '1340320.99', '837710.58', '4180921.61', '2868549.22', '1711931.41', '269250.51', '34360262.31', '1749.32', '4804933.02', '6134034.92', '84281.78', '15654036.56', '211.31', '8803.43', '3075694.66', '12111482.35', '63963705.11', '3767415.44', '1508378.43', '23206.01', '1996190.88', '1150947.77', '3136552.00', '85779.67', '0.21', '0.19', '71009.88', '0.20', '313763.10', '8074961.53', '242428.50', '5992430.15', '0.13', '0.17', '6458.77', '0.20', '11362347.84', '0.21', '134477.62', '0.16', '103453.03', '83222.74', '830989.76', '8576180.54', '58804337.52', '24658754.30', '223958.39', '1716123.83', '0.17', '1224731.82', '0.17', '0.20', '11533479.69', '11549.07', '0.18', '1190269.21', '10528.05', '0.21', '12818180.19', '0.15', '0.20', '21696000.92', '59765593.35', '807502.59', '31457206.55', '9368410.42', '198148.94', '0.10', '785918.26', '0.21', '4974137.05', '173086.91', '37638.80', '5454273.80', '296039.94', '0.21', '3218369.71', '11520344.28', '30635765.24', '0.19', '26675815.68', '4108.56', '16534583.35', '1072087.66', '1649195.23', '69231801.43', '8948413.80', '0.20', '1341673.51', '504509.44', '13802918.19', '11336341.11', '251906.79', '1218345.78', '718000.87', '17325558.77', '214026.56', '0.21', '0.18', '27143610.43', '60182879.04', '1708178.19', '7358368.97', '50383.15', '1008995.72', '899653.58', '0.21', '10857932.10', '19500989.36', '2987520.99', '4139797.46', '1241020.28', '12989497.49', '442911.25', '7391315.30', '19564955.01', '0.21', '868443.09', '197756.33', '1063116.76', '0.13', '72991.63', '0.21', '93329.45', '1381661.67', '2571058.36', '3578584.95', '321313.04', '549264.83', '8137103.82', '10622.50', '338711.26', '-0.26', '6061361.69', '18811709.85', '0.21', '34697937.33', '0.21', '42205.92', '13261.06', '0.20', '0.21', '0.20', '798098.35', '21164741.71', '35481048.40', '23534283.89', '76561330.80', '0.20', '323728.03', '1227483.95', '141683.66', '2602812.04', '0.03', '-0.06', '371559.38', '0.11', '16145080.52', '6088705.52', '0.20', '0.21', '19050.46', '52921.94', '2770661.30', '9305743.09', '4067438.81', '29271.59', '6601874.15', '4106826.80', '22765359.77', '84529.79', '1711593.29', '412032.96', '0.20', '221057.13', '448.53', '3880567.62', '7239923.58', '133590.00', '2808976.31', '0.19', '2462475.45', '0.21', '0.21', '-0.07', '4182367.11', '8813410.94', '0.08', '65565.38', '272855.38', '165534.12', '11466587.99', '1858542.99', '77515.41', '1003479.03', '19863169.18', '1165809.84', '0.20', '284488.34', '0.18', '327120.78', '16336860.85', '9293972.32', '27196228.34', '141158.86', '1781462.57', '9946967.83', '592292.98', '23074954.19', '50907.76', '-0.09', '57942.90', '34991469.52', '12057584.86', '10208400.02', '3573066.64', '14294705.54', '1447442.84', '331531.86', '87847.90', '500354.32', '0.20', '2118955.38', '1342629.47', '111610.72', '0.21', '0.18', '3248602.20', '-0.22', '7527710.18', '1012013.69', '0.17', '1144525.84', '7063571.11', '529106.43', '0.15', '629161.92', '156307.95', '669610.13', '63831.85', '126288.03', '6896.83', '8658109.98', '5709208.49', '19691.74', '803470.52', '0.19', '414448.03', '10619962.46', '0.20', '1645482.60', '5167159.02', '28795593.01', '993835.53', '37329784.76', '220618.82', '966699.74', '1875178.71', '1624509.58', '3228274.14', '19851615.85', '2898891.34', '11678.96', '552205.47', '251093.29', '616979.08', '0.15', '77397.76', '287508.78', '543471.86', '36392.19', '1801466.49', '590743.58', '380299.75', '36268057.55', '43016381.36', '9702048.45', '1398985.08', '352947.14', '0.21', '49808.89', '241995.77', '2898149.69', '1538573.64', '7236471.05', '0.21', '-0.30', '2052520.23', '5778557.84', '1613.38', '17596635.20', '10465.59', '12742621.40', '0.17', '1795210.51', '794255.29', '201244.03', '0.17', '25798.56', '4749522.91', '1004045.07', '90201.60', '0.19', '30226142.73', '0.21', '1045472.80', '3742366.71', '9770300.64', '0.18', '721460.20', '813115.37', '320984.24', '10175610.03', '20449235.94', '497158.40', '698385.37', '219321.58', '0.21', '5447685.02', '0.13', '663243.05', '43607401.74', '244588.40', '269698.11', '0.20', '5144929.31', '21337.77', '157637.92', '9285111.72', '0.21', '1469464.18', '4575081.40', '137290245.54', '0.20', '5569363.81', '30010.33', '1463511.13', '5244258.41', '136263.61', '68978219.79', '4287061.35', '1443362.21', '354185.56', '28764601.10', '2431754.47', '1021715.88', '15302.51', '531309.87', '0.19', '4019653.57', '406533.38', '93724675.31', '7459696.09', '925386.04', '137178961.25', '1799455.56', '0.21', '5416766.73', '0.16', '18687633.21', '12352183.12', '1966282.61', '1360140.24', '-0.30', '772850.75', '0.20', '53584.78', '0.19', '0.17', '2425429.06', '726089.16', '174260.37', '945437.66', '2276575.71', '399389.87', '9547657.33', '15380374.24', '33136.47', '337765.69', '3237568.77', '311112.18', '91290.78', '2602692.89', '6671701.58', '1900512.07', '230163.99', '46579.30', '303918.83', '151873.49', '0.08', '1597666.79', '1255665.20', '92829.11', '1439058.46', '0.19', '5744403.52', '0.04', '658585.00', '0.21', '3402556.98', '4388856.82', '171384.81', '302691.41', '416800.94', '0.16', '164068.26', '8980.33', '7883546.16', '11079394.07', '1010.41', '373236.98', '2136387.63', '26896284.26', '6.30', '3529054.40', '578267.75', '182869.82', '44449.61', '0.18', '0.20', '2407504.90', '6533011.04', '81580.42', '0.17', '1277600.01', '3564336.27', '0.21', '648195.72', '9956007.57', '324188.36', '0.17', '1968829.87', '9742189.19', '70050.67', '2229635.03', '286686.07', '108264.34', '1139369.18', '3401.08', '8013099.72', '1101137.05', '1899187.93', '21053776.32', '1226900.93', '46404098.46', '361000.70', '6416398.31', '2785582.19', '1019426.02', '3218304.84', '0.15', '66537.02', '4571553.67', '389659.29', '274496.19', '393737.92', '31479664.70', '1559299.41', '79905299.09', '5432002.11', '18507349.85', '5790749.95', '11329609.79', '4904050.29', '1968887.31', '14400075.75', '1252948.55', '335808.46', '1280132.58', '41304.46', '1484.76', '506940.71', '3780624.51', '0.11', '0.11', '2012663.28', '896698.41', '3550054.34', '12988620.04', '3591094.71', '11211768.67', '1934850.02', '2794953.08', '93370.20', '1174264.20', '6917315.06', '319567.15', '0.14', '0.21', '901478.95', '38273787.33', '0.19', '1741615.95', '455946.56', '51655.17', '1267022.64', '993775.58', '5725909.42', '64235279.63', '22555608.10', '3714297.43', '847733.95', '5861368.22', '1159572.98', '12669640.82', '18084237.49', '0.20', '177552.75', '154872.02', '0.21', '29215804.90', '697892.95', '176224752.93', '1390038.37', '1422612.37', '20430278.88', '890953.28', '3091562.93', '0.17', '341139.02', '17060232.14', '1261587.70', '1773027.33', '3.03', '22628988.32', '18269545.56', '102.75', '4133772.83', '0.16', '129773.78', '68705231.62', '78047162.45', '0.19', '373238.87', '58182143.30', '10719449.99', '650251.40', '84594.69', '4697936.60', '2440921.56', '198683.12', '14435.04', '6584440.95', '2894803.26', '20254.99', '361989.09', '611849.21', '1404680.31', '8884.91', '370680.93', '132247.44', '0.20', '4090508.28', '11473664.25', '7999625.71', '10082548.48', '13869.90', '4861210.55', '141087.17', '2847143.79', '11837200.03', '4664377.65', '7836806.39', '6839049.37', '275608.68', '8482851.34', '1362545.20', '69339.47', '157190.74', '742032.84', '329541.46', '0.21', '4037710.46', '0.15', '1863683.66', '0.21', '249503.16', '9089333.70', '1720826.85', '14150653.90', '0.16', '343399.93', '491831.54', '0.20', '0.17', '3687055.89', '0.20', '157865.94', '0.04', '0.21', '2096641.99', '90286.43', '651963.95', '191994694.47', '8300175.36', '0.21', '84664.48', '293678.65', '6101713.37', '116198.68', '162537946.64', '1900821.93', '0.17', '1582037.28', '2377193.02', '1675038.29', '26141.40', '205180.96', '2700467.53', '35929.24', '0.21', '0.20', '77543.88', '600544.23', '207672.56', '140090.95', '6053607.82', '26651650.52', '154576.88', '162264.84', '27985520.43', '0.18', '905624.04', '1039829.56', '1352048.31', '112543.59', '33855208.08', '2547485.91', '9596497.34', '21369141.19', '1431752.18', '4678203.57', '-1.55', '1485.90', '4474022.30', '2032784.04', '0.13', '65635375.24', '571195.89', '16921278.67', '0.13', '484914.69', '291984.17', '54466295.98', '8475050.95', '1393888.00', '15285001.27', '11437196.59', '0.19', '4299041.91', '19132103.51', '24003.59', '8590558.97', '615759.65', '598501.28', '915565.27', '0.21', '53219141.66', '650182.99', '227043.63', '43412598.00', '0.14', '5698782.95', '4620520.44', '5170845.58', '504989.34', '0.19', '28653874.82', '0.18', '0.15', '1257443.52', '10872556.21', '169591.30', '1226844.26', '0.18', '0.18', '24718.92', '0.12', '578053.23', '180026.49', '3797251.50', '10486000.03', '72585.15', '487629.50', '2823969.57', '462580.18', '3411817.07', '0.17', '2048586.93', '0.20', '0.04', '0.21', '4598143.99', '1345982.24', '0.21', '307261.62', '19046570.97', '0.16', '569095.04', '16689441.98', '0.02', '1403990.81', '782804.27', '6256277.96', '2444680.08', '3349800.19', '1803685.04', '508705.06', '3261833.77', '1840741.48', '1181017.64', '0.19', '18969078.08', '11770895.49', '1213131.40', '0.21', '47607.81', '311904.21', '0.21', '8161432.42', '0.17', '0.19', '21329486.77', '0.12', '21858851.86', '0.21', '5401561.50', '1383312.95', '974271.41', '575176.96', '0.15', '900228.40', '5543336.64', '7297412.87', '4632607.84', '22689300.58', '554869.47', '0.21', '0.17', '135691.11', '2019232.30', '224547.74', '2039494.53', '0.21', '208064.63', '710724.59', '0.10', '452779.92', '9345512.70', '1521729.04', '0.20', '9217912.28', '18122146.01', '23293.58', '9468104.72', '1094541.32', '4136514.48', '1528914.10', '6934109.99', '3250428.23', '564795.95', '4070091.38', '30074549.46', '73237.09', '8808358.60', '245916.51', '349382.06', '2171698.51', '20711704.97', '1938.19', '288646.05', '-0.06', '124620.91', '110444.07', '3420832.57', '411580.86', '11907898.23', '0.15', '556912.98', '2151225.66', '9226206.28', '8059653.66', '830747.03', '496245.51', '1606278.37', '0.15', '27564615.85', '3833.29', '33840.17', '406954.54', '78271313.04', '421814.83', '37053892.18', '869052.03', '284712.44', '356971.70', '0.18', '14200.70', '1507778.96', '-0.21', '5047029.35', '6408886.65', '7162957.82', '9229782.93', '1488310.42', '0.21', '739696.70', '0.10', '311525.72', '0.10', '31807.05', '0.19', '14224971.06', '3101933.75', '659583.78', '1100057.42', '1571857.73', '0.20', '12919423.38', '83724.47', '2068858.21', '58250.39', '729950.95', '838349.24', '30219091.04', '438236.03', '92041.72', '4306540.18', '538154.35', '11564.59', '2634569.11', '43440366.34', '2000180.23', '5742227.33', '658505.50', '0.21', '36697.29', '398243.64', '3286129.09', '0.18', '5742832.93', '8641907.08', '16727839.13', '15584917.59', '0.21', '74361.43', '7645826.97', '0.16', '110639.89', '52122.93', '8000238.60', '20366197.05', '716799.72', '0.20', '1961564.21', '0.17', '0.21', '17586354.34', '972907.42', '3733987.85', '0.17', '67334511.39', '1456597.16', '2075531.70', '514749.61', '301810.67', '0.21', '0.21', '0.21', '41943.71', '547196.00', '22017774.14', '356776.37', '147457.05', '12159.57', '529598.76', '2613258.40', '152185.82', '4663386.73', '13890200.82', '3340429.67', '3948082.54', '413599.10', '1959606.84', '0.17', '5002676.06', '0.18', '619889.82', '300486.45', '656386.39', '0.21', '467807.89', '477363.30', '99822854.65', '0.21', '20077623.93', '14610141.73', '968490.77', '8040813.86', '1792915.10', '22546619.22', '1551701.80', '3073.50', '9664932.65', '8026551.12', '54740.70', '66876788.52', '149399.38', '0.17', '11573258.53', '4017065.69', '0.21', '9181319.44', '102220.52', '0.21', '1277054.81', '375295.50', '0.20', '-0.09', '984778.44', '679877.79', '91779527.99', '1289412.21', '9768937.56', '0.20', '255087.42', '82179892.53', '68639.36', '1362422.28', '1464867.99', '6559.09', '3424243.50', '5388800.22', '183959.03', '13781.62', '949309.27', '0.21', '2777678.84', '0.17', '555491.37', '4555469.13', '1152818.54', '228904.60', '537539.12', '931264.08', '283292.41', '326601.54', '42622.51', '414015.16', '21534160.04', '152314.35', '17403399.33', '38665739.32', '132064.75', '130628.87', '2566689.59', '22642199.66', '1451987.19', '527281.63', '1193880.28', '1438530.32', '10932111.51', '973348.67', '27237316.78', '75962.60', '43024567.56', '119302.62', '712071.20', '4175839.22', '4089409.53', '1100575.57', '284210.10', '348294.11', '3978584.54', '-0.22', '1709912.13', '11492218.87', '766181.94', '1785798.00', '32266.95', '343198.93', '1366619.91', '3066111.00', '1420656.53', '2066238.93', '0.20', '0.20', '54803682.30', '11444832.65', '209654.34', '19853378.48', '0.20', '2176477.22', '422581.99', '17490961.84', '0.16', '437420.08', '1225935.88', '4406095.90', '3200021.40', '12381200.63', '1646705.05', '29984580.06', '4074128.58', '5332946.59', '165285044.76', '61863558.62', '58646276.68', '13498.84', '4297696.46', '20789807.71', '954020.02', '17006111.04', '9491464.08', '5363222.32', '18512.40', '38038.72', '1439462.54', '-0.12', '11957796.21', '5847739.17', '1941642.86', '1497130.37', '415432.97', '46774.96', '0.20', '2016177.77', '0.20', '222956.80', '10030450.02', '307214.75', '51267.46', '667134.07', '3469.28', '179006994.52', '0.21', '619464.89', '0.20', '598402.44', '0.21', '476686.86', '2722674.77', '18133.14', '-0.57', '31160.09', '323031.21', '3792779.89', '162629527.85', '12738244.80', '30042.19', '4068133.69', '4774.10', '7439397.68', '30434504.20', '32420511.46', '6758.81', '163494.12', '0.16', '6560218.42', '24597.02', '16664.93', '1041499.07', '44469197.64', '165533.95', '0.10', '11283800.53', '30359.27', '1128862.01', '0.20', '685035.43', '0.20', '-0.60', '0.19', '412438.53', '1298929.87', '1819911.87', '0.19', '0.16', '158514.79', '1002517.02', '0.20', '17354293.01', '83869.72', '67187.74', '292623.99', '4714362.31', '12832016.53', '12668620.08', '294932.45', '3117276.12', '5351811.87', '0.21', '0.14', '109077.38', '3706739.47', '106391.24', '2136312.16', '4284978.86', '0.21', '360449.54', '550190.86', '228431.98', '1566398.97', '617581.02', '405964.88', '1011178.56', '0.21', '91039.49', '108444.24', '0.17', '910850.36', '0.20', '6104608.24', '3672781.13', '11402400.53', '243009.49', '1837136.56', '170650.78', '873372.50', '163561.35', '0.20', '919105.15', '2303261.45', '46013746.64', '3103032.44', '81631979.45', '1987708.04', '5561684.42', '43268162.83', '1490634.39', '1916063.72', '18111716.85', '313616.60', '1271311.36', '0.20', '2033759.72', '1568892.65', '28729.07', '0.19', '105549.48', '4148769.73', '338119.80', '380576.76', '0.14', '76080.39', '0.20', '1036200.34', '0.21', '2177486.62', '3047475.53', '6270824.70', '1300069.04', '379782.93', '3006404.80', '0.20', '888662.95', '9831.56', '385255.87', '194180.72', '38162.58', '-0.29', '0.21', '9088.29', '-0.17', '43959.25', '1884956.33', '162824.86', '209853.59', '381525.18', '148408.95', '421435.17', '4656124.27', '14792759.36', '427560.96', '33953983.79', '0.15', '3241630.08', '1429087.78', '5223984.53', '0.21', '6458921.14', '12058667.59', '5049473.42', '746856.76', '25366845.55', '63188775.07', '1137348.48', '11524172.32', '65476764.06', '0.20', '0.20', '18751526.70', '13990.07', '8193039.65', '0.15', '5661586.10', '0.19', '834474.81', '58571.70', '0.20', '0.20', '789422.39', '330827.54', '3176260.22', '291377.23', '31971672.97', '43887.63', '1300298.79', '16225760.97', '535981.27', '0.21', '1.35', '674222.01', '0.08', '238291.04', '6798021.75', '761467.74', '302495.84', '7620669.60', '1529376.00', '0.20', '6103240.01', '15153207.31', '599413.30', '20044.75', '3634276.44', '7869595.58', '2825.75', '46213.93', '0.20', '15856.40', '128334476.73', '514916.03', '23417320.01', '7063377.36', '20014475.11', '9249822.47', '-0.56', '1129677.09', '257434.39', '0.20', '2849629.15', '15176.30', '0.20', '17963044.72', '5787221.68', '360404.49', '184685.15', '1486019.84', '69652956.28', '213970.47', '13655559.50', '6299773.12', '8128014.81', '2493624.54', '860591.42', '952860.78', '0.20', '244415.10', '0.20', '5336495.61', '1566225.26', '3913243.88', '1835179.70', '3833604.72', '167528.79', '216086.59', '2920572.36', '546105.46', '4060553.46', '154405.13', '36653837.65', '0.10', '3966547.87', '0.18', '6288282.16', '13714457.83', '1140890.00', '0.19', '72604.60', '8528509.86', '1529086.99', '681050.09', '7109.24', '7452718.17', '1370497.38', '1066060.76', '1609383.96', '153558.96', '538265.35', '1768684.34', '1181933.68', '2362048.15', '667568.07', '10682413.75', '643250.35', '104981.01', '6568958.60', '2083676.70', '1124656.26', '8109290.67', '1470693.90', '0.21', '118265.65', '21802723.06', '12184849.57', '0.19', '21207253.54', '1420761.84', '0.16', '8180740.05', '2571105.64', '477199.54', '14578867.43', '18400.30', '12524370.69', '0.21', '216201.57', '100701.48', '349570.43', '27079097.77', '25632.01', '0.09', '519760.83', '0.21', '947912.92', '16572831.09', '345.40', '2177666.77', '7906257.40', '1159321.01', '18365351.10', '130968.23', '1402182.59', '788370.78', '0.21', '165000.39', '91950.23', '16348254.80', '69744921.05', '4171552.61', '0.20', '193792.04', '775039.44', '3621538.29', '525000.45', '3745198.21', '0.21', '0.20', '6653392.33', '1649853.35', '12496405.45', '3682555.77', '716758.71', '2211242.78', '1780959.60', '3165533.74', '5566056.63', '0.18', '5088060.03', '103273.28', '8030867.73', '1153238.94', '22860096.00', '7315885.36', '7215660.96', '1188068.42', '897058.55', '393570.93', '1264604.89', '192663.80', '3553440.50', '38445449.52', '164875.20', '877359.60', '2427832.48', '3927645.81', '51108.66', '2188857.69', '0.19', '5076103.84', '4698006.69', '9095244.37', '779053.09', '4502579.92', '537272.19', '118948.27', '0.18', '0.21', '472818.80', '16607504.71', '481460.49', '1064483.26', '4232357.18', '4307202.91', '14145626.24', '126410.07', '0.11', '0.16', '94376.77', '0.15', '2096305.92', '0.21', '4319563.54', '41462.25', '0.14', '27382928.53', '0.19', '4675553.36', '647003.61', '0.21', '29442882.42', '1917233.35', '0.21', '20722573.33', '767981.71', '363431.25', '0.21', '1820223.49', '401795.61', '0.20', '42413.03', '12920524.87', '0.21', '23232980.19', '5695262.54', '0.20', '196200.16', '127348.80', '278274.32', '1726212.59', '3784961.12', '0.21', '0.18', '16079551.69', '20051138.81', '2309347.61', '141807.82', '3300931.55', '155904.64', '8999272.08', '0.19', '1446508.52', '4142314.05', '0.10', '761439.22', '132645.53', '2934057.64', '102858.63', '19718701.30', '1710347.10', '614561.50', '443455.22', '0.07', '571858.08', '27504932.10', '1513958.43', '393267.44', '4352027.52', '117735587.27', '3415.13', '9386171.63', '58330871.12', '956555.57', '1818402.43', '1927.72', '10792262.58', '25633.14', '0.19', '210126.64', '50322801.52', '6076989.62', '184990.57', '519053.71', '40619.80', '0.20', '2255107.08', '15401269.68', '5215682.26', '450699.27', '1036774.39', '9126.10', '6540263.13', '1190042.00', '0.16', '21151908.94', '150796.20', '597302.94', '278960.26', '637383.41', '840080.01', '0.16', '4681329.29', '4277297.68', '3373575.68', '1143304.13', '3964686.98', '4859092.80', '10601063.22', '3819645.88', '183353.00', '1866711.20', '1631982.67', '0.20', '23151008.09', '3681511.83', '0.18', '1107209.95', '57129887.14', '3950032.69', '24510190.35', '54401604.35', '0.21', '6124347.58', '17304323.63', '12535026.16', '19234320.94', '147552.00', '36882.15', '140829.59', '7545.11', '0.21', '1282266.24', '4002827.75', '4471181.44', '55806.22', '1526185.21', '865487.73', '3808766.01', '780454.62', '4461897.01', '3642279.20', '34280.82', '5869937.61', '1543125.29', '990291.51', '4342470.78', '4195991.84', '104711.42', '89859.20', '1823971.58', '101596.56', '7425.32']\n"
     ]
    }
   ],
   "source": [
    "print(['{:.2f}'.format(pred) for pred in predictions])"
   ]
  },
  {
   "cell_type": "code",
   "execution_count": 25,
   "metadata": {},
   "outputs": [
    {
     "name": "stderr",
     "output_type": "stream",
     "text": [
      "c:\\Users\\Asus\\anaconda3\\lib\\site-packages\\sklearn\\utils\\validation.py:993: DataConversionWarning: A column-vector y was passed when a 1d array was expected. Please change the shape of y to (n_samples, ), for example using ravel().\n",
      "  y = column_or_1d(y, warn=True)\n"
     ]
    },
    {
     "data": {
      "text/plain": [
       "['SVR.joblib']"
      ]
     },
     "execution_count": 25,
     "metadata": {},
     "output_type": "execute_result"
    }
   ],
   "source": [
    "from sklearn.pipeline import make_pipeline\n",
    "from joblib import dump\n",
    "\n",
    "pipeline = make_pipeline(model)\n",
    "\n",
    "# Fit the pipeline\n",
    "pipeline.fit(X_train, y_train)\n",
    "\n",
    "# Save the pipeline\n",
    "dump(pipeline, 'SVR.joblib')\n"
   ]
  }
 ],
 "metadata": {
  "kernelspec": {
   "display_name": "base",
   "language": "python",
   "name": "python3"
  },
  "language_info": {
   "codemirror_mode": {
    "name": "ipython",
    "version": 3
   },
   "file_extension": ".py",
   "mimetype": "text/x-python",
   "name": "python",
   "nbconvert_exporter": "python",
   "pygments_lexer": "ipython3",
   "version": "3.9.13"
  }
 },
 "nbformat": 4,
 "nbformat_minor": 2
}
