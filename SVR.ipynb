{
 "cells": [
  {
   "cell_type": "code",
   "execution_count": 1,
   "metadata": {},
   "outputs": [],
   "source": [
    "\n",
    "# Import necessary libraries\n",
    "import pandas as pd\n",
    "import numpy as np\n",
    "from sklearn.model_selection import train_test_split\n",
    "from sklearn.svm import SVR\n",
    "from sklearn.preprocessing import StandardScaler\n",
    "from sklearn.metrics import mean_absolute_error\n",
    "from sklearn.pipeline import make_pipeline\n",
    "\n",
    "# Load the dataset\n",
    "df = pd.read_csv('TEST.csv')"
   ]
  },
  {
   "cell_type": "code",
   "execution_count": 2,
   "metadata": {},
   "outputs": [
    {
     "data": {
      "text/html": [
       "<div>\n",
       "<style scoped>\n",
       "    .dataframe tbody tr th:only-of-type {\n",
       "        vertical-align: middle;\n",
       "    }\n",
       "\n",
       "    .dataframe tbody tr th {\n",
       "        vertical-align: top;\n",
       "    }\n",
       "\n",
       "    .dataframe thead th {\n",
       "        text-align: right;\n",
       "    }\n",
       "</style>\n",
       "<table border=\"1\" class=\"dataframe\">\n",
       "  <thead>\n",
       "    <tr style=\"text-align: right;\">\n",
       "      <th></th>\n",
       "      <th>windspeed</th>\n",
       "      <th>rainfall</th>\n",
       "      <th>area</th>\n",
       "      <th>yield</th>\n",
       "      <th>percentageofarea</th>\n",
       "      <th>darea</th>\n",
       "      <th>yielda</th>\n",
       "      <th>fgprice</th>\n",
       "      <th>dctrice</th>\n",
       "    </tr>\n",
       "  </thead>\n",
       "  <tbody>\n",
       "    <tr>\n",
       "      <th>0</th>\n",
       "      <td>0</td>\n",
       "      <td>1.535972</td>\n",
       "      <td>2870.00</td>\n",
       "      <td>3.37</td>\n",
       "      <td>0.247070</td>\n",
       "      <td>709.091324</td>\n",
       "      <td>0.832626398</td>\n",
       "      <td>20.79</td>\n",
       "      <td>11135504</td>\n",
       "    </tr>\n",
       "    <tr>\n",
       "      <th>1</th>\n",
       "      <td>0</td>\n",
       "      <td>2.141071</td>\n",
       "      <td>491.00</td>\n",
       "      <td>4.36</td>\n",
       "      <td>0.244428</td>\n",
       "      <td>120.014173</td>\n",
       "      <td>1.065706303</td>\n",
       "      <td>20.79</td>\n",
       "      <td>2412279.37</td>\n",
       "    </tr>\n",
       "    <tr>\n",
       "      <th>2</th>\n",
       "      <td>7.116629346</td>\n",
       "      <td>5.809375</td>\n",
       "      <td>1330.88</td>\n",
       "      <td>4.42</td>\n",
       "      <td>0.312983</td>\n",
       "      <td>416.543187</td>\n",
       "      <td>1.383386094</td>\n",
       "      <td>20.79</td>\n",
       "      <td>10868283.84</td>\n",
       "    </tr>\n",
       "    <tr>\n",
       "      <th>3</th>\n",
       "      <td>67.08946747</td>\n",
       "      <td>3.908854</td>\n",
       "      <td>5767.00</td>\n",
       "      <td>4.65</td>\n",
       "      <td>0.567852</td>\n",
       "      <td>3274.800267</td>\n",
       "      <td>2.640510013</td>\n",
       "      <td>20.79</td>\n",
       "      <td>163091064.2</td>\n",
       "    </tr>\n",
       "    <tr>\n",
       "      <th>4</th>\n",
       "      <td>0</td>\n",
       "      <td>0.805469</td>\n",
       "      <td>4710.00</td>\n",
       "      <td>4.14</td>\n",
       "      <td>0.130472</td>\n",
       "      <td>614.521934</td>\n",
       "      <td>0.540153038</td>\n",
       "      <td>20.79</td>\n",
       "      <td>6260539.25</td>\n",
       "    </tr>\n",
       "    <tr>\n",
       "      <th>...</th>\n",
       "      <td>...</td>\n",
       "      <td>...</td>\n",
       "      <td>...</td>\n",
       "      <td>...</td>\n",
       "      <td>...</td>\n",
       "      <td>...</td>\n",
       "      <td>...</td>\n",
       "      <td>...</td>\n",
       "      <td>...</td>\n",
       "    </tr>\n",
       "    <tr>\n",
       "      <th>21016</th>\n",
       "      <td>0</td>\n",
       "      <td>0.522989</td>\n",
       "      <td>2936.00</td>\n",
       "      <td>0</td>\n",
       "      <td>0.264956</td>\n",
       "      <td>777.910078</td>\n",
       "      <td>0</td>\n",
       "      <td>14.32</td>\n",
       "      <td>0</td>\n",
       "    </tr>\n",
       "    <tr>\n",
       "      <th>21017</th>\n",
       "      <td>0</td>\n",
       "      <td>0.110000</td>\n",
       "      <td>156.00</td>\n",
       "      <td>2.85</td>\n",
       "      <td>0.101081</td>\n",
       "      <td>15.768650</td>\n",
       "      <td>0.288081111</td>\n",
       "      <td>14.32</td>\n",
       "      <td>59014.04</td>\n",
       "    </tr>\n",
       "    <tr>\n",
       "      <th>21018</th>\n",
       "      <td>10.51271508</td>\n",
       "      <td>0.225000</td>\n",
       "      <td>6376.00</td>\n",
       "      <td>6.88</td>\n",
       "      <td>0.131057</td>\n",
       "      <td>835.618326</td>\n",
       "      <td>0.901670967</td>\n",
       "      <td>14.32</td>\n",
       "      <td>9788183.48</td>\n",
       "    </tr>\n",
       "    <tr>\n",
       "      <th>21019</th>\n",
       "      <td>2.823089172</td>\n",
       "      <td>0.379861</td>\n",
       "      <td>2065.00</td>\n",
       "      <td>3.14</td>\n",
       "      <td>0.115129</td>\n",
       "      <td>237.741383</td>\n",
       "      <td>0.361505057</td>\n",
       "      <td>14.32</td>\n",
       "      <td>1116516.69</td>\n",
       "    </tr>\n",
       "    <tr>\n",
       "      <th>21020</th>\n",
       "      <td>15.60878419</td>\n",
       "      <td>0.667708</td>\n",
       "      <td>0.00</td>\n",
       "      <td>0</td>\n",
       "      <td>0.421349</td>\n",
       "      <td>0.000000</td>\n",
       "      <td>0</td>\n",
       "      <td>14.32</td>\n",
       "      <td>0</td>\n",
       "    </tr>\n",
       "  </tbody>\n",
       "</table>\n",
       "<p>21021 rows × 9 columns</p>\n",
       "</div>"
      ],
      "text/plain": [
       "         windspeed  rainfall     area yield  percentageofarea        darea  \\\n",
       "0                0  1.535972  2870.00  3.37          0.247070   709.091324   \n",
       "1                0  2.141071   491.00  4.36          0.244428   120.014173   \n",
       "2      7.116629346  5.809375  1330.88  4.42          0.312983   416.543187   \n",
       "3      67.08946747  3.908854  5767.00  4.65          0.567852  3274.800267   \n",
       "4                0  0.805469  4710.00  4.14          0.130472   614.521934   \n",
       "...            ...       ...      ...   ...               ...          ...   \n",
       "21016            0  0.522989  2936.00     0          0.264956   777.910078   \n",
       "21017            0  0.110000   156.00  2.85          0.101081    15.768650   \n",
       "21018  10.51271508  0.225000  6376.00  6.88          0.131057   835.618326   \n",
       "21019  2.823089172  0.379861  2065.00  3.14          0.115129   237.741383   \n",
       "21020  15.60878419  0.667708     0.00     0          0.421349     0.000000   \n",
       "\n",
       "            yielda  fgprice      dctrice  \n",
       "0      0.832626398    20.79     11135504  \n",
       "1      1.065706303    20.79   2412279.37  \n",
       "2      1.383386094    20.79  10868283.84  \n",
       "3      2.640510013    20.79  163091064.2  \n",
       "4      0.540153038    20.79   6260539.25  \n",
       "...            ...      ...          ...  \n",
       "21016            0    14.32            0  \n",
       "21017  0.288081111    14.32     59014.04  \n",
       "21018  0.901670967    14.32   9788183.48  \n",
       "21019  0.361505057    14.32   1116516.69  \n",
       "21020            0    14.32            0  \n",
       "\n",
       "[21021 rows x 9 columns]"
      ]
     },
     "execution_count": 2,
     "metadata": {},
     "output_type": "execute_result"
    }
   ],
   "source": [
    "df"
   ]
  },
  {
   "cell_type": "code",
   "execution_count": 3,
   "metadata": {},
   "outputs": [],
   "source": [
    "# Split the dataset into features and target variable\n",
    "X = df.drop(['dctrice','fgprice'], axis=1)\n",
    "y = df.drop(['darea','percentageofarea','yielda','windspeed','rainfall','area', 'yield', 'fgprice'], axis=1)\n"
   ]
  },
  {
   "cell_type": "code",
   "execution_count": null,
   "metadata": {},
   "outputs": [],
   "source": []
  },
  {
   "cell_type": "code",
   "execution_count": 4,
   "metadata": {},
   "outputs": [
    {
     "data": {
      "text/plain": [
       "((21021, 7), (21021, 1))"
      ]
     },
     "execution_count": 4,
     "metadata": {},
     "output_type": "execute_result"
    }
   ],
   "source": [
    "X.shape, y.shape"
   ]
  },
  {
   "cell_type": "code",
   "execution_count": 5,
   "metadata": {},
   "outputs": [],
   "source": [
    "# First split the data into a training set and a temporary set using an 80-20 split\n",
    "X_train, X_temp, y_train, y_temp = train_test_split(X, y, test_size=0.2, random_state=42)\n",
    "\n",
    "# Then split the temporary set into a validation set and a test set using a 50-50 split\n",
    "X_val, X_test, y_val, y_test = train_test_split(X_temp, y_temp, test_size=0.5, random_state=42)"
   ]
  },
  {
   "cell_type": "code",
   "execution_count": 6,
   "metadata": {},
   "outputs": [
    {
     "data": {
      "text/plain": [
       "((16816, 7), (16816, 1))"
      ]
     },
     "execution_count": 6,
     "metadata": {},
     "output_type": "execute_result"
    }
   ],
   "source": [
    "\n",
    "X_train.shape, y_train.shape"
   ]
  },
  {
   "cell_type": "code",
   "execution_count": 7,
   "metadata": {},
   "outputs": [
    {
     "name": "stdout",
     "output_type": "stream",
     "text": [
      "<class 'pandas.core.frame.DataFrame'>\n",
      "Int64Index: 16816 entries, 13628 to 15795\n",
      "Data columns (total 1 columns):\n",
      " #   Column   Non-Null Count  Dtype \n",
      "---  ------   --------------  ----- \n",
      " 0   dctrice  16816 non-null  object\n",
      "dtypes: object(1)\n",
      "memory usage: 262.8+ KB\n",
      "<class 'pandas.core.frame.DataFrame'>\n",
      "Int64Index: 16816 entries, 13628 to 15795\n",
      "Data columns (total 7 columns):\n",
      " #   Column            Non-Null Count  Dtype  \n",
      "---  ------            --------------  -----  \n",
      " 0   windspeed         16816 non-null  object \n",
      " 1   rainfall          16816 non-null  float64\n",
      " 2   area              16816 non-null  float64\n",
      " 3   yield             16705 non-null  object \n",
      " 4   percentageofarea  16816 non-null  float64\n",
      " 5   darea             16816 non-null  float64\n",
      " 6   yielda            16816 non-null  object \n",
      "dtypes: float64(4), object(3)\n",
      "memory usage: 1.0+ MB\n"
     ]
    }
   ],
   "source": [
    "y_train.info()\n",
    "X_train.info()"
   ]
  },
  {
   "cell_type": "code",
   "execution_count": 8,
   "metadata": {},
   "outputs": [],
   "source": [
    "X_test = pd.DataFrame(X_test).apply(pd.to_numeric, errors='coerce')\n",
    "X_train = pd.DataFrame(X_train).apply(pd.to_numeric, errors='coerce')\n",
    "y_train = pd.DataFrame(y_train).apply(pd.to_numeric, errors='coerce')\n",
    "y_test = pd.DataFrame(y_test).apply(pd.to_numeric, errors='coerce')"
   ]
  },
  {
   "cell_type": "code",
   "execution_count": 9,
   "metadata": {},
   "outputs": [
    {
     "data": {
      "text/plain": [
       "((16816, 7), (16816, 1))"
      ]
     },
     "execution_count": 9,
     "metadata": {},
     "output_type": "execute_result"
    }
   ],
   "source": [
    "X_train.shape, y_train.shape\n"
   ]
  },
  {
   "cell_type": "code",
   "execution_count": 10,
   "metadata": {},
   "outputs": [],
   "source": [
    "# Remove the rows with zero values from the training set and testing set\n",
    "mask = X_train['windspeed'] != 0\n",
    "\n",
    "# Apply the mask to X_train\n",
    "X_train = X_train[mask]\n",
    "\n",
    "# Apply the mask to y_train\n",
    "y_train = y_train[mask]"
   ]
  },
  {
   "cell_type": "code",
   "execution_count": 11,
   "metadata": {},
   "outputs": [],
   "source": [
    "# Remove the rows with zero values from the training set and testing set\n",
    "mask =y_train['dctrice'] != 0\n",
    "\n",
    "# Apply the mask to X_train\n",
    "X_train = X_train[mask]\n",
    "\n",
    "# Apply the mask to y_train\n",
    "y_train = y_train[mask]"
   ]
  },
  {
   "cell_type": "code",
   "execution_count": 12,
   "metadata": {},
   "outputs": [
    {
     "data": {
      "text/plain": [
       "((6653, 7), (6653, 1))"
      ]
     },
     "execution_count": 12,
     "metadata": {},
     "output_type": "execute_result"
    }
   ],
   "source": [
    "X_train.shape, y_train.shape"
   ]
  },
  {
   "cell_type": "code",
   "execution_count": 13,
   "metadata": {},
   "outputs": [
    {
     "name": "stdout",
     "output_type": "stream",
     "text": [
      "(array([], dtype=int64), array([], dtype=int64))\n"
     ]
    }
   ],
   "source": [
    "nan_rows = X_train[X_train.isna().any(axis=1)].index\n",
    "X_train = X_train.drop(nan_rows)\n",
    "y_train = y_train.drop(nan_rows)\n",
    "\n",
    "print(np.where(pd.isnull(X_train)))"
   ]
  },
  {
   "cell_type": "code",
   "execution_count": 14,
   "metadata": {},
   "outputs": [
    {
     "data": {
      "text/plain": [
       "((6647, 7), (6647, 1))"
      ]
     },
     "execution_count": 14,
     "metadata": {},
     "output_type": "execute_result"
    }
   ],
   "source": [
    "X_train.shape,y_train.shape"
   ]
  },
  {
   "cell_type": "code",
   "execution_count": 15,
   "metadata": {},
   "outputs": [],
   "source": [
    "# scaler = StandardScaler()\n",
    "# X_train_scaled = scaler.fit_transform(X_train)\n",
    "# X_val_scaled = scaler.transform(X_val)"
   ]
  },
  {
   "cell_type": "code",
   "execution_count": 16,
   "metadata": {},
   "outputs": [],
   "source": [
    "# #Convert X_test to DataFrame\n",
    "\n",
    "# X_test_df = pd.DataFrame(X_val_scaled)\n",
    "\n",
    "# nan_rows = X_test_df[X_test_df.isna().any(axis=1)].index\n",
    "# X_test_scaled_final = X_test_df.drop(nan_rows)\n",
    "\n",
    "# print(np.where(pd.isnull(X_test_scaled_final)))\n"
   ]
  },
  {
   "cell_type": "code",
   "execution_count": 17,
   "metadata": {},
   "outputs": [],
   "source": [
    "nan_rows = X_test[X_test.isna().any(axis=1)].index\n",
    "X_test = X_test.drop(nan_rows)\n",
    "y_test = y_test.drop(nan_rows)"
   ]
  },
  {
   "cell_type": "code",
   "execution_count": 18,
   "metadata": {},
   "outputs": [],
   "source": [
    "nan_rows = X_val[X_val.isna().any(axis=1)].index\n",
    "X_val = X_val.drop(nan_rows)\n",
    "y_val = y_val.drop(nan_rows)"
   ]
  },
  {
   "cell_type": "code",
   "execution_count": 19,
   "metadata": {},
   "outputs": [
    {
     "data": {
      "text/plain": [
       "((2090, 7), (2090, 1))"
      ]
     },
     "execution_count": 19,
     "metadata": {},
     "output_type": "execute_result"
    }
   ],
   "source": [
    "X_val.shape, y_val.shape"
   ]
  },
  {
   "cell_type": "code",
   "execution_count": 20,
   "metadata": {},
   "outputs": [
    {
     "data": {
      "image/png": "[encoded data removed]",
      "text/plain": [
       "<Figure size 2000x2000 with 2 Axes>"
      ]
     },
     "metadata": {},
     "output_type": "display_data"
    }
   ],
   "source": [
    "import seaborn as sns\n",
    "import matplotlib.pyplot as plt\n",
    "\n",
    "\n",
    "corrmat = X_train.corr()\n",
    "top_corr_features = corrmat.index\n",
    "plt.figure(figsize=(20,20))\n",
    "\n",
    "# Plot heat map\n",
    "g=sns.heatmap(X_train[top_corr_features].corr(),annot=True,cmap=\"RdYlGn\")"
   ]
  },
  {
   "cell_type": "code",
   "execution_count": 21,
   "metadata": {},
   "outputs": [
    {
     "data": {
      "text/html": [
       "<div>\n",
       "<style scoped>\n",
       "    .dataframe tbody tr th:only-of-type {\n",
       "        vertical-align: middle;\n",
       "    }\n",
       "\n",
       "    .dataframe tbody tr th {\n",
       "        vertical-align: top;\n",
       "    }\n",
       "\n",
       "    .dataframe thead th {\n",
       "        text-align: right;\n",
       "    }\n",
       "</style>\n",
       "<table border=\"1\" class=\"dataframe\">\n",
       "  <thead>\n",
       "    <tr style=\"text-align: right;\">\n",
       "      <th></th>\n",
       "      <th>windspeed</th>\n",
       "      <th>rainfall</th>\n",
       "      <th>area</th>\n",
       "      <th>yield</th>\n",
       "      <th>percentageofarea</th>\n",
       "      <th>darea</th>\n",
       "      <th>yielda</th>\n",
       "    </tr>\n",
       "  </thead>\n",
       "  <tbody>\n",
       "    <tr>\n",
       "      <th>10790</th>\n",
       "      <td>15.665676</td>\n",
       "      <td>0.117560</td>\n",
       "      <td>370.0</td>\n",
       "      <td>2.06</td>\n",
       "      <td>0.186675</td>\n",
       "      <td>69.069876</td>\n",
       "      <td>0.384551</td>\n",
       "    </tr>\n",
       "    <tr>\n",
       "      <th>17614</th>\n",
       "      <td>6.462579</td>\n",
       "      <td>2.849702</td>\n",
       "      <td>1725.0</td>\n",
       "      <td>3.89</td>\n",
       "      <td>0.203594</td>\n",
       "      <td>351.199924</td>\n",
       "      <td>0.791981</td>\n",
       "    </tr>\n",
       "    <tr>\n",
       "      <th>6235</th>\n",
       "      <td>8.982324</td>\n",
       "      <td>3.426458</td>\n",
       "      <td>2487.0</td>\n",
       "      <td>4.20</td>\n",
       "      <td>0.526793</td>\n",
       "      <td>1310.133828</td>\n",
       "      <td>2.212530</td>\n",
       "    </tr>\n",
       "    <tr>\n",
       "      <th>18061</th>\n",
       "      <td>12.384844</td>\n",
       "      <td>3.062153</td>\n",
       "      <td>1267.0</td>\n",
       "      <td>4.17</td>\n",
       "      <td>0.547221</td>\n",
       "      <td>693.329512</td>\n",
       "      <td>2.281913</td>\n",
       "    </tr>\n",
       "    <tr>\n",
       "      <th>15375</th>\n",
       "      <td>7.112005</td>\n",
       "      <td>5.545536</td>\n",
       "      <td>3730.0</td>\n",
       "      <td>2.76</td>\n",
       "      <td>0.076575</td>\n",
       "      <td>285.626603</td>\n",
       "      <td>0.211348</td>\n",
       "    </tr>\n",
       "    <tr>\n",
       "      <th>...</th>\n",
       "      <td>...</td>\n",
       "      <td>...</td>\n",
       "      <td>...</td>\n",
       "      <td>...</td>\n",
       "      <td>...</td>\n",
       "      <td>...</td>\n",
       "      <td>...</td>\n",
       "    </tr>\n",
       "    <tr>\n",
       "      <th>16023</th>\n",
       "      <td>3.000949</td>\n",
       "      <td>0.853191</td>\n",
       "      <td>17.0</td>\n",
       "      <td>5.58</td>\n",
       "      <td>0.403076</td>\n",
       "      <td>6.852292</td>\n",
       "      <td>2.249164</td>\n",
       "    </tr>\n",
       "    <tr>\n",
       "      <th>14423</th>\n",
       "      <td>19.529917</td>\n",
       "      <td>0.503472</td>\n",
       "      <td>944.0</td>\n",
       "      <td>3.12</td>\n",
       "      <td>0.162055</td>\n",
       "      <td>152.979819</td>\n",
       "      <td>0.505611</td>\n",
       "    </tr>\n",
       "    <tr>\n",
       "      <th>16850</th>\n",
       "      <td>1.709343</td>\n",
       "      <td>1.346094</td>\n",
       "      <td>3561.0</td>\n",
       "      <td>4.17</td>\n",
       "      <td>0.068570</td>\n",
       "      <td>244.178127</td>\n",
       "      <td>0.285937</td>\n",
       "    </tr>\n",
       "    <tr>\n",
       "      <th>11284</th>\n",
       "      <td>14.460432</td>\n",
       "      <td>1.635185</td>\n",
       "      <td>6760.0</td>\n",
       "      <td>3.20</td>\n",
       "      <td>0.150795</td>\n",
       "      <td>1019.376535</td>\n",
       "      <td>0.482545</td>\n",
       "    </tr>\n",
       "    <tr>\n",
       "      <th>15795</th>\n",
       "      <td>6.176256</td>\n",
       "      <td>3.411702</td>\n",
       "      <td>2785.0</td>\n",
       "      <td>2.82</td>\n",
       "      <td>0.081808</td>\n",
       "      <td>227.835310</td>\n",
       "      <td>0.230699</td>\n",
       "    </tr>\n",
       "  </tbody>\n",
       "</table>\n",
       "<p>6647 rows × 7 columns</p>\n",
       "</div>"
      ],
      "text/plain": [
       "       windspeed  rainfall    area  yield  percentageofarea        darea  \\\n",
       "10790  15.665676  0.117560   370.0   2.06          0.186675    69.069876   \n",
       "17614   6.462579  2.849702  1725.0   3.89          0.203594   351.199924   \n",
       "6235    8.982324  3.426458  2487.0   4.20          0.526793  1310.133828   \n",
       "18061  12.384844  3.062153  1267.0   4.17          0.547221   693.329512   \n",
       "15375   7.112005  5.545536  3730.0   2.76          0.076575   285.626603   \n",
       "...          ...       ...     ...    ...               ...          ...   \n",
       "16023   3.000949  0.853191    17.0   5.58          0.403076     6.852292   \n",
       "14423  19.529917  0.503472   944.0   3.12          0.162055   152.979819   \n",
       "16850   1.709343  1.346094  3561.0   4.17          0.068570   244.178127   \n",
       "11284  14.460432  1.635185  6760.0   3.20          0.150795  1019.376535   \n",
       "15795   6.176256  3.411702  2785.0   2.82          0.081808   227.835310   \n",
       "\n",
       "         yielda  \n",
       "10790  0.384551  \n",
       "17614  0.791981  \n",
       "6235   2.212530  \n",
       "18061  2.281913  \n",
       "15375  0.211348  \n",
       "...         ...  \n",
       "16023  2.249164  \n",
       "14423  0.505611  \n",
       "16850  0.285937  \n",
       "11284  0.482545  \n",
       "15795  0.230699  \n",
       "\n",
       "[6647 rows x 7 columns]"
      ]
     },
     "execution_count": 21,
     "metadata": {},
     "output_type": "execute_result"
    }
   ],
   "source": [
    "X_train"
   ]
  },
  {
   "cell_type": "code",
   "execution_count": 22,
   "metadata": {},
   "outputs": [
    {
     "name": "stderr",
     "output_type": "stream",
     "text": [
      "c:\\Users\\Asus\\anaconda3\\lib\\site-packages\\sklearn\\utils\\validation.py:993: DataConversionWarning: A column-vector y was passed when a 1d array was expected. Please change the shape of y to (n_samples, ), for example using ravel().\n",
      "  y = column_or_1d(y, warn=True)\n"
     ]
    },
    {
     "name": "stdout",
     "output_type": "stream",
     "text": [
      "Mean Absolute Error (Validation): 3443791.505699309\n",
      "R-squared (Validation): 0.8894707353787242\n",
      "\n",
      "Mean Absolute Error (Test): 3245447.748245094\n",
      "Mean Absolute Error (Test, p.p.): 38.450267704090194%\n",
      "R-squared (Test): 0.8789553270633234\n"
     ]
    }
   ],
   "source": [
    "\n",
    "# model = SVR(kernel='poly', C=0.0372, degree=2, gamma=0.0513)\n",
    "# model.fit(X_train_scaled, y_train)\n",
    "\n",
    "# Create a pipeline with StandardScaler and SVR\n",
    "from sklearn.metrics import mean_squared_error\n",
    "from sklearn.preprocessing import MinMaxScaler\n",
    "\n",
    "\n",
    "pipeline = make_pipeline(StandardScaler(), SVR(kernel='poly', C=5, degree=7, gamma='scale', coef0=2.5))\n",
    "\n",
    "# Fit the pipeline on the original, unscaled data\n",
    "pipeline.fit(X_train, y_train)\n",
    "\n",
    "# model = SVR(kernel='poly', C=0.0313, degree=2, gamma=0.0281, coef0=0.0)\n",
    "# model.fit(X_train, y_train)\n",
    "\n",
    "\n",
    "# model = SVR(kernel='poly', C=0.5, gamma=2.7, verbose=True)\n",
    "# model.fit(X_train_scaled, y_train)\n",
    "\n",
    "# # Make predictions on the test set\n",
    "predictionsVal = pipeline.predict(X_val)\n",
    "\n",
    "# Evaluate the model\n",
    "\n",
    "maeV = mean_absolute_error(y_val, predictionsVal)\n",
    "print(f'Mean Absolute Error (Validation): {maeV}')\n",
    "\n",
    "r2 = pipeline.score(X_val, y_val)\n",
    "print(f'R-squared (Validation): {r2}')\n",
    "\n",
    "\n",
    "predictions = pipeline.predict(X_test)\n",
    "\n",
    "# Evaluate the model\n",
    "\n",
    "mae = mean_absolute_error(y_test, predictions)\n",
    "print(f'\\nMean Absolute Error (Test): {mae}')\n",
    "\n",
    "mae_percentage_test = (mae / y_test.values.mean()) * 100\n",
    "print(f'Mean Absolute Error (Test, p.p.): {mae_percentage_test}%')\n",
    "\n",
    "\n",
    "\n",
    "r2 = pipeline.score(X_test, y_test)\n",
    "print(f'R-squared (Test): {r2}')\n"
   ]
  },
  {
   "cell_type": "code",
   "execution_count": 23,
   "metadata": {},
   "outputs": [
    {
     "name": "stdout",
     "output_type": "stream",
     "text": [
      "['1485186.08', '1812974.06', '4635561.73', '-715924.48', '-968854.66', '-647929.05', '-61996.99', '-1084756.06', '580006.66', '795622.88', '-491773.15', '2300119.32', '7675830.97', '134103790.38', '5802349.64', '2348277.43', '-469536.46', '475476.33', '4338035.44', '1670626.82', '336042.69', '-886656.77', '3254118.22', '1382433.68', '-404443.46', '64936342.30', '2653275.51', '2286686.16', '546939.27', '-1150434.73', '909272.44', '413554.59', '16640357.54', '1615390.00', '2564127.34', '12298760.71', '-674129.56', '8627908.86', '949232.90', '2897067.73', '11355894.07', '2861558.24', '1376156.89', '1584969.76', '953493.74', '1404930.73', '953656.58', '1647679.51', '3571121.41', '3264246.61', '-598064.17', '203294042.72', '-974282.18', '-1201285.01', '-544994.88', '217873.33', '-851952.86', '-906813.22', '1440666.01', '5699357.53', '2711560.56', '1397285.12', '-299326.72', '-498745.50', '1788154.58', '912464.82', '948611.57', '27000460.53', '-1036040.13', '2911194.01', '2062063.88', '-44169.28', '9119547.49', '5268800.54', '579154.87', '365895.95', '2672044.21', '5761524.08', '3446704.40', '-709300.93', '-1108570.81', '-1190552.70', '163300.13', '4318912.34', '-15403.58', '6181607.45', '1119601.44', '1352151.13', '-1127402.95', '144900203.45', '13099437.85', '3769713.75', '-1164381.15', '2087777.28', '-629869.06', '616934.67', '6342799.89', '1056615.90', '-905017.96', '8136065.32', '723368.60', '343802.15', '2349124.18', '6598965.39', '550919.73', '2045362.46', '1160027.17', '-1105700.82', '-564343.43', '1141094.10', '-1232751.62', '3273148.07', '-450175.15', '8584345.21', '45838720.87', '4361738.17', '5497418.36', '1340328.49', '144145.46', '2926017.23', '4444660.48', '190779417.35', '-47999.17', '9789035.16', '4071436.78', '-51795.75', '241623.06', '2860394.91', '1595993.75', '-1293216.57', '1885609.18', '6377418.45', '2493944.53', '1022451.58', '1102757.25', '17805684.42', '12548251.70', '484632.97', '-1173225.11', '340786.60', '16511.95', '476792.53', '-1003715.84', '-1090317.96', '32306.65', '7247982.59', '9092664.85', '4302342.71', '-31851.61', '440821.14', '36664984.91', '-798829.65', '2888751.47', '1707256.36', '14303.68', '4220407.26', '4870448.43', '6620335.74', '1829308.89', '16750687.80', '5083034.46', '5478706.60', '-472013.85', '4023702.86', '3712886.86', '-1127920.70', '3347284.18', '1244881.30', '1950681.27', '2851887.39', '10199614.58', '1525485.62', '1926418.80', '3408789.59', '11399663.57', '2827745.43', '-447857.16', '-217686.17', '1854008.12', '4291721.95', '-1115277.91', '1208135.18', '2048.94', '691117.86', '-959995.19', '5049074.63', '3829632.90', '337125.72', '-386110.57', '248967.16', '153815.19', '209922.62', '-805593.59', '-51645.74', '7234024.20', '1470638.71', '300167.08', '7071804.06', '281993.22', '-1354282.77', '-2316.65', '2519472.73', '13037616.68', '829225.49', '908172.03', '11240967.58', '139710.41', '487131.74', '20323070.04', '4963436.28', '370693.72', '12762236.18', '229897935.68', '3220072.82', '136581916.89', '-353781.25', '640522.44', '-1428116.64', '-409751.33', '1086676.68', '4596990.21', '6778566.52', '4286236.34', '1220097.55', '5874983.24', '6794960.32', '5393991.47', '8772865.72', '-1333910.17', '-5658.99', '1039932.71', '32567613.06', '9531822.58', '2291721.86', '3436145.64', '5232841.58', '6263243.73', '-985595.96', '11716376.87', '4862886.33', '1505534.33', '5064770.24', '840367.30', '3534977.27', '2518232.80', '3995738.82', '2236033.42', '-214610.10', '3866964.41', '208796567.50', '3469090.82', '441246.22', '1932206.50', '59855.19', '3592045.49', '1128555.68', '124021.49', '6994482.71', '12721236.00', '-322963.30', '1645690.73', '10759721.70', '46037392.74', '3265691.78', '70955.27', '3253238.53', '6061487.15', '1643628.17', '8945843.63', '3620954.51', '70112.77', '22828.77', '4604289.00', '1053567.63', '-235669.68', '11241779.03', '3843724.82', '16251167.88', '3584937.59', '5772322.47', '-563170.48', '1609938.07', '2312018.24', '-36503.18', '1223726.13', '269818.82', '1498564.41', '2106249.32', '-699036.03', '-1207658.48', '1227960.68', '6855068.65', '16163011.18', '41701659.78', '-1048453.86', '8411780.32', '15959953.42', '-449929.77', '2692015.24', '-1000390.89', '2156063.57', '1353341.37', '4509412.33', '-33489.47', '-973096.60', '950904.58', '839029.79', '3127442.69', '5197400.59', '4010309.05', '551303.07', '-1187344.35', '3629424.37', '3514833.50', '2756548.89', '3808480.41', '-1363062.30', '8165547.69', '2044141.26', '187888.73', '6113650.87', '1986880.75', '-877594.36', '-267520.43', '-11907.96', '1346694.05', '-941604.92', '16414036.34', '3434792.78', '912019.52', '2221584.82', '226886.10', '-1097537.95', '-986238.58', '1148196.52', '3515616.97', '612828.25', '2983847.57', '-454292.75', '1779720.66', '1050702.54', '6744221.25', '370029.72', '-62857.75', '-1108677.84', '2192646.37', '74847.66', '1275918.54', '6819435.48', '5159477.04', '2549513.96', '634311.23', '2663592.27', '12346695.47', '-1384778.81', '1132631.05', '-1050193.78', '8253806.66', '524618.12', '-857132.74', '-428672.32', '5796532.59', '7831134.46', '-835920.11', '29230512.31', '806176.78', '1851397.00', '2888703.21', '4215940.28', '-235897.64', '5263728.16', '4952602.68', '2422450.98', '2518907.02', '28933333.61', '605830.69', '5623927.72', '1217108.85', '1845058.67', '1334958.71', '12651675.27', '-709889.75', '1125074.08', '166431.60', '-711026.31', '1497558.18', '2273437.93', '3418641.81', '8195648.01', '-1367570.26', '2620422.07', '1372565.69', '-37042.12', '3511445.15', '3666767.17', '3298494.69', '60239.71', '309665.52', '-1090108.18', '-902624.19', '12505889.28', '31077331.57', '428820.23', '-522391.91', '1739150.48', '1499922.60', '141733.30', '1921132.95', '108874.38', '1683381.97', '1408588.11', '933283.05', '80726.93', '4418245.09', '-936399.40', '25788950.52', '208783.45', '4930222.73', '4092119.71', '-1088055.33', '-1112243.77', '-20599.73', '3065148.61', '10962208.12', '-397944.34', '1498427.04', '8739614.07', '1395575.42', '1664860.57', '1349509.61', '-1185396.90', '2048599.66', '-107359.36', '4747869.38', '907081.93', '1330892.11', '-5199.41', '-169099.26', '40966140.95', '-1166322.22', '669822.23', '28424082.11', '-866625.18', '10388045.68', '1593106.49', '307483.17', '-663532.87', '25415822.92', '-391559.28', '-1142967.96', '6684396.61', '18483209.34', '43064357.72', '3644831.10', '2085829.54', '11316807.30', '-663526.90', '159417.87', '3284961.63', '4931481.23', '762391.33', '191971.36', '20254340.85', '5007700.89', '1051133.96', '149289242.65', '3094478.38', '1453789.18', '1946024.40', '-754061.29', '3936195.81', '2222373.79', '-770321.07', '-807590.93', '4385445.72', '-1207795.48', '9039167.42', '10613158.57', '2183686.99', '59764149.89', '2914940.20', '16201488.59', '-1087238.81', '1209412.75', '1387146.55', '234262.57', '4628019.88', '11104948.26', '201536.73', '1849583.41', '1207187.18', '1777521.19', '2925746.18', '2074568.27', '9823946.14', '8087427.43', '785184.87', '-725525.23', '31525863.91', '4174218.61', '1360554.18', '2511706.41', '12509070.33', '2222989.01', '8091544.93', '1771193.42', '16593700.60', '45479377.35', '627535.77', '1110898.70', '1265215.82', '5780329.43', '1809081.25', '-649673.66', '1241051.30', '13531.66', '245472.44', '566435.58', '-23494.88', '21437172.77', '4943661.59', '3791488.25', '2193422.63', '5257545.52', '2651933.19', '1623.15', '14510732.57', '-69118.31', '2433166.37', '4767810.58', '2465695.90', '-765167.78', '25357968.69', '5637004.56', '935952.53', '5375459.96', '34439562.19', '4555393.20', '6937810.08', '114591671.45', '-769670.99', '613832.34', '3371015.88', '2051240.09', '-685358.54', '4570685.04', '299920.38', '3937657.56', '21602027.16', '6023844.11', '3076290.64', '11267002.51', '1729754.96', '2466004.31', '8859971.55', '1876900.74', '5224505.39', '8739355.64', '-230347.13', '87654555.28', '1054589.39', '-962316.35', '1732542.36', '1247455.94', '453642.63', '-124678.17', '1440750.62', '661829.37', '1196390.00', '4518735.55', '11018421.56', '1612553.02', '1869263.10', '811038.82', '2466108.65', '64601.77', '-1311024.98', '-157272.85', '1552377.23', '287982.73', '-1302836.81', '-42835.18', '10167703.08', '3227839.24', '126534.02', '-361516.68', '-1265053.29', '829244.59', '10577408.36', '1260965.29', '1894436.38', '1205388.77', '6088472.36', '2622119.27', '955867.70', '-498356.54', '736698.71', '3603262.34', '2319027.95', '2417285.32', '198012620.82', '36271525.98', '-248055.37', '19015680.49', '37399667.02', '-332006.43', '604743.98', '-718405.88', '2671164.42', '1914594.06', '3834066.08', '174459.03', '557245.90', '2461708.65', '4081361.33', '20982796.58', '-941681.00', '521303.34', '-28662.51', '4296183.92', '3568125.44', '6478532.84', '4129456.90', '213114.90', '-916382.31', '783315.00', '-916701.05', '14332191.25', '2685684.20', '1120266.97', '827984.70', '2120120.94', '35724135.43', '2591728.75', '511376.65', '3415067.41', '1581540.37', '358103.74', '36286897.03', '-900178.85', '-1038018.31', '11767542.93', '305236.84', '119928.33', '1489472.38', '81291307.46', '-785821.59', '1278421.70', '3799425.97', '11530239.68', '2809345.22', '3520918.11', '-1189380.67', '307675.70', '8974340.90', '2481424.43', '4014974.52', '2259462.48', '939515.57', '532297.44', '262790357.47', '-1218404.05', '-789090.93', '1205473.52', '2469715.86', '-1381821.30', '5043364.75', '-1371859.23', '-466543.37', '4798689.66', '7279043.08', '46072953.37', '747968.22', '1460199.25', '595530.06', '-307806.78', '38576484.67', '1719602.91', '2479873.03', '4724518.49', '1452247.24', '6116089.23', '-670634.32', '2042146.30', '650749.38', '5021682.39', '4397745.93', '2105587.25', '6052862.91', '467094.92', '186395.40', '1708662.13', '1618895.31', '3210124.07', '754487.78', '219414.42', '1403218.48', '29727951.82', '1295571.28', '1352265.88', '894017.57', '2100400.87', '-15658.40', '-447698.99', '3776011.96', '3789979.75', '483333.01', '-621514.52', '15056109.21', '-446408.23', '5342544.47', '3175815.22', '-1111700.86', '100367.44', '4067001.50', '8111914.89', '1767099.57', '200468.71', '64650171.73', '3595993.87', '-1269643.17', '1448012.09', '3691742.99', '1891086.08', '5820796.81', '924849.11', '259772538.94', '8718032.02', '2065042.28', '1862190.26', '12188427.88', '1073380.72', '-747146.45', '6148668.74', '25835588.30', '4432370.76', '3886088.73', '2146271.64', '2359360.75', '-164970.92', '17189920.12', '4296343.62', '3743788.12', '-588913.10', '4808451.10', '1898197.15', '881196.82', '-468940.69', '-1133277.79', '-198861.58', '1311797.64', '970542.51', '-1275170.84', '1809448.73', '6232686.87', '-977253.09', '638129.08', '-21864.15', '7067193.49', '4306208.72', '688212.60', '1256899.17', '-461720.65', '383292.83', '2917983.45', '2867926.33', '1844243.35', '3954308.16', '-350948.95', '-67111.59', '-18085.92', '1753311.97', '-190683.31', '6552910.17', '-1274049.73', '282568.47', '-696298.60', '1121370.28', '1908504.45', '-1071079.66', '6595694.01', '-814228.70', '1373364.03', '-732787.60', '5356858.01', '2149371.77', '1837481.76', '4231965.95', '17182458.81', '-1170310.48', '1450298.49', '314194930.58', '10183585.28', '-887473.35', '1402692.78', '6908883.96', '3847933.80', '6401533.06', '2583162.10', '-445585.47', '101357.32', '335155.09', '531145.86', '2431422.47', '7268603.39', '-1003320.27', '-1049848.43', '15850743.10', '3923668.24', '113284.15', '-750845.15', '436911.52', '815223.15', '-640799.77', '494201.27', '-836407.02', '1551040.81', '4580589.80', '46421528.32', '5258406.64', '4911215.43', '1329342.93', '10265462.53', '3523091.61', '2967441.21', '15841763.01', '4187890.67', '3740265.59', '1577395.74', '1924593.23', '-1217864.12', '-516518.73', '-983156.55', '18867378.69', '7668672.92', '146435.91', '-880015.35', '-530839.14', '1638164.76', '460144.86', '-293594.09', '1618847.84', '414751.68', '1488928.17', '-561906.38', '2104374.07', '-547229.37', '10873017.78', '29973664.91', '-185537.90', '-996489.15', '2223507.66', '12266319.24', '2750645.74', '418233.99', '1472769.65', '3917839.73', '3065842.86', '612991.72', '5733554.80', '-1149381.30', '3606938.98', '-898023.99', '-655288.74', '-1090055.80', '-414892.05', '4881165.83', '-948087.66', '6177556.31', '2231346.11', '165867.95', '2288564.62', '12676715.76', '587648.22', '27821729.98', '143076454.43', '-102223.18', '-899584.27', '1945662.75', '2694915.78', '1206327.42', '12791427.97', '701474.74', '4585073.75', '621434.09', '1352326.41', '473770.82', '9478025.05', '5754026.58', '12804186.81', '-33822.92', '2432156.42', '5084704.97', '510030.47', '1640638.66', '-951704.67', '2725467.57', '1156246.98', '887520.49', '3023980.14', '4756245.01', '5255636.48', '-336032.78', '-777221.53', '7395021.18', '566214.51', '266369942.38', '1311215.12', '1135309.32', '-796766.42', '1851868.80', '1199862.35', '-877480.36', '2512973.91', '8526291.82', '2022172.86', '-356566.56', '-1182259.68', '7208176.66', '4503236.95', '8526330.16', '-559832.59', '-1221731.77', '1430193.85', '-745123.49', '42300989.09', '-1215393.60', '6323889.20', '-898486.56', '3788109.03', '-470534.59', '426274.47', '2338966.21', '1983762.64', '607744.86', '1528859.14', '9190709.99', '515002.49', '13809840.98', '13992702.85', '1000272.59', '2094732.16', '58903426.10', '8138064.43', '-996741.34', '1341584.64', '1699262.75', '-268478.72', '6436979.21', '1870126.80', '513461.71', '2098671.48', '3132454.21', '466971.87', '891510.76', '10697755.25', '16218542.85', '-49257.82', '36449404.95', '1458715.72', '105416800.20', '-1073216.27', '666160.35', '25204925.04', '-657413.21', '-280940.32', '1454758.63', '6012689.64', '4010555.05', '99404.97', '533653.73', '1847192.89', '11951381.14', '-1036711.68', '392351.85', '23577834.41', '-640190.11', '386507.23', '-93325.44', '-371118.60', '871823.11', '-991882.07', '16724779.34', '-1140927.91', '4109821.37', '1191753.59', '3267538.84', '13784277.35', '-184689.78', '1151359.69', '134623550.80', '3360530.13', '1886271.00', '-165079.80', '469267.89', '4513856.03', '1172479.64', '32479702.72', '1371660.85', '172131.90', '1442503.00', '1291733.87', '7674790.56', '-669191.98', '20811182.52', '-267044.94', '20666974.50', '3190170.29', '-480471.08', '5425676.30', '-341722.12', '196444.52', '5786900.41', '692758.28', '2906325.53', '2666852.72', '565790.16', '1190317.33', '3377008.59', '1531163.88', '7195034.96', '3631588.57', '1978322.25', '3059694.34', '3995883.80', '-938734.55', '4954141.63', '12720338.07', '-302772.29', '10173278.16', '1080452.23', '4100646.01', '1021280.67', '11095066.36', '1197073.09', '1724775.70', '1865327.72', '1516099.29', '5558319.24', '1517006.57', '1630888.08', '18155561.33', '954973.16', '-385069.17', '400.87', '2829852.63', '1121849.59', '-89964.78', '1385024.71', '1365367.14', '2184145.25', '5637122.78', '-122853.06', '2191992.12', '-78619.70', '1402299.93', '-1363591.22', '-505889.23', '4791537.49', '1335485.58', '3853161.46', '-796782.95', '42966.62', '1716764.28', '-126043.65', '1501601.09', '-762988.92', '2949054.77', '1036022.27', '12229114.90', '5174058.34', '118802.63', '18047374.31', '-81031.76', '6375317.86', '5243327.16', '3045720.76', '1893381.15', '696486.61', '4377989.95', '925736.81', '803879.56', '3543793.93', '4250675.81', '114125.02', '808825.13', '60240844.25', '1770614.27', '1195666.44', '43897473.65', '5720332.00', '-683483.50', '-1011655.24', '-744574.08', '2794965.24', '769280.46', '1156815.35', '1332310.46', '1400210.12', '34221479.24', '6230298.61', '1090124.02', '1091734.56', '-802527.45', '4379595.17', '8366680.16', '-791175.05', '2359068.62', '-683790.03', '5084580.08', '207967.81', '25648846.09', '-1232447.57', '1126552.85', '436305.71', '-308750.86', '-1225097.05', '1502767.60', '267665.10', '4567715.29', '-131892.21', '-512793.75', '31408.30', '-652396.82', '4477454.42', '2163308.21', '4000660.74', '106553238.49', '887219.69', '2363449.65', '-82189.21', '4246293.25', '5343138.19', '4281928.62', '-790633.89', '4377972.25', '2552653.39', '-54762.08', '-371415.67', '-978777.31', '57849983.98', '1542084.00', '136221.56', '714624.45', '10647988.11', '-82837.03', '629993.01', '4183412.59', '6888078.96', '7170006.97', '431582.22', '4310987.73', '1929327.36', '1678307.73', '3619493.63', '-14369.85', '3716676.55', '8130753.21', '4441622.18', '1635701.22', '-994336.40', '1922166.81', '1519932.77', '102405.44', '3227557.64', '3714848.18', '11089572.58', '13642584.09', '9851008.21', '2046711.39', '-1182745.31', '27027212.40', '-700869.03', '5353244.25', '-844878.47', '3413499.53', '13484897.19', '1215496.76', '6328705.02', '4534731.74', '1880823.00', '875357.69', '8289266.02', '3748115.35', '154174.97', '-293210.07', '-1089106.85', '-438435.49', '171887021.76', '-987797.79', '248531.25', '2528983.61', '-109163.40', '41507204.20', '-688652.31', '-1276589.02', '-600799.90', '8869538.85', '3599651.07', '137109194.97', '6249759.57', '2513577.57', '3572505.32', '9769620.64', '2337473.09', '-396674.32', '-863381.44', '3592171.61', '-519474.05', '-840003.17', '1467108.58', '-797786.95', '2993458.58', '4741659.14', '-1070108.54', '4446673.00', '6300137.11', '1525943.58', '7395368.55', '2698376.33', '-87405.34', '2512595.13', '1388901.99', '60452990.15', '1975733.79', '-381762.20', '-1232167.73', '-593164.50', '-1097986.89', '5880556.40', '-290008.40', '1116427.59', '663661.14', '61528937.20', '1215024.86', '244616.12', '884675.32', '4012546.89', '2610357.97', '4325153.52', '2537072.38', '6992132.89', '2302219.25', '-1033233.54', '12468663.00', '-888618.20', '13876.87', '-819715.76', '132142027.65', '268497.99', '7372043.88', '5832072.87', '108382.71', '5940597.83', '2013443.19', '19663062.55', '2837161.04', '142404.02', '3034792.91', '7563613.30', '63009486.26', '-1260849.93', '1488076.26', '1353773.07', '6341077.10', '191311.64', '154541.80', '1103802.79', '4271577.28', '914949.69', '-77349.03', '8255084.98', '1587584.71', '-1046914.07', '19874425.58', '-1036993.97', '-799171.77', '391456.99', '5791526.84', '1743153.27', '-1360766.32', '58248430.18', '2718582.02', '5153456.96', '77467.53', '3349282.44', '1435765.66', '1318755.73', '1660267.21', '2207312.10', '-102021.12', '318383.10', '1929594.18', '5190221.26', '15492275.81', '2783617.72', '20285624.28', '3112155.35', '176309.44', '5249764.91', '11183998.95', '1455894.27', '76629.43', '13159518.88', '-1091080.00', '5657995.00', '11085984.91', '-131268.82', '58627539.89', '907104.34', '2050042.94', '946327.24', '-1181370.31', '-22060.94', '3046778.30', '15723844.63', '5069709.00', '-114865.33', '43502176.03', '-1068802.23', '205130.88', '3053382.73', '11423241.68', '4742091.63', '-495887.52', '15729003.70', '-897335.22', '-790449.92', '28396871.35', '-691910.51', '1730580.08', '3789317.09', '560366.93', '2821721.72', '1963776.16', '5940220.92', '16318560.82', '4725955.02', '4305044.35', '18670263.36', '-653736.96', '2250047.80', '264578.82', '-1092330.90', '1193482.58', '-152202.33', '-160444.06', '4953931.56', '1195281.10', '19770319.01', '289856.20', '-791348.86', '-1200843.34', '932067.77', '16087760.92', '6600581.63', '5841057.24', '4711217.46', '3355508.66', '2330730.78', '7307176.37', '3919168.13', '1854293.33', '141708.75', '2971254.59', '3103468.69', '3087772.24', '3812156.17', '1334529.49', '3753542.50', '1811875.23', '6198438.03', '38190.06', '10613473.50', '2580107.97', '-903208.49', '821204.27', '-137749.69', '1591181.57', '-1038812.14', '52825802.42', '585539.46', '-398014.88', '1773033.24', '3606198.67', '4978801.46', '3541020.20', '-394407.44', '1951587.01', '3334083.40', '4803700.83', '953934.46', '890373.14', '4542559.80', '1804000.56', '1268008.42', '-1171950.58', '-1073604.10', '2097076.73', '-1060313.08', '359546.04', '4314676.31', '546464.74', '2274977.61', '-628559.86', '2756339.44', '2877292.27', '2017772.62', '7371972.77', '2381660.16', '-380093.83', '3561258.82', '159890.34', '-420634.22', '956333.49', '1664085.98', '4522564.52', '-383075.48', '6282017.58', '4522295.74', '-964398.88', '1237567.34', '862821.89', '1416622.60', '4533010.73', '-1214156.82', '272422672.66', '-1384612.89', '3110426.57', '191788.13', '26572034.28', '2761820.72', '-40433.87', '3689187.40', '131127.93', '49506043.11', '2523497.26', '363007.67', '-587683.35', '1166389.97', '-685727.52', '4470048.77', '9580968.39', '531328.81', '165160.51', '4316036.47', '2752727.61', '3516558.61', '-992074.93', '1121228.32', '1056331.99', '-499938.98', '-644876.95', '1949914.00', '6010864.33', '-1219711.36', '-438602.65', '15282731.06', '-394596.36', '1362385.83', '-889307.21', '3346609.54', '1320528.25', '-917266.93', '3573230.72', '12256804.03', '467925.15', '1175771.89', '3759717.80', '6811798.02', '-1099729.01', '893915.43', '-1022064.19', '7183690.83', '821995.98', '-1106558.76', '3876067.22', '-528757.55', '1986271.89', '16055.11', '3097957.94', '-341952.56', '1399120.41', '3076314.96', '-1035134.65', '127816.26', '1987628.99', '5755882.30', '591619.47', '9433582.36', '-861159.01', '30042936.26', '6657509.45', '552954.62', '8094953.98', '-694975.24', '-372804.10', '3354758.18', '5128680.42', '1276061.52', '-446843.70', '28566.78', '3180913.79', '-132036.62', '39103090.48', '546218.60', '623983.80', '5870820.24', '528158.72', '4211800.87', '5244329.78', '-459456.94', '8219004.23', '452345.83', '4097185.18', '1632610.52', '1317060.16', '2283476.80', '3291050.92', '3395272.08', '-1345593.87', '-906030.21', '72239.86', '1413697.12', '1057732.03', '-805662.35', '18478404.62', '1783656.02', '2919095.12', '1134820.95', '1939364.74', '-665298.63', '95397508.49', '1655362.35', '-69294.94', '2278181.39', '-279183.35', '1502767.83', '1676442.43', '1211973.07', '948664.29', '2199535.53', '5385268.71', '83332225.29', '26259071.84', '157097511.33', '8844136.20', '-824769.75', '-84937.04', '771077.33', '-965894.18', '-1223635.26', '-276135.91', '-1308584.92', '-407359.56', '20359291.37', '255500.63', '2664896.39', '-1041359.52', '963683.74', '1250428.66', '643289.76', '2348745.81', '-576080.28', '-420721.60', '4698557.94', '5901180.23', '-303469.80', '722933.49', '2719105.05', '3538055.01', '5578665.24', '3519457.53', '-654025.89', '2350958.45', '4062071.43', '4526474.56', '9450114.52', '-15224.56', '3690385.67', '-49389.78', '206301.49', '401090.82', '4285834.99', '-1291150.52', '1644329.05', '3974436.28', '3782017.73', '5199176.36', '2387835.13', '6388067.91', '11012832.26', '1261992.67', '851128.63', '27372552.46', '-1260820.21', '1497187.46', '154087.83', '2076658.36', '5026934.50', '4864314.76', '2685908.38', '-253709.68', '252299.60', '1925198.59', '-84968.31', '3523910.86', '-296973.22', '4608834.86', '3946144.58', '-1326774.32', '-622982.53', '5895585.08', '-133296.37', '3942346.86', '-562277.41', '-1192812.94', '-566335.10', '12206430.07', '11035101.25', '3100414.81', '1381622.43', '2394020.94', '1201332.01', '3732637.45', '10487610.76', '157743.16', '6302684.99', '4897802.44', '10433184.16', '-1033834.64', '-650105.85', '1542686.04', '44288880.29', '57621.47', '2304290.64', '2746527.84', '1643961.51', '1860489.77', '5274374.53', '508634.77', '5216041.32', '1151618.35', '81116834.02', '46581764.48', '4437090.78', '4399020.61', '5013328.36', '-324069.54', '2893514.49', '3402800.84', '1194090.80', '-1253796.95', '977963.99', '3125691.31', '6172269.92', '6629625.91', '-789309.10', '21360701.94', '9263324.31', '10372002.11', '1319073.05', '722604.38', '1470101.29', '1743500.39', '425693.15', '825430.56', '4866718.75', '255408577.54', '3208194.76', '24926977.50', '59259438.07', '2501387.17', '349209.50', '1927787.91', '9064456.00', '83759.34', '4081507.14', '-1332731.29', '340756.02', '-516072.46', '5936005.91', '25834307.75', '-138712.07', '29366.15', '57131914.44', '-762749.94', '-64634.31', '-57639.79', '2109447.41', '-1057745.61', '7245752.99', '1963487.73', '-265966.77', '-1211944.39', '1128159.96', '11731860.25', '109419892.07', '-223053.18', '100393574.53', '1501674.34', '499809.74', '9367863.49', '2694001.17', '8221418.01', '129652.20', '17033556.96', '11881408.85', '401235.38', '-1054006.49', '708195.81', '4308642.59', '2825932.66', '735221.55', '1330350.58', '14877958.25', '-641901.32', '7880712.11', '6006509.61', '4161254.35', '4801228.25', '-1210336.45', '2335813.39', '4269807.11', '115390.71', '32340.65', '2233714.43', '7308698.63', '1463876.73', '1809999.72', '13514800.69', '-129142.90', '6315266.47', '7867760.57', '523906.29', '5699333.87', '-935215.59', '-52353.02', '626967.10', '-797509.40', '1654329.34', '932886.07', '664156.93', '3404054.36', '5329464.48', '264337.64', '1225837.27', '-651919.08', '7316664.97', '4282715.06', '-665248.17', '8480214.12', '-390993.44', '192339.43', '1756102.19', '2062063.74', '514239.32', '11645477.63', '-718945.97', '3587085.98', '11413514.57', '2429599.94', '1434404.03', '1612134.01', '503563.87', '-729720.00', '466101.28', '-1164763.18', '3147492.14', '3955185.51', '82227.60', '6552408.60', '308757.31', '-38103.68', '1358670.33', '15985736.66', '9334765.98', '2948695.86', '3554342.00', '955923.43', '1299054.92', '4879207.38', '907132.10', '282009.70', '1938897.93', '11197283.09', '4176108.55', '869503.43', '10535047.50', '2981064.19', '69175298.59', '1449664.51', '21135341.94', '4973050.81', '2242929.81', '4907031.22', '3749622.24', '9251541.37', '2583501.80', '-998502.67', '3907914.28', '882596.63', '597309.98', '5942203.85', '52310606.46', '-219992.80', '3380745.97', '306807.35', '262878.02', '319948.05', '-307394.42', '12365.94', '-232301.72', '1614913.05', '-992641.05', '1662732.73', '-449645.77', '36739853.15', '1864182.76', '510853.16', '5113376.55', '1208258.19', '3650755.26', '-997949.29', '3552298.89', '-670818.25', '911644.36', '-640663.02', '11077286.78', '18176396.86', '-1220040.53', '-351149.96', '1023716.42', '5472582.78', '1591553.89', '3224736.35', '-978652.19', '-956167.86', '6015891.47', '1499663.15', '68346360.83', '10742928.31', '48978800.70', '7224313.94', '896124.73', '-1237156.51', '-1140739.24', '2199336.13', '-564148.69', '1321952.28', '6772518.97', '530946.62', '21557001.33', '345209.21', '848872.26', '-65901.94', '-681114.12', '2663509.80', '-989981.85', '255655.59', '6120872.71', '953984.00', '-1115123.02', '2789270.98', '4168922.02', '-1234700.95', '4402504.31', '-330690.87', '1281544.85', '3680181.33', '1261956.50', '25953934.38', '-778571.98', '5847746.31', '16922594.18', '6055271.09', '-1020832.35', '632466.07', '9353327.83', '3641020.15', '2335296.48', '3110873.68', '140270.66', '1206145.73', '-820957.23', '12224942.46', '107877318.18', '-1104781.41', '-516028.23', '-1181943.07', '526534.01', '72394906.14', '-1161937.21', '-282239.97', '1352622.35', '-778377.03', '890157.79', '-151414.94', '3248399.82', '-755931.28', '372195.30', '1000962.27', '2741700.69', '2232708.75', '4532266.13', '4143913.42', '-357309.49', '-1151842.02', '3371689.26', '425045.69', '1397810.11', '2003073.16', '7604188.35', '1641224.14', '2715927.68', '3087560.24', '271221.82', '2108237.12', '-69591.66', '566734.16', '-60760.22', '766317.88', '3454631.74', '-633767.93', '-787925.27', '-711582.55', '1420866.54', '5536030.35', '3253872.69', '-1308272.13', '1310793.15', '5378350.51', '10006934.03', '-33116.83', '1658698.16', '-968019.61', '913472.24', '1048675.00', '3624438.53', '-505943.34', '77157.00', '180560.30', '2830133.94', '404829.48', '5511929.79', '764580.43', '2486842.35', '-198269.98', '1856535.04', '1532213.20', '4094405.75', '2216691.61', '1151995.44', '-1054777.68', '3413646.75', '123904.82', '137208877.51', '796847.89', '-380371.62', '938950.36', '21003386.71', '23037837.25', '4539474.90', '292219.91', '4274350.57', '1520751.99', '121795.16', '288498.33', '809260.86', '8376406.68', '743535.21', '608832.95', '-225822.66', '1189326.12', '4407239.28', '-647913.17', '-339027.24', '828910.20', '2100568.72', '-287320.43', '825724.61', '1286717.81', '6980835.94', '-8029.44', '5693127.94', '-273845.89', '43222823.04', '48646974.28', '2363880.83', '6284924.28', '-556656.61', '1912117.72', '11716796.24', '-1194178.69', '4716415.14', '1149821.24', '22979622.00', '5858149.18', '4193684.09', '1068280.74', '4708448.97', '-273165.78', '-370746.36', '-524536.34', '-163817.33', '5819886.36', '-760158.30', '11686435.65', '399162.90', '4460611.58', '2491643.76', '951362.32', '-500892.79', '-192557.38', '4814489.89', '4377528.77', '591018.12', '-700255.09', '7486670.05', '-602879.24', '534928.04', '4159496.30', '-512618.69', '624489.32', '12603370.21', '281957.86', '401261.61', '707540.17', '472906.42', '10362161.52', '5806393.30', '-608502.16', '11353439.58', '20549.45', '1957105.48', '476682.23', '291181.44', '4420463.31', '5029757.25', '1633133.57', '3830974.65', '3205687.76', '1050195.70', '10302082.99', '-360119.60', '4110.54', '13743841.78', '617935.46', '4173931.95', '2107459.65', '-729712.69', '-855784.51', '-334891.00', '2602963.36', '1826527.91', '309993.12', '6978071.69', '1412803.00', '2599569.55', '52689884.39', '28167731.77', '1370126.55', '4798759.58', '6474868.92', '4329536.31', '5489.82', '1324712.49', '967431.61', '11322406.43', '28077526.94', '368517.19', '117711.50', '-451671.31', '4867660.48', '4706033.50', '457201.68', '4281589.26', '5371851.92', '2659280.68', '-995642.92', '-368154.12', '-871895.44', '-1242208.27', '-812544.00', '5207867.51', '3921275.75', '1080438.30', '1645317.69', '33998.54', '-22131.71']\n"
     ]
    }
   ],
   "source": [
    "print(['{:.2f}'.format(pred) for pred in predictionsVal])"
   ]
  },
  {
   "cell_type": "code",
   "execution_count": 24,
   "metadata": {},
   "outputs": [
    {
     "data": {
      "text/plain": [
       "['SVR.joblib']"
      ]
     },
     "execution_count": 24,
     "metadata": {},
     "output_type": "execute_result"
    }
   ],
   "source": [
    "\n",
    "from joblib import dump\n",
    "\n",
    "dump(pipeline, 'SVR.joblib')\n"
   ]
  }
 ],
 "metadata": {
  "kernelspec": {
   "display_name": "base",
   "language": "python",
   "name": "python3"
  },
  "language_info": {
   "codemirror_mode": {
    "name": "ipython",
    "version": 3
   },
   "file_extension": ".py",
   "mimetype": "text/x-python",
   "name": "python",
   "nbconvert_exporter": "python",
   "pygments_lexer": "ipython3",
   "version": "3.9.13"
  }
 },
 "nbformat": 4,
 "nbformat_minor": 2
}
