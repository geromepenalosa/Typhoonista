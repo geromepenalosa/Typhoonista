{
 "cells": [
  {
   "cell_type": "code",
   "execution_count": 31,
   "metadata": {},
   "outputs": [],
   "source": [
    "from joblib import load\n",
    "import pandas as pd\n",
    "\n",
    "# Load the model from the file\n",
    "model = load('STACKED-SVR_RF.joblib')"
   ]
  },
  {
   "cell_type": "code",
   "execution_count": 32,
   "metadata": {},
   "outputs": [],
   "source": [
    "df = pd.read_csv('onetest.csv')"
   ]
  },
  {
   "cell_type": "code",
   "execution_count": 33,
   "metadata": {},
   "outputs": [
    {
     "data": {
      "text/html": [
       "<div>\n",
       "<style scoped>\n",
       "    .dataframe tbody tr th:only-of-type {\n",
       "        vertical-align: middle;\n",
       "    }\n",
       "\n",
       "    .dataframe tbody tr th {\n",
       "        vertical-align: top;\n",
       "    }\n",
       "\n",
       "    .dataframe thead th {\n",
       "        text-align: right;\n",
       "    }\n",
       "</style>\n",
       "<table border=\"1\" class=\"dataframe\">\n",
       "  <thead>\n",
       "    <tr style=\"text-align: right;\">\n",
       "      <th></th>\n",
       "      <th>year</th>\n",
       "      <th>Typhoon</th>\n",
       "      <th>municipality</th>\n",
       "      <th>province</th>\n",
       "      <th>startdate</th>\n",
       "      <th>enddate</th>\n",
       "      <th>landfalldate</th>\n",
       "      <th>landfall_time</th>\n",
       "      <th>windspeed</th>\n",
       "      <th>rainfall24</th>\n",
       "      <th>...</th>\n",
       "      <th>rainfallaverage</th>\n",
       "      <th>ricearea</th>\n",
       "      <th>riceyield</th>\n",
       "      <th>distance</th>\n",
       "      <th>areayieldrataio</th>\n",
       "      <th>percentageofdamagedarea</th>\n",
       "      <th>damagedarea</th>\n",
       "      <th>yieldafterdamage</th>\n",
       "      <th>farmgateprice</th>\n",
       "      <th>damagecosttorice</th>\n",
       "    </tr>\n",
       "  </thead>\n",
       "  <tbody>\n",
       "    <tr>\n",
       "      <th>0</th>\n",
       "      <td>2018</td>\n",
       "      <td>Maliksi</td>\n",
       "      <td>Aborlan</td>\n",
       "      <td>Palawan</td>\n",
       "      <td>03/06/2018</td>\n",
       "      <td>12/06/2018</td>\n",
       "      <td>08/06/2018</td>\n",
       "      <td>0:00:00</td>\n",
       "      <td>0</td>\n",
       "      <td>0.474167</td>\n",
       "      <td>...</td>\n",
       "      <td>0.296354</td>\n",
       "      <td>2870</td>\n",
       "      <td>3.37</td>\n",
       "      <td>0</td>\n",
       "      <td>851.632047</td>\n",
       "      <td>0.24707</td>\n",
       "      <td>709.091324</td>\n",
       "      <td>0.832626</td>\n",
       "      <td>20.79</td>\n",
       "      <td>11135504</td>\n",
       "    </tr>\n",
       "  </tbody>\n",
       "</table>\n",
       "<p>1 rows × 21 columns</p>\n",
       "</div>"
      ],
      "text/plain": [
       "   year  Typhoon municipality province   startdate     enddate landfalldate  \\\n",
       "0  2018  Maliksi      Aborlan  Palawan  03/06/2018  12/06/2018   08/06/2018   \n",
       "\n",
       "  landfall_time  windspeed  rainfall24  ...  rainfallaverage  ricearea  \\\n",
       "0       0:00:00          0    0.474167  ...         0.296354      2870   \n",
       "\n",
       "   riceyield  distance  areayieldrataio  percentageofdamagedarea  damagedarea  \\\n",
       "0       3.37         0       851.632047                  0.24707   709.091324   \n",
       "\n",
       "   yieldafterdamage  farmgateprice  damagecosttorice  \n",
       "0          0.832626          20.79          11135504  \n",
       "\n",
       "[1 rows x 21 columns]"
      ]
     },
     "execution_count": 33,
     "metadata": {},
     "output_type": "execute_result"
    }
   ],
   "source": [
    "df"
   ]
  },
  {
   "cell_type": "code",
   "execution_count": 34,
   "metadata": {},
   "outputs": [],
   "source": [
    "df = df.drop(['year','Typhoon','municipality','province','startdate','enddate','landfalldate', 'landfall_time', 'rainfallaverage', 'areayieldrataio', 'percentageofdamagedarea', 'damagedarea', 'yieldafterdamage', 'damagecosttorice'], axis=1)"
   ]
  },
  {
   "cell_type": "code",
   "execution_count": 35,
   "metadata": {},
   "outputs": [
    {
     "data": {
      "text/html": [
       "<div>\n",
       "<style scoped>\n",
       "    .dataframe tbody tr th:only-of-type {\n",
       "        vertical-align: middle;\n",
       "    }\n",
       "\n",
       "    .dataframe tbody tr th {\n",
       "        vertical-align: top;\n",
       "    }\n",
       "\n",
       "    .dataframe thead th {\n",
       "        text-align: right;\n",
       "    }\n",
       "</style>\n",
       "<table border=\"1\" class=\"dataframe\">\n",
       "  <thead>\n",
       "    <tr style=\"text-align: right;\">\n",
       "      <th></th>\n",
       "      <th>windspeed</th>\n",
       "      <th>rainfall24</th>\n",
       "      <th>rainfall6</th>\n",
       "      <th>ricearea</th>\n",
       "      <th>riceyield</th>\n",
       "      <th>distance</th>\n",
       "      <th>farmgateprice</th>\n",
       "    </tr>\n",
       "  </thead>\n",
       "  <tbody>\n",
       "    <tr>\n",
       "      <th>0</th>\n",
       "      <td>0</td>\n",
       "      <td>0.474167</td>\n",
       "      <td>0.93</td>\n",
       "      <td>2870</td>\n",
       "      <td>3.37</td>\n",
       "      <td>0</td>\n",
       "      <td>20.79</td>\n",
       "    </tr>\n",
       "  </tbody>\n",
       "</table>\n",
       "</div>"
      ],
      "text/plain": [
       "   windspeed  rainfall24  rainfall6  ricearea  riceyield  distance  \\\n",
       "0          0    0.474167       0.93      2870       3.37         0   \n",
       "\n",
       "   farmgateprice  \n",
       "0          20.79  "
      ]
     },
     "execution_count": 35,
     "metadata": {},
     "output_type": "execute_result"
    }
   ],
   "source": [
    "df"
   ]
  },
  {
   "cell_type": "code",
   "execution_count": 36,
   "metadata": {},
   "outputs": [],
   "source": [
    "df.reset_index(drop=True, inplace=True)"
   ]
  },
  {
   "cell_type": "code",
   "execution_count": 76,
   "metadata": {},
   "outputs": [],
   "source": [
    "import numpy as np\n",
    "\n",
    "# Assume you have a trained SVR model and a single row of data\n",
    "single_row = df.iloc[0]  # Get the first row of df\n",
    "\n",
    "# Create 5 versions of the single row with different values for one of the features\n",
    "multiple_rows = pd.concat([single_row]*5, axis=1).T  # Duplicate the row 5 times\n",
    "\n",
    "# Generate new values for 'rainfall24' that are different from each other\n",
    "mean = df['rainfall24'].mean()  # Calculate the mean of 'rainfall24'\n",
    "new_values = mean + np.linspace(5, -5, 5)  # Generate 5 values around the mean\n",
    "multiple_rows['rainfall24'] = new_values\n"
   ]
  },
  {
   "cell_type": "code",
   "execution_count": 77,
   "metadata": {},
   "outputs": [
    {
     "data": {
      "text/html": [
       "<div>\n",
       "<style scoped>\n",
       "    .dataframe tbody tr th:only-of-type {\n",
       "        vertical-align: middle;\n",
       "    }\n",
       "\n",
       "    .dataframe tbody tr th {\n",
       "        vertical-align: top;\n",
       "    }\n",
       "\n",
       "    .dataframe thead th {\n",
       "        text-align: right;\n",
       "    }\n",
       "</style>\n",
       "<table border=\"1\" class=\"dataframe\">\n",
       "  <thead>\n",
       "    <tr style=\"text-align: right;\">\n",
       "      <th></th>\n",
       "      <th>windspeed</th>\n",
       "      <th>rainfall24</th>\n",
       "      <th>rainfall6</th>\n",
       "      <th>ricearea</th>\n",
       "      <th>riceyield</th>\n",
       "      <th>distance</th>\n",
       "      <th>farmgateprice</th>\n",
       "    </tr>\n",
       "  </thead>\n",
       "  <tbody>\n",
       "    <tr>\n",
       "      <th>0</th>\n",
       "      <td>0.0</td>\n",
       "      <td>5.474167</td>\n",
       "      <td>0.93</td>\n",
       "      <td>2870.0</td>\n",
       "      <td>3.37</td>\n",
       "      <td>0.0</td>\n",
       "      <td>20.79</td>\n",
       "    </tr>\n",
       "    <tr>\n",
       "      <th>0</th>\n",
       "      <td>0.0</td>\n",
       "      <td>2.974167</td>\n",
       "      <td>0.93</td>\n",
       "      <td>2870.0</td>\n",
       "      <td>3.37</td>\n",
       "      <td>0.0</td>\n",
       "      <td>20.79</td>\n",
       "    </tr>\n",
       "    <tr>\n",
       "      <th>0</th>\n",
       "      <td>0.0</td>\n",
       "      <td>0.474167</td>\n",
       "      <td>0.93</td>\n",
       "      <td>2870.0</td>\n",
       "      <td>3.37</td>\n",
       "      <td>0.0</td>\n",
       "      <td>20.79</td>\n",
       "    </tr>\n",
       "    <tr>\n",
       "      <th>0</th>\n",
       "      <td>0.0</td>\n",
       "      <td>-2.025833</td>\n",
       "      <td>0.93</td>\n",
       "      <td>2870.0</td>\n",
       "      <td>3.37</td>\n",
       "      <td>0.0</td>\n",
       "      <td>20.79</td>\n",
       "    </tr>\n",
       "    <tr>\n",
       "      <th>0</th>\n",
       "      <td>0.0</td>\n",
       "      <td>-4.525833</td>\n",
       "      <td>0.93</td>\n",
       "      <td>2870.0</td>\n",
       "      <td>3.37</td>\n",
       "      <td>0.0</td>\n",
       "      <td>20.79</td>\n",
       "    </tr>\n",
       "  </tbody>\n",
       "</table>\n",
       "</div>"
      ],
      "text/plain": [
       "   windspeed  rainfall24  rainfall6  ricearea  riceyield  distance  \\\n",
       "0        0.0    5.474167       0.93    2870.0       3.37       0.0   \n",
       "0        0.0    2.974167       0.93    2870.0       3.37       0.0   \n",
       "0        0.0    0.474167       0.93    2870.0       3.37       0.0   \n",
       "0        0.0   -2.025833       0.93    2870.0       3.37       0.0   \n",
       "0        0.0   -4.525833       0.93    2870.0       3.37       0.0   \n",
       "\n",
       "   farmgateprice  \n",
       "0          20.79  \n",
       "0          20.79  \n",
       "0          20.79  \n",
       "0          20.79  \n",
       "0          20.79  "
      ]
     },
     "execution_count": 77,
     "metadata": {},
     "output_type": "execute_result"
    }
   ],
   "source": [
    "multiple_rows"
   ]
  },
  {
   "cell_type": "code",
   "execution_count": 78,
   "metadata": {},
   "outputs": [
    {
     "name": "stdout",
     "output_type": "stream",
     "text": [
      "[22506170.0601798  19394718.49213255 18746737.23976545 19090584.47023841\n",
      "  6590850.22227891]\n"
     ]
    },
    {
     "name": "stderr",
     "output_type": "stream",
     "text": [
      "c:\\Users\\Asus\\anaconda3\\lib\\site-packages\\sklearn\\base.py:493: FutureWarning: The feature names should match those that were passed during fit. Starting version 1.2, an error will be raised.\n",
      "Feature names unseen at fit time:\n",
      "- farmgateprice\n",
      "- ricearea\n",
      "- riceyield\n",
      "Feature names seen at fit time, yet now missing:\n",
      "- area\n",
      "- fgprice\n",
      "- yield\n",
      "\n",
      "  warnings.warn(message, FutureWarning)\n",
      "c:\\Users\\Asus\\anaconda3\\lib\\site-packages\\sklearn\\base.py:493: FutureWarning: The feature names should match those that were passed during fit. Starting version 1.2, an error will be raised.\n",
      "Feature names unseen at fit time:\n",
      "- farmgateprice\n",
      "- ricearea\n",
      "- riceyield\n",
      "Feature names seen at fit time, yet now missing:\n",
      "- area\n",
      "- fgprice\n",
      "- yield\n",
      "\n",
      "  warnings.warn(message, FutureWarning)\n"
     ]
    }
   ],
   "source": [
    "# Make a prediction for each version of the row\n",
    "predictions = model.predict(multiple_rows)\n",
    "\n",
    "# Print the predictions\n",
    "print(predictions)"
   ]
  },
  {
   "cell_type": "code",
   "execution_count": 57,
   "metadata": {},
   "outputs": [
    {
     "data": {
      "text/plain": [
       "0.01"
      ]
     },
     "execution_count": 57,
     "metadata": {},
     "output_type": "execute_result"
    }
   ],
   "source": [
    "std"
   ]
  },
  {
   "cell_type": "code",
   "execution_count": null,
   "metadata": {},
   "outputs": [
    {
     "name": "stderr",
     "output_type": "stream",
     "text": [
      "c:\\Users\\Asus\\anaconda3\\lib\\site-packages\\sklearn\\base.py:450: UserWarning: X does not have valid feature names, but StandardScaler was fitted with feature names\n",
      "  warnings.warn(\n",
      "c:\\Users\\Asus\\anaconda3\\lib\\site-packages\\sklearn\\base.py:450: UserWarning: X does not have valid feature names, but RandomForestRegressor was fitted with feature names\n",
      "  warnings.warn(\n"
     ]
    },
    {
     "data": {
      "text/plain": [
       "array([691556.06197965])"
      ]
     },
     "execution_count": 7,
     "metadata": {},
     "output_type": "execute_result"
    }
   ],
   "source": [
    "model.predict([[0.538, 6.575, 65.2, 4.090, 296.0, 15.3, 4.98]])"
   ]
  }
 ],
 "metadata": {
  "kernelspec": {
   "display_name": "base",
   "language": "python",
   "name": "python3"
  },
  "language_info": {
   "codemirror_mode": {
    "name": "ipython",
    "version": 3
   },
   "file_extension": ".py",
   "mimetype": "text/x-python",
   "name": "python",
   "nbconvert_exporter": "python",
   "pygments_lexer": "ipython3",
   "version": "3.9.13"
  }
 },
 "nbformat": 4,
 "nbformat_minor": 2
}
